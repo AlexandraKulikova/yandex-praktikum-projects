{
 "cells": [
  {
   "cell_type": "markdown",
   "metadata": {},
   "source": [
    "## Сборный проект"
   ]
  },
  {
   "cell_type": "markdown",
   "metadata": {},
   "source": [
    " Интернет-магазин «Стримчик» продаёт по всему миру компьютерные игры. Из открытых источников доступны исторические данные о продажах игр, оценки пользователей и экспертов, жанры и платформы (например, Xbox или PlayStation). Нам необходимо выявить определяющие успешность игры закономерности, что позволит сделать ставку на потенциально популярный продукт и спланировать рекламные кампании.\n",
    " \n",
    "В нашем распоряжении данные до 2016 года. Представим, что сейчас декабрь 2016 г., и мы планируем кампанию на 2017-й. Нужно отработать принцип работы с данными. Неважно, прогнозируем ли мы продажи на 2017 год по данным 2016-го или же 2027-й — по данным 2026 года.\n",
    "\n",
    "** В наборе данных попадается аббревиатура ESRB (Entertainment Software Rating Board) — это ассоциация, определяющая возрастной рейтинг компьютерных игр. ESRB оценивает игровой контент и присваивает ему подходящую возрастную категорию, например, «Для взрослых», «Для детей младшего возраста» или «Для подростков»."
   ]
  },
  {
   "cell_type": "markdown",
   "metadata": {},
   "source": [
    "**Описание данных**\n",
    "\n",
    " - Name — название игры\n",
    "    \n",
    " - Platform — платформа\n",
    " \n",
    " - Year_of_Release — год выпуска\n",
    " \n",
    " - Genre — жанр игры\n",
    " \n",
    " - NA_sales — продажи в Северной Америке (миллионы проданных копий)\n",
    " \n",
    " - EU_sales — продажи в Европе (миллионы проданных копий)\n",
    " \n",
    " - JP_sales — продажи в Японии (миллионы проданных копий)\n",
    " \n",
    " - Other_sales — продажи в других странах (миллионы проданных копий)\n",
    " \n",
    " - Critic_Score — оценка критиков (максимум 100)\n",
    " \n",
    " - User_Score — оценка пользователей (максимум 10)\n",
    " \n",
    " - Rating — рейтинг от организации ESRB (англ. Entertainment Software Rating Board). Эта ассоциация определяет рейтинг компьютерных игр и присваивает им подходящую возрастную категорию.\n",
    " \n",
    "** Данные за 2016 год могут быть неполными."
   ]
  },
  {
   "cell_type": "markdown",
   "metadata": {},
   "source": [
    "### Изучение общей информации о датасете"
   ]
  },
  {
   "cell_type": "markdown",
   "metadata": {},
   "source": [
    "1)Импортируем необходимые для решения поставленных задач библиотеки\n",
    "\n",
    "2)Посмотрим на начало и конец предложенного датасета\n",
    "\n",
    "3)Соберем общие статистические данные с помощью функции DataFrame.describe()"
   ]
  },
  {
   "cell_type": "code",
   "execution_count": 1,
   "metadata": {},
   "outputs": [],
   "source": [
    "# Импортируем библиотеки\n",
    "from scipy import stats as st\n",
    "import numpy as np\n",
    "import pandas as pd\n",
    "import matplotlib.pyplot as plt"
   ]
  },
  {
   "cell_type": "code",
   "execution_count": 2,
   "metadata": {},
   "outputs": [],
   "source": [
    "# Импортируем данные\n",
    "df = pd.read_csv('games.csv')\n",
    "\n",
    "# установим отображение количества столбцов на экране\n",
    "pd.options.display.max_columns = 40"
   ]
  },
  {
   "cell_type": "code",
   "execution_count": 3,
   "metadata": {},
   "outputs": [
    {
     "name": "stdout",
     "output_type": "stream",
     "text": [
      "<class 'pandas.core.frame.DataFrame'>\n",
      "RangeIndex: 16715 entries, 0 to 16714\n",
      "Data columns (total 11 columns):\n",
      " #   Column           Non-Null Count  Dtype  \n",
      "---  ------           --------------  -----  \n",
      " 0   Name             16713 non-null  object \n",
      " 1   Platform         16715 non-null  object \n",
      " 2   Year_of_Release  16446 non-null  float64\n",
      " 3   Genre            16713 non-null  object \n",
      " 4   NA_sales         16715 non-null  float64\n",
      " 5   EU_sales         16715 non-null  float64\n",
      " 6   JP_sales         16715 non-null  float64\n",
      " 7   Other_sales      16715 non-null  float64\n",
      " 8   Critic_Score     8137 non-null   float64\n",
      " 9   User_Score       10014 non-null  object \n",
      " 10  Rating           9949 non-null   object \n",
      "dtypes: float64(6), object(5)\n",
      "memory usage: 1.1+ MB\n"
     ]
    }
   ],
   "source": [
    "# Посмотрим на общую информацию о датасете, начало и описательные статистики \n",
    "df.info()"
   ]
  },
  {
   "cell_type": "code",
   "execution_count": 4,
   "metadata": {},
   "outputs": [
    {
     "data": {
      "text/html": [
       "<div>\n",
       "<style scoped>\n",
       "    .dataframe tbody tr th:only-of-type {\n",
       "        vertical-align: middle;\n",
       "    }\n",
       "\n",
       "    .dataframe tbody tr th {\n",
       "        vertical-align: top;\n",
       "    }\n",
       "\n",
       "    .dataframe thead th {\n",
       "        text-align: right;\n",
       "    }\n",
       "</style>\n",
       "<table border=\"1\" class=\"dataframe\">\n",
       "  <thead>\n",
       "    <tr style=\"text-align: right;\">\n",
       "      <th></th>\n",
       "      <th>Name</th>\n",
       "      <th>Platform</th>\n",
       "      <th>Year_of_Release</th>\n",
       "      <th>Genre</th>\n",
       "      <th>NA_sales</th>\n",
       "      <th>EU_sales</th>\n",
       "      <th>JP_sales</th>\n",
       "      <th>Other_sales</th>\n",
       "      <th>Critic_Score</th>\n",
       "      <th>User_Score</th>\n",
       "      <th>Rating</th>\n",
       "    </tr>\n",
       "  </thead>\n",
       "  <tbody>\n",
       "    <tr>\n",
       "      <th>0</th>\n",
       "      <td>Wii Sports</td>\n",
       "      <td>Wii</td>\n",
       "      <td>2006.0</td>\n",
       "      <td>Sports</td>\n",
       "      <td>41.36</td>\n",
       "      <td>28.96</td>\n",
       "      <td>3.77</td>\n",
       "      <td>8.45</td>\n",
       "      <td>76.0</td>\n",
       "      <td>8</td>\n",
       "      <td>E</td>\n",
       "    </tr>\n",
       "    <tr>\n",
       "      <th>1</th>\n",
       "      <td>Super Mario Bros.</td>\n",
       "      <td>NES</td>\n",
       "      <td>1985.0</td>\n",
       "      <td>Platform</td>\n",
       "      <td>29.08</td>\n",
       "      <td>3.58</td>\n",
       "      <td>6.81</td>\n",
       "      <td>0.77</td>\n",
       "      <td>NaN</td>\n",
       "      <td>NaN</td>\n",
       "      <td>NaN</td>\n",
       "    </tr>\n",
       "    <tr>\n",
       "      <th>2</th>\n",
       "      <td>Mario Kart Wii</td>\n",
       "      <td>Wii</td>\n",
       "      <td>2008.0</td>\n",
       "      <td>Racing</td>\n",
       "      <td>15.68</td>\n",
       "      <td>12.76</td>\n",
       "      <td>3.79</td>\n",
       "      <td>3.29</td>\n",
       "      <td>82.0</td>\n",
       "      <td>8.3</td>\n",
       "      <td>E</td>\n",
       "    </tr>\n",
       "    <tr>\n",
       "      <th>3</th>\n",
       "      <td>Wii Sports Resort</td>\n",
       "      <td>Wii</td>\n",
       "      <td>2009.0</td>\n",
       "      <td>Sports</td>\n",
       "      <td>15.61</td>\n",
       "      <td>10.93</td>\n",
       "      <td>3.28</td>\n",
       "      <td>2.95</td>\n",
       "      <td>80.0</td>\n",
       "      <td>8</td>\n",
       "      <td>E</td>\n",
       "    </tr>\n",
       "    <tr>\n",
       "      <th>4</th>\n",
       "      <td>Pokemon Red/Pokemon Blue</td>\n",
       "      <td>GB</td>\n",
       "      <td>1996.0</td>\n",
       "      <td>Role-Playing</td>\n",
       "      <td>11.27</td>\n",
       "      <td>8.89</td>\n",
       "      <td>10.22</td>\n",
       "      <td>1.00</td>\n",
       "      <td>NaN</td>\n",
       "      <td>NaN</td>\n",
       "      <td>NaN</td>\n",
       "    </tr>\n",
       "  </tbody>\n",
       "</table>\n",
       "</div>"
      ],
      "text/plain": [
       "                       Name Platform  Year_of_Release         Genre  NA_sales  \\\n",
       "0                Wii Sports      Wii           2006.0        Sports     41.36   \n",
       "1         Super Mario Bros.      NES           1985.0      Platform     29.08   \n",
       "2            Mario Kart Wii      Wii           2008.0        Racing     15.68   \n",
       "3         Wii Sports Resort      Wii           2009.0        Sports     15.61   \n",
       "4  Pokemon Red/Pokemon Blue       GB           1996.0  Role-Playing     11.27   \n",
       "\n",
       "   EU_sales  JP_sales  Other_sales  Critic_Score User_Score Rating  \n",
       "0     28.96      3.77         8.45          76.0          8      E  \n",
       "1      3.58      6.81         0.77           NaN        NaN    NaN  \n",
       "2     12.76      3.79         3.29          82.0        8.3      E  \n",
       "3     10.93      3.28         2.95          80.0          8      E  \n",
       "4      8.89     10.22         1.00           NaN        NaN    NaN  "
      ]
     },
     "execution_count": 4,
     "metadata": {},
     "output_type": "execute_result"
    }
   ],
   "source": [
    "df.head()"
   ]
  },
  {
   "cell_type": "code",
   "execution_count": 5,
   "metadata": {},
   "outputs": [
    {
     "data": {
      "text/html": [
       "<div>\n",
       "<style scoped>\n",
       "    .dataframe tbody tr th:only-of-type {\n",
       "        vertical-align: middle;\n",
       "    }\n",
       "\n",
       "    .dataframe tbody tr th {\n",
       "        vertical-align: top;\n",
       "    }\n",
       "\n",
       "    .dataframe thead th {\n",
       "        text-align: right;\n",
       "    }\n",
       "</style>\n",
       "<table border=\"1\" class=\"dataframe\">\n",
       "  <thead>\n",
       "    <tr style=\"text-align: right;\">\n",
       "      <th></th>\n",
       "      <th>Name</th>\n",
       "      <th>Platform</th>\n",
       "      <th>Year_of_Release</th>\n",
       "      <th>Genre</th>\n",
       "      <th>NA_sales</th>\n",
       "      <th>EU_sales</th>\n",
       "      <th>JP_sales</th>\n",
       "      <th>Other_sales</th>\n",
       "      <th>Critic_Score</th>\n",
       "      <th>User_Score</th>\n",
       "      <th>Rating</th>\n",
       "    </tr>\n",
       "  </thead>\n",
       "  <tbody>\n",
       "    <tr>\n",
       "      <th>16710</th>\n",
       "      <td>Samurai Warriors: Sanada Maru</td>\n",
       "      <td>PS3</td>\n",
       "      <td>2016.0</td>\n",
       "      <td>Action</td>\n",
       "      <td>0.00</td>\n",
       "      <td>0.00</td>\n",
       "      <td>0.01</td>\n",
       "      <td>0.0</td>\n",
       "      <td>NaN</td>\n",
       "      <td>NaN</td>\n",
       "      <td>NaN</td>\n",
       "    </tr>\n",
       "    <tr>\n",
       "      <th>16711</th>\n",
       "      <td>LMA Manager 2007</td>\n",
       "      <td>X360</td>\n",
       "      <td>2006.0</td>\n",
       "      <td>Sports</td>\n",
       "      <td>0.00</td>\n",
       "      <td>0.01</td>\n",
       "      <td>0.00</td>\n",
       "      <td>0.0</td>\n",
       "      <td>NaN</td>\n",
       "      <td>NaN</td>\n",
       "      <td>NaN</td>\n",
       "    </tr>\n",
       "    <tr>\n",
       "      <th>16712</th>\n",
       "      <td>Haitaka no Psychedelica</td>\n",
       "      <td>PSV</td>\n",
       "      <td>2016.0</td>\n",
       "      <td>Adventure</td>\n",
       "      <td>0.00</td>\n",
       "      <td>0.00</td>\n",
       "      <td>0.01</td>\n",
       "      <td>0.0</td>\n",
       "      <td>NaN</td>\n",
       "      <td>NaN</td>\n",
       "      <td>NaN</td>\n",
       "    </tr>\n",
       "    <tr>\n",
       "      <th>16713</th>\n",
       "      <td>Spirits &amp; Spells</td>\n",
       "      <td>GBA</td>\n",
       "      <td>2003.0</td>\n",
       "      <td>Platform</td>\n",
       "      <td>0.01</td>\n",
       "      <td>0.00</td>\n",
       "      <td>0.00</td>\n",
       "      <td>0.0</td>\n",
       "      <td>NaN</td>\n",
       "      <td>NaN</td>\n",
       "      <td>NaN</td>\n",
       "    </tr>\n",
       "    <tr>\n",
       "      <th>16714</th>\n",
       "      <td>Winning Post 8 2016</td>\n",
       "      <td>PSV</td>\n",
       "      <td>2016.0</td>\n",
       "      <td>Simulation</td>\n",
       "      <td>0.00</td>\n",
       "      <td>0.00</td>\n",
       "      <td>0.01</td>\n",
       "      <td>0.0</td>\n",
       "      <td>NaN</td>\n",
       "      <td>NaN</td>\n",
       "      <td>NaN</td>\n",
       "    </tr>\n",
       "  </tbody>\n",
       "</table>\n",
       "</div>"
      ],
      "text/plain": [
       "                                Name Platform  Year_of_Release       Genre  \\\n",
       "16710  Samurai Warriors: Sanada Maru      PS3           2016.0      Action   \n",
       "16711               LMA Manager 2007     X360           2006.0      Sports   \n",
       "16712        Haitaka no Psychedelica      PSV           2016.0   Adventure   \n",
       "16713               Spirits & Spells      GBA           2003.0    Platform   \n",
       "16714            Winning Post 8 2016      PSV           2016.0  Simulation   \n",
       "\n",
       "       NA_sales  EU_sales  JP_sales  Other_sales  Critic_Score User_Score  \\\n",
       "16710      0.00      0.00      0.01          0.0           NaN        NaN   \n",
       "16711      0.00      0.01      0.00          0.0           NaN        NaN   \n",
       "16712      0.00      0.00      0.01          0.0           NaN        NaN   \n",
       "16713      0.01      0.00      0.00          0.0           NaN        NaN   \n",
       "16714      0.00      0.00      0.01          0.0           NaN        NaN   \n",
       "\n",
       "      Rating  \n",
       "16710    NaN  \n",
       "16711    NaN  \n",
       "16712    NaN  \n",
       "16713    NaN  \n",
       "16714    NaN  "
      ]
     },
     "execution_count": 5,
     "metadata": {},
     "output_type": "execute_result"
    }
   ],
   "source": [
    "df.tail()"
   ]
  },
  {
   "cell_type": "code",
   "execution_count": 6,
   "metadata": {},
   "outputs": [
    {
     "data": {
      "text/html": [
       "<div>\n",
       "<style scoped>\n",
       "    .dataframe tbody tr th:only-of-type {\n",
       "        vertical-align: middle;\n",
       "    }\n",
       "\n",
       "    .dataframe tbody tr th {\n",
       "        vertical-align: top;\n",
       "    }\n",
       "\n",
       "    .dataframe thead th {\n",
       "        text-align: right;\n",
       "    }\n",
       "</style>\n",
       "<table border=\"1\" class=\"dataframe\">\n",
       "  <thead>\n",
       "    <tr style=\"text-align: right;\">\n",
       "      <th></th>\n",
       "      <th>count</th>\n",
       "      <th>mean</th>\n",
       "      <th>std</th>\n",
       "      <th>min</th>\n",
       "      <th>25%</th>\n",
       "      <th>50%</th>\n",
       "      <th>75%</th>\n",
       "      <th>max</th>\n",
       "    </tr>\n",
       "  </thead>\n",
       "  <tbody>\n",
       "    <tr>\n",
       "      <th>Year_of_Release</th>\n",
       "      <td>16446.0</td>\n",
       "      <td>2006.484616</td>\n",
       "      <td>5.877050</td>\n",
       "      <td>1980.0</td>\n",
       "      <td>2003.0</td>\n",
       "      <td>2007.00</td>\n",
       "      <td>2010.00</td>\n",
       "      <td>2016.00</td>\n",
       "    </tr>\n",
       "    <tr>\n",
       "      <th>NA_sales</th>\n",
       "      <td>16715.0</td>\n",
       "      <td>0.263377</td>\n",
       "      <td>0.813604</td>\n",
       "      <td>0.0</td>\n",
       "      <td>0.0</td>\n",
       "      <td>0.08</td>\n",
       "      <td>0.24</td>\n",
       "      <td>41.36</td>\n",
       "    </tr>\n",
       "    <tr>\n",
       "      <th>EU_sales</th>\n",
       "      <td>16715.0</td>\n",
       "      <td>0.145060</td>\n",
       "      <td>0.503339</td>\n",
       "      <td>0.0</td>\n",
       "      <td>0.0</td>\n",
       "      <td>0.02</td>\n",
       "      <td>0.11</td>\n",
       "      <td>28.96</td>\n",
       "    </tr>\n",
       "    <tr>\n",
       "      <th>JP_sales</th>\n",
       "      <td>16715.0</td>\n",
       "      <td>0.077617</td>\n",
       "      <td>0.308853</td>\n",
       "      <td>0.0</td>\n",
       "      <td>0.0</td>\n",
       "      <td>0.00</td>\n",
       "      <td>0.04</td>\n",
       "      <td>10.22</td>\n",
       "    </tr>\n",
       "    <tr>\n",
       "      <th>Other_sales</th>\n",
       "      <td>16715.0</td>\n",
       "      <td>0.047342</td>\n",
       "      <td>0.186731</td>\n",
       "      <td>0.0</td>\n",
       "      <td>0.0</td>\n",
       "      <td>0.01</td>\n",
       "      <td>0.03</td>\n",
       "      <td>10.57</td>\n",
       "    </tr>\n",
       "    <tr>\n",
       "      <th>Critic_Score</th>\n",
       "      <td>8137.0</td>\n",
       "      <td>68.967679</td>\n",
       "      <td>13.938165</td>\n",
       "      <td>13.0</td>\n",
       "      <td>60.0</td>\n",
       "      <td>71.00</td>\n",
       "      <td>79.00</td>\n",
       "      <td>98.00</td>\n",
       "    </tr>\n",
       "  </tbody>\n",
       "</table>\n",
       "</div>"
      ],
      "text/plain": [
       "                   count         mean        std     min     25%      50%  \\\n",
       "Year_of_Release  16446.0  2006.484616   5.877050  1980.0  2003.0  2007.00   \n",
       "NA_sales         16715.0     0.263377   0.813604     0.0     0.0     0.08   \n",
       "EU_sales         16715.0     0.145060   0.503339     0.0     0.0     0.02   \n",
       "JP_sales         16715.0     0.077617   0.308853     0.0     0.0     0.00   \n",
       "Other_sales      16715.0     0.047342   0.186731     0.0     0.0     0.01   \n",
       "Critic_Score      8137.0    68.967679  13.938165    13.0    60.0    71.00   \n",
       "\n",
       "                     75%      max  \n",
       "Year_of_Release  2010.00  2016.00  \n",
       "NA_sales            0.24    41.36  \n",
       "EU_sales            0.11    28.96  \n",
       "JP_sales            0.04    10.22  \n",
       "Other_sales         0.03    10.57  \n",
       "Critic_Score       79.00    98.00  "
      ]
     },
     "execution_count": 6,
     "metadata": {},
     "output_type": "execute_result"
    }
   ],
   "source": [
    "df.describe().T"
   ]
  },
  {
   "cell_type": "markdown",
   "metadata": {},
   "source": [
    "**Вывод:**\n",
    "\n",
    "Предварительный просмотр данных позволяет выделить следующие проблемы:\n",
    "\n",
    "1) Наличие пропусков в переменных Critic_Score (оценка критиков (максимум 100)), User_Score (оценка пользователей (максимум 10)) и Rating (рейтинг от организации ESRB)\n",
    "\n",
    "2) Сочетание верхнего и нижнего регистра в названии столбцов и в самих данных\n",
    "\n",
    "3) Некорректные типы данных ( например, переменная user_score имеет тип 'object', а нужен 'float', поскольку это численный показатель)\n"
   ]
  },
  {
   "cell_type": "markdown",
   "metadata": {},
   "source": [
    "### Предобработка данных"
   ]
  },
  {
   "cell_type": "markdown",
   "metadata": {},
   "source": [
    "#### Приведение столбцов к нижнему регистру "
   ]
  },
  {
   "cell_type": "code",
   "execution_count": 7,
   "metadata": {},
   "outputs": [
    {
     "data": {
      "text/plain": [
       "Index(['Name', 'Platform', 'Year_of_Release', 'Genre', 'NA_sales', 'EU_sales',\n",
       "       'JP_sales', 'Other_sales', 'Critic_Score', 'User_Score', 'Rating'],\n",
       "      dtype='object')"
      ]
     },
     "execution_count": 7,
     "metadata": {},
     "output_type": "execute_result"
    }
   ],
   "source": [
    "df.columns"
   ]
  },
  {
   "cell_type": "code",
   "execution_count": 8,
   "metadata": {},
   "outputs": [],
   "source": [
    "df.columns = df.columns.str.lower()"
   ]
  },
  {
   "cell_type": "code",
   "execution_count": 9,
   "metadata": {},
   "outputs": [
    {
     "data": {
      "text/plain": [
       "Index(['name', 'platform', 'year_of_release', 'genre', 'na_sales', 'eu_sales',\n",
       "       'jp_sales', 'other_sales', 'critic_score', 'user_score', 'rating'],\n",
       "      dtype='object')"
      ]
     },
     "execution_count": 9,
     "metadata": {},
     "output_type": "execute_result"
    }
   ],
   "source": [
    "df.columns"
   ]
  },
  {
   "cell_type": "markdown",
   "metadata": {},
   "source": [
    "Также для удобства приведем все данные в столбцах к нижнему регистру:"
   ]
  },
  {
   "cell_type": "code",
   "execution_count": 10,
   "metadata": {},
   "outputs": [],
   "source": [
    "df['name'] = df['name'].str.lower()\n",
    "df['platform'] = df['platform'].str.lower()\n",
    "df['genre'] = df['genre'].str.lower()\n",
    "df['rating'] = df['rating'].str.lower()"
   ]
  },
  {
   "cell_type": "code",
   "execution_count": 11,
   "metadata": {},
   "outputs": [
    {
     "data": {
      "text/html": [
       "<div>\n",
       "<style scoped>\n",
       "    .dataframe tbody tr th:only-of-type {\n",
       "        vertical-align: middle;\n",
       "    }\n",
       "\n",
       "    .dataframe tbody tr th {\n",
       "        vertical-align: top;\n",
       "    }\n",
       "\n",
       "    .dataframe thead th {\n",
       "        text-align: right;\n",
       "    }\n",
       "</style>\n",
       "<table border=\"1\" class=\"dataframe\">\n",
       "  <thead>\n",
       "    <tr style=\"text-align: right;\">\n",
       "      <th></th>\n",
       "      <th>name</th>\n",
       "      <th>platform</th>\n",
       "      <th>year_of_release</th>\n",
       "      <th>genre</th>\n",
       "      <th>na_sales</th>\n",
       "      <th>eu_sales</th>\n",
       "      <th>jp_sales</th>\n",
       "      <th>other_sales</th>\n",
       "      <th>critic_score</th>\n",
       "      <th>user_score</th>\n",
       "      <th>rating</th>\n",
       "    </tr>\n",
       "  </thead>\n",
       "  <tbody>\n",
       "    <tr>\n",
       "      <th>0</th>\n",
       "      <td>wii sports</td>\n",
       "      <td>wii</td>\n",
       "      <td>2006.0</td>\n",
       "      <td>sports</td>\n",
       "      <td>41.36</td>\n",
       "      <td>28.96</td>\n",
       "      <td>3.77</td>\n",
       "      <td>8.45</td>\n",
       "      <td>76.0</td>\n",
       "      <td>8</td>\n",
       "      <td>e</td>\n",
       "    </tr>\n",
       "    <tr>\n",
       "      <th>1</th>\n",
       "      <td>super mario bros.</td>\n",
       "      <td>nes</td>\n",
       "      <td>1985.0</td>\n",
       "      <td>platform</td>\n",
       "      <td>29.08</td>\n",
       "      <td>3.58</td>\n",
       "      <td>6.81</td>\n",
       "      <td>0.77</td>\n",
       "      <td>NaN</td>\n",
       "      <td>NaN</td>\n",
       "      <td>NaN</td>\n",
       "    </tr>\n",
       "    <tr>\n",
       "      <th>2</th>\n",
       "      <td>mario kart wii</td>\n",
       "      <td>wii</td>\n",
       "      <td>2008.0</td>\n",
       "      <td>racing</td>\n",
       "      <td>15.68</td>\n",
       "      <td>12.76</td>\n",
       "      <td>3.79</td>\n",
       "      <td>3.29</td>\n",
       "      <td>82.0</td>\n",
       "      <td>8.3</td>\n",
       "      <td>e</td>\n",
       "    </tr>\n",
       "    <tr>\n",
       "      <th>3</th>\n",
       "      <td>wii sports resort</td>\n",
       "      <td>wii</td>\n",
       "      <td>2009.0</td>\n",
       "      <td>sports</td>\n",
       "      <td>15.61</td>\n",
       "      <td>10.93</td>\n",
       "      <td>3.28</td>\n",
       "      <td>2.95</td>\n",
       "      <td>80.0</td>\n",
       "      <td>8</td>\n",
       "      <td>e</td>\n",
       "    </tr>\n",
       "    <tr>\n",
       "      <th>4</th>\n",
       "      <td>pokemon red/pokemon blue</td>\n",
       "      <td>gb</td>\n",
       "      <td>1996.0</td>\n",
       "      <td>role-playing</td>\n",
       "      <td>11.27</td>\n",
       "      <td>8.89</td>\n",
       "      <td>10.22</td>\n",
       "      <td>1.00</td>\n",
       "      <td>NaN</td>\n",
       "      <td>NaN</td>\n",
       "      <td>NaN</td>\n",
       "    </tr>\n",
       "  </tbody>\n",
       "</table>\n",
       "</div>"
      ],
      "text/plain": [
       "                       name platform  year_of_release         genre  na_sales  \\\n",
       "0                wii sports      wii           2006.0        sports     41.36   \n",
       "1         super mario bros.      nes           1985.0      platform     29.08   \n",
       "2            mario kart wii      wii           2008.0        racing     15.68   \n",
       "3         wii sports resort      wii           2009.0        sports     15.61   \n",
       "4  pokemon red/pokemon blue       gb           1996.0  role-playing     11.27   \n",
       "\n",
       "   eu_sales  jp_sales  other_sales  critic_score user_score rating  \n",
       "0     28.96      3.77         8.45          76.0          8      e  \n",
       "1      3.58      6.81         0.77           NaN        NaN    NaN  \n",
       "2     12.76      3.79         3.29          82.0        8.3      e  \n",
       "3     10.93      3.28         2.95          80.0          8      e  \n",
       "4      8.89     10.22         1.00           NaN        NaN    NaN  "
      ]
     },
     "execution_count": 11,
     "metadata": {},
     "output_type": "execute_result"
    }
   ],
   "source": [
    "# проверим замену\n",
    "df.head()"
   ]
  },
  {
   "cell_type": "markdown",
   "metadata": {},
   "source": [
    "**Вывод:**\n",
    "    \n",
    "Теперь все данные приведены к нижнему регистру, и нам будет более удобно с ними работать. Перейдем к следующему этапу:"
   ]
  },
  {
   "cell_type": "markdown",
   "metadata": {},
   "source": [
    "#### Обработка пропусков"
   ]
  },
  {
   "cell_type": "code",
   "execution_count": 12,
   "metadata": {},
   "outputs": [
    {
     "data": {
      "text/plain": [
       "platform              0\n",
       "na_sales              0\n",
       "eu_sales              0\n",
       "jp_sales              0\n",
       "other_sales           0\n",
       "name                  2\n",
       "genre                 2\n",
       "year_of_release     269\n",
       "user_score         6701\n",
       "rating             6766\n",
       "critic_score       8578\n",
       "dtype: int64"
      ]
     },
     "execution_count": 12,
     "metadata": {},
     "output_type": "execute_result"
    }
   ],
   "source": [
    "# Посчитаем количество пропущенных значений\n",
    "df.isnull().sum().sort_values()"
   ]
  },
  {
   "cell_type": "code",
   "execution_count": 13,
   "metadata": {},
   "outputs": [],
   "source": [
    "# напишем функцию для просмотра пропусков\n",
    "def missing_values(data):\n",
    "    display(pd.DataFrame(round(data.isnull().sum().sort_values()/len(data)*100, 2)).style.background_gradient('coolwarm'))"
   ]
  },
  {
   "cell_type": "code",
   "execution_count": 14,
   "metadata": {},
   "outputs": [
    {
     "data": {
      "text/html": [
       "<style type=\"text/css\">\n",
       "#T_c9b23_row0_col0, #T_c9b23_row1_col0, #T_c9b23_row2_col0, #T_c9b23_row3_col0, #T_c9b23_row4_col0, #T_c9b23_row5_col0, #T_c9b23_row6_col0 {\n",
       "  background-color: #3b4cc0;\n",
       "  color: #f1f1f1;\n",
       "}\n",
       "#T_c9b23_row7_col0 {\n",
       "  background-color: #445acc;\n",
       "  color: #f1f1f1;\n",
       "}\n",
       "#T_c9b23_row8_col0 {\n",
       "  background-color: #f18d6f;\n",
       "  color: #f1f1f1;\n",
       "}\n",
       "#T_c9b23_row9_col0 {\n",
       "  background-color: #f08a6c;\n",
       "  color: #f1f1f1;\n",
       "}\n",
       "#T_c9b23_row10_col0 {\n",
       "  background-color: #b40426;\n",
       "  color: #f1f1f1;\n",
       "}\n",
       "</style>\n",
       "<table id=\"T_c9b23_\">\n",
       "  <thead>\n",
       "    <tr>\n",
       "      <th class=\"blank level0\" >&nbsp;</th>\n",
       "      <th class=\"col_heading level0 col0\" >0</th>\n",
       "    </tr>\n",
       "  </thead>\n",
       "  <tbody>\n",
       "    <tr>\n",
       "      <th id=\"T_c9b23_level0_row0\" class=\"row_heading level0 row0\" >platform</th>\n",
       "      <td id=\"T_c9b23_row0_col0\" class=\"data row0 col0\" >0.000000</td>\n",
       "    </tr>\n",
       "    <tr>\n",
       "      <th id=\"T_c9b23_level0_row1\" class=\"row_heading level0 row1\" >na_sales</th>\n",
       "      <td id=\"T_c9b23_row1_col0\" class=\"data row1 col0\" >0.000000</td>\n",
       "    </tr>\n",
       "    <tr>\n",
       "      <th id=\"T_c9b23_level0_row2\" class=\"row_heading level0 row2\" >eu_sales</th>\n",
       "      <td id=\"T_c9b23_row2_col0\" class=\"data row2 col0\" >0.000000</td>\n",
       "    </tr>\n",
       "    <tr>\n",
       "      <th id=\"T_c9b23_level0_row3\" class=\"row_heading level0 row3\" >jp_sales</th>\n",
       "      <td id=\"T_c9b23_row3_col0\" class=\"data row3 col0\" >0.000000</td>\n",
       "    </tr>\n",
       "    <tr>\n",
       "      <th id=\"T_c9b23_level0_row4\" class=\"row_heading level0 row4\" >other_sales</th>\n",
       "      <td id=\"T_c9b23_row4_col0\" class=\"data row4 col0\" >0.000000</td>\n",
       "    </tr>\n",
       "    <tr>\n",
       "      <th id=\"T_c9b23_level0_row5\" class=\"row_heading level0 row5\" >name</th>\n",
       "      <td id=\"T_c9b23_row5_col0\" class=\"data row5 col0\" >0.010000</td>\n",
       "    </tr>\n",
       "    <tr>\n",
       "      <th id=\"T_c9b23_level0_row6\" class=\"row_heading level0 row6\" >genre</th>\n",
       "      <td id=\"T_c9b23_row6_col0\" class=\"data row6 col0\" >0.010000</td>\n",
       "    </tr>\n",
       "    <tr>\n",
       "      <th id=\"T_c9b23_level0_row7\" class=\"row_heading level0 row7\" >year_of_release</th>\n",
       "      <td id=\"T_c9b23_row7_col0\" class=\"data row7 col0\" >1.610000</td>\n",
       "    </tr>\n",
       "    <tr>\n",
       "      <th id=\"T_c9b23_level0_row8\" class=\"row_heading level0 row8\" >user_score</th>\n",
       "      <td id=\"T_c9b23_row8_col0\" class=\"data row8 col0\" >40.090000</td>\n",
       "    </tr>\n",
       "    <tr>\n",
       "      <th id=\"T_c9b23_level0_row9\" class=\"row_heading level0 row9\" >rating</th>\n",
       "      <td id=\"T_c9b23_row9_col0\" class=\"data row9 col0\" >40.480000</td>\n",
       "    </tr>\n",
       "    <tr>\n",
       "      <th id=\"T_c9b23_level0_row10\" class=\"row_heading level0 row10\" >critic_score</th>\n",
       "      <td id=\"T_c9b23_row10_col0\" class=\"data row10 col0\" >51.320000</td>\n",
       "    </tr>\n",
       "  </tbody>\n",
       "</table>\n"
      ],
      "text/plain": [
       "<pandas.io.formats.style.Styler at 0x121a7f10>"
      ]
     },
     "metadata": {},
     "output_type": "display_data"
    }
   ],
   "source": [
    "# Применим функцию для просмотра пропусков к нашим данным\n",
    "missing_values(df)"
   ]
  },
  {
   "cell_type": "markdown",
   "metadata": {},
   "source": [
    "Видим, что практически половина данных отсутствует по столбцам user_score (оценка пользователей) и rating ( рейтинг от организации ESRB). И чуть больше половины пропусков в переменной critic_score (оценка критиков)."
   ]
  },
  {
   "cell_type": "markdown",
   "metadata": {},
   "source": [
    "Начнем с оценки пользователей и критиков - посмотрим на список уникальных значений:"
   ]
  },
  {
   "cell_type": "code",
   "execution_count": 15,
   "metadata": {},
   "outputs": [
    {
     "data": {
      "text/plain": [
       "array([76., nan, 82., 80., 89., 58., 87., 91., 61., 97., 95., 77., 88.,\n",
       "       83., 94., 93., 85., 86., 98., 96., 90., 84., 73., 74., 78., 92.,\n",
       "       71., 72., 68., 62., 49., 67., 81., 66., 56., 79., 70., 59., 64.,\n",
       "       75., 60., 63., 69., 50., 25., 42., 44., 55., 48., 57., 29., 47.,\n",
       "       65., 54., 20., 53., 37., 38., 33., 52., 30., 32., 43., 45., 51.,\n",
       "       40., 46., 39., 34., 35., 41., 36., 28., 31., 27., 26., 19., 23.,\n",
       "       24., 21., 17., 22., 13.])"
      ]
     },
     "execution_count": 15,
     "metadata": {},
     "output_type": "execute_result"
    }
   ],
   "source": [
    "# уникальные значения столбцов \n",
    "\n",
    "df['critic_score'].unique()\n"
   ]
  },
  {
   "cell_type": "code",
   "execution_count": 16,
   "metadata": {},
   "outputs": [
    {
     "data": {
      "text/plain": [
       "array(['8', nan, '8.3', '8.5', '6.6', '8.4', '8.6', '7.7', '6.3', '7.4',\n",
       "       '8.2', '9', '7.9', '8.1', '8.7', '7.1', '3.4', '5.3', '4.8', '3.2',\n",
       "       '8.9', '6.4', '7.8', '7.5', '2.6', '7.2', '9.2', '7', '7.3', '4.3',\n",
       "       '7.6', '5.7', '5', '9.1', '6.5', 'tbd', '8.8', '6.9', '9.4', '6.8',\n",
       "       '6.1', '6.7', '5.4', '4', '4.9', '4.5', '9.3', '6.2', '4.2', '6',\n",
       "       '3.7', '4.1', '5.8', '5.6', '5.5', '4.4', '4.6', '5.9', '3.9',\n",
       "       '3.1', '2.9', '5.2', '3.3', '4.7', '5.1', '3.5', '2.5', '1.9', '3',\n",
       "       '2.7', '2.2', '2', '9.5', '2.1', '3.6', '2.8', '1.8', '3.8', '0',\n",
       "       '1.6', '9.6', '2.4', '1.7', '1.1', '0.3', '1.5', '0.7', '1.2',\n",
       "       '2.3', '0.5', '1.3', '0.2', '0.6', '1.4', '0.9', '1', '9.7'],\n",
       "      dtype=object)"
      ]
     },
     "execution_count": 16,
     "metadata": {},
     "output_type": "execute_result"
    }
   ],
   "source": [
    "df['user_score'].unique()"
   ]
  },
  {
   "cell_type": "markdown",
   "metadata": {},
   "source": [
    "Интересно, что может означать 'tbd' из-за которого переменная user_score имеет тип 'object'. В Кэмбриджском словаре эта аббревиатура  расшифровывается как нечто, что будет определено или решено.Используется, если какая-то информация еще не определена или решение по вопросу не принято. Возможно, у каких-то игр очень маленькая аудитория или есть какие-то неоднозначные моменты, из-за которых их сложно отнести их к той или иной возрастной категории. Но в принципе, это и есть пропущенные значения,поэтому заменим их на NaN:"
   ]
  },
  {
   "cell_type": "code",
   "execution_count": 17,
   "metadata": {},
   "outputs": [],
   "source": [
    "df['user_score'] = df['user_score'].replace('tbd', np.NaN)"
   ]
  },
  {
   "cell_type": "markdown",
   "metadata": {},
   "source": [
    "Теперь можем разбираться с пропущенными значениями.Если мы посмотрим на описательные статистики, то увидим, что в датасете есть данные по играм с 1980 по 2016 год. Можно сказать, что это достаточно большой временной диапазон, и, возможно, ранее просто не было такой практики, как оценка игр критиками или пользователями. В таком случае, пожалуй, не совсем правильно заполнять пропуски медианной или средней оценкой по каким-либо параметрам. Также не совсем корректно будет заполнить пропуски нулями, поскольку у каких-то игр может быть нулевой рейтинг, и тогда пропуски смешаются с реальными данными. Как правило, такие значения заполняются '-1'. Так и поступим:"
   ]
  },
  {
   "cell_type": "code",
   "execution_count": 18,
   "metadata": {},
   "outputs": [],
   "source": [
    "df['critic_score'] = df['critic_score'].fillna(-1)\n",
    "df['user_score'] = df['user_score'].fillna(-1)"
   ]
  },
  {
   "cell_type": "markdown",
   "metadata": {},
   "source": [
    "Похожие рассуждения применимы и к переменной rating. Действительно, организация ESRB была основана в 1994 году ассоциацией Interactive Digital Software Association, а данные у нас имеются от 1980 года. Логично, если игры продавались в эти 14 лет, то, вероятно, в данных будут пропуски в переменной rating. Посмотрим на уникальные значения:"
   ]
  },
  {
   "cell_type": "code",
   "execution_count": 19,
   "metadata": {},
   "outputs": [
    {
     "data": {
      "text/plain": [
       "array(['e', nan, 'm', 't', 'e10+', 'k-a', 'ao', 'ec', 'rp'], dtype=object)"
      ]
     },
     "execution_count": 19,
     "metadata": {},
     "output_type": "execute_result"
    }
   ],
   "source": [
    "df['rating'].unique()"
   ]
  },
  {
   "cell_type": "markdown",
   "metadata": {},
   "source": [
    "Найдем информацию о том, как расшифровываются данные аббревиатуры (Думаю, что эта информация в дальнейшем будет нам очень полезна):\n",
    "\n",
    "- «EC» («Early childhood») — «Для детей младшего возраста»\n",
    "\n",
    "- «E» («Everyone») — «Для всех»\n",
    "\n",
    "- «E10+» («Everyone 10 and older») — «Для всех от 10 лет и старше»\n",
    "\n",
    "- «T» («Teen») — «Подросткам»\n",
    "\n",
    "- «M» («Mature») — «Для взрослых»\n",
    "\n",
    "- «AO» («Adults Only 18+») — «Только для взрослых»\n",
    "\n",
    "- «RP» («Rating Pending») — «Рейтинг ожидается»\n",
    "\n",
    "** (Источник: Википедия)"
   ]
  },
  {
   "cell_type": "markdown",
   "metadata": {},
   "source": [
    "Пропущенные значения можно заменить на \"RP\" или все же отнести их к некой другой категории. Будем придерживаться второго варианта и заменим пропущенные значения на \"out of esrb\":"
   ]
  },
  {
   "cell_type": "code",
   "execution_count": 20,
   "metadata": {},
   "outputs": [],
   "source": [
    "df['rating'] = df['rating'].fillna(\"out of esrb\")"
   ]
  },
  {
   "cell_type": "code",
   "execution_count": 21,
   "metadata": {},
   "outputs": [
    {
     "data": {
      "text/plain": [
       "array(['e', 'out of esrb', 'm', 't', 'e10+', 'k-a', 'ao', 'ec', 'rp'],\n",
       "      dtype=object)"
      ]
     },
     "execution_count": 21,
     "metadata": {},
     "output_type": "execute_result"
    }
   ],
   "source": [
    "# проверим замену\n",
    "df['rating'].unique()"
   ]
  },
  {
   "cell_type": "markdown",
   "metadata": {},
   "source": [
    "Пропуски в переменных name, genre и year_of_release составляют менее 5% (0.01%, 0.01% и 1.61%, соответственно)\n",
    "Это значение крайне мало, поэтому мы можем спокойно избавиться от строк с пропусками."
   ]
  },
  {
   "cell_type": "code",
   "execution_count": 22,
   "metadata": {},
   "outputs": [],
   "source": [
    "# Удалим все строки, где есть пропуски в данных переменных\n",
    "df.dropna(subset=['name', 'genre', 'year_of_release'], inplace=True)"
   ]
  },
  {
   "cell_type": "code",
   "execution_count": 23,
   "metadata": {},
   "outputs": [
    {
     "data": {
      "text/html": [
       "<style type=\"text/css\">\n",
       "#T_c9c4e_row0_col0, #T_c9c4e_row1_col0, #T_c9c4e_row2_col0, #T_c9c4e_row3_col0, #T_c9c4e_row4_col0, #T_c9c4e_row5_col0, #T_c9c4e_row6_col0, #T_c9c4e_row7_col0, #T_c9c4e_row8_col0, #T_c9c4e_row9_col0, #T_c9c4e_row10_col0 {\n",
       "  background-color: #3b4cc0;\n",
       "  color: #f1f1f1;\n",
       "}\n",
       "</style>\n",
       "<table id=\"T_c9c4e_\">\n",
       "  <thead>\n",
       "    <tr>\n",
       "      <th class=\"blank level0\" >&nbsp;</th>\n",
       "      <th class=\"col_heading level0 col0\" >0</th>\n",
       "    </tr>\n",
       "  </thead>\n",
       "  <tbody>\n",
       "    <tr>\n",
       "      <th id=\"T_c9c4e_level0_row0\" class=\"row_heading level0 row0\" >name</th>\n",
       "      <td id=\"T_c9c4e_row0_col0\" class=\"data row0 col0\" >0.000000</td>\n",
       "    </tr>\n",
       "    <tr>\n",
       "      <th id=\"T_c9c4e_level0_row1\" class=\"row_heading level0 row1\" >platform</th>\n",
       "      <td id=\"T_c9c4e_row1_col0\" class=\"data row1 col0\" >0.000000</td>\n",
       "    </tr>\n",
       "    <tr>\n",
       "      <th id=\"T_c9c4e_level0_row2\" class=\"row_heading level0 row2\" >year_of_release</th>\n",
       "      <td id=\"T_c9c4e_row2_col0\" class=\"data row2 col0\" >0.000000</td>\n",
       "    </tr>\n",
       "    <tr>\n",
       "      <th id=\"T_c9c4e_level0_row3\" class=\"row_heading level0 row3\" >genre</th>\n",
       "      <td id=\"T_c9c4e_row3_col0\" class=\"data row3 col0\" >0.000000</td>\n",
       "    </tr>\n",
       "    <tr>\n",
       "      <th id=\"T_c9c4e_level0_row4\" class=\"row_heading level0 row4\" >na_sales</th>\n",
       "      <td id=\"T_c9c4e_row4_col0\" class=\"data row4 col0\" >0.000000</td>\n",
       "    </tr>\n",
       "    <tr>\n",
       "      <th id=\"T_c9c4e_level0_row5\" class=\"row_heading level0 row5\" >eu_sales</th>\n",
       "      <td id=\"T_c9c4e_row5_col0\" class=\"data row5 col0\" >0.000000</td>\n",
       "    </tr>\n",
       "    <tr>\n",
       "      <th id=\"T_c9c4e_level0_row6\" class=\"row_heading level0 row6\" >jp_sales</th>\n",
       "      <td id=\"T_c9c4e_row6_col0\" class=\"data row6 col0\" >0.000000</td>\n",
       "    </tr>\n",
       "    <tr>\n",
       "      <th id=\"T_c9c4e_level0_row7\" class=\"row_heading level0 row7\" >other_sales</th>\n",
       "      <td id=\"T_c9c4e_row7_col0\" class=\"data row7 col0\" >0.000000</td>\n",
       "    </tr>\n",
       "    <tr>\n",
       "      <th id=\"T_c9c4e_level0_row8\" class=\"row_heading level0 row8\" >critic_score</th>\n",
       "      <td id=\"T_c9c4e_row8_col0\" class=\"data row8 col0\" >0.000000</td>\n",
       "    </tr>\n",
       "    <tr>\n",
       "      <th id=\"T_c9c4e_level0_row9\" class=\"row_heading level0 row9\" >user_score</th>\n",
       "      <td id=\"T_c9c4e_row9_col0\" class=\"data row9 col0\" >0.000000</td>\n",
       "    </tr>\n",
       "    <tr>\n",
       "      <th id=\"T_c9c4e_level0_row10\" class=\"row_heading level0 row10\" >rating</th>\n",
       "      <td id=\"T_c9c4e_row10_col0\" class=\"data row10 col0\" >0.000000</td>\n",
       "    </tr>\n",
       "  </tbody>\n",
       "</table>\n"
      ],
      "text/plain": [
       "<pandas.io.formats.style.Styler at 0x11fd2e08>"
      ]
     },
     "metadata": {},
     "output_type": "display_data"
    }
   ],
   "source": [
    "# Вызовем функцию для просмотра пропусков к нашим данным теперь:\n",
    "missing_values(df)"
   ]
  },
  {
   "cell_type": "markdown",
   "metadata": {},
   "source": [
    "**Вывод:**\n",
    "    \n",
    "Таким образом, мы исключили пропуски там, где они составляли менее 5% от всех данных (то вышли из ситуации с минимальными потерями)) и подобрали разумную замену для данных, где пропуски составляли около половины данных."
   ]
  },
  {
   "cell_type": "markdown",
   "metadata": {},
   "source": [
    "#### Замена типа данных"
   ]
  },
  {
   "cell_type": "code",
   "execution_count": 24,
   "metadata": {},
   "outputs": [
    {
     "name": "stdout",
     "output_type": "stream",
     "text": [
      "<class 'pandas.core.frame.DataFrame'>\n",
      "Int64Index: 16444 entries, 0 to 16714\n",
      "Data columns (total 11 columns):\n",
      " #   Column           Non-Null Count  Dtype  \n",
      "---  ------           --------------  -----  \n",
      " 0   name             16444 non-null  object \n",
      " 1   platform         16444 non-null  object \n",
      " 2   year_of_release  16444 non-null  float64\n",
      " 3   genre            16444 non-null  object \n",
      " 4   na_sales         16444 non-null  float64\n",
      " 5   eu_sales         16444 non-null  float64\n",
      " 6   jp_sales         16444 non-null  float64\n",
      " 7   other_sales      16444 non-null  float64\n",
      " 8   critic_score     16444 non-null  float64\n",
      " 9   user_score       16444 non-null  object \n",
      " 10  rating           16444 non-null  object \n",
      "dtypes: float64(6), object(5)\n",
      "memory usage: 1.2+ MB\n"
     ]
    }
   ],
   "source": [
    "df.info()"
   ]
  },
  {
   "cell_type": "code",
   "execution_count": 25,
   "metadata": {},
   "outputs": [
    {
     "name": "stdout",
     "output_type": "stream",
     "text": [
      "Machine parameters for int8\n",
      "---------------------------------------------------------------\n",
      "min = -128\n",
      "max = 127\n",
      "---------------------------------------------------------------\n",
      "\n",
      "Machine parameters for int16\n",
      "---------------------------------------------------------------\n",
      "min = -32768\n",
      "max = 32767\n",
      "---------------------------------------------------------------\n",
      "\n",
      "Machine parameters for int32\n",
      "---------------------------------------------------------------\n",
      "min = -2147483648\n",
      "max = 2147483647\n",
      "---------------------------------------------------------------\n",
      "\n",
      "Machine parameters for int64\n",
      "---------------------------------------------------------------\n",
      "min = -9223372036854775808\n",
      "max = 9223372036854775807\n",
      "---------------------------------------------------------------\n",
      "\n",
      "Machine parameters for uint8\n",
      "---------------------------------------------------------------\n",
      "min = 0\n",
      "max = 255\n",
      "---------------------------------------------------------------\n",
      "\n",
      "Machine parameters for uint16\n",
      "---------------------------------------------------------------\n",
      "min = 0\n",
      "max = 65535\n",
      "---------------------------------------------------------------\n",
      "\n",
      "Machine parameters for uint32\n",
      "---------------------------------------------------------------\n",
      "min = 0\n",
      "max = 4294967295\n",
      "---------------------------------------------------------------\n",
      "\n",
      "Machine parameters for uint64\n",
      "---------------------------------------------------------------\n",
      "min = 0\n",
      "max = 18446744073709551615\n",
      "---------------------------------------------------------------\n",
      "\n"
     ]
    }
   ],
   "source": [
    "# Для проверки мин. и макс. зн-я, подходящего для хранения с использованием каждого целочисленного подтипа, можно воспользоваться методом numpy.iinfo()\n",
    "int_types = [\"int8\", \"int16\", \"int32\",\"int64\",\"uint8\", \"uint16\", \"uint32\",\"uint64\"]\n",
    "for it in int_types:\n",
    "    print(np.iinfo(it))"
   ]
  },
  {
   "cell_type": "markdown",
   "metadata": {},
   "source": [
    "Основные проблемы  с переменными **user_score** и **year_of_release**: \n",
    "\n",
    "- user_score имеет тип 'object', а нужен 'float', поскольку это численный показатель\n",
    "\n",
    "- переменную year_of_release нужно привести к целочисленному типу 'int'\n",
    "\n",
    "\n",
    "Дальше, чтобы сэкономить больше памяти - смотрим описательные статистики по нужной нам переменной,смотрим, какой диапазон значений нам подходит и меняем тип:"
   ]
  },
  {
   "cell_type": "code",
   "execution_count": 26,
   "metadata": {},
   "outputs": [
    {
     "data": {
      "text/plain": [
       "count    16444.000000\n",
       "mean      2006.486256\n",
       "std          5.875525\n",
       "min       1980.000000\n",
       "25%       2003.000000\n",
       "50%       2007.000000\n",
       "75%       2010.000000\n",
       "max       2016.000000\n",
       "Name: year_of_release, dtype: float64"
      ]
     },
     "execution_count": 26,
     "metadata": {},
     "output_type": "execute_result"
    }
   ],
   "source": [
    "df['year_of_release'].describe().T"
   ]
  },
  {
   "cell_type": "code",
   "execution_count": 27,
   "metadata": {},
   "outputs": [],
   "source": [
    "df['year_of_release'] = df['year_of_release'].astype('uint16')"
   ]
  },
  {
   "cell_type": "code",
   "execution_count": 28,
   "metadata": {},
   "outputs": [],
   "source": [
    "df['user_score'] = df['user_score'].astype('float')"
   ]
  },
  {
   "cell_type": "code",
   "execution_count": 29,
   "metadata": {},
   "outputs": [
    {
     "name": "stdout",
     "output_type": "stream",
     "text": [
      "<class 'pandas.core.frame.DataFrame'>\n",
      "Int64Index: 16444 entries, 0 to 16714\n",
      "Data columns (total 11 columns):\n",
      " #   Column           Non-Null Count  Dtype  \n",
      "---  ------           --------------  -----  \n",
      " 0   name             16444 non-null  object \n",
      " 1   platform         16444 non-null  object \n",
      " 2   year_of_release  16444 non-null  uint16 \n",
      " 3   genre            16444 non-null  object \n",
      " 4   na_sales         16444 non-null  float64\n",
      " 5   eu_sales         16444 non-null  float64\n",
      " 6   jp_sales         16444 non-null  float64\n",
      " 7   other_sales      16444 non-null  float64\n",
      " 8   critic_score     16444 non-null  float64\n",
      " 9   user_score       16444 non-null  float64\n",
      " 10  rating           16444 non-null  object \n",
      "dtypes: float64(6), object(4), uint16(1)\n",
      "memory usage: 1.2+ MB\n"
     ]
    }
   ],
   "source": [
    "# проверим замену\n",
    "df.info()"
   ]
  },
  {
   "cell_type": "markdown",
   "metadata": {},
   "source": [
    "#### Проверка данных на наличие дубликатов"
   ]
  },
  {
   "cell_type": "code",
   "execution_count": 30,
   "metadata": {},
   "outputs": [
    {
     "data": {
      "text/plain": [
       "0"
      ]
     },
     "execution_count": 30,
     "metadata": {},
     "output_type": "execute_result"
    }
   ],
   "source": [
    "# Посчитаем количество дубликатов в данном наборе данных\n",
    "df.duplicated().sum()"
   ]
  },
  {
   "cell_type": "markdown",
   "metadata": {},
   "source": [
    "Отлично, дубликатов в данных нет."
   ]
  },
  {
   "cell_type": "markdown",
   "metadata": {},
   "source": [
    "#### Подсчет суммарных продаж во всех регионах"
   ]
  },
  {
   "cell_type": "markdown",
   "metadata": {},
   "source": [
    "Посчитаем суммарные продажи во всех регионах и запишем их в отдельный столбец:"
   ]
  },
  {
   "cell_type": "code",
   "execution_count": 31,
   "metadata": {},
   "outputs": [],
   "source": [
    "df['total_sales'] = df['na_sales'] + df['eu_sales'] + df['jp_sales'] + df['other_sales']"
   ]
  },
  {
   "cell_type": "code",
   "execution_count": 32,
   "metadata": {},
   "outputs": [
    {
     "data": {
      "text/html": [
       "<div>\n",
       "<style scoped>\n",
       "    .dataframe tbody tr th:only-of-type {\n",
       "        vertical-align: middle;\n",
       "    }\n",
       "\n",
       "    .dataframe tbody tr th {\n",
       "        vertical-align: top;\n",
       "    }\n",
       "\n",
       "    .dataframe thead th {\n",
       "        text-align: right;\n",
       "    }\n",
       "</style>\n",
       "<table border=\"1\" class=\"dataframe\">\n",
       "  <thead>\n",
       "    <tr style=\"text-align: right;\">\n",
       "      <th></th>\n",
       "      <th>name</th>\n",
       "      <th>platform</th>\n",
       "      <th>year_of_release</th>\n",
       "      <th>genre</th>\n",
       "      <th>na_sales</th>\n",
       "      <th>eu_sales</th>\n",
       "      <th>jp_sales</th>\n",
       "      <th>other_sales</th>\n",
       "      <th>critic_score</th>\n",
       "      <th>user_score</th>\n",
       "      <th>rating</th>\n",
       "      <th>total_sales</th>\n",
       "    </tr>\n",
       "  </thead>\n",
       "  <tbody>\n",
       "    <tr>\n",
       "      <th>0</th>\n",
       "      <td>wii sports</td>\n",
       "      <td>wii</td>\n",
       "      <td>2006</td>\n",
       "      <td>sports</td>\n",
       "      <td>41.36</td>\n",
       "      <td>28.96</td>\n",
       "      <td>3.77</td>\n",
       "      <td>8.45</td>\n",
       "      <td>76.0</td>\n",
       "      <td>8.0</td>\n",
       "      <td>e</td>\n",
       "      <td>82.54</td>\n",
       "    </tr>\n",
       "    <tr>\n",
       "      <th>1</th>\n",
       "      <td>super mario bros.</td>\n",
       "      <td>nes</td>\n",
       "      <td>1985</td>\n",
       "      <td>platform</td>\n",
       "      <td>29.08</td>\n",
       "      <td>3.58</td>\n",
       "      <td>6.81</td>\n",
       "      <td>0.77</td>\n",
       "      <td>-1.0</td>\n",
       "      <td>-1.0</td>\n",
       "      <td>out of esrb</td>\n",
       "      <td>40.24</td>\n",
       "    </tr>\n",
       "    <tr>\n",
       "      <th>2</th>\n",
       "      <td>mario kart wii</td>\n",
       "      <td>wii</td>\n",
       "      <td>2008</td>\n",
       "      <td>racing</td>\n",
       "      <td>15.68</td>\n",
       "      <td>12.76</td>\n",
       "      <td>3.79</td>\n",
       "      <td>3.29</td>\n",
       "      <td>82.0</td>\n",
       "      <td>8.3</td>\n",
       "      <td>e</td>\n",
       "      <td>35.52</td>\n",
       "    </tr>\n",
       "    <tr>\n",
       "      <th>3</th>\n",
       "      <td>wii sports resort</td>\n",
       "      <td>wii</td>\n",
       "      <td>2009</td>\n",
       "      <td>sports</td>\n",
       "      <td>15.61</td>\n",
       "      <td>10.93</td>\n",
       "      <td>3.28</td>\n",
       "      <td>2.95</td>\n",
       "      <td>80.0</td>\n",
       "      <td>8.0</td>\n",
       "      <td>e</td>\n",
       "      <td>32.77</td>\n",
       "    </tr>\n",
       "    <tr>\n",
       "      <th>4</th>\n",
       "      <td>pokemon red/pokemon blue</td>\n",
       "      <td>gb</td>\n",
       "      <td>1996</td>\n",
       "      <td>role-playing</td>\n",
       "      <td>11.27</td>\n",
       "      <td>8.89</td>\n",
       "      <td>10.22</td>\n",
       "      <td>1.00</td>\n",
       "      <td>-1.0</td>\n",
       "      <td>-1.0</td>\n",
       "      <td>out of esrb</td>\n",
       "      <td>31.38</td>\n",
       "    </tr>\n",
       "  </tbody>\n",
       "</table>\n",
       "</div>"
      ],
      "text/plain": [
       "                       name platform  year_of_release         genre  na_sales  \\\n",
       "0                wii sports      wii             2006        sports     41.36   \n",
       "1         super mario bros.      nes             1985      platform     29.08   \n",
       "2            mario kart wii      wii             2008        racing     15.68   \n",
       "3         wii sports resort      wii             2009        sports     15.61   \n",
       "4  pokemon red/pokemon blue       gb             1996  role-playing     11.27   \n",
       "\n",
       "   eu_sales  jp_sales  other_sales  critic_score  user_score       rating  \\\n",
       "0     28.96      3.77         8.45          76.0         8.0            e   \n",
       "1      3.58      6.81         0.77          -1.0        -1.0  out of esrb   \n",
       "2     12.76      3.79         3.29          82.0         8.3            e   \n",
       "3     10.93      3.28         2.95          80.0         8.0            e   \n",
       "4      8.89     10.22         1.00          -1.0        -1.0  out of esrb   \n",
       "\n",
       "   total_sales  \n",
       "0        82.54  \n",
       "1        40.24  \n",
       "2        35.52  \n",
       "3        32.77  \n",
       "4        31.38  "
      ]
     },
     "execution_count": 32,
     "metadata": {},
     "output_type": "execute_result"
    }
   ],
   "source": [
    "df.head()"
   ]
  },
  {
   "cell_type": "markdown",
   "metadata": {},
   "source": [
    "**Вывод:** Таким образом, мы изучили пропущенные значения, указали причины, которые могли привести к пропускам в данных, и предположили логичную замену там, где это уместно. Так же мы привели данные к нужному типу, заменили некорректные названия переменных и проверили данные на наличие дубликатов. Можно переходить к следующему этапу исследования.\n",
    "    \n",
    "    "
   ]
  },
  {
   "cell_type": "markdown",
   "metadata": {},
   "source": [
    "### Исследовательский анализ данных"
   ]
  },
  {
   "cell_type": "markdown",
   "metadata": {},
   "source": [
    "**Формулировка задания:**\n",
    "\n",
    "- Посмотрите, сколько игр выпускалось в разные годы. Важны ли данные за все периоды?\n",
    "\n",
    "- Посмотрите, как менялись продажи по платформам. Выберите платформы с наибольшими суммарными продажами и постройте распределение по годам. За какой характерный срок появляются новые и исчезают старые платформы?\n",
    "\n",
    "- Возьмите данные за соответствующий актуальный период. Актуальный период определите самостоятельно в результате исследования предыдущих вопросов. Основной фактор — эти данные помогут построить прогноз на 2017 год.\n",
    "\n",
    "- Не учитывайте в работе данные за предыдущие годы.\n",
    "\n",
    "- Какие платформы лидируют по продажам, растут или падают? Выберите несколько потенциально прибыльных платформ.\n",
    "\n",
    "- Постройте график «ящик с усами» по глобальным продажам игр в разбивке по платформам. Опишите результат.\n",
    "\n",
    "- Посмотрите, как влияют на продажи внутри одной популярной платформы отзывы пользователей и критиков. Постройте диаграмму рассеяния и посчитайте корреляцию между отзывами и продажами. Сформулируйте выводы.\n",
    "\n",
    "- Соотнесите выводы с продажами игр на других платформах.\n",
    "\n",
    "- Посмотрите на общее распределение игр по жанрам. Что можно сказать о самых прибыльных жанрах? Выделяются ли жанры с высокими и низкими продажами?"
   ]
  },
  {
   "cell_type": "markdown",
   "metadata": {},
   "source": [
    "#### Количество выпущенных игр по годам"
   ]
  },
  {
   "cell_type": "markdown",
   "metadata": {},
   "source": [
    "Посмотрим, сколько игр выпускалось в разные года:"
   ]
  },
  {
   "cell_type": "code",
   "execution_count": 33,
   "metadata": {},
   "outputs": [
    {
     "name": "stdout",
     "output_type": "stream",
     "text": [
      "                 name\n",
      "year_of_release      \n",
      "1980                9\n",
      "1981               46\n",
      "1982               36\n",
      "1983               17\n",
      "1984               14\n",
      "1985               14\n",
      "1986               21\n",
      "1987               16\n",
      "1988               15\n",
      "1989               17\n",
      "1990               16\n",
      "1991               41\n",
      "1992               43\n",
      "1993               60\n",
      "1994              121\n",
      "1995              219\n",
      "1996              263\n",
      "1997              289\n",
      "1998              379\n",
      "1999              338\n",
      "2000              350\n",
      "2001              482\n",
      "2002              829\n",
      "2003              775\n",
      "2004              762\n",
      "2005              939\n",
      "2006             1006\n",
      "2007             1197\n",
      "2008             1427\n",
      "2009             1426\n",
      "2010             1255\n",
      "2011             1136\n",
      "2012              653\n",
      "2013              544\n",
      "2014              581\n",
      "2015              606\n",
      "2016              502\n"
     ]
    },
    {
     "data": {
      "image/png": "[encoded data removed]",
      "text/plain": [
       "<Figure size 1080x648 with 1 Axes>"
      ]
     },
     "metadata": {
      "needs_background": "light"
     },
     "output_type": "display_data"
    }
   ],
   "source": [
    "df_pivot_year_of_release = df.pivot_table(index='year_of_release', values='name', aggfunc='count')\n",
    "print(df_pivot_year_of_release)\n",
    "df_pivot_year_of_release.plot(y='name', kind ='bar', figsize=(15, 9), ec='black', color='b', label = 'Суммарное количество выпущенных игр в год')\n",
    "plt.title('Количество выпущенных игр по годам')  \n",
    "plt.xlabel('Год выпуска')  \n",
    "plt.ylabel('Количество выпущенных игр') \n",
    "plt.show()"
   ]
  },
  {
   "cell_type": "markdown",
   "metadata": {},
   "source": [
    "Мы имеем дело с данными от 1980 года. Действительно, 1980 год стал отправной точкой для по-настоящему доступных домашних компьютеров. До 1994 года игр было крайне мало, а В 1994 году Electronic Arts выпустили Need for Speed, которая позже породила самую успешную серию гоночных игр в мире и одну из десяти самых успешных серий видеоигр в целом. После этого самые наиболее ярко выраженные пики приходятся на 1998, 2002, 2008-2009 года. Затем следует спад, который, вероятно, связан с развитием мобильных устройств и социальных сетей."
   ]
  },
  {
   "cell_type": "markdown",
   "metadata": {},
   "source": [
    "#### Динамика продаж по платформам"
   ]
  },
  {
   "cell_type": "markdown",
   "metadata": {},
   "source": [
    "Для начала посмотрим на суммарные продажи по всем платформам:"
   ]
  },
  {
   "cell_type": "code",
   "execution_count": 34,
   "metadata": {},
   "outputs": [
    {
     "name": "stdout",
     "output_type": "stream",
     "text": [
      "          total_sales\n",
      "platform             \n",
      "pcfx             0.03\n",
      "gg               0.04\n",
      "3do              0.10\n",
      "tg16             0.16\n",
      "ws               1.42\n",
      "ng               1.44\n",
      "scd              1.86\n",
      "dc              15.95\n",
      "gen             28.35\n",
      "sat             33.59\n",
      "psv             53.81\n",
      "wiiu            82.19\n",
      "2600            86.48\n",
      "xone           159.32\n",
      "gc             196.73\n",
      "snes           200.04\n",
      "n64            218.01\n",
      "nes            251.05\n",
      "xb             251.57\n",
      "gb             254.43\n",
      "pc             255.76\n",
      "3ds            257.81\n",
      "psp            289.53\n",
      "gba            312.88\n",
      "ps4            314.14\n",
      "ps             727.58\n",
      "ds             802.78\n",
      "wii            891.18\n",
      "ps3            931.34\n",
      "x360           961.24\n",
      "ps2           1233.56\n"
     ]
    },
    {
     "data": {
      "image/png": "[encoded data removed]",
      "text/plain": [
       "<Figure size 1080x648 with 1 Axes>"
      ]
     },
     "metadata": {
      "needs_background": "light"
     },
     "output_type": "display_data"
    }
   ],
   "source": [
    "df_pivot_total_sales = df.pivot_table(index='platform', values='total_sales', aggfunc='sum').sort_values(by ='total_sales')\n",
    "print(df_pivot_total_sales)\n",
    "df_pivot_total_sales.plot(y='total_sales', kind ='bar', figsize=(15, 9), ec='black', color='b', label = 'Суммарное количество продаж по платформам')\n",
    "plt.title('Динамика суммарных продаж по платформам')  \n",
    "plt.xlabel('Платформа')  # подпишем ось Х\n",
    "plt.ylabel('Количество суммарных продаж') \n",
    "plt.show()"
   ]
  },
  {
   "cell_type": "markdown",
   "metadata": {},
   "source": [
    "Лидером является платформа PS2, что ожидаемо, поскольку она наиболее общеизвестна. \n",
    "Далее идут Xbox360, PS3, Wii, DS и PS. Количество суммарных продаж по остальным платформам существенно ниже, поэтому будет правильным выделить топ-6 наиболее популярных платформ:"
   ]
  },
  {
   "cell_type": "code",
   "execution_count": 35,
   "metadata": {},
   "outputs": [],
   "source": [
    "# Сохраняем срез в данных по этим платформам в новой переменной\n",
    "top_6_platforms = df.query('platform in (\"ps\", \"ds\", \"wii\", \"ps3\", \"x360\", \"ps2\")')                         "
   ]
  },
  {
   "cell_type": "code",
   "execution_count": 36,
   "metadata": {},
   "outputs": [
    {
     "data": {
      "text/plain": [
       "array(['wii', 'ds', 'x360', 'ps3', 'ps2', 'ps'], dtype=object)"
      ]
     },
     "execution_count": 36,
     "metadata": {},
     "output_type": "execute_result"
    }
   ],
   "source": [
    "# проверим\n",
    "top_6_platforms['platform'].unique()"
   ]
  },
  {
   "cell_type": "markdown",
   "metadata": {},
   "source": [
    "Теперь же посмотрим на динамику суммарных продаж по годам у платформ-лидеров продаж:"
   ]
  },
  {
   "cell_type": "code",
   "execution_count": 37,
   "metadata": {},
   "outputs": [
    {
     "data": {
      "image/png": "[encoded data removed]",
      "text/plain": [
       "<Figure size 864x360 with 1 Axes>"
      ]
     },
     "metadata": {
      "needs_background": "light"
     },
     "output_type": "display_data"
    }
   ],
   "source": [
    "top_6_platforms.pivot_table(index = 'year_of_release', \n",
    "                            columns = 'platform',\n",
    "                            aggfunc = {'total_sales':'sum'}).plot(grid=True, figsize=(12, 5))\n",
    "plt.title('Динамика суммарных продаж по годам у платформ-лидеров продаж')  \n",
    "plt.xlabel('Год выпуска')  \n",
    "plt.ylabel('Количество суммарных продаж ') \n",
    "plt.show()"
   ]
  },
  {
   "cell_type": "markdown",
   "metadata": {},
   "source": [
    "Посмотрим, на продолжительность жизни каждой платформы:\n",
    "\n",
    "- Исходя из графика PS  прожила с 1994 года до 2003 (9 лет), что правдоподобно, так как релиз консоли состоялся 3 декабря 1994 года в Японии\n",
    "\n",
    "- PS2 существовала в период с 2000 по 2011 год (11 лет), данные так же не противоречат дате релиза (2000 год)\n",
    "\n",
    "- Срок жизни консоли DS составляет 9 лет (2004 - 2013)\n",
    "\n",
    "Срок жизни оставшихся платформ приблизительно такой же, так что можно утверждать, что в среднем платформа живет около 10 лет.\n"
   ]
  },
  {
   "cell_type": "markdown",
   "metadata": {},
   "source": [
    "#### Динамика продаж игр в настоящий момент"
   ]
  },
  {
   "cell_type": "markdown",
   "metadata": {},
   "source": [
    "Теперь нам необходимо выбрать актуальный временной диапазон данных по определенным платформам, который поможет построить нам прогноз на 2017 год."
   ]
  },
  {
   "cell_type": "markdown",
   "metadata": {},
   "source": [
    "Исходя из предыдущего анализа и здравого смысла данные следует отбирать по двум критериям:\n",
    "    \n",
    "1) Продажи по платформам начались не позднее 10 лет назад (средний срок жизни платформы)\n",
    "\n",
    "\n",
    "2) Платформы имеют продажи в настоящее время"
   ]
  },
  {
   "cell_type": "code",
   "execution_count": 38,
   "metadata": {},
   "outputs": [],
   "source": [
    "#определим платформы, игры на которые продаются сейчас:\n",
    "actual_sales_platform = df.query('year_of_release == 2016').platform.unique()"
   ]
  },
  {
   "cell_type": "code",
   "execution_count": 39,
   "metadata": {},
   "outputs": [],
   "source": [
    "# А теперь выберем данные, где продажи по платформам начались не позднее 10 лет назад \n",
    "current_df = df.query('year_of_release >= 2005 and platform in @actual_sales_platform')"
   ]
  },
  {
   "cell_type": "code",
   "execution_count": 40,
   "metadata": {},
   "outputs": [
    {
     "data": {
      "image/png": "[encoded data removed]",
      "text/plain": [
       "<Figure size 1080x360 with 1 Axes>"
      ]
     },
     "metadata": {
      "needs_background": "light"
     },
     "output_type": "display_data"
    }
   ],
   "source": [
    "current_df.pivot_table(index = 'year_of_release', \n",
    "                            columns = 'platform',\n",
    "                            aggfunc = {'total_sales':'sum'}).plot(grid=True, figsize=(15, 5))\n",
    "plt.title('Динамика суммарных продаж по годам по новой выборке')  \n",
    "plt.xlabel('Год выпуска')  \n",
    "plt.ylabel('Количество суммарных продаж ') \n",
    "plt.show()"
   ]
  },
  {
   "cell_type": "markdown",
   "metadata": {},
   "source": [
    "\n",
    "На конец 2016 можно выделить топ-3 платформ, лидирующих по продажам:\n",
    "\n",
    "- PS4\n",
    "\n",
    "- Xone\n",
    "\n",
    "- 3DS.\n",
    "\n",
    "Исходя из данных, стоит отметить, что количество продаж игр, выпущенных на каждую из этих платформ, снижается. Таким образом, можно сделать вывод, что весь рынок игр находится в состоянии рецессии."
   ]
  },
  {
   "cell_type": "markdown",
   "metadata": {},
   "source": [
    "#### Диаграмма размаха глобальных продаж игр  в разбивке по платформам"
   ]
  },
  {
   "cell_type": "markdown",
   "metadata": {},
   "source": [
    "Сначала построим boxplot по глобальным продажам игр:"
   ]
  },
  {
   "cell_type": "code",
   "execution_count": 41,
   "metadata": {},
   "outputs": [
    {
     "data": {
      "text/html": [
       "<div>\n",
       "<style scoped>\n",
       "    .dataframe tbody tr th:only-of-type {\n",
       "        vertical-align: middle;\n",
       "    }\n",
       "\n",
       "    .dataframe tbody tr th {\n",
       "        vertical-align: top;\n",
       "    }\n",
       "\n",
       "    .dataframe thead th {\n",
       "        text-align: right;\n",
       "    }\n",
       "</style>\n",
       "<table border=\"1\" class=\"dataframe\">\n",
       "  <thead>\n",
       "    <tr style=\"text-align: right;\">\n",
       "      <th></th>\n",
       "      <th>year_of_release</th>\n",
       "      <th>na_sales</th>\n",
       "      <th>eu_sales</th>\n",
       "      <th>jp_sales</th>\n",
       "      <th>other_sales</th>\n",
       "      <th>critic_score</th>\n",
       "      <th>user_score</th>\n",
       "      <th>total_sales</th>\n",
       "    </tr>\n",
       "  </thead>\n",
       "  <tbody>\n",
       "    <tr>\n",
       "      <th>count</th>\n",
       "      <td>16444.000000</td>\n",
       "      <td>16444.000000</td>\n",
       "      <td>16444.000000</td>\n",
       "      <td>16444.000000</td>\n",
       "      <td>16444.000000</td>\n",
       "      <td>16444.000000</td>\n",
       "      <td>16444.000000</td>\n",
       "      <td>16444.000000</td>\n",
       "    </tr>\n",
       "    <tr>\n",
       "      <th>mean</th>\n",
       "      <td>2006.486256</td>\n",
       "      <td>0.264012</td>\n",
       "      <td>0.145930</td>\n",
       "      <td>0.078487</td>\n",
       "      <td>0.047594</td>\n",
       "      <td>32.979871</td>\n",
       "      <td>2.688081</td>\n",
       "      <td>0.536023</td>\n",
       "    </tr>\n",
       "    <tr>\n",
       "      <th>std</th>\n",
       "      <td>5.875525</td>\n",
       "      <td>0.818378</td>\n",
       "      <td>0.506716</td>\n",
       "      <td>0.311100</td>\n",
       "      <td>0.188005</td>\n",
       "      <td>36.302947</td>\n",
       "      <td>4.170124</td>\n",
       "      <td>1.558786</td>\n",
       "    </tr>\n",
       "    <tr>\n",
       "      <th>min</th>\n",
       "      <td>1980.000000</td>\n",
       "      <td>0.000000</td>\n",
       "      <td>0.000000</td>\n",
       "      <td>0.000000</td>\n",
       "      <td>0.000000</td>\n",
       "      <td>-1.000000</td>\n",
       "      <td>-1.000000</td>\n",
       "      <td>0.000000</td>\n",
       "    </tr>\n",
       "    <tr>\n",
       "      <th>25%</th>\n",
       "      <td>2003.000000</td>\n",
       "      <td>0.000000</td>\n",
       "      <td>0.000000</td>\n",
       "      <td>0.000000</td>\n",
       "      <td>0.000000</td>\n",
       "      <td>-1.000000</td>\n",
       "      <td>-1.000000</td>\n",
       "      <td>0.060000</td>\n",
       "    </tr>\n",
       "    <tr>\n",
       "      <th>50%</th>\n",
       "      <td>2007.000000</td>\n",
       "      <td>0.080000</td>\n",
       "      <td>0.020000</td>\n",
       "      <td>0.000000</td>\n",
       "      <td>0.010000</td>\n",
       "      <td>-1.000000</td>\n",
       "      <td>-1.000000</td>\n",
       "      <td>0.170000</td>\n",
       "    </tr>\n",
       "    <tr>\n",
       "      <th>75%</th>\n",
       "      <td>2010.000000</td>\n",
       "      <td>0.240000</td>\n",
       "      <td>0.110000</td>\n",
       "      <td>0.040000</td>\n",
       "      <td>0.030000</td>\n",
       "      <td>70.000000</td>\n",
       "      <td>7.300000</td>\n",
       "      <td>0.470000</td>\n",
       "    </tr>\n",
       "    <tr>\n",
       "      <th>max</th>\n",
       "      <td>2016.000000</td>\n",
       "      <td>41.360000</td>\n",
       "      <td>28.960000</td>\n",
       "      <td>10.220000</td>\n",
       "      <td>10.570000</td>\n",
       "      <td>98.000000</td>\n",
       "      <td>9.700000</td>\n",
       "      <td>82.540000</td>\n",
       "    </tr>\n",
       "  </tbody>\n",
       "</table>\n",
       "</div>"
      ],
      "text/plain": [
       "       year_of_release      na_sales      eu_sales      jp_sales  \\\n",
       "count     16444.000000  16444.000000  16444.000000  16444.000000   \n",
       "mean       2006.486256      0.264012      0.145930      0.078487   \n",
       "std           5.875525      0.818378      0.506716      0.311100   \n",
       "min        1980.000000      0.000000      0.000000      0.000000   \n",
       "25%        2003.000000      0.000000      0.000000      0.000000   \n",
       "50%        2007.000000      0.080000      0.020000      0.000000   \n",
       "75%        2010.000000      0.240000      0.110000      0.040000   \n",
       "max        2016.000000     41.360000     28.960000     10.220000   \n",
       "\n",
       "        other_sales  critic_score    user_score   total_sales  \n",
       "count  16444.000000  16444.000000  16444.000000  16444.000000  \n",
       "mean       0.047594     32.979871      2.688081      0.536023  \n",
       "std        0.188005     36.302947      4.170124      1.558786  \n",
       "min        0.000000     -1.000000     -1.000000      0.000000  \n",
       "25%        0.000000     -1.000000     -1.000000      0.060000  \n",
       "50%        0.010000     -1.000000     -1.000000      0.170000  \n",
       "75%        0.030000     70.000000      7.300000      0.470000  \n",
       "max       10.570000     98.000000      9.700000     82.540000  "
      ]
     },
     "execution_count": 41,
     "metadata": {},
     "output_type": "execute_result"
    }
   ],
   "source": [
    "df.describe()"
   ]
  },
  {
   "cell_type": "code",
   "execution_count": 42,
   "metadata": {},
   "outputs": [
    {
     "data": {
      "image/png": "[encoded data removed]",
      "text/plain": [
       "<Figure size 576x576 with 1 Axes>"
      ]
     },
     "metadata": {
      "needs_background": "light"
     },
     "output_type": "display_data"
    }
   ],
   "source": [
    "plt.figure(figsize =(8, 8))\n",
    "plt.boxplot(df['total_sales'],  notch=True, sym=\"o\", widths = 0.1, patch_artist = True)\n",
    "plt.title('boxplot по глобальным продажам игр')\n",
    "plt.xlabel('Суммарные продажи ')\n",
    "plt.ylabel('Значение в миллионах проданных копий')\n",
    "plt.ylim(0,5) # задаем ограничение на оси ординат, чтобы график стал более читаемым\n",
    "plt.show()\n",
    "\n"
   ]
  },
  {
   "cell_type": "markdown",
   "metadata": {},
   "source": [
    " Мы видим, что очень много выбросов. В среднем, продажи игр составляют до 1.1 миллионов проданных копий. Медиана находится на уровне  0.2 млн. В целом, статистика не самая хорошая."
   ]
  },
  {
   "cell_type": "markdown",
   "metadata": {},
   "source": [
    "А теперь постоим диаграмму размаха суммарных продаж по топовым платформам (которые мы определили ранее):"
   ]
  },
  {
   "cell_type": "code",
   "execution_count": 43,
   "metadata": {},
   "outputs": [
    {
     "data": {
      "image/png": "[encoded data removed]",
      "text/plain": [
       "<Figure size 1440x720 with 1 Axes>"
      ]
     },
     "metadata": {
      "needs_background": "light"
     },
     "output_type": "display_data"
    }
   ],
   "source": [
    "top_6_platforms.boxplot(column = ['total_sales'], by = ['platform'], figsize =(20, 10),  notch=True, sym=\"o\", widths = 0.1, patch_artist = True)\n",
    "plt.title('boxplot продаж по топовым платформам')\n",
    "plt.xlabel('Суммарные продажи ')\n",
    "plt.ylabel('Значение в миллионах проданных копий')\n",
    "plt.ylim(0,2) # задаем ограничение на оси ординат, чтобы график стал более читаемым\n",
    "plt.show()\n",
    "\n"
   ]
  },
  {
   "cell_type": "markdown",
   "metadata": {},
   "source": [
    "Медиана по топовым платформам варьируется от 0.1 до 0.3 млн проданных копий за игру.\n",
    "Верхняя граница предела, за которыми располагаются выбросы, у двух платформ (PS3 и X360) находится на уровне 1.7 млн.\n",
    "У остальных - от 0.6 до 1.5 млн, а наименьшие суммарные прожажи у платформы DS.\n"
   ]
  },
  {
   "cell_type": "markdown",
   "metadata": {},
   "source": [
    "#### Влияние отзывов  пользователей и критиков на продажи на примере платформы PS3"
   ]
  },
  {
   "cell_type": "markdown",
   "metadata": {},
   "source": [
    "В данном разделе мы посмотрим, как влияют на продажи внутри одной популярной платформы отзывы пользователей и критиков. Построим диаграмму рассеяния и посчитаем корреляцию между отзывами и продажами."
   ]
  },
  {
   "cell_type": "markdown",
   "metadata": {},
   "source": [
    "В качестве платформы выберем PS3. Несмотря на то, что она не входит в топ-3 платформ, лидирующих по продажам на конец 2016, - она давно на рынке, по ней достаточно много данных, и показатели на конец 2016 года тоже весьма неплохие."
   ]
  },
  {
   "cell_type": "code",
   "execution_count": 44,
   "metadata": {},
   "outputs": [],
   "source": [
    "# сделаем срез в данных по этой платформе и существующими отзывами критиков\n",
    "df_critic_ps3 = df.query('platform == \"ps3\" and critic_score > 0 ')\n",
    "\n",
    "# сделаем срез в данных по этой платформе и существующими отзывами пользователей\n",
    "df_user_ps3 = df.query('platform == \"ps3\" and user_score > 0 ')"
   ]
  },
  {
   "cell_type": "markdown",
   "metadata": {},
   "source": [
    "**Влияние на продажи отзывов критиков**"
   ]
  },
  {
   "cell_type": "code",
   "execution_count": 45,
   "metadata": {},
   "outputs": [
    {
     "data": {
      "image/png": "[encoded data removed]",
      "text/plain": [
       "<Figure size 1152x576 with 1 Axes>"
      ]
     },
     "metadata": {
      "needs_background": "light"
     },
     "output_type": "display_data"
    }
   ],
   "source": [
    "# Построим диаграмму рассеяния\n",
    "df_critic_ps3.plot(x='critic_score', y='total_sales', kind='scatter', figsize = (16,8), ec='green', alpha = 0.7)\n",
    "plt.title('Диаграмма рассеяния: взаимосвязь оценки критиков и уровня продаж')\n",
    "plt.xlabel('Оценка критиков ')\n",
    "plt.ylabel('Продажи (Значение в миллионах проданных копий)')\n",
    "plt.show()"
   ]
  },
  {
   "cell_type": "markdown",
   "metadata": {},
   "source": [
    " Есть основная масса точек с наиболее частыми сочетаниями оценки критиков и уровня продаж. При этом с увеличением оценки критиков увеличивается и уровень продаж игр, что достаточно логично - чем качественнее сделана игра, тем выше ее оценят критики, а следовательно и продаваться она будет лучше."
   ]
  },
  {
   "cell_type": "code",
   "execution_count": 46,
   "metadata": {},
   "outputs": [
    {
     "data": {
      "text/html": [
       "<style type=\"text/css\">\n",
       "#T_cec2f_row0_col0, #T_cec2f_row1_col1, #T_cec2f_row2_col2, #T_cec2f_row3_col3, #T_cec2f_row4_col4, #T_cec2f_row5_col5, #T_cec2f_row6_col6, #T_cec2f_row7_col7 {\n",
       "  background-color: #b40426;\n",
       "  color: #f1f1f1;\n",
       "}\n",
       "#T_cec2f_row0_col1, #T_cec2f_row0_col2, #T_cec2f_row0_col3, #T_cec2f_row0_col4, #T_cec2f_row0_col5, #T_cec2f_row0_col6, #T_cec2f_row0_col7, #T_cec2f_row1_col0 {\n",
       "  background-color: #3b4cc0;\n",
       "  color: #f1f1f1;\n",
       "}\n",
       "#T_cec2f_row1_col2 {\n",
       "  background-color: #e97a5f;\n",
       "  color: #f1f1f1;\n",
       "}\n",
       "#T_cec2f_row1_col3 {\n",
       "  background-color: #a1c0ff;\n",
       "  color: #000000;\n",
       "}\n",
       "#T_cec2f_row1_col4 {\n",
       "  background-color: #de614d;\n",
       "  color: #f1f1f1;\n",
       "}\n",
       "#T_cec2f_row1_col5 {\n",
       "  background-color: #d1dae9;\n",
       "  color: #000000;\n",
       "}\n",
       "#T_cec2f_row1_col6 {\n",
       "  background-color: #6f92f3;\n",
       "  color: #f1f1f1;\n",
       "}\n",
       "#T_cec2f_row1_col7 {\n",
       "  background-color: #ca3b37;\n",
       "  color: #f1f1f1;\n",
       "}\n",
       "#T_cec2f_row2_col0 {\n",
       "  background-color: #4f69d9;\n",
       "  color: #f1f1f1;\n",
       "}\n",
       "#T_cec2f_row2_col1 {\n",
       "  background-color: #e7745b;\n",
       "  color: #f1f1f1;\n",
       "}\n",
       "#T_cec2f_row2_col3, #T_cec2f_row4_col3 {\n",
       "  background-color: #b1cbfc;\n",
       "  color: #000000;\n",
       "}\n",
       "#T_cec2f_row2_col4, #T_cec2f_row4_col2 {\n",
       "  background-color: #bb1b2c;\n",
       "  color: #f1f1f1;\n",
       "}\n",
       "#T_cec2f_row2_col5 {\n",
       "  background-color: #bbd1f8;\n",
       "  color: #000000;\n",
       "}\n",
       "#T_cec2f_row2_col6 {\n",
       "  background-color: #6384eb;\n",
       "  color: #f1f1f1;\n",
       "}\n",
       "#T_cec2f_row2_col7, #T_cec2f_row7_col2 {\n",
       "  background-color: #c12b30;\n",
       "  color: #f1f1f1;\n",
       "}\n",
       "#T_cec2f_row3_col0 {\n",
       "  background-color: #6a8bef;\n",
       "  color: #f1f1f1;\n",
       "}\n",
       "#T_cec2f_row3_col1 {\n",
       "  background-color: #c4d5f3;\n",
       "  color: #000000;\n",
       "}\n",
       "#T_cec2f_row3_col2 {\n",
       "  background-color: #c3d5f4;\n",
       "  color: #000000;\n",
       "}\n",
       "#T_cec2f_row3_col4 {\n",
       "  background-color: #c6d6f1;\n",
       "  color: #000000;\n",
       "}\n",
       "#T_cec2f_row3_col5 {\n",
       "  background-color: #7da0f9;\n",
       "  color: #f1f1f1;\n",
       "}\n",
       "#T_cec2f_row3_col6, #T_cec2f_row6_col7 {\n",
       "  background-color: #7093f3;\n",
       "  color: #f1f1f1;\n",
       "}\n",
       "#T_cec2f_row3_col7 {\n",
       "  background-color: #dcdddd;\n",
       "  color: #000000;\n",
       "}\n",
       "#T_cec2f_row4_col0 {\n",
       "  background-color: #4a63d3;\n",
       "  color: #f1f1f1;\n",
       "}\n",
       "#T_cec2f_row4_col1 {\n",
       "  background-color: #dc5d4a;\n",
       "  color: #f1f1f1;\n",
       "}\n",
       "#T_cec2f_row4_col5 {\n",
       "  background-color: #bfd3f6;\n",
       "  color: #000000;\n",
       "}\n",
       "#T_cec2f_row4_col6, #T_cec2f_row6_col4 {\n",
       "  background-color: #688aef;\n",
       "  color: #f1f1f1;\n",
       "}\n",
       "#T_cec2f_row4_col7, #T_cec2f_row7_col4 {\n",
       "  background-color: #bd1f2d;\n",
       "  color: #f1f1f1;\n",
       "}\n",
       "#T_cec2f_row5_col0, #T_cec2f_row7_col0 {\n",
       "  background-color: #4961d2;\n",
       "  color: #f1f1f1;\n",
       "}\n",
       "#T_cec2f_row5_col1 {\n",
       "  background-color: #d8dce2;\n",
       "  color: #000000;\n",
       "}\n",
       "#T_cec2f_row5_col2 {\n",
       "  background-color: #b6cefa;\n",
       "  color: #000000;\n",
       "}\n",
       "#T_cec2f_row5_col3 {\n",
       "  background-color: #5b7ae5;\n",
       "  color: #f1f1f1;\n",
       "}\n",
       "#T_cec2f_row5_col4 {\n",
       "  background-color: #bed2f6;\n",
       "  color: #000000;\n",
       "}\n",
       "#T_cec2f_row5_col6 {\n",
       "  background-color: #e6d7cf;\n",
       "  color: #000000;\n",
       "}\n",
       "#T_cec2f_row5_col7, #T_cec2f_row7_col3 {\n",
       "  background-color: #cbd8ee;\n",
       "  color: #000000;\n",
       "}\n",
       "#T_cec2f_row6_col0 {\n",
       "  background-color: #4b64d5;\n",
       "  color: #f1f1f1;\n",
       "}\n",
       "#T_cec2f_row6_col1 {\n",
       "  background-color: #80a3fa;\n",
       "  color: #f1f1f1;\n",
       "}\n",
       "#T_cec2f_row6_col2 {\n",
       "  background-color: #5e7de7;\n",
       "  color: #f1f1f1;\n",
       "}\n",
       "#T_cec2f_row6_col3 {\n",
       "  background-color: #536edd;\n",
       "  color: #f1f1f1;\n",
       "}\n",
       "#T_cec2f_row6_col5 {\n",
       "  background-color: #e7d7ce;\n",
       "  color: #000000;\n",
       "}\n",
       "#T_cec2f_row7_col1 {\n",
       "  background-color: #c83836;\n",
       "  color: #f1f1f1;\n",
       "}\n",
       "#T_cec2f_row7_col5 {\n",
       "  background-color: #cad8ef;\n",
       "  color: #000000;\n",
       "}\n",
       "#T_cec2f_row7_col6 {\n",
       "  background-color: #6e90f2;\n",
       "  color: #f1f1f1;\n",
       "}\n",
       "</style>\n",
       "<table id=\"T_cec2f_\">\n",
       "  <thead>\n",
       "    <tr>\n",
       "      <th class=\"blank level0\" >&nbsp;</th>\n",
       "      <th class=\"col_heading level0 col0\" >year_of_release</th>\n",
       "      <th class=\"col_heading level0 col1\" >na_sales</th>\n",
       "      <th class=\"col_heading level0 col2\" >eu_sales</th>\n",
       "      <th class=\"col_heading level0 col3\" >jp_sales</th>\n",
       "      <th class=\"col_heading level0 col4\" >other_sales</th>\n",
       "      <th class=\"col_heading level0 col5\" >critic_score</th>\n",
       "      <th class=\"col_heading level0 col6\" >user_score</th>\n",
       "      <th class=\"col_heading level0 col7\" >total_sales</th>\n",
       "    </tr>\n",
       "  </thead>\n",
       "  <tbody>\n",
       "    <tr>\n",
       "      <th id=\"T_cec2f_level0_row0\" class=\"row_heading level0 row0\" >year_of_release</th>\n",
       "      <td id=\"T_cec2f_row0_col0\" class=\"data row0 col0\" >1.000000</td>\n",
       "      <td id=\"T_cec2f_row0_col1\" class=\"data row0 col1\" >-0.053523</td>\n",
       "      <td id=\"T_cec2f_row0_col2\" class=\"data row0 col2\" >0.020449</td>\n",
       "      <td id=\"T_cec2f_row0_col3\" class=\"data row0 col3\" >0.105950</td>\n",
       "      <td id=\"T_cec2f_row0_col4\" class=\"data row0 col4\" >0.002588</td>\n",
       "      <td id=\"T_cec2f_row0_col5\" class=\"data row0 col5\" >-0.001309</td>\n",
       "      <td id=\"T_cec2f_row0_col6\" class=\"data row0 col6\" >0.005826</td>\n",
       "      <td id=\"T_cec2f_row0_col7\" class=\"data row0 col7\" >-0.003547</td>\n",
       "    </tr>\n",
       "    <tr>\n",
       "      <th id=\"T_cec2f_level0_row1\" class=\"row_heading level0 row1\" >na_sales</th>\n",
       "      <td id=\"T_cec2f_row1_col0\" class=\"data row1 col0\" >-0.053523</td>\n",
       "      <td id=\"T_cec2f_row1_col1\" class=\"data row1 col1\" >1.000000</td>\n",
       "      <td id=\"T_cec2f_row1_col2\" class=\"data row1 col2\" >0.826680</td>\n",
       "      <td id=\"T_cec2f_row1_col3\" class=\"data row1 col3\" >0.380498</td>\n",
       "      <td id=\"T_cec2f_row1_col4\" class=\"data row1 col4\" >0.872466</td>\n",
       "      <td id=\"T_cec2f_row1_col5\" class=\"data row1 col5\" >0.454413</td>\n",
       "      <td id=\"T_cec2f_row1_col6\" class=\"data row1 col6\" >0.170214</td>\n",
       "      <td id=\"T_cec2f_row1_col7\" class=\"data row1 col7\" >0.940527</td>\n",
       "    </tr>\n",
       "    <tr>\n",
       "      <th id=\"T_cec2f_level0_row2\" class=\"row_heading level0 row2\" >eu_sales</th>\n",
       "      <td id=\"T_cec2f_row2_col0\" class=\"data row2 col0\" >0.020449</td>\n",
       "      <td id=\"T_cec2f_row2_col1\" class=\"data row2 col1\" >0.826680</td>\n",
       "      <td id=\"T_cec2f_row2_col2\" class=\"data row2 col2\" >1.000000</td>\n",
       "      <td id=\"T_cec2f_row2_col3\" class=\"data row2 col3\" >0.421490</td>\n",
       "      <td id=\"T_cec2f_row2_col4\" class=\"data row2 col4\" >0.978143</td>\n",
       "      <td id=\"T_cec2f_row2_col5\" class=\"data row2 col5\" >0.382536</td>\n",
       "      <td id=\"T_cec2f_row2_col6\" class=\"data row2 col6\" >0.134421</td>\n",
       "      <td id=\"T_cec2f_row2_col7\" class=\"data row2 col7\" >0.962073</td>\n",
       "    </tr>\n",
       "    <tr>\n",
       "      <th id=\"T_cec2f_level0_row3\" class=\"row_heading level0 row3\" >jp_sales</th>\n",
       "      <td id=\"T_cec2f_row3_col0\" class=\"data row3 col0\" >0.105950</td>\n",
       "      <td id=\"T_cec2f_row3_col1\" class=\"data row3 col1\" >0.380498</td>\n",
       "      <td id=\"T_cec2f_row3_col2\" class=\"data row3 col2\" >0.421490</td>\n",
       "      <td id=\"T_cec2f_row3_col3\" class=\"data row3 col3\" >1.000000</td>\n",
       "      <td id=\"T_cec2f_row3_col4\" class=\"data row3 col4\" >0.420342</td>\n",
       "      <td id=\"T_cec2f_row3_col5\" class=\"data row3 col5\" >0.202937</td>\n",
       "      <td id=\"T_cec2f_row3_col6\" class=\"data row3 col6\" >0.176250</td>\n",
       "      <td id=\"T_cec2f_row3_col7\" class=\"data row3 col7\" >0.495844</td>\n",
       "    </tr>\n",
       "    <tr>\n",
       "      <th id=\"T_cec2f_level0_row4\" class=\"row_heading level0 row4\" >other_sales</th>\n",
       "      <td id=\"T_cec2f_row4_col0\" class=\"data row4 col0\" >0.002588</td>\n",
       "      <td id=\"T_cec2f_row4_col1\" class=\"data row4 col1\" >0.872466</td>\n",
       "      <td id=\"T_cec2f_row4_col2\" class=\"data row4 col2\" >0.978143</td>\n",
       "      <td id=\"T_cec2f_row4_col3\" class=\"data row4 col3\" >0.420342</td>\n",
       "      <td id=\"T_cec2f_row4_col4\" class=\"data row4 col4\" >1.000000</td>\n",
       "      <td id=\"T_cec2f_row4_col5\" class=\"data row4 col5\" >0.394883</td>\n",
       "      <td id=\"T_cec2f_row4_col6\" class=\"data row4 col6\" >0.150456</td>\n",
       "      <td id=\"T_cec2f_row4_col7\" class=\"data row4 col7\" >0.975522</td>\n",
       "    </tr>\n",
       "    <tr>\n",
       "      <th id=\"T_cec2f_level0_row5\" class=\"row_heading level0 row5\" >critic_score</th>\n",
       "      <td id=\"T_cec2f_row5_col0\" class=\"data row5 col0\" >-0.001309</td>\n",
       "      <td id=\"T_cec2f_row5_col1\" class=\"data row5 col1\" >0.454413</td>\n",
       "      <td id=\"T_cec2f_row5_col2\" class=\"data row5 col2\" >0.382536</td>\n",
       "      <td id=\"T_cec2f_row5_col3\" class=\"data row5 col3\" >0.202937</td>\n",
       "      <td id=\"T_cec2f_row5_col4\" class=\"data row5 col4\" >0.394883</td>\n",
       "      <td id=\"T_cec2f_row5_col5\" class=\"data row5 col5\" >1.000000</td>\n",
       "      <td id=\"T_cec2f_row5_col6\" class=\"data row5 col6\" >0.539693</td>\n",
       "      <td id=\"T_cec2f_row5_col7\" class=\"data row5 col7\" >0.432759</td>\n",
       "    </tr>\n",
       "    <tr>\n",
       "      <th id=\"T_cec2f_level0_row6\" class=\"row_heading level0 row6\" >user_score</th>\n",
       "      <td id=\"T_cec2f_row6_col0\" class=\"data row6 col0\" >0.005826</td>\n",
       "      <td id=\"T_cec2f_row6_col1\" class=\"data row6 col1\" >0.170214</td>\n",
       "      <td id=\"T_cec2f_row6_col2\" class=\"data row6 col2\" >0.134421</td>\n",
       "      <td id=\"T_cec2f_row6_col3\" class=\"data row6 col3\" >0.176250</td>\n",
       "      <td id=\"T_cec2f_row6_col4\" class=\"data row6 col4\" >0.150456</td>\n",
       "      <td id=\"T_cec2f_row6_col5\" class=\"data row6 col5\" >0.539693</td>\n",
       "      <td id=\"T_cec2f_row6_col6\" class=\"data row6 col6\" >1.000000</td>\n",
       "      <td id=\"T_cec2f_row6_col7\" class=\"data row6 col7\" >0.168050</td>\n",
       "    </tr>\n",
       "    <tr>\n",
       "      <th id=\"T_cec2f_level0_row7\" class=\"row_heading level0 row7\" >total_sales</th>\n",
       "      <td id=\"T_cec2f_row7_col0\" class=\"data row7 col0\" >-0.003547</td>\n",
       "      <td id=\"T_cec2f_row7_col1\" class=\"data row7 col1\" >0.940527</td>\n",
       "      <td id=\"T_cec2f_row7_col2\" class=\"data row7 col2\" >0.962073</td>\n",
       "      <td id=\"T_cec2f_row7_col3\" class=\"data row7 col3\" >0.495844</td>\n",
       "      <td id=\"T_cec2f_row7_col4\" class=\"data row7 col4\" >0.975522</td>\n",
       "      <td id=\"T_cec2f_row7_col5\" class=\"data row7 col5\" >0.432759</td>\n",
       "      <td id=\"T_cec2f_row7_col6\" class=\"data row7 col6\" >0.168050</td>\n",
       "      <td id=\"T_cec2f_row7_col7\" class=\"data row7 col7\" >1.000000</td>\n",
       "    </tr>\n",
       "  </tbody>\n",
       "</table>\n"
      ],
      "text/plain": [
       "<pandas.io.formats.style.Styler at 0x14721fd0>"
      ]
     },
     "execution_count": 46,
     "metadata": {},
     "output_type": "execute_result"
    }
   ],
   "source": [
    "# посмотрим на корреляционную матрицу\n",
    "df_critic_ps3.corr().style.background_gradient('coolwarm')"
   ]
  },
  {
   "cell_type": "markdown",
   "metadata": {},
   "source": [
    "Коэффициент корреляции Пирсона между переменными critic_score и total_sales равен 0.43. Нельзя сказать, что связь очень сильная, так же как и то, что именно оценка критиков определяет продажи, а не наоборот (коэффициент не говорит о наличии причинно-следственной связи), но тем не менее она есть."
   ]
  },
  {
   "cell_type": "markdown",
   "metadata": {},
   "source": [
    "**Влияние на продажи отзывов пользователей**"
   ]
  },
  {
   "cell_type": "code",
   "execution_count": 47,
   "metadata": {},
   "outputs": [
    {
     "data": {
      "image/png": "[encoded data removed]",
      "text/plain": [
       "<Figure size 1152x576 with 1 Axes>"
      ]
     },
     "metadata": {
      "needs_background": "light"
     },
     "output_type": "display_data"
    }
   ],
   "source": [
    "# Построим диаграмму рассеяния\n",
    "df_user_ps3.plot(x='user_score', y='total_sales', kind='scatter', figsize = (16,8), ec='green', alpha = 0.7)\n",
    "plt.title('Диаграмма рассеяния: взаимосвязь оценки пользователей и уровня продаж')\n",
    "plt.xlabel('Оценка пользователей ')\n",
    "plt.ylabel('Продажи (Значение в миллионах проданных копий)')\n",
    "plt.show()"
   ]
  },
  {
   "cell_type": "markdown",
   "metadata": {},
   "source": [
    "Аналогичная ситуация - чем выше оценка пользователей, тем выше и уровень продаж, однако на этом графике  больше выбросов, то есть бывают случаи, когда рейтинг пользователей крайне мал, а продажи при этом колоссальные. Такое бывает когда есть некоторые завышенные ожидания относительно игры (новой версии популярной в прошлом игры, например), а на деле игра выходит не очень удачной, откуда и низкие отзывы.\n",
    "\n",
    "\n"
   ]
  },
  {
   "cell_type": "code",
   "execution_count": 48,
   "metadata": {},
   "outputs": [
    {
     "data": {
      "text/html": [
       "<style type=\"text/css\">\n",
       "#T_8a707_row0_col0, #T_8a707_row1_col1, #T_8a707_row2_col2, #T_8a707_row3_col3, #T_8a707_row4_col4, #T_8a707_row5_col5, #T_8a707_row6_col6, #T_8a707_row7_col7 {\n",
       "  background-color: #b40426;\n",
       "  color: #f1f1f1;\n",
       "}\n",
       "#T_8a707_row0_col1, #T_8a707_row0_col2, #T_8a707_row0_col3, #T_8a707_row0_col4, #T_8a707_row0_col5, #T_8a707_row0_col6, #T_8a707_row0_col7, #T_8a707_row5_col0 {\n",
       "  background-color: #3b4cc0;\n",
       "  color: #f1f1f1;\n",
       "}\n",
       "#T_8a707_row1_col0 {\n",
       "  background-color: #7da0f9;\n",
       "  color: #f1f1f1;\n",
       "}\n",
       "#T_8a707_row1_col2 {\n",
       "  background-color: #ea7b60;\n",
       "  color: #f1f1f1;\n",
       "}\n",
       "#T_8a707_row1_col3, #T_8a707_row3_col0 {\n",
       "  background-color: #a7c5fe;\n",
       "  color: #000000;\n",
       "}\n",
       "#T_8a707_row1_col4 {\n",
       "  background-color: #dd5f4b;\n",
       "  color: #f1f1f1;\n",
       "}\n",
       "#T_8a707_row1_col5 {\n",
       "  background-color: #e0dbd8;\n",
       "  color: #000000;\n",
       "}\n",
       "#T_8a707_row1_col6 {\n",
       "  background-color: #86a9fc;\n",
       "  color: #f1f1f1;\n",
       "}\n",
       "#T_8a707_row1_col7 {\n",
       "  background-color: #ca3b37;\n",
       "  color: #f1f1f1;\n",
       "}\n",
       "#T_8a707_row2_col0 {\n",
       "  background-color: #94b6ff;\n",
       "  color: #000000;\n",
       "}\n",
       "#T_8a707_row2_col1 {\n",
       "  background-color: #e7745b;\n",
       "  color: #f1f1f1;\n",
       "}\n",
       "#T_8a707_row2_col3 {\n",
       "  background-color: #b5cdfa;\n",
       "  color: #000000;\n",
       "}\n",
       "#T_8a707_row2_col4, #T_8a707_row4_col2 {\n",
       "  background-color: #bd1f2d;\n",
       "  color: #f1f1f1;\n",
       "}\n",
       "#T_8a707_row2_col5 {\n",
       "  background-color: #d2dbe8;\n",
       "  color: #000000;\n",
       "}\n",
       "#T_8a707_row2_col6 {\n",
       "  background-color: #779af7;\n",
       "  color: #f1f1f1;\n",
       "}\n",
       "#T_8a707_row2_col7 {\n",
       "  background-color: #c12b30;\n",
       "  color: #f1f1f1;\n",
       "}\n",
       "#T_8a707_row3_col1 {\n",
       "  background-color: #c9d7f0;\n",
       "  color: #000000;\n",
       "}\n",
       "#T_8a707_row3_col2 {\n",
       "  background-color: #c5d6f2;\n",
       "  color: #000000;\n",
       "}\n",
       "#T_8a707_row3_col4 {\n",
       "  background-color: #cad8ef;\n",
       "  color: #000000;\n",
       "}\n",
       "#T_8a707_row3_col5 {\n",
       "  background-color: #bad0f8;\n",
       "  color: #000000;\n",
       "}\n",
       "#T_8a707_row3_col6 {\n",
       "  background-color: #92b4fe;\n",
       "  color: #000000;\n",
       "}\n",
       "#T_8a707_row3_col7 {\n",
       "  background-color: #dfdbd9;\n",
       "  color: #000000;\n",
       "}\n",
       "#T_8a707_row4_col0 {\n",
       "  background-color: #8db0fe;\n",
       "  color: #000000;\n",
       "}\n",
       "#T_8a707_row4_col1 {\n",
       "  background-color: #da5a49;\n",
       "  color: #f1f1f1;\n",
       "}\n",
       "#T_8a707_row4_col3 {\n",
       "  background-color: #b6cefa;\n",
       "  color: #000000;\n",
       "}\n",
       "#T_8a707_row4_col5 {\n",
       "  background-color: #d6dce4;\n",
       "  color: #000000;\n",
       "}\n",
       "#T_8a707_row4_col6 {\n",
       "  background-color: #7ea1fa;\n",
       "  color: #f1f1f1;\n",
       "}\n",
       "#T_8a707_row4_col7, #T_8a707_row7_col4 {\n",
       "  background-color: #bb1b2c;\n",
       "  color: #f1f1f1;\n",
       "}\n",
       "#T_8a707_row5_col1 {\n",
       "  background-color: #bcd2f7;\n",
       "  color: #000000;\n",
       "}\n",
       "#T_8a707_row5_col2 {\n",
       "  background-color: #90b2fe;\n",
       "  color: #000000;\n",
       "}\n",
       "#T_8a707_row5_col3 {\n",
       "  background-color: #536edd;\n",
       "  color: #f1f1f1;\n",
       "}\n",
       "#T_8a707_row5_col4 {\n",
       "  background-color: #9dbdff;\n",
       "  color: #000000;\n",
       "}\n",
       "#T_8a707_row5_col6 {\n",
       "  background-color: #d8dce2;\n",
       "  color: #000000;\n",
       "}\n",
       "#T_8a707_row5_col7 {\n",
       "  background-color: #a9c6fd;\n",
       "  color: #000000;\n",
       "}\n",
       "#T_8a707_row6_col0 {\n",
       "  background-color: #7699f6;\n",
       "  color: #f1f1f1;\n",
       "}\n",
       "#T_8a707_row6_col1 {\n",
       "  background-color: #81a4fb;\n",
       "  color: #f1f1f1;\n",
       "}\n",
       "#T_8a707_row6_col2 {\n",
       "  background-color: #5977e3;\n",
       "  color: #f1f1f1;\n",
       "}\n",
       "#T_8a707_row6_col3 {\n",
       "  background-color: #5d7ce6;\n",
       "  color: #f1f1f1;\n",
       "}\n",
       "#T_8a707_row6_col4 {\n",
       "  background-color: #6788ee;\n",
       "  color: #f1f1f1;\n",
       "}\n",
       "#T_8a707_row6_col5 {\n",
       "  background-color: #efcfbf;\n",
       "  color: #000000;\n",
       "}\n",
       "#T_8a707_row6_col7 {\n",
       "  background-color: #6f92f3;\n",
       "  color: #f1f1f1;\n",
       "}\n",
       "#T_8a707_row7_col0 {\n",
       "  background-color: #8badfd;\n",
       "  color: #000000;\n",
       "}\n",
       "#T_8a707_row7_col1 {\n",
       "  background-color: #c83836;\n",
       "  color: #f1f1f1;\n",
       "}\n",
       "#T_8a707_row7_col2 {\n",
       "  background-color: #c32e31;\n",
       "  color: #f1f1f1;\n",
       "}\n",
       "#T_8a707_row7_col3 {\n",
       "  background-color: #cedaeb;\n",
       "  color: #000000;\n",
       "}\n",
       "#T_8a707_row7_col5 {\n",
       "  background-color: #dbdcde;\n",
       "  color: #000000;\n",
       "}\n",
       "#T_8a707_row7_col6 {\n",
       "  background-color: #84a7fc;\n",
       "  color: #f1f1f1;\n",
       "}\n",
       "</style>\n",
       "<table id=\"T_8a707_\">\n",
       "  <thead>\n",
       "    <tr>\n",
       "      <th class=\"blank level0\" >&nbsp;</th>\n",
       "      <th class=\"col_heading level0 col0\" >year_of_release</th>\n",
       "      <th class=\"col_heading level0 col1\" >na_sales</th>\n",
       "      <th class=\"col_heading level0 col2\" >eu_sales</th>\n",
       "      <th class=\"col_heading level0 col3\" >jp_sales</th>\n",
       "      <th class=\"col_heading level0 col4\" >other_sales</th>\n",
       "      <th class=\"col_heading level0 col5\" >critic_score</th>\n",
       "      <th class=\"col_heading level0 col6\" >user_score</th>\n",
       "      <th class=\"col_heading level0 col7\" >total_sales</th>\n",
       "    </tr>\n",
       "  </thead>\n",
       "  <tbody>\n",
       "    <tr>\n",
       "      <th id=\"T_8a707_level0_row0\" class=\"row_heading level0 row0\" >year_of_release</th>\n",
       "      <td id=\"T_8a707_row0_col0\" class=\"data row0 col0\" >1.000000</td>\n",
       "      <td id=\"T_8a707_row0_col1\" class=\"data row0 col1\" >-0.099383</td>\n",
       "      <td id=\"T_8a707_row0_col2\" class=\"data row0 col2\" >-0.011087</td>\n",
       "      <td id=\"T_8a707_row0_col3\" class=\"data row0 col3\" >0.068971</td>\n",
       "      <td id=\"T_8a707_row0_col4\" class=\"data row0 col4\" >-0.034794</td>\n",
       "      <td id=\"T_8a707_row0_col5\" class=\"data row0 col5\" >-0.384609</td>\n",
       "      <td id=\"T_8a707_row0_col6\" class=\"data row0 col6\" >-0.125317</td>\n",
       "      <td id=\"T_8a707_row0_col7\" class=\"data row0 col7\" >-0.045358</td>\n",
       "    </tr>\n",
       "    <tr>\n",
       "      <th id=\"T_8a707_level0_row1\" class=\"row_heading level0 row1\" >na_sales</th>\n",
       "      <td id=\"T_8a707_row1_col0\" class=\"data row1 col0\" >-0.099383</td>\n",
       "      <td id=\"T_8a707_row1_col1\" class=\"data row1 col1\" >1.000000</td>\n",
       "      <td id=\"T_8a707_row1_col2\" class=\"data row1 col2\" >0.816482</td>\n",
       "      <td id=\"T_8a707_row1_col3\" class=\"data row1 col3\" >0.371078</td>\n",
       "      <td id=\"T_8a707_row1_col4\" class=\"data row1 col4\" >0.871462</td>\n",
       "      <td id=\"T_8a707_row1_col5\" class=\"data row1 col5\" >0.326746</td>\n",
       "      <td id=\"T_8a707_row1_col6\" class=\"data row1 col6\" >0.137699</td>\n",
       "      <td id=\"T_8a707_row1_col7\" class=\"data row1 col7\" >0.937776</td>\n",
       "    </tr>\n",
       "    <tr>\n",
       "      <th id=\"T_8a707_level0_row2\" class=\"row_heading level0 row2\" >eu_sales</th>\n",
       "      <td id=\"T_8a707_row2_col0\" class=\"data row2 col0\" >-0.011087</td>\n",
       "      <td id=\"T_8a707_row2_col1\" class=\"data row2 col1\" >0.816482</td>\n",
       "      <td id=\"T_8a707_row2_col2\" class=\"data row2 col2\" >1.000000</td>\n",
       "      <td id=\"T_8a707_row2_col3\" class=\"data row2 col3\" >0.408757</td>\n",
       "      <td id=\"T_8a707_row2_col4\" class=\"data row2 col4\" >0.974160</td>\n",
       "      <td id=\"T_8a707_row2_col5\" class=\"data row2 col5\" >0.251928</td>\n",
       "      <td id=\"T_8a707_row2_col6\" class=\"data row2 col6\" >0.087823</td>\n",
       "      <td id=\"T_8a707_row2_col7\" class=\"data row2 col7\" >0.959317</td>\n",
       "    </tr>\n",
       "    <tr>\n",
       "      <th id=\"T_8a707_level0_row3\" class=\"row_heading level0 row3\" >jp_sales</th>\n",
       "      <td id=\"T_8a707_row3_col0\" class=\"data row3 col0\" >0.068971</td>\n",
       "      <td id=\"T_8a707_row3_col1\" class=\"data row3 col1\" >0.371078</td>\n",
       "      <td id=\"T_8a707_row3_col2\" class=\"data row3 col2\" >0.408757</td>\n",
       "      <td id=\"T_8a707_row3_col3\" class=\"data row3 col3\" >1.000000</td>\n",
       "      <td id=\"T_8a707_row3_col4\" class=\"data row3 col4\" >0.410892</td>\n",
       "      <td id=\"T_8a707_row3_col5\" class=\"data row3 col5\" >0.142193</td>\n",
       "      <td id=\"T_8a707_row3_col6\" class=\"data row3 col6\" >0.171022</td>\n",
       "      <td id=\"T_8a707_row3_col7\" class=\"data row3 col7\" >0.486510</td>\n",
       "    </tr>\n",
       "    <tr>\n",
       "      <th id=\"T_8a707_level0_row4\" class=\"row_heading level0 row4\" >other_sales</th>\n",
       "      <td id=\"T_8a707_row4_col0\" class=\"data row4 col0\" >-0.034794</td>\n",
       "      <td id=\"T_8a707_row4_col1\" class=\"data row4 col1\" >0.871462</td>\n",
       "      <td id=\"T_8a707_row4_col2\" class=\"data row4 col2\" >0.974160</td>\n",
       "      <td id=\"T_8a707_row4_col3\" class=\"data row4 col3\" >0.410892</td>\n",
       "      <td id=\"T_8a707_row4_col4\" class=\"data row4 col4\" >1.000000</td>\n",
       "      <td id=\"T_8a707_row4_col5\" class=\"data row4 col5\" >0.271985</td>\n",
       "      <td id=\"T_8a707_row4_col6\" class=\"data row4 col6\" >0.111490</td>\n",
       "      <td id=\"T_8a707_row4_col7\" class=\"data row4 col7\" >0.975761</td>\n",
       "    </tr>\n",
       "    <tr>\n",
       "      <th id=\"T_8a707_level0_row5\" class=\"row_heading level0 row5\" >critic_score</th>\n",
       "      <td id=\"T_8a707_row5_col0\" class=\"data row5 col0\" >-0.384609</td>\n",
       "      <td id=\"T_8a707_row5_col1\" class=\"data row5 col1\" >0.326746</td>\n",
       "      <td id=\"T_8a707_row5_col2\" class=\"data row5 col2\" >0.251928</td>\n",
       "      <td id=\"T_8a707_row5_col3\" class=\"data row5 col3\" >0.142193</td>\n",
       "      <td id=\"T_8a707_row5_col4\" class=\"data row5 col4\" >0.271985</td>\n",
       "      <td id=\"T_8a707_row5_col5\" class=\"data row5 col5\" >1.000000</td>\n",
       "      <td id=\"T_8a707_row5_col6\" class=\"data row5 col6\" >0.418592</td>\n",
       "      <td id=\"T_8a707_row5_col7\" class=\"data row5 col7\" >0.299975</td>\n",
       "    </tr>\n",
       "    <tr>\n",
       "      <th id=\"T_8a707_level0_row6\" class=\"row_heading level0 row6\" >user_score</th>\n",
       "      <td id=\"T_8a707_row6_col0\" class=\"data row6 col0\" >-0.125317</td>\n",
       "      <td id=\"T_8a707_row6_col1\" class=\"data row6 col1\" >0.137699</td>\n",
       "      <td id=\"T_8a707_row6_col2\" class=\"data row6 col2\" >0.087823</td>\n",
       "      <td id=\"T_8a707_row6_col3\" class=\"data row6 col3\" >0.171022</td>\n",
       "      <td id=\"T_8a707_row6_col4\" class=\"data row6 col4\" >0.111490</td>\n",
       "      <td id=\"T_8a707_row6_col5\" class=\"data row6 col5\" >0.418592</td>\n",
       "      <td id=\"T_8a707_row6_col6\" class=\"data row6 col6\" >1.000000</td>\n",
       "      <td id=\"T_8a707_row6_col7\" class=\"data row6 col7\" >0.128416</td>\n",
       "    </tr>\n",
       "    <tr>\n",
       "      <th id=\"T_8a707_level0_row7\" class=\"row_heading level0 row7\" >total_sales</th>\n",
       "      <td id=\"T_8a707_row7_col0\" class=\"data row7 col0\" >-0.045358</td>\n",
       "      <td id=\"T_8a707_row7_col1\" class=\"data row7 col1\" >0.937776</td>\n",
       "      <td id=\"T_8a707_row7_col2\" class=\"data row7 col2\" >0.959317</td>\n",
       "      <td id=\"T_8a707_row7_col3\" class=\"data row7 col3\" >0.486510</td>\n",
       "      <td id=\"T_8a707_row7_col4\" class=\"data row7 col4\" >0.975761</td>\n",
       "      <td id=\"T_8a707_row7_col5\" class=\"data row7 col5\" >0.299975</td>\n",
       "      <td id=\"T_8a707_row7_col6\" class=\"data row7 col6\" >0.128416</td>\n",
       "      <td id=\"T_8a707_row7_col7\" class=\"data row7 col7\" >1.000000</td>\n",
       "    </tr>\n",
       "  </tbody>\n",
       "</table>\n"
      ],
      "text/plain": [
       "<pandas.io.formats.style.Styler at 0x14721d18>"
      ]
     },
     "execution_count": 48,
     "metadata": {},
     "output_type": "execute_result"
    }
   ],
   "source": [
    "# посмотрим на корреляционную матрицу\n",
    "df_user_ps3.corr().style.background_gradient('coolwarm')"
   ]
  },
  {
   "cell_type": "markdown",
   "metadata": {},
   "source": [
    " Коэффициент корреляции Пирсона между переменными user_score и total_sales равен 0.128416, что говорит о слабой статистической взаимосвязи между этими показателями. Отзывы критиков связаны с продажами гораздо сильнее.\n"
   ]
  },
  {
   "cell_type": "markdown",
   "metadata": {},
   "source": [
    "#### Сравнение влияния отзывов на продажи платформы PS3 с другими платформами"
   ]
  },
  {
   "cell_type": "code",
   "execution_count": 49,
   "metadata": {},
   "outputs": [],
   "source": [
    "# сделаем срез в данных по всем платформам кроме этой и существующими отзывами критиков\n",
    "df_critic_not_ps3 = df.query('platform != \"ps3\" and critic_score > 0 ')\n",
    "\n",
    "# сделаем срез в данных по всем платформам кроме этой и существующими отзывами пользователей\n",
    "df_user_not_ps3 = df.query('platform != \"ps3\" and user_score > 0 ')"
   ]
  },
  {
   "cell_type": "markdown",
   "metadata": {},
   "source": [
    "**Влияние на продажи отзывов критиков у всех остальных платформ, кроме ps3**"
   ]
  },
  {
   "cell_type": "code",
   "execution_count": 50,
   "metadata": {},
   "outputs": [
    {
     "data": {
      "image/png": "[encoded data removed]",
      "text/plain": [
       "<Figure size 1152x576 with 1 Axes>"
      ]
     },
     "metadata": {
      "needs_background": "light"
     },
     "output_type": "display_data"
    }
   ],
   "source": [
    "# Построим диаграмму рассеяния\n",
    "df_critic_not_ps3.plot(x='critic_score', y='total_sales', kind='scatter', figsize = (16,8), ec='green', alpha = 0.7)\n",
    "plt.title('Диаграмма рассеяния: взаимосвязь оценки критиков и уровня продаж')\n",
    "plt.xlabel('Оценка критиков ')\n",
    "plt.ylabel('Продажи (Значение в миллионах проданных копий)')\n",
    "plt.show()"
   ]
  },
  {
   "cell_type": "markdown",
   "metadata": {},
   "source": [
    "В целом, диаграммы рассеяния у всех остальных платформ и у платформы PS3 очень похожи и интерпретировать их можно точно так же."
   ]
  },
  {
   "cell_type": "code",
   "execution_count": 51,
   "metadata": {},
   "outputs": [
    {
     "data": {
      "text/html": [
       "<style type=\"text/css\">\n",
       "#T_2dfba_row0_col0, #T_2dfba_row1_col1, #T_2dfba_row2_col2, #T_2dfba_row3_col3, #T_2dfba_row4_col4, #T_2dfba_row5_col5, #T_2dfba_row6_col6, #T_2dfba_row7_col7 {\n",
       "  background-color: #b40426;\n",
       "  color: #f1f1f1;\n",
       "}\n",
       "#T_2dfba_row0_col1, #T_2dfba_row0_col2, #T_2dfba_row0_col3, #T_2dfba_row0_col4, #T_2dfba_row0_col5, #T_2dfba_row0_col6, #T_2dfba_row0_col7, #T_2dfba_row3_col0 {\n",
       "  background-color: #3b4cc0;\n",
       "  color: #f1f1f1;\n",
       "}\n",
       "#T_2dfba_row1_col0 {\n",
       "  background-color: #4257c9;\n",
       "  color: #f1f1f1;\n",
       "}\n",
       "#T_2dfba_row1_col2 {\n",
       "  background-color: #e46e56;\n",
       "  color: #f1f1f1;\n",
       "}\n",
       "#T_2dfba_row1_col3 {\n",
       "  background-color: #dbdcde;\n",
       "  color: #000000;\n",
       "}\n",
       "#T_2dfba_row1_col4 {\n",
       "  background-color: #f7a98b;\n",
       "  color: #000000;\n",
       "}\n",
       "#T_2dfba_row1_col5, #T_2dfba_row7_col5 {\n",
       "  background-color: #82a6fb;\n",
       "  color: #f1f1f1;\n",
       "}\n",
       "#T_2dfba_row1_col6, #T_2dfba_row6_col0 {\n",
       "  background-color: #536edd;\n",
       "  color: #f1f1f1;\n",
       "}\n",
       "#T_2dfba_row1_col7, #T_2dfba_row7_col1 {\n",
       "  background-color: #c32e31;\n",
       "  color: #f1f1f1;\n",
       "}\n",
       "#T_2dfba_row2_col0, #T_2dfba_row4_col0, #T_2dfba_row6_col4 {\n",
       "  background-color: #4f69d9;\n",
       "  color: #f1f1f1;\n",
       "}\n",
       "#T_2dfba_row2_col1 {\n",
       "  background-color: #e36c55;\n",
       "  color: #f1f1f1;\n",
       "}\n",
       "#T_2dfba_row2_col3 {\n",
       "  background-color: #ead5c9;\n",
       "  color: #000000;\n",
       "}\n",
       "#T_2dfba_row2_col4 {\n",
       "  background-color: #f7b79b;\n",
       "  color: #000000;\n",
       "}\n",
       "#T_2dfba_row2_col5 {\n",
       "  background-color: #7a9df8;\n",
       "  color: #f1f1f1;\n",
       "}\n",
       "#T_2dfba_row2_col6 {\n",
       "  background-color: #4e68d8;\n",
       "  color: #f1f1f1;\n",
       "}\n",
       "#T_2dfba_row2_col7 {\n",
       "  background-color: #ca3b37;\n",
       "  color: #f1f1f1;\n",
       "}\n",
       "#T_2dfba_row3_col1 {\n",
       "  background-color: #d7dce3;\n",
       "  color: #000000;\n",
       "}\n",
       "#T_2dfba_row3_col2 {\n",
       "  background-color: #e1dad6;\n",
       "  color: #000000;\n",
       "}\n",
       "#T_2dfba_row3_col4 {\n",
       "  background-color: #bad0f8;\n",
       "  color: #000000;\n",
       "}\n",
       "#T_2dfba_row3_col5, #T_2dfba_row6_col3 {\n",
       "  background-color: #6a8bef;\n",
       "  color: #f1f1f1;\n",
       "}\n",
       "#T_2dfba_row3_col6 {\n",
       "  background-color: #516ddb;\n",
       "  color: #f1f1f1;\n",
       "}\n",
       "#T_2dfba_row3_col7 {\n",
       "  background-color: #f4c5ad;\n",
       "  color: #000000;\n",
       "}\n",
       "#T_2dfba_row4_col1 {\n",
       "  background-color: #f6a586;\n",
       "  color: #000000;\n",
       "}\n",
       "#T_2dfba_row4_col2 {\n",
       "  background-color: #f7b89c;\n",
       "  color: #000000;\n",
       "}\n",
       "#T_2dfba_row4_col3 {\n",
       "  background-color: #c7d7f0;\n",
       "  color: #000000;\n",
       "}\n",
       "#T_2dfba_row4_col5 {\n",
       "  background-color: #6f92f3;\n",
       "  color: #f1f1f1;\n",
       "}\n",
       "#T_2dfba_row4_col6 {\n",
       "  background-color: #4b64d5;\n",
       "  color: #f1f1f1;\n",
       "}\n",
       "#T_2dfba_row4_col7 {\n",
       "  background-color: #f08a6c;\n",
       "  color: #f1f1f1;\n",
       "}\n",
       "#T_2dfba_row5_col0 {\n",
       "  background-color: #455cce;\n",
       "  color: #f1f1f1;\n",
       "}\n",
       "#T_2dfba_row5_col1 {\n",
       "  background-color: #85a8fc;\n",
       "  color: #f1f1f1;\n",
       "}\n",
       "#T_2dfba_row5_col2 {\n",
       "  background-color: #7093f3;\n",
       "  color: #f1f1f1;\n",
       "}\n",
       "#T_2dfba_row5_col3 {\n",
       "  background-color: #7597f6;\n",
       "  color: #f1f1f1;\n",
       "}\n",
       "#T_2dfba_row5_col4 {\n",
       "  background-color: #6687ed;\n",
       "  color: #f1f1f1;\n",
       "}\n",
       "#T_2dfba_row5_col6 {\n",
       "  background-color: #c1d4f4;\n",
       "  color: #000000;\n",
       "}\n",
       "#T_2dfba_row5_col7 {\n",
       "  background-color: #81a4fb;\n",
       "  color: #f1f1f1;\n",
       "}\n",
       "#T_2dfba_row6_col1 {\n",
       "  background-color: #6384eb;\n",
       "  color: #f1f1f1;\n",
       "}\n",
       "#T_2dfba_row6_col2 {\n",
       "  background-color: #506bda;\n",
       "  color: #f1f1f1;\n",
       "}\n",
       "#T_2dfba_row6_col5 {\n",
       "  background-color: #cad8ef;\n",
       "  color: #000000;\n",
       "}\n",
       "#T_2dfba_row6_col7 {\n",
       "  background-color: #6180e9;\n",
       "  color: #f1f1f1;\n",
       "}\n",
       "#T_2dfba_row7_col0 {\n",
       "  background-color: #465ecf;\n",
       "  color: #f1f1f1;\n",
       "}\n",
       "#T_2dfba_row7_col2 {\n",
       "  background-color: #cb3e38;\n",
       "  color: #f1f1f1;\n",
       "}\n",
       "#T_2dfba_row7_col3 {\n",
       "  background-color: #f5c0a7;\n",
       "  color: #000000;\n",
       "}\n",
       "#T_2dfba_row7_col4 {\n",
       "  background-color: #f18d6f;\n",
       "  color: #f1f1f1;\n",
       "}\n",
       "#T_2dfba_row7_col6 {\n",
       "  background-color: #5572df;\n",
       "  color: #f1f1f1;\n",
       "}\n",
       "</style>\n",
       "<table id=\"T_2dfba_\">\n",
       "  <thead>\n",
       "    <tr>\n",
       "      <th class=\"blank level0\" >&nbsp;</th>\n",
       "      <th class=\"col_heading level0 col0\" >year_of_release</th>\n",
       "      <th class=\"col_heading level0 col1\" >na_sales</th>\n",
       "      <th class=\"col_heading level0 col2\" >eu_sales</th>\n",
       "      <th class=\"col_heading level0 col3\" >jp_sales</th>\n",
       "      <th class=\"col_heading level0 col4\" >other_sales</th>\n",
       "      <th class=\"col_heading level0 col5\" >critic_score</th>\n",
       "      <th class=\"col_heading level0 col6\" >user_score</th>\n",
       "      <th class=\"col_heading level0 col7\" >total_sales</th>\n",
       "    </tr>\n",
       "  </thead>\n",
       "  <tbody>\n",
       "    <tr>\n",
       "      <th id=\"T_2dfba_level0_row0\" class=\"row_heading level0 row0\" >year_of_release</th>\n",
       "      <td id=\"T_2dfba_row0_col0\" class=\"data row0 col0\" >1.000000</td>\n",
       "      <td id=\"T_2dfba_row0_col1\" class=\"data row0 col1\" >-0.007169</td>\n",
       "      <td id=\"T_2dfba_row0_col2\" class=\"data row0 col2\" >0.037527</td>\n",
       "      <td id=\"T_2dfba_row0_col3\" class=\"data row0 col3\" >-0.034797</td>\n",
       "      <td id=\"T_2dfba_row0_col4\" class=\"data row0 col4\" >0.035659</td>\n",
       "      <td id=\"T_2dfba_row0_col5\" class=\"data row0 col5\" >0.003642</td>\n",
       "      <td id=\"T_2dfba_row0_col6\" class=\"data row0 col6\" >0.047173</td>\n",
       "      <td id=\"T_2dfba_row0_col7\" class=\"data row0 col7\" >0.008817</td>\n",
       "    </tr>\n",
       "    <tr>\n",
       "      <th id=\"T_2dfba_level0_row1\" class=\"row_heading level0 row1\" >na_sales</th>\n",
       "      <td id=\"T_2dfba_row1_col0\" class=\"data row1 col0\" >-0.007169</td>\n",
       "      <td id=\"T_2dfba_row1_col1\" class=\"data row1 col1\" >1.000000</td>\n",
       "      <td id=\"T_2dfba_row1_col2\" class=\"data row1 col2\" >0.849668</td>\n",
       "      <td id=\"T_2dfba_row1_col3\" class=\"data row1 col3\" >0.475174</td>\n",
       "      <td id=\"T_2dfba_row1_col4\" class=\"data row1 col4\" >0.720536</td>\n",
       "      <td id=\"T_2dfba_row1_col5\" class=\"data row1 col5\" >0.221840</td>\n",
       "      <td id=\"T_2dfba_row1_col6\" class=\"data row1 col6\" >0.124918</td>\n",
       "      <td id=\"T_2dfba_row1_col7\" class=\"data row1 col7\" >0.958661</td>\n",
       "    </tr>\n",
       "    <tr>\n",
       "      <th id=\"T_2dfba_level0_row2\" class=\"row_heading level0 row2\" >eu_sales</th>\n",
       "      <td id=\"T_2dfba_row2_col0\" class=\"data row2 col0\" >0.037527</td>\n",
       "      <td id=\"T_2dfba_row2_col1\" class=\"data row2 col1\" >0.849668</td>\n",
       "      <td id=\"T_2dfba_row2_col2\" class=\"data row2 col2\" >1.000000</td>\n",
       "      <td id=\"T_2dfba_row2_col3\" class=\"data row2 col3\" >0.536031</td>\n",
       "      <td id=\"T_2dfba_row2_col4\" class=\"data row2 col4\" >0.680099</td>\n",
       "      <td id=\"T_2dfba_row2_col5\" class=\"data row2 col5\" >0.199252</td>\n",
       "      <td id=\"T_2dfba_row2_col6\" class=\"data row2 col6\" >0.107880</td>\n",
       "      <td id=\"T_2dfba_row2_col7\" class=\"data row2 col7\" >0.938760</td>\n",
       "    </tr>\n",
       "    <tr>\n",
       "      <th id=\"T_2dfba_level0_row3\" class=\"row_heading level0 row3\" >jp_sales</th>\n",
       "      <td id=\"T_2dfba_row3_col0\" class=\"data row3 col0\" >-0.034797</td>\n",
       "      <td id=\"T_2dfba_row3_col1\" class=\"data row3 col1\" >0.475174</td>\n",
       "      <td id=\"T_2dfba_row3_col2\" class=\"data row3 col2\" >0.536031</td>\n",
       "      <td id=\"T_2dfba_row3_col3\" class=\"data row3 col3\" >1.000000</td>\n",
       "      <td id=\"T_2dfba_row3_col4\" class=\"data row3 col4\" >0.402830</td>\n",
       "      <td id=\"T_2dfba_row3_col5\" class=\"data row3 col5\" >0.151585</td>\n",
       "      <td id=\"T_2dfba_row3_col6\" class=\"data row3 col6\" >0.119712</td>\n",
       "      <td id=\"T_2dfba_row3_col7\" class=\"data row3 col7\" >0.625217</td>\n",
       "    </tr>\n",
       "    <tr>\n",
       "      <th id=\"T_2dfba_level0_row4\" class=\"row_heading level0 row4\" >other_sales</th>\n",
       "      <td id=\"T_2dfba_row4_col0\" class=\"data row4 col0\" >0.035659</td>\n",
       "      <td id=\"T_2dfba_row4_col1\" class=\"data row4 col1\" >0.720536</td>\n",
       "      <td id=\"T_2dfba_row4_col2\" class=\"data row4 col2\" >0.680099</td>\n",
       "      <td id=\"T_2dfba_row4_col3\" class=\"data row4 col3\" >0.402830</td>\n",
       "      <td id=\"T_2dfba_row4_col4\" class=\"data row4 col4\" >1.000000</td>\n",
       "      <td id=\"T_2dfba_row4_col5\" class=\"data row4 col5\" >0.170886</td>\n",
       "      <td id=\"T_2dfba_row4_col6\" class=\"data row4 col6\" >0.100093</td>\n",
       "      <td id=\"T_2dfba_row4_col7\" class=\"data row4 col7\" >0.787394</td>\n",
       "    </tr>\n",
       "    <tr>\n",
       "      <th id=\"T_2dfba_level0_row5\" class=\"row_heading level0 row5\" >critic_score</th>\n",
       "      <td id=\"T_2dfba_row5_col0\" class=\"data row5 col0\" >0.003642</td>\n",
       "      <td id=\"T_2dfba_row5_col1\" class=\"data row5 col1\" >0.221840</td>\n",
       "      <td id=\"T_2dfba_row5_col2\" class=\"data row5 col2\" >0.199252</td>\n",
       "      <td id=\"T_2dfba_row5_col3\" class=\"data row5 col3\" >0.151585</td>\n",
       "      <td id=\"T_2dfba_row5_col4\" class=\"data row5 col4\" >0.170886</td>\n",
       "      <td id=\"T_2dfba_row5_col5\" class=\"data row5 col5\" >1.000000</td>\n",
       "      <td id=\"T_2dfba_row5_col6\" class=\"data row5 col6\" >0.432183</td>\n",
       "      <td id=\"T_2dfba_row5_col7\" class=\"data row5 col7\" >0.224768</td>\n",
       "    </tr>\n",
       "    <tr>\n",
       "      <th id=\"T_2dfba_level0_row6\" class=\"row_heading level0 row6\" >user_score</th>\n",
       "      <td id=\"T_2dfba_row6_col0\" class=\"data row6 col0\" >0.047173</td>\n",
       "      <td id=\"T_2dfba_row6_col1\" class=\"data row6 col1\" >0.124918</td>\n",
       "      <td id=\"T_2dfba_row6_col2\" class=\"data row6 col2\" >0.107880</td>\n",
       "      <td id=\"T_2dfba_row6_col3\" class=\"data row6 col3\" >0.119712</td>\n",
       "      <td id=\"T_2dfba_row6_col4\" class=\"data row6 col4\" >0.100093</td>\n",
       "      <td id=\"T_2dfba_row6_col5\" class=\"data row6 col5\" >0.432183</td>\n",
       "      <td id=\"T_2dfba_row6_col6\" class=\"data row6 col6\" >1.000000</td>\n",
       "      <td id=\"T_2dfba_row6_col7\" class=\"data row6 col7\" >0.130764</td>\n",
       "    </tr>\n",
       "    <tr>\n",
       "      <th id=\"T_2dfba_level0_row7\" class=\"row_heading level0 row7\" >total_sales</th>\n",
       "      <td id=\"T_2dfba_row7_col0\" class=\"data row7 col0\" >0.008817</td>\n",
       "      <td id=\"T_2dfba_row7_col1\" class=\"data row7 col1\" >0.958661</td>\n",
       "      <td id=\"T_2dfba_row7_col2\" class=\"data row7 col2\" >0.938760</td>\n",
       "      <td id=\"T_2dfba_row7_col3\" class=\"data row7 col3\" >0.625217</td>\n",
       "      <td id=\"T_2dfba_row7_col4\" class=\"data row7 col4\" >0.787394</td>\n",
       "      <td id=\"T_2dfba_row7_col5\" class=\"data row7 col5\" >0.224768</td>\n",
       "      <td id=\"T_2dfba_row7_col6\" class=\"data row7 col6\" >0.130764</td>\n",
       "      <td id=\"T_2dfba_row7_col7\" class=\"data row7 col7\" >1.000000</td>\n",
       "    </tr>\n",
       "  </tbody>\n",
       "</table>\n"
      ],
      "text/plain": [
       "<pandas.io.formats.style.Styler at 0x1478bdc0>"
      ]
     },
     "execution_count": 51,
     "metadata": {},
     "output_type": "execute_result"
    }
   ],
   "source": [
    "# посмотрим на корреляционную матрицу\n",
    "df_critic_not_ps3.corr().style.background_gradient('coolwarm')"
   ]
  },
  {
   "cell_type": "markdown",
   "metadata": {},
   "source": [
    "А вот коэффициент корреляции между отзывами критиков и уровнем продаж существенно ниже ( У ps3 - 0.432759, а здесь - 0.224768 ), что сигнализирует о том, что связь между этими двумя пременными более слабая."
   ]
  },
  {
   "cell_type": "markdown",
   "metadata": {},
   "source": [
    "**Влияние на продажи отзывов пользователей у всех остальных платформ, кроме ps3**"
   ]
  },
  {
   "cell_type": "code",
   "execution_count": 52,
   "metadata": {},
   "outputs": [
    {
     "data": {
      "image/png": "[encoded data removed]",
      "text/plain": [
       "<Figure size 1152x576 with 1 Axes>"
      ]
     },
     "metadata": {
      "needs_background": "light"
     },
     "output_type": "display_data"
    }
   ],
   "source": [
    "# Построим диаграмму рассеяния\n",
    "df_user_not_ps3.plot(x='critic_score', y='total_sales', kind='scatter', figsize = (16,8), ec='green', alpha = 0.7)\n",
    "plt.title('Диаграмма рассеяния: взаимосвязь оценки критиков и уровня продаж')\n",
    "plt.xlabel('Оценка критиков ')\n",
    "plt.ylabel('Продажи (Значение в миллионах проданных копий)')\n",
    "plt.show()"
   ]
  },
  {
   "cell_type": "markdown",
   "metadata": {},
   "source": [
    "Существенных различий так же нет, однако здесь есть сосредоточение точек в области нуля, что можно интерпретировать как неплохие продажи игр с нулевым пользовательским рейтингом. Но это опять же исходит от ложных ожиданий пользователей относительно новой игры."
   ]
  },
  {
   "cell_type": "code",
   "execution_count": 53,
   "metadata": {},
   "outputs": [
    {
     "data": {
      "text/html": [
       "<style type=\"text/css\">\n",
       "#T_f8b30_row0_col0, #T_f8b30_row1_col1, #T_f8b30_row2_col2, #T_f8b30_row3_col3, #T_f8b30_row4_col4, #T_f8b30_row5_col5, #T_f8b30_row6_col6, #T_f8b30_row7_col7 {\n",
       "  background-color: #b40426;\n",
       "  color: #f1f1f1;\n",
       "}\n",
       "#T_f8b30_row0_col1, #T_f8b30_row0_col2, #T_f8b30_row0_col3, #T_f8b30_row0_col4, #T_f8b30_row0_col5, #T_f8b30_row0_col6, #T_f8b30_row0_col7, #T_f8b30_row6_col0 {\n",
       "  background-color: #3b4cc0;\n",
       "  color: #f1f1f1;\n",
       "}\n",
       "#T_f8b30_row1_col0 {\n",
       "  background-color: #7699f6;\n",
       "  color: #f1f1f1;\n",
       "}\n",
       "#T_f8b30_row1_col2 {\n",
       "  background-color: #e57058;\n",
       "  color: #f1f1f1;\n",
       "}\n",
       "#T_f8b30_row1_col3 {\n",
       "  background-color: #dcdddd;\n",
       "  color: #000000;\n",
       "}\n",
       "#T_f8b30_row1_col4 {\n",
       "  background-color: #f7a98b;\n",
       "  color: #000000;\n",
       "}\n",
       "#T_f8b30_row1_col5, #T_f8b30_row2_col6, #T_f8b30_row4_col6 {\n",
       "  background-color: #8fb1fe;\n",
       "  color: #000000;\n",
       "}\n",
       "#T_f8b30_row1_col6 {\n",
       "  background-color: #96b7ff;\n",
       "  color: #000000;\n",
       "}\n",
       "#T_f8b30_row1_col7, #T_f8b30_row7_col1 {\n",
       "  background-color: #c32e31;\n",
       "  color: #f1f1f1;\n",
       "}\n",
       "#T_f8b30_row2_col0, #T_f8b30_row3_col5 {\n",
       "  background-color: #84a7fc;\n",
       "  color: #f1f1f1;\n",
       "}\n",
       "#T_f8b30_row2_col1 {\n",
       "  background-color: #e36c55;\n",
       "  color: #f1f1f1;\n",
       "}\n",
       "#T_f8b30_row2_col3 {\n",
       "  background-color: #ebd3c6;\n",
       "  color: #000000;\n",
       "}\n",
       "#T_f8b30_row2_col4, #T_f8b30_row4_col2 {\n",
       "  background-color: #f7b79b;\n",
       "  color: #000000;\n",
       "}\n",
       "#T_f8b30_row2_col5 {\n",
       "  background-color: #89acfd;\n",
       "  color: #000000;\n",
       "}\n",
       "#T_f8b30_row2_col7 {\n",
       "  background-color: #ca3b37;\n",
       "  color: #f1f1f1;\n",
       "}\n",
       "#T_f8b30_row3_col0 {\n",
       "  background-color: #6f92f3;\n",
       "  color: #f1f1f1;\n",
       "}\n",
       "#T_f8b30_row3_col1 {\n",
       "  background-color: #dadce0;\n",
       "  color: #000000;\n",
       "}\n",
       "#T_f8b30_row3_col2 {\n",
       "  background-color: #e3d9d3;\n",
       "  color: #000000;\n",
       "}\n",
       "#T_f8b30_row3_col4 {\n",
       "  background-color: #bcd2f7;\n",
       "  color: #000000;\n",
       "}\n",
       "#T_f8b30_row3_col6 {\n",
       "  background-color: #a2c1ff;\n",
       "  color: #000000;\n",
       "}\n",
       "#T_f8b30_row3_col7 {\n",
       "  background-color: #f5c2aa;\n",
       "  color: #000000;\n",
       "}\n",
       "#T_f8b30_row4_col0 {\n",
       "  background-color: #82a6fb;\n",
       "  color: #f1f1f1;\n",
       "}\n",
       "#T_f8b30_row4_col1 {\n",
       "  background-color: #f6a385;\n",
       "  color: #000000;\n",
       "}\n",
       "#T_f8b30_row4_col3 {\n",
       "  background-color: #cad8ef;\n",
       "  color: #000000;\n",
       "}\n",
       "#T_f8b30_row4_col5 {\n",
       "  background-color: #80a3fa;\n",
       "  color: #f1f1f1;\n",
       "}\n",
       "#T_f8b30_row4_col7 {\n",
       "  background-color: #f08a6c;\n",
       "  color: #f1f1f1;\n",
       "}\n",
       "#T_f8b30_row5_col0, #T_f8b30_row6_col1 {\n",
       "  background-color: #5d7ce6;\n",
       "  color: #f1f1f1;\n",
       "}\n",
       "#T_f8b30_row5_col1 {\n",
       "  background-color: #779af7;\n",
       "  color: #f1f1f1;\n",
       "}\n",
       "#T_f8b30_row5_col2 {\n",
       "  background-color: #6384eb;\n",
       "  color: #f1f1f1;\n",
       "}\n",
       "#T_f8b30_row5_col3, #T_f8b30_row6_col3 {\n",
       "  background-color: #7295f4;\n",
       "  color: #f1f1f1;\n",
       "}\n",
       "#T_f8b30_row5_col4 {\n",
       "  background-color: #5977e3;\n",
       "  color: #f1f1f1;\n",
       "}\n",
       "#T_f8b30_row5_col6 {\n",
       "  background-color: #e7d7ce;\n",
       "  color: #000000;\n",
       "}\n",
       "#T_f8b30_row5_col7 {\n",
       "  background-color: #7396f5;\n",
       "  color: #f1f1f1;\n",
       "}\n",
       "#T_f8b30_row6_col2 {\n",
       "  background-color: #465ecf;\n",
       "  color: #f1f1f1;\n",
       "}\n",
       "#T_f8b30_row6_col4 {\n",
       "  background-color: #485fd1;\n",
       "  color: #f1f1f1;\n",
       "}\n",
       "#T_f8b30_row6_col5 {\n",
       "  background-color: #d8dce2;\n",
       "  color: #000000;\n",
       "}\n",
       "#T_f8b30_row6_col7 {\n",
       "  background-color: #5a78e4;\n",
       "  color: #f1f1f1;\n",
       "}\n",
       "#T_f8b30_row7_col0 {\n",
       "  background-color: #7a9df8;\n",
       "  color: #f1f1f1;\n",
       "}\n",
       "#T_f8b30_row7_col2 {\n",
       "  background-color: #cb3e38;\n",
       "  color: #f1f1f1;\n",
       "}\n",
       "#T_f8b30_row7_col3 {\n",
       "  background-color: #f6bfa6;\n",
       "  color: #000000;\n",
       "}\n",
       "#T_f8b30_row7_col4 {\n",
       "  background-color: #f18d6f;\n",
       "  color: #f1f1f1;\n",
       "}\n",
       "#T_f8b30_row7_col5 {\n",
       "  background-color: #90b2fe;\n",
       "  color: #000000;\n",
       "}\n",
       "#T_f8b30_row7_col6 {\n",
       "  background-color: #97b8ff;\n",
       "  color: #000000;\n",
       "}\n",
       "</style>\n",
       "<table id=\"T_f8b30_\">\n",
       "  <thead>\n",
       "    <tr>\n",
       "      <th class=\"blank level0\" >&nbsp;</th>\n",
       "      <th class=\"col_heading level0 col0\" >year_of_release</th>\n",
       "      <th class=\"col_heading level0 col1\" >na_sales</th>\n",
       "      <th class=\"col_heading level0 col2\" >eu_sales</th>\n",
       "      <th class=\"col_heading level0 col3\" >jp_sales</th>\n",
       "      <th class=\"col_heading level0 col4\" >other_sales</th>\n",
       "      <th class=\"col_heading level0 col5\" >critic_score</th>\n",
       "      <th class=\"col_heading level0 col6\" >user_score</th>\n",
       "      <th class=\"col_heading level0 col7\" >total_sales</th>\n",
       "    </tr>\n",
       "  </thead>\n",
       "  <tbody>\n",
       "    <tr>\n",
       "      <th id=\"T_f8b30_level0_row0\" class=\"row_heading level0 row0\" >year_of_release</th>\n",
       "      <td id=\"T_f8b30_row0_col0\" class=\"data row0 col0\" >1.000000</td>\n",
       "      <td id=\"T_f8b30_row0_col1\" class=\"data row0 col1\" >-0.032173</td>\n",
       "      <td id=\"T_f8b30_row0_col2\" class=\"data row0 col2\" >0.017456</td>\n",
       "      <td id=\"T_f8b30_row0_col3\" class=\"data row0 col3\" >-0.054389</td>\n",
       "      <td id=\"T_f8b30_row0_col4\" class=\"data row0 col4\" >0.015824</td>\n",
       "      <td id=\"T_f8b30_row0_col5\" class=\"data row0 col5\" >-0.125570</td>\n",
       "      <td id=\"T_f8b30_row0_col6\" class=\"data row0 col6\" >-0.265291</td>\n",
       "      <td id=\"T_f8b30_row0_col7\" class=\"data row0 col7\" >-0.016155</td>\n",
       "    </tr>\n",
       "    <tr>\n",
       "      <th id=\"T_f8b30_level0_row1\" class=\"row_heading level0 row1\" >na_sales</th>\n",
       "      <td id=\"T_f8b30_row1_col0\" class=\"data row1 col0\" >-0.032173</td>\n",
       "      <td id=\"T_f8b30_row1_col1\" class=\"data row1 col1\" >1.000000</td>\n",
       "      <td id=\"T_f8b30_row1_col2\" class=\"data row1 col2\" >0.846299</td>\n",
       "      <td id=\"T_f8b30_row1_col3\" class=\"data row1 col3\" >0.472097</td>\n",
       "      <td id=\"T_f8b30_row1_col4\" class=\"data row1 col4\" >0.714990</td>\n",
       "      <td id=\"T_f8b30_row1_col5\" class=\"data row1 col5\" >0.161834</td>\n",
       "      <td id=\"T_f8b30_row1_col6\" class=\"data row1 col6\" >0.083696</td>\n",
       "      <td id=\"T_f8b30_row1_col7\" class=\"data row1 col7\" >0.957739</td>\n",
       "    </tr>\n",
       "    <tr>\n",
       "      <th id=\"T_f8b30_level0_row2\" class=\"row_heading level0 row2\" >eu_sales</th>\n",
       "      <td id=\"T_f8b30_row2_col0\" class=\"data row2 col0\" >0.017456</td>\n",
       "      <td id=\"T_f8b30_row2_col1\" class=\"data row2 col1\" >0.846299</td>\n",
       "      <td id=\"T_f8b30_row2_col2\" class=\"data row2 col2\" >1.000000</td>\n",
       "      <td id=\"T_f8b30_row2_col3\" class=\"data row2 col3\" >0.534637</td>\n",
       "      <td id=\"T_f8b30_row2_col4\" class=\"data row2 col4\" >0.675307</td>\n",
       "      <td id=\"T_f8b30_row2_col5\" class=\"data row2 col5\" >0.144732</td>\n",
       "      <td id=\"T_f8b30_row2_col6\" class=\"data row2 col6\" >0.058331</td>\n",
       "      <td id=\"T_f8b30_row2_col7\" class=\"data row2 col7\" >0.937658</td>\n",
       "    </tr>\n",
       "    <tr>\n",
       "      <th id=\"T_f8b30_level0_row3\" class=\"row_heading level0 row3\" >jp_sales</th>\n",
       "      <td id=\"T_f8b30_row3_col0\" class=\"data row3 col0\" >-0.054389</td>\n",
       "      <td id=\"T_f8b30_row3_col1\" class=\"data row3 col1\" >0.472097</td>\n",
       "      <td id=\"T_f8b30_row3_col2\" class=\"data row3 col2\" >0.534637</td>\n",
       "      <td id=\"T_f8b30_row3_col3\" class=\"data row3 col3\" >1.000000</td>\n",
       "      <td id=\"T_f8b30_row3_col4\" class=\"data row3 col4\" >0.399357</td>\n",
       "      <td id=\"T_f8b30_row3_col5\" class=\"data row3 col5\" >0.126903</td>\n",
       "      <td id=\"T_f8b30_row3_col6\" class=\"data row3 col6\" >0.126893</td>\n",
       "      <td id=\"T_f8b30_row3_col7\" class=\"data row3 col7\" >0.623665</td>\n",
       "    </tr>\n",
       "    <tr>\n",
       "      <th id=\"T_f8b30_level0_row4\" class=\"row_heading level0 row4\" >other_sales</th>\n",
       "      <td id=\"T_f8b30_row4_col0\" class=\"data row4 col0\" >0.015824</td>\n",
       "      <td id=\"T_f8b30_row4_col1\" class=\"data row4 col1\" >0.714990</td>\n",
       "      <td id=\"T_f8b30_row4_col2\" class=\"data row4 col2\" >0.675307</td>\n",
       "      <td id=\"T_f8b30_row4_col3\" class=\"data row4 col3\" >0.399357</td>\n",
       "      <td id=\"T_f8b30_row4_col4\" class=\"data row4 col4\" >1.000000</td>\n",
       "      <td id=\"T_f8b30_row4_col5\" class=\"data row4 col5\" >0.114106</td>\n",
       "      <td id=\"T_f8b30_row4_col6\" class=\"data row4 col6\" >0.059762</td>\n",
       "      <td id=\"T_f8b30_row4_col7\" class=\"data row4 col7\" >0.783885</td>\n",
       "    </tr>\n",
       "    <tr>\n",
       "      <th id=\"T_f8b30_level0_row5\" class=\"row_heading level0 row5\" >critic_score</th>\n",
       "      <td id=\"T_f8b30_row5_col0\" class=\"data row5 col0\" >-0.125570</td>\n",
       "      <td id=\"T_f8b30_row5_col1\" class=\"data row5 col1\" >0.161834</td>\n",
       "      <td id=\"T_f8b30_row5_col2\" class=\"data row5 col2\" >0.144732</td>\n",
       "      <td id=\"T_f8b30_row5_col3\" class=\"data row5 col3\" >0.126903</td>\n",
       "      <td id=\"T_f8b30_row5_col4\" class=\"data row5 col4\" >0.114106</td>\n",
       "      <td id=\"T_f8b30_row5_col5\" class=\"data row5 col5\" >1.000000</td>\n",
       "      <td id=\"T_f8b30_row5_col6\" class=\"data row5 col6\" >0.417954</td>\n",
       "      <td id=\"T_f8b30_row5_col7\" class=\"data row5 col7\" >0.165039</td>\n",
       "    </tr>\n",
       "    <tr>\n",
       "      <th id=\"T_f8b30_level0_row6\" class=\"row_heading level0 row6\" >user_score</th>\n",
       "      <td id=\"T_f8b30_row6_col0\" class=\"data row6 col0\" >-0.265291</td>\n",
       "      <td id=\"T_f8b30_row6_col1\" class=\"data row6 col1\" >0.083696</td>\n",
       "      <td id=\"T_f8b30_row6_col2\" class=\"data row6 col2\" >0.058331</td>\n",
       "      <td id=\"T_f8b30_row6_col3\" class=\"data row6 col3\" >0.126893</td>\n",
       "      <td id=\"T_f8b30_row6_col4\" class=\"data row6 col4\" >0.059762</td>\n",
       "      <td id=\"T_f8b30_row6_col5\" class=\"data row6 col5\" >0.417954</td>\n",
       "      <td id=\"T_f8b30_row6_col6\" class=\"data row6 col6\" >1.000000</td>\n",
       "      <td id=\"T_f8b30_row6_col7\" class=\"data row6 col7\" >0.088998</td>\n",
       "    </tr>\n",
       "    <tr>\n",
       "      <th id=\"T_f8b30_level0_row7\" class=\"row_heading level0 row7\" >total_sales</th>\n",
       "      <td id=\"T_f8b30_row7_col0\" class=\"data row7 col0\" >-0.016155</td>\n",
       "      <td id=\"T_f8b30_row7_col1\" class=\"data row7 col1\" >0.957739</td>\n",
       "      <td id=\"T_f8b30_row7_col2\" class=\"data row7 col2\" >0.937658</td>\n",
       "      <td id=\"T_f8b30_row7_col3\" class=\"data row7 col3\" >0.623665</td>\n",
       "      <td id=\"T_f8b30_row7_col4\" class=\"data row7 col4\" >0.783885</td>\n",
       "      <td id=\"T_f8b30_row7_col5\" class=\"data row7 col5\" >0.165039</td>\n",
       "      <td id=\"T_f8b30_row7_col6\" class=\"data row7 col6\" >0.088998</td>\n",
       "      <td id=\"T_f8b30_row7_col7\" class=\"data row7 col7\" >1.000000</td>\n",
       "    </tr>\n",
       "  </tbody>\n",
       "</table>\n"
      ],
      "text/plain": [
       "<pandas.io.formats.style.Styler at 0x1476cfe8>"
      ]
     },
     "execution_count": 53,
     "metadata": {},
     "output_type": "execute_result"
    }
   ],
   "source": [
    "# посмотрим на корреляционную матрицу\n",
    "df_user_not_ps3.corr().style.background_gradient('coolwarm')"
   ]
  },
  {
   "cell_type": "markdown",
   "metadata": {},
   "source": [
    "Вывод аналогичен, у всех остальных платформ (в совокупности) более слабая связь между отзывами пользователей и уровнем продаж. Таким образом, мы сравнили выводы от продаж игр на платформе PS3 с продажами игр на других платформах, и можем переходить к следующему пункту исследования:"
   ]
  },
  {
   "cell_type": "markdown",
   "metadata": {},
   "source": [
    "#### Распределение игр по жанрам"
   ]
  },
  {
   "cell_type": "markdown",
   "metadata": {},
   "source": [
    "Посмотрим на общее распределение игр по жанрам и ответим на два вопроса:\n",
    "- Что можно сказать о самых прибыльных жанрах?\n",
    "\n",
    "- Выделяются ли жанры с высокими и низкими продажами?"
   ]
  },
  {
   "cell_type": "code",
   "execution_count": 54,
   "metadata": {},
   "outputs": [
    {
     "data": {
      "image/png": "[encoded data removed]",
      "text/plain": [
       "<Figure size 1080x360 with 1 Axes>"
      ]
     },
     "metadata": {
      "needs_background": "light"
     },
     "output_type": "display_data"
    }
   ],
   "source": [
    "# построим столбчатые диаграммы количества игр и  величины суммарных продаж у каждого жанра\n",
    "ax = plt.gca()\n",
    "games_by_genre = df.groupby('genre').agg({'name': 'count', 'total_sales': 'sum'}).sort_values(by='name', ascending=False)\n",
    "\n",
    "first = games_by_genre ['name']\n",
    "first.plot(kind='bar', figsize=(15,5), ec='black', ax=ax, width=0.2, position=1, color ='yellow')\n",
    "\n",
    "second = games_by_genre['total_sales']\n",
    "second.plot(kind='bar', figsize=(15,5), ec='black', ax=ax, width=0.2, position=0)\n",
    "\n",
    "ax.legend(['Количество продаж', 'Величина суммарных продаж'])\n",
    "plt.title('Столбчатые диаграммы количества игр и  величины суммарных продаж у каждого жанра')\n",
    "plt.xlabel('Жанр ')\n",
    "plt.ylabel('Значение')\n",
    "plt.show()"
   ]
  },
  {
   "cell_type": "markdown",
   "metadata": {},
   "source": [
    "Больше всего игр жанра \"Action\". За ними идут игры  жанра \"sports\". Причем, несмотря на то, что игр жанра \"sport\" заметно меньше на рынке (примерно на четверть от \"action\"), выручка величина продаж (в миллионах копий) у них почти сопоставима. \n",
    "\n",
    "Меньше все продается игр жанра \"puzzle\", однако объем продаж у них почти такой же как у жанра \"adventure\"."
   ]
  },
  {
   "cell_type": "markdown",
   "metadata": {},
   "source": [
    "### Портрет пользователя каждого региона"
   ]
  },
  {
   "cell_type": "markdown",
   "metadata": {},
   "source": [
    "Нужно определить для пользователя каждого региона (NA, EU, JP):\n",
    "\n",
    "- Самые популярные платформы (топ-5) (Опишите различия в долях продаж)\n",
    "\n",
    "- Самые популярные жанры (топ-5) (Пояснить разницу)\n",
    "\n",
    "- Влияет ли рейтинг ESRB на продажи в отдельном регионе?"
   ]
  },
  {
   "cell_type": "markdown",
   "metadata": {},
   "source": [
    "#### Топ-5 популярных платформ в каждом регионе"
   ]
  },
  {
   "cell_type": "code",
   "execution_count": 55,
   "metadata": {},
   "outputs": [
    {
     "data": {
      "image/png": "[encoded data removed]",
      "text/plain": [
       "<Figure size 432x288 with 1 Axes>"
      ]
     },
     "metadata": {
      "needs_background": "light"
     },
     "output_type": "display_data"
    },
    {
     "data": {
      "image/png": "[encoded data removed]",
      "text/plain": [
       "<Figure size 432x288 with 1 Axes>"
      ]
     },
     "metadata": {
      "needs_background": "light"
     },
     "output_type": "display_data"
    },
    {
     "data": {
      "image/png": "[encoded data removed]",
      "text/plain": [
       "<Figure size 432x288 with 1 Axes>"
      ]
     },
     "metadata": {
      "needs_background": "light"
     },
     "output_type": "display_data"
    }
   ],
   "source": [
    "# Построим столбчатые диаграммы продаж в каждом регионе в разбивке по платформам\n",
    "\n",
    "df.groupby(by='platform').agg({'na_sales':'sum'}).sort_values(by='na_sales', ascending=False).head(5).plot(kind='bar',title ='Продажи в Северной Америке')\n",
    "plt.xlabel('Платформа')\n",
    "plt.ylabel('Величина продаж в миллионах копий')\n",
    "plt.show()\n",
    "\n",
    "\n",
    "\n",
    "df.groupby(by='platform').agg({'eu_sales':'sum'}).sort_values(by='eu_sales', ascending=False).head(5).plot(kind='bar', title='Продажи в Европе', color = 'green')\n",
    "plt.xlabel('Платформа ')\n",
    "plt.ylabel('Величина продаж в миллионах копий')\n",
    "plt.show()\n",
    "\n",
    "\n",
    "df.groupby(by='platform').agg({'jp_sales':'sum'}).sort_values(by='jp_sales', ascending=False).head(5).plot(kind='bar', title = 'Продажи в Японии', color ='black')\n",
    "plt.xlabel('Платформа ')\n",
    "plt.ylabel('Величина продаж в миллионах копий')\n",
    "plt.show()"
   ]
  },
  {
   "cell_type": "markdown",
   "metadata": {},
   "source": [
    "Исходя из графиков, мы можем сделать вывод о том, какие плаформы были популярны в данных регионах, и есть ли какая-то специфика.\n",
    "\n",
    "**Северная Америка:**\n",
    "\n",
    "В Северной Америке пользуются колоссальным успехом платформы X360 и PS2, чуть меньше жалуют Wii, а наименьшее предпочтение отдают DS, соответственно.\n",
    "\n",
    "**Европа:**\n",
    "\n",
    "В Европе одинаково популярны PS2 и PS3. За ними следуют X360, Wii и PS, соответственно.\n",
    "\n",
    "**Япония:**\n",
    "\n",
    "В Японии предпочтения сильно разнятся с Европой и Северной Америкой. Лидирующую позицию занимает DS, затем бок о бок идут PS и PS2, а далее платформы SNES и 3DS, которые вообще не входят в топ-5 в Европе и Северной Америке.\n",
    "\n",
    "    "
   ]
  },
  {
   "cell_type": "markdown",
   "metadata": {},
   "source": [
    "#### Топ-5 популярных жанров в каждом регионе"
   ]
  },
  {
   "cell_type": "code",
   "execution_count": 56,
   "metadata": {},
   "outputs": [
    {
     "data": {
      "image/png": "[encoded data removed]",
      "text/plain": [
       "<Figure size 432x288 with 1 Axes>"
      ]
     },
     "metadata": {
      "needs_background": "light"
     },
     "output_type": "display_data"
    },
    {
     "data": {
      "image/png": "[encoded data removed]",
      "text/plain": [
       "<Figure size 432x288 with 1 Axes>"
      ]
     },
     "metadata": {
      "needs_background": "light"
     },
     "output_type": "display_data"
    },
    {
     "data": {
      "image/png": "[encoded data removed]",
      "text/plain": [
       "<Figure size 432x288 with 1 Axes>"
      ]
     },
     "metadata": {
      "needs_background": "light"
     },
     "output_type": "display_data"
    }
   ],
   "source": [
    "# Построим столбчатые диаграммы продаж в каждом регионе в разбивке по жанрам\n",
    "\n",
    "df.groupby(by='genre').agg({'na_sales':'sum'}).sort_values(by='na_sales', ascending=False).head(5).plot(kind='bar',title ='Продажи в Северной Америке')\n",
    "plt.xlabel('Жанр')\n",
    "plt.ylabel('Величина продаж в миллионах копий')\n",
    "plt.show()\n",
    "\n",
    "\n",
    "\n",
    "df.groupby(by='genre').agg({'eu_sales':'sum'}).sort_values(by='eu_sales', ascending=False).head(5).plot(kind='bar', title='Продажи в Европе', color = 'green')\n",
    "plt.xlabel('Жанр')\n",
    "plt.ylabel('Величина продаж в миллионах копий')\n",
    "plt.show()\n",
    "\n",
    "\n",
    "df.groupby(by='genre').agg({'jp_sales':'sum'}).sort_values(by='jp_sales', ascending=False).head(5).plot(kind='bar', title = 'Продажи в Японии', color ='black')\n",
    "plt.xlabel('Жанр')\n",
    "plt.ylabel('Величина продаж в миллионах копий')\n",
    "plt.show()"
   ]
  },
  {
   "cell_type": "markdown",
   "metadata": {},
   "source": [
    "Исходя из графиков, мы можем сделать вывод о том, какие жанры были популярны в данных регионах, и есть ли какая-то специфика.\n",
    "\n",
    "Вкусовые предпочтения пользователей **Северной Америки** и **Европы** схожи - топ-3 игровных жанров занимают \"action\", \"sports\" и \"shooter\", соответственно. В **Северной Америке** больше жалуют \"platform\", а в Европе - гонки.\n",
    "\n",
    "**Япония**, опять же идет вразрез с этими тенденциями - наиболее популярным жанром являются ролевые игры и только потом \"action\" и \"sports\".\n"
   ]
  },
  {
   "cell_type": "markdown",
   "metadata": {},
   "source": [
    "#### Влияние рейтинга ESRB на продажи в отдельном регионе"
   ]
  },
  {
   "cell_type": "markdown",
   "metadata": {},
   "source": [
    "Вспомним расшифровку аббревиатур:\n",
    "\n",
    "- «EC» («Early childhood») — «Для детей младшего возраста»\n",
    "\n",
    "- «E» («Everyone») — «Для всех»\n",
    "\n",
    "- «E10+» («Everyone 10 and older») — «Для всех от 10 лет и старше»\n",
    "\n",
    "- «T» («Teen») — «Подросткам»\n",
    "\n",
    "- «M» («Mature») — «Для взрослых»\n",
    "\n",
    "- «AO» («Adults Only 18+») — «Только для взрослых»\n",
    "\n",
    "- «RP» («Rating Pending») — «Рейтинг ожидается»\n",
    "\n",
    "** \"K-A\" (\"Kids to Adults\") - устаревшее название, которое нужно внести в категорию «E» («Everyone»)"
   ]
  },
  {
   "cell_type": "code",
   "execution_count": 57,
   "metadata": {},
   "outputs": [
    {
     "data": {
      "image/png": "[encoded data removed]",
      "text/plain": [
       "<Figure size 432x288 with 1 Axes>"
      ]
     },
     "metadata": {
      "needs_background": "light"
     },
     "output_type": "display_data"
    },
    {
     "data": {
      "image/png": "[encoded data removed]",
      "text/plain": [
       "<Figure size 432x288 with 1 Axes>"
      ]
     },
     "metadata": {
      "needs_background": "light"
     },
     "output_type": "display_data"
    },
    {
     "data": {
      "image/png": "[encoded data removed]",
      "text/plain": [
       "<Figure size 432x288 with 1 Axes>"
      ]
     },
     "metadata": {
      "needs_background": "light"
     },
     "output_type": "display_data"
    }
   ],
   "source": [
    "# Построим столбчатые диаграммы продаж в каждом регионе в разбивке по рейтингу ESRB\n",
    "\n",
    "df.groupby(by='rating').agg({'na_sales':'sum'}).sort_values(by='na_sales', ascending=False).head(5).plot(kind='bar',title ='Продажи в Северной Америке')\n",
    "plt.xlabel('Рейтинг ESRB')\n",
    "plt.ylabel('Величина продаж в миллионах копий')\n",
    "plt.show()\n",
    "\n",
    "\n",
    "\n",
    "df.groupby(by='rating').agg({'eu_sales':'sum'}).sort_values(by='eu_sales', ascending=False).head(5).plot(kind='bar', title='Продажи в Европе', color = 'green')\n",
    "plt.xlabel('Рейтинг ESRB')\n",
    "plt.ylabel('Величина продаж в миллионах копий')\n",
    "plt.show()\n",
    "\n",
    "\n",
    "df.groupby(by='rating').agg({'jp_sales':'sum'}).sort_values(by='jp_sales', ascending=False).head(5).plot(kind='bar', title = 'Продажи в Японии', color ='black')\n",
    "plt.xlabel('Рейтинг ESRB')\n",
    "plt.ylabel('Величина продаж в миллионах копий')\n",
    "plt.show()"
   ]
  },
  {
   "cell_type": "markdown",
   "metadata": {},
   "source": [
    "Напомним, что  для пропущенных значений мы решили создать отдельную категорию \"out of esrb\".\n",
    "\n",
    "В **Северной Америке** и в **Европе**, опять же, существенных различий нет. Большая часть продаж приходится на игры с рейтингом \"Для всех\". В **Северной Америке** одинаково пользуются игры категорий «Подросткам» и «Для взрослых»а в Европе из этих двух категорий наиболее популярна  «Для взрослых».\n",
    "\n",
    "В **Японии** рейтинг наибольших продаж, к сожалению, не известен, но, в целом, тенденции сохраняются.\n"
   ]
  },
  {
   "cell_type": "markdown",
   "metadata": {},
   "source": [
    "### Проверка гипотез"
   ]
  },
  {
   "cell_type": "markdown",
   "metadata": {},
   "source": [
    "Необходимо принять или опровергнуть гипотезы:\n",
    "\n",
    "- Средние пользовательские рейтинги платформ Xbox One и PC одинаковые;\n",
    "\n",
    "- Средние пользовательские рейтинги жанров Action (англ. «действие», экшен-игры) и Sports (англ. «спортивные соревнования») разные."
   ]
  },
  {
   "cell_type": "markdown",
   "metadata": {},
   "source": [
    "Можем приступать к проверки гопотез. Поскольку сравниваемые выборки независимы между собой - будем использовать t-критерий Стьюдента. Воспользуемся функцией ttest_ind из модуля scipy.stats."
   ]
  },
  {
   "cell_type": "markdown",
   "metadata": {},
   "source": [
    "#### Гипотеза № 1"
   ]
  },
  {
   "cell_type": "markdown",
   "metadata": {},
   "source": [
    "Были сформулированы следующие гипотезы:\n",
    "\n",
    "**H0:** Средние пользовательские рейтинги платформ Xbox One и PC **одинаковые**\n",
    "\n",
    "**H1:** Средние пользовательские рейтинги платформ Xbox One и PC **разные**"
   ]
  },
  {
   "cell_type": "code",
   "execution_count": 58,
   "metadata": {},
   "outputs": [
    {
     "data": {
      "text/plain": [
       "array(['wii', 'nes', 'gb', 'ds', 'x360', 'ps3', 'ps2', 'snes', 'gba',\n",
       "       'ps4', '3ds', 'n64', 'ps', 'xb', 'pc', '2600', 'psp', 'xone',\n",
       "       'wiiu', 'gc', 'gen', 'dc', 'psv', 'sat', 'scd', 'ws', 'ng', 'tg16',\n",
       "       '3do', 'gg', 'pcfx'], dtype=object)"
      ]
     },
     "execution_count": 58,
     "metadata": {},
     "output_type": "execute_result"
    }
   ],
   "source": [
    "df['platform'].unique()"
   ]
  },
  {
   "cell_type": "code",
   "execution_count": 59,
   "metadata": {},
   "outputs": [
    {
     "name": "stdout",
     "output_type": "stream",
     "text": [
      "p-значение: 1.3037979620149106e-05\n",
      "Отвергаем нулевую гипотезу\n"
     ]
    }
   ],
   "source": [
    "# Задаем пороговое значение\n",
    "alpha = 0.05\n",
    "\n",
    "# Cоздаем подвыборки с интересующими на платформами и ненулевым пользовательским рейтингом, выбираем интересующий столбец\n",
    "platform_xone = df[(df['platform'] == 'xone') & (df['user_score'] > 0)]['user_score']\n",
    "platform_pc = df[(df['platform'] == 'pc') & (df['user_score'] > 0)]['user_score']\n",
    "\n",
    "results = st.ttest_ind(platform_xone, platform_pc)\n",
    "\n",
    "print('p-значение:', results.pvalue)\n",
    "\n",
    "if (results.pvalue < alpha):\n",
    "    print(\"Отвергаем нулевую гипотезу\")\n",
    "else:\n",
    "    print(\"Не получилось отвергнуть нулевую гипотезу\")"
   ]
  },
  {
   "cell_type": "markdown",
   "metadata": {},
   "source": [
    "**Вывод:** Есть значимые различия между выборками.Средние пользовательские рейтинги платформ Xbox One и PC отличаются между собой."
   ]
  },
  {
   "cell_type": "markdown",
   "metadata": {},
   "source": [
    "### Гипотеза № 2"
   ]
  },
  {
   "cell_type": "markdown",
   "metadata": {},
   "source": [
    "Были сформулированы следующие гипотезы:\n",
    "\n",
    "**H0:** Средние пользовательские рейтинги жанров action и sports **одинаковые**\n",
    "\n",
    "**H1:** Средние пользовательские рейтинги жанров action и sports **разные**"
   ]
  },
  {
   "cell_type": "code",
   "execution_count": 60,
   "metadata": {},
   "outputs": [
    {
     "name": "stdout",
     "output_type": "stream",
     "text": [
      "p-значение: 0.06480928064420527\n",
      "Не получилось отвергнуть нулевую гипотезу\n"
     ]
    }
   ],
   "source": [
    "# Задаем пороговое значение\n",
    "alpha = 0.05\n",
    "\n",
    "# Cоздаем подвыборки с интересующими нас жанрами и ненулевым пользовательским рейтингом, выбираем интересующий столбец\n",
    "genre_action = df[(df['genre'] == 'action') & (df['user_score'] > 0)]['user_score']\n",
    "genre_sports = df[(df['genre'] == 'sports') & (df['user_score'] > 0)]['user_score']\n",
    "\n",
    "results = st.ttest_ind(genre_action, genre_sports)\n",
    "\n",
    "print('p-значение:', results.pvalue)\n",
    "\n",
    "if (results.pvalue < alpha):\n",
    "    print(\"Отвергаем нулевую гипотезу\")\n",
    "else:\n",
    "    print(\"Не получилось отвергнуть нулевую гипотезу\")"
   ]
  },
  {
   "cell_type": "markdown",
   "metadata": {},
   "source": [
    "Поскольку нулевую гипотезу отвергнуть не получилось, то можно сказать, что средние пользовательские рейтинги жанров Action и Sports одинаковые."
   ]
  },
  {
   "cell_type": "markdown",
   "metadata": {},
   "source": [
    "### Общий вывод:"
   ]
  },
  {
   "cell_type": "markdown",
   "metadata": {},
   "source": [
    "- Мы имеем дело с данными от 1980 года. Действительно, 1980 год стал отправной точкой для по-настоящему доступных домашних компьютеров. Количество выпущенных игр достигло апогея в 2008-2009 годах, однако затем следует спад, который, вероятно, связан с развитием мобильных устройств и социальных сетей.\n",
    "\n",
    "- Лидером по суммарным продажам является платформа PS2, что ожидаемо, поскольку она наиболее общеизвестна. Далее идут Xbox360, PS3, Wii, DS и PS. Можно сказать, что эти платформы составляют топ-6 наиболее популярных платформ.\n",
    "\n",
    "- В среднем, срок жизни игровой платформы составляет около 10 лет.\n",
    "\n",
    "- На конец 2016 можно выделить топ-3 платформ, лидирующих по продажам:\n",
    "\n",
    "1) PS4\n",
    "\n",
    "2) Xone\n",
    "\n",
    "3) 3DS.\n",
    "\n",
    "Стоит отметить, что количество продаж игр, выпущенных на каждую из этих платформ, снижается. Таким образом, можно сделать вывод, что весь рынок игр находится в состоянии рецессии.\n",
    "\n",
    "- Существенное влияние на величину оказывают, в большинстве своем, оценки критиков. Пользовательский рейтинг имеет меньшую степень влияния, поскольку часто возникает ситуация, когда рейтинг пользователей крайне мал, а продажи при этом колоссальные. Это обусловлено завышенными ожиданиями относительно той или иной игры, которая по итогу выходит не совсем удачной.\n",
    "\n",
    "- Наиболее прибыльными игровыми жанрами являются \"action\" и \"sports\"\n",
    "\n",
    "**Предпочтения регионов по платформам:**\n",
    "\n",
    "- В Северной Америке пользуются колоссальным успехом платформы X360 и PS2, чуть меньше жалуют Wii, а наименьшее предпочтение отдают DS, соответственно.\n",
    "\n",
    "- В Европе одинаково популярны PS2 и PS3. За ними следуют X360, Wii и PS, соответственно.\n",
    "\n",
    "- В Японии предпочтения сильно разнятся с Европой и Северной Америкой. Лидирующую позицию занимает DS, затем бок о бок идут PS и PS2, а далее платформы SNES и 3DS, которые вообще не входят в топ-5 в Европе и Северной Америке.\n",
    "\n",
    "**Предпочтения регионов по жанрам:**\n",
    "\n",
    "- Вкусовые предпочтения пользователей Северной Америки и Европы схожи - топ-3 игровных жанров занимают \"action\", \"sports\" и \"shooter\", соответственно. В Северной Америке больше жалуют \"platform\", а в Европе - гонки.\n",
    "\n",
    " Япония, опять же идет вразрез с этими тенденциями - наиболее популярным жанром являются ролевые игры и только потом \"action\" и \"sports\".\n",
    "\n",
    "- Средние пользовательские рейтинги платформ Xbox One и PC отличаются между собой.\n",
    "\n",
    "- Средние пользовательские рейтинги жанров Action и Sports не имеют значимых различий."
   ]
  }
 ],
 "metadata": {
  "kernelspec": {
   "display_name": "Python 3",
   "language": "python",
   "name": "python3"
  },
  "language_info": {
   "codemirror_mode": {
    "name": "ipython",
    "version": 3
   },
   "file_extension": ".py",
   "mimetype": "text/x-python",
   "name": "python",
   "nbconvert_exporter": "python",
   "pygments_lexer": "ipython3",
   "version": "3.8.2"
  },
  "toc": {
   "base_numbering": 1,
   "nav_menu": {},
   "number_sections": true,
   "sideBar": true,
   "skip_h1_title": true,
   "title_cell": "Table of Contents",
   "title_sidebar": "Contents",
   "toc_cell": false,
   "toc_position": {
    "height": "calc(100% - 180px)",
    "left": "10px",
    "top": "150px",
    "width": "266.956px"
   },
   "toc_section_display": true,
   "toc_window_display": true
  }
 },
 "nbformat": 4,
 "nbformat_minor": 2
}
