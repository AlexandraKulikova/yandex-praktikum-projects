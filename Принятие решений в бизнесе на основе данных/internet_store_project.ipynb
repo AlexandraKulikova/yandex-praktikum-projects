{
 "cells": [
  {
   "cell_type": "markdown",
   "metadata": {},
   "source": [
    "## Принятие решений в бизнесе на основе данных"
   ]
  },
  {
   "cell_type": "markdown",
   "metadata": {},
   "source": [
    "Вместе с отделом маркетинга крупного интернет-магазина мы подготовили список гипотез для увеличения выручки.\n",
    "Нам необходимо приоритизировать гипотезы, запустить A/B-тест и проанализировать разультаты."
   ]
  },
  {
   "cell_type": "markdown",
   "metadata": {},
   "source": [
    "**Часть 1. Приоритизация гипотез.**\n",
    "\n",
    "В файле /datasets/hypothesis.csv 9 гипотез по увеличению выручки интернет-магазина с указанными параметрами Reach, Impact, Confidence, Effort.\n",
    "\n",
    "**Задача:**\n",
    "\n",
    "- Применить фреймворк ICE для приоритизации гипотез. Отсортировать их по убыванию приоритета.\n",
    "\n",
    "\n",
    "- Применить фреймворк RICE для приоритизации гипотез. Отсортировать их по убыванию приоритета.\n",
    "\n",
    "\n",
    "- Указать, как изменилась приоритизация гипотез при применении RICE вместо ICE. Объяснить, почему так произошло.\n",
    "\n",
    "\n",
    "**Часть 2. Анализ A/B-теста**\n",
    "\n",
    "Мы провели A/B-тест и получили результаты, которые описаны в файлах /datasets/orders.csv и /datasets/visitors.csv.\n",
    "\n",
    "**Задача:**\n",
    "\n",
    "- Проанализировать A/B-тест:\n",
    "\n",
    "\n",
    "- Построить график кумулятивной выручки по группам. Сделать выводы и предположения.\n",
    "\n",
    "\n",
    "- Построить график кумулятивного среднего чека по группам. Сделать выводы и предположения.\n",
    "\n",
    "\n",
    "- Построить график относительного изменения кумулятивного среднего чека группы B к группе A. Сделать выводы и предположения.\n",
    "\n",
    "\n",
    "- Построить график кумулятивной конверсии по группам. Сделать выводы и предположения.\n",
    "\n",
    "\n",
    "- Построить график относительного изменения кумулятивной конверсии группы B к группе A. Сделать выводы и предположения.\n",
    "\n",
    "\n",
    "- Построить точечный график количества заказов по пользователям. Сделать выводы и предположения.\n",
    "\n",
    "\n",
    "- Посчитать 95-й и 99-й перцентили количества заказов на пользователя. Выбрать границу для определения аномальных пользователей.\n",
    "\n",
    "\n",
    "- Построить точечный график стоимостей заказов. Сделать выводы и предположения.\n",
    "\n",
    "\n",
    "- Посчитать 95-й и 99-й перцентили стоимости заказов. Выбрать границу для определения аномальных заказов.\n",
    "\n",
    "\n",
    "- Посчитать статистическую значимость различий в конверсии между группами по «сырым» данным. Сделать выводы и предположения.\n",
    "\n",
    "\n",
    "- Посчитать статистическую значимость различий в среднем чеке заказа между группами по «сырым» данным. Сделать выводы и предположения.\n",
    "\n",
    "\n",
    "- Посчитать статистическую значимость различий в конверсии между группами по «очищенным» данным. Сделать выводы и предположения.\n",
    "\n",
    "\n",
    "- Посчитать статистическую значимость различий в среднем чеке заказа между группами по «очищенным» данным. Сделать выводы и предположения.\n",
    "\n",
    "\n",
    "- Принять решение по результатам теста и объяснить его. \n",
    "\n",
    "\n",
    "**Варианты решений:** \n",
    "\n",
    "\n",
    "1. Остановить тест, зафиксировать победу одной из групп. \n",
    "\n",
    "\n",
    "2. Остановить тест, зафиксировать отсутствие различий между группами.\n",
    "\n",
    "\n",
    "3. Продолжить тест."
   ]
  },
  {
   "cell_type": "markdown",
   "metadata": {},
   "source": [
    "## Часть №1. Приоритизация гипотез"
   ]
  },
  {
   "cell_type": "markdown",
   "metadata": {},
   "source": [
    "###  Изучение общей информации о данных для части 1 (Приоритизация гипотез) и предобработка данных"
   ]
  },
  {
   "cell_type": "code",
   "execution_count": 1,
   "metadata": {},
   "outputs": [],
   "source": [
    "# Импортируем библиотеки\n",
    "import numpy as np\n",
    "import pandas as pd\n",
    "import seaborn as sns\n",
    "import matplotlib.pyplot as plt\n",
    "import scipy.stats as stats\n",
    "import datetime as dt\n",
    "#from scipy import stats as st"
   ]
  },
  {
   "cell_type": "code",
   "execution_count": 2,
   "metadata": {},
   "outputs": [],
   "source": [
    "# Импортируем данные \n",
    "hypothesis = pd.read_csv('hypothesis.csv')\n",
    "# установим отображение количества столбцов на экране\n",
    "pd.options.display.max_columns = 40"
   ]
  },
  {
   "cell_type": "markdown",
   "metadata": {},
   "source": [
    "**Информация о датасете hypothesis:**\n",
    "\n",
    "\n",
    "- Hypothesis — краткое описание гипотезы;\n",
    "\n",
    "\n",
    "- Reach — охват пользователей по 10-балльной шкале;\n",
    "\n",
    "\n",
    "- Impact — влияние на пользователей по 10-балльной шкале;\n",
    "\n",
    "\n",
    "- Confidence — уверенность в гипотезе по 10-балльной шкале;\n",
    "\n",
    "\n",
    "- Efforts — затраты ресурсов на проверку гипотезы по 10-балльной шкале. Чем больше значение Efforts, тем дороже проверка гипотезы."
   ]
  },
  {
   "cell_type": "code",
   "execution_count": 3,
   "metadata": {},
   "outputs": [
    {
     "name": "stdout",
     "output_type": "stream",
     "text": [
      "<class 'pandas.core.frame.DataFrame'>\n",
      "RangeIndex: 9 entries, 0 to 8\n",
      "Data columns (total 5 columns):\n",
      " #   Column      Non-Null Count  Dtype \n",
      "---  ------      --------------  ----- \n",
      " 0   Hypothesis  9 non-null      object\n",
      " 1   Reach       9 non-null      int64 \n",
      " 2   Impact      9 non-null      int64 \n",
      " 3   Confidence  9 non-null      int64 \n",
      " 4   Efforts     9 non-null      int64 \n",
      "dtypes: int64(4), object(1)\n",
      "memory usage: 388.0+ bytes\n"
     ]
    }
   ],
   "source": [
    "# Посмотрим на общую информацию о датасете и сам датасет\n",
    "hypothesis.info()"
   ]
  },
  {
   "cell_type": "code",
   "execution_count": 4,
   "metadata": {},
   "outputs": [
    {
     "data": {
      "text/html": [
       "<div>\n",
       "<style scoped>\n",
       "    .dataframe tbody tr th:only-of-type {\n",
       "        vertical-align: middle;\n",
       "    }\n",
       "\n",
       "    .dataframe tbody tr th {\n",
       "        vertical-align: top;\n",
       "    }\n",
       "\n",
       "    .dataframe thead th {\n",
       "        text-align: right;\n",
       "    }\n",
       "</style>\n",
       "<table border=\"1\" class=\"dataframe\">\n",
       "  <thead>\n",
       "    <tr style=\"text-align: right;\">\n",
       "      <th></th>\n",
       "      <th>Hypothesis</th>\n",
       "      <th>Reach</th>\n",
       "      <th>Impact</th>\n",
       "      <th>Confidence</th>\n",
       "      <th>Efforts</th>\n",
       "    </tr>\n",
       "  </thead>\n",
       "  <tbody>\n",
       "    <tr>\n",
       "      <th>0</th>\n",
       "      <td>Добавить два новых канала привлечения трафика,...</td>\n",
       "      <td>3</td>\n",
       "      <td>10</td>\n",
       "      <td>8</td>\n",
       "      <td>6</td>\n",
       "    </tr>\n",
       "    <tr>\n",
       "      <th>1</th>\n",
       "      <td>Запустить собственную службу доставки, что сок...</td>\n",
       "      <td>2</td>\n",
       "      <td>5</td>\n",
       "      <td>4</td>\n",
       "      <td>10</td>\n",
       "    </tr>\n",
       "    <tr>\n",
       "      <th>2</th>\n",
       "      <td>Добавить блоки рекомендаций товаров на сайт ин...</td>\n",
       "      <td>8</td>\n",
       "      <td>3</td>\n",
       "      <td>7</td>\n",
       "      <td>3</td>\n",
       "    </tr>\n",
       "    <tr>\n",
       "      <th>3</th>\n",
       "      <td>Изменить структура категорий, что увеличит кон...</td>\n",
       "      <td>8</td>\n",
       "      <td>3</td>\n",
       "      <td>3</td>\n",
       "      <td>8</td>\n",
       "    </tr>\n",
       "    <tr>\n",
       "      <th>4</th>\n",
       "      <td>Изменить цвет фона главной страницы, чтобы уве...</td>\n",
       "      <td>3</td>\n",
       "      <td>1</td>\n",
       "      <td>1</td>\n",
       "      <td>1</td>\n",
       "    </tr>\n",
       "    <tr>\n",
       "      <th>5</th>\n",
       "      <td>Добавить страницу отзывов клиентов о магазине,...</td>\n",
       "      <td>3</td>\n",
       "      <td>2</td>\n",
       "      <td>2</td>\n",
       "      <td>3</td>\n",
       "    </tr>\n",
       "    <tr>\n",
       "      <th>6</th>\n",
       "      <td>Показать на главной странице баннеры с актуаль...</td>\n",
       "      <td>5</td>\n",
       "      <td>3</td>\n",
       "      <td>8</td>\n",
       "      <td>3</td>\n",
       "    </tr>\n",
       "    <tr>\n",
       "      <th>7</th>\n",
       "      <td>Добавить форму подписки на все основные страни...</td>\n",
       "      <td>10</td>\n",
       "      <td>7</td>\n",
       "      <td>8</td>\n",
       "      <td>5</td>\n",
       "    </tr>\n",
       "    <tr>\n",
       "      <th>8</th>\n",
       "      <td>Запустить акцию, дающую скидку на товар в день...</td>\n",
       "      <td>1</td>\n",
       "      <td>9</td>\n",
       "      <td>9</td>\n",
       "      <td>5</td>\n",
       "    </tr>\n",
       "  </tbody>\n",
       "</table>\n",
       "</div>"
      ],
      "text/plain": [
       "                                          Hypothesis  Reach  Impact  \\\n",
       "0  Добавить два новых канала привлечения трафика,...      3      10   \n",
       "1  Запустить собственную службу доставки, что сок...      2       5   \n",
       "2  Добавить блоки рекомендаций товаров на сайт ин...      8       3   \n",
       "3  Изменить структура категорий, что увеличит кон...      8       3   \n",
       "4  Изменить цвет фона главной страницы, чтобы уве...      3       1   \n",
       "5  Добавить страницу отзывов клиентов о магазине,...      3       2   \n",
       "6  Показать на главной странице баннеры с актуаль...      5       3   \n",
       "7  Добавить форму подписки на все основные страни...     10       7   \n",
       "8  Запустить акцию, дающую скидку на товар в день...      1       9   \n",
       "\n",
       "   Confidence  Efforts  \n",
       "0           8        6  \n",
       "1           4       10  \n",
       "2           7        3  \n",
       "3           3        8  \n",
       "4           1        1  \n",
       "5           2        3  \n",
       "6           8        3  \n",
       "7           8        5  \n",
       "8           9        5  "
      ]
     },
     "execution_count": 4,
     "metadata": {},
     "output_type": "execute_result"
    }
   ],
   "source": [
    "hypothesis"
   ]
  },
  {
   "cell_type": "markdown",
   "metadata": {},
   "source": [
    "Отлично, пропусков в данных нет, однако нужно заменить типы данных на более подходящие:"
   ]
  },
  {
   "cell_type": "code",
   "execution_count": 5,
   "metadata": {
    "scrolled": false
   },
   "outputs": [
    {
     "name": "stdout",
     "output_type": "stream",
     "text": [
      "Machine parameters for int8\n",
      "---------------------------------------------------------------\n",
      "min = -128\n",
      "max = 127\n",
      "---------------------------------------------------------------\n",
      "\n",
      "Machine parameters for int16\n",
      "---------------------------------------------------------------\n",
      "min = -32768\n",
      "max = 32767\n",
      "---------------------------------------------------------------\n",
      "\n",
      "Machine parameters for int32\n",
      "---------------------------------------------------------------\n",
      "min = -2147483648\n",
      "max = 2147483647\n",
      "---------------------------------------------------------------\n",
      "\n",
      "Machine parameters for int64\n",
      "---------------------------------------------------------------\n",
      "min = -9223372036854775808\n",
      "max = 9223372036854775807\n",
      "---------------------------------------------------------------\n",
      "\n",
      "Machine parameters for uint8\n",
      "---------------------------------------------------------------\n",
      "min = 0\n",
      "max = 255\n",
      "---------------------------------------------------------------\n",
      "\n",
      "Machine parameters for uint16\n",
      "---------------------------------------------------------------\n",
      "min = 0\n",
      "max = 65535\n",
      "---------------------------------------------------------------\n",
      "\n",
      "Machine parameters for uint32\n",
      "---------------------------------------------------------------\n",
      "min = 0\n",
      "max = 4294967295\n",
      "---------------------------------------------------------------\n",
      "\n",
      "Machine parameters for uint64\n",
      "---------------------------------------------------------------\n",
      "min = 0\n",
      "max = 18446744073709551615\n",
      "---------------------------------------------------------------\n",
      "\n"
     ]
    }
   ],
   "source": [
    "# Для проверки мин. и макс. зн-я, подходящего для хранения с использованием каждого целочисленного подтипа, можно воспользоваться методом numpy.iinfo()\n",
    "int_types = [\"int8\", \"int16\", \"int32\",\"int64\",\"uint8\", \"uint16\", \"uint32\",\"uint64\"]\n",
    "for it in int_types:\n",
    "    print(np.iinfo(it))"
   ]
  },
  {
   "cell_type": "code",
   "execution_count": 6,
   "metadata": {},
   "outputs": [],
   "source": [
    "hypothesis['Reach'] = hypothesis['Reach'].astype('uint8')\n",
    "hypothesis['Impact'] = hypothesis['Impact'].astype('uint8')\n",
    "hypothesis['Confidence'] = hypothesis['Confidence'].astype('uint8')\n",
    "hypothesis['Efforts'] = hypothesis['Efforts'].astype('uint8')"
   ]
  },
  {
   "cell_type": "code",
   "execution_count": 7,
   "metadata": {},
   "outputs": [
    {
     "name": "stdout",
     "output_type": "stream",
     "text": [
      "<class 'pandas.core.frame.DataFrame'>\n",
      "RangeIndex: 9 entries, 0 to 8\n",
      "Data columns (total 5 columns):\n",
      " #   Column      Non-Null Count  Dtype \n",
      "---  ------      --------------  ----- \n",
      " 0   Hypothesis  9 non-null      object\n",
      " 1   Reach       9 non-null      uint8 \n",
      " 2   Impact      9 non-null      uint8 \n",
      " 3   Confidence  9 non-null      uint8 \n",
      " 4   Efforts     9 non-null      uint8 \n",
      "dtypes: object(1), uint8(4)\n",
      "memory usage: 136.0+ bytes\n"
     ]
    }
   ],
   "source": [
    "# Проверим замену\n",
    "hypothesis.info()"
   ]
  },
  {
   "cell_type": "code",
   "execution_count": 8,
   "metadata": {},
   "outputs": [
    {
     "data": {
      "text/plain": [
       "Index(['Hypothesis', 'Reach', 'Impact', 'Confidence', 'Efforts'], dtype='object')"
      ]
     },
     "execution_count": 8,
     "metadata": {},
     "output_type": "execute_result"
    }
   ],
   "source": [
    "# Для удобства приведем названия столбцов к нижнему регистру\n",
    "hypothesis.columns"
   ]
  },
  {
   "cell_type": "code",
   "execution_count": 9,
   "metadata": {},
   "outputs": [],
   "source": [
    "# Подготовим список new_names с новыми именами для столбцов\n",
    "new_names = ['hypothesis', 'reach', 'impact', 'confidence', 'efforts']"
   ]
  },
  {
   "cell_type": "code",
   "execution_count": 10,
   "metadata": {},
   "outputs": [],
   "source": [
    "# Переименуем столбцы таблицы, которая хранится в переменной hypothesis\n",
    "hypothesis.set_axis(new_names, axis = 'columns', inplace = True)"
   ]
  },
  {
   "cell_type": "code",
   "execution_count": 11,
   "metadata": {},
   "outputs": [
    {
     "data": {
      "text/plain": [
       "Index(['hypothesis', 'reach', 'impact', 'confidence', 'efforts'], dtype='object')"
      ]
     },
     "execution_count": 11,
     "metadata": {},
     "output_type": "execute_result"
    }
   ],
   "source": [
    "#Проверим замену\n",
    "hypothesis.columns"
   ]
  },
  {
   "cell_type": "markdown",
   "metadata": {},
   "source": [
    "Дубликатов также в таком маленьком наборе данных нет. Теперь можем переходить к расчету показателей:"
   ]
  },
  {
   "cell_type": "markdown",
   "metadata": {},
   "source": [
    "### Применение фреймворка ICE для приоритизации гипотез"
   ]
  },
  {
   "cell_type": "code",
   "execution_count": 12,
   "metadata": {
    "scrolled": true
   },
   "outputs": [
    {
     "data": {
      "text/html": [
       "<div>\n",
       "<style scoped>\n",
       "    .dataframe tbody tr th:only-of-type {\n",
       "        vertical-align: middle;\n",
       "    }\n",
       "\n",
       "    .dataframe tbody tr th {\n",
       "        vertical-align: top;\n",
       "    }\n",
       "\n",
       "    .dataframe thead th {\n",
       "        text-align: right;\n",
       "    }\n",
       "</style>\n",
       "<table border=\"1\" class=\"dataframe\">\n",
       "  <thead>\n",
       "    <tr style=\"text-align: right;\">\n",
       "      <th></th>\n",
       "      <th>ICE</th>\n",
       "    </tr>\n",
       "    <tr>\n",
       "      <th>hypothesis</th>\n",
       "      <th></th>\n",
       "    </tr>\n",
       "  </thead>\n",
       "  <tbody>\n",
       "    <tr>\n",
       "      <th>Запустить акцию, дающую скидку на товар в день рождения</th>\n",
       "      <td>16.20</td>\n",
       "    </tr>\n",
       "    <tr>\n",
       "      <th>Добавить два новых канала привлечения трафика, что позволит привлекать на 30% больше пользователей</th>\n",
       "      <td>13.33</td>\n",
       "    </tr>\n",
       "    <tr>\n",
       "      <th>Добавить форму подписки на все основные страницы, чтобы собрать базу клиентов для email-рассылок</th>\n",
       "      <td>11.20</td>\n",
       "    </tr>\n",
       "    <tr>\n",
       "      <th>Показать на главной странице баннеры с актуальными акциями и распродажами, чтобы увеличить конверсию</th>\n",
       "      <td>8.00</td>\n",
       "    </tr>\n",
       "    <tr>\n",
       "      <th>Добавить блоки рекомендаций товаров на сайт интернет магазина, чтобы повысить конверсию и средний чек заказа</th>\n",
       "      <td>7.00</td>\n",
       "    </tr>\n",
       "    <tr>\n",
       "      <th>Запустить собственную службу доставки, что сократит срок доставки заказов</th>\n",
       "      <td>2.00</td>\n",
       "    </tr>\n",
       "    <tr>\n",
       "      <th>Добавить страницу отзывов клиентов о магазине, что позволит увеличить количество заказов</th>\n",
       "      <td>1.33</td>\n",
       "    </tr>\n",
       "    <tr>\n",
       "      <th>Изменить структура категорий, что увеличит конверсию, т.к. пользователи быстрее найдут нужный товар</th>\n",
       "      <td>1.12</td>\n",
       "    </tr>\n",
       "    <tr>\n",
       "      <th>Изменить цвет фона главной страницы, чтобы увеличить вовлеченность пользователей</th>\n",
       "      <td>1.00</td>\n",
       "    </tr>\n",
       "  </tbody>\n",
       "</table>\n",
       "</div>"
      ],
      "text/plain": [
       "                                                      ICE\n",
       "hypothesis                                               \n",
       "Запустить акцию, дающую скидку на товар в день ...  16.20\n",
       "Добавить два новых канала привлечения трафика, ...  13.33\n",
       "Добавить форму подписки на все основные страниц...  11.20\n",
       "Показать на главной странице баннеры с актуальн...   8.00\n",
       "Добавить блоки рекомендаций товаров на сайт инт...   7.00\n",
       "Запустить собственную службу доставки, что сокр...   2.00\n",
       "Добавить страницу отзывов клиентов о магазине, ...   1.33\n",
       "Изменить структура категорий, что увеличит конв...   1.12\n",
       "Изменить цвет фона главной страницы, чтобы увел...   1.00"
      ]
     },
     "execution_count": 12,
     "metadata": {},
     "output_type": "execute_result"
    }
   ],
   "source": [
    "hypothesis['ICE'] = hypothesis['impact']*hypothesis['confidence']/hypothesis['efforts']\n",
    "barh_ice = hypothesis[['hypothesis','ICE']].set_index('hypothesis').sort_values(by='ICE', ascending=False).round(2) # отсортируем по убыванию приоритета\n",
    "barh_ice"
   ]
  },
  {
   "cell_type": "code",
   "execution_count": 13,
   "metadata": {},
   "outputs": [
    {
     "data": {
      "image/png": "[encoded data removed]",
      "text/plain": [
       "<Figure size 432x720 with 1 Axes>"
      ]
     },
     "metadata": {
      "needs_background": "light"
     },
     "output_type": "display_data"
    }
   ],
   "source": [
    "# Для наглядности построим  горизонтальную столбчатую диаграмму\n",
    "barh_ice.plot(kind='barh', figsize=(6, 10), ec='black', color='r')\n",
    "\n",
    "plt.title('График, отражающий приоритет гипотезы')\n",
    "plt.xlabel('Гипотеза')\n",
    "plt.ylabel('ICE')\n",
    "plt.show()"
   ]
  },
  {
   "cell_type": "markdown",
   "metadata": {},
   "source": [
    "### Применение фреймворка RICE для приоритизации гипотез"
   ]
  },
  {
   "cell_type": "code",
   "execution_count": 14,
   "metadata": {
    "scrolled": true
   },
   "outputs": [
    {
     "data": {
      "text/html": [
       "<div>\n",
       "<style scoped>\n",
       "    .dataframe tbody tr th:only-of-type {\n",
       "        vertical-align: middle;\n",
       "    }\n",
       "\n",
       "    .dataframe tbody tr th {\n",
       "        vertical-align: top;\n",
       "    }\n",
       "\n",
       "    .dataframe thead th {\n",
       "        text-align: right;\n",
       "    }\n",
       "</style>\n",
       "<table border=\"1\" class=\"dataframe\">\n",
       "  <thead>\n",
       "    <tr style=\"text-align: right;\">\n",
       "      <th></th>\n",
       "      <th>RICE</th>\n",
       "    </tr>\n",
       "    <tr>\n",
       "      <th>hypothesis</th>\n",
       "      <th></th>\n",
       "    </tr>\n",
       "  </thead>\n",
       "  <tbody>\n",
       "    <tr>\n",
       "      <th>Добавить блоки рекомендаций товаров на сайт интернет магазина, чтобы повысить конверсию и средний чек заказа</th>\n",
       "      <td>56.0</td>\n",
       "    </tr>\n",
       "    <tr>\n",
       "      <th>Добавить два новых канала привлечения трафика, что позволит привлекать на 30% больше пользователей</th>\n",
       "      <td>40.0</td>\n",
       "    </tr>\n",
       "    <tr>\n",
       "      <th>Показать на главной странице баннеры с актуальными акциями и распродажами, чтобы увеличить конверсию</th>\n",
       "      <td>40.0</td>\n",
       "    </tr>\n",
       "    <tr>\n",
       "      <th>Запустить акцию, дающую скидку на товар в день рождения</th>\n",
       "      <td>16.2</td>\n",
       "    </tr>\n",
       "    <tr>\n",
       "      <th>Добавить форму подписки на все основные страницы, чтобы собрать базу клиентов для email-рассылок</th>\n",
       "      <td>9.6</td>\n",
       "    </tr>\n",
       "    <tr>\n",
       "      <th>Изменить структура категорий, что увеличит конверсию, т.к. пользователи быстрее найдут нужный товар</th>\n",
       "      <td>9.0</td>\n",
       "    </tr>\n",
       "    <tr>\n",
       "      <th>Запустить собственную службу доставки, что сократит срок доставки заказов</th>\n",
       "      <td>4.0</td>\n",
       "    </tr>\n",
       "    <tr>\n",
       "      <th>Добавить страницу отзывов клиентов о магазине, что позволит увеличить количество заказов</th>\n",
       "      <td>4.0</td>\n",
       "    </tr>\n",
       "    <tr>\n",
       "      <th>Изменить цвет фона главной страницы, чтобы увеличить вовлеченность пользователей</th>\n",
       "      <td>3.0</td>\n",
       "    </tr>\n",
       "  </tbody>\n",
       "</table>\n",
       "</div>"
      ],
      "text/plain": [
       "                                                    RICE\n",
       "hypothesis                                              \n",
       "Добавить блоки рекомендаций товаров на сайт инт...  56.0\n",
       "Добавить два новых канала привлечения трафика, ...  40.0\n",
       "Показать на главной странице баннеры с актуальн...  40.0\n",
       "Запустить акцию, дающую скидку на товар в день ...  16.2\n",
       "Добавить форму подписки на все основные страниц...   9.6\n",
       "Изменить структура категорий, что увеличит конв...   9.0\n",
       "Запустить собственную службу доставки, что сокр...   4.0\n",
       "Добавить страницу отзывов клиентов о магазине, ...   4.0\n",
       "Изменить цвет фона главной страницы, чтобы увел...   3.0"
      ]
     },
     "execution_count": 14,
     "metadata": {},
     "output_type": "execute_result"
    }
   ],
   "source": [
    "hypothesis['RICE'] = hypothesis['reach']*hypothesis['impact']*hypothesis['confidence']/hypothesis['efforts']\n",
    "barh_rice = hypothesis[['hypothesis','RICE']].set_index('hypothesis').sort_values(by='RICE', ascending=False) # отсортируем по убыванию приоритета\n",
    "barh_rice"
   ]
  },
  {
   "cell_type": "code",
   "execution_count": 15,
   "metadata": {},
   "outputs": [
    {
     "data": {
      "image/png": "[encoded data removed]",
      "text/plain": [
       "<Figure size 432x720 with 1 Axes>"
      ]
     },
     "metadata": {
      "needs_background": "light"
     },
     "output_type": "display_data"
    }
   ],
   "source": [
    "# Для наглядности построим  горизонтальную столбчатую диаграмму\n",
    "barh_rice.plot(kind='barh', figsize=(6, 10), ec='black', color='y')\n",
    "\n",
    "plt.title('График, отражающий приоритет гипотезы')\n",
    "plt.xlabel('Гипотеза')\n",
    "plt.ylabel('RICE')\n",
    "plt.show()"
   ]
  },
  {
   "cell_type": "markdown",
   "metadata": {},
   "source": [
    "### Изменение приоритизации гипотез при применении RICE вместо ICE"
   ]
  },
  {
   "cell_type": "markdown",
   "metadata": {},
   "source": [
    "|Гипотеза| Приоритет гипотезы (ICE) | Приоритет гипотезы (RICE)|\n",
    "|:----|:----|:----|\n",
    "|Запустить акцию, дающую скидку на товар в день рождения|1|3|\n",
    "|Добавить два новых канала привлечения трафика, что позволит привлекать на 30% больше пользователей|2|2|\n",
    "|Добавить форму подписки на все основные страницы, чтобы собрать базу клиентов для email-рассылок|3|4|\n",
    "|Показать на главной странице баннеры с актуальными акциями и распродажами, чтобы увеличить конверсию|4|2|\n",
    "|Добавить блоки рекомендаций товаров на сайт интернет магазина, чтобы повысить конверсию и средний чек заказа|5|1|\n",
    "|Запустить собственную службу доставки, что сократит срок доставки заказов|6|6| \n",
    "|Добавить страницу отзывов клиентов о магазине, что позволит увеличить количество заказов|7|6| \n",
    "|Изменить структуру категорий, что увеличит конверсию, т.к. пользователи быстрее найдут нужный товар|8|5| \n",
    "|Изменить цвет фона главной страницы, чтобы увеличить вовлеченность пользователей|9|7| "
   ]
  },
  {
   "cell_type": "markdown",
   "metadata": {},
   "source": [
    "**Вывод из сравнительного анализа:**\n",
    "\n",
    "Исходя из таблицы приоритета гипотез параметр охвата Reach (скольких пользователей затронет изменение)  существенно меняет приоритетность гипотез, вычисленную по методу ICE.\n",
    "\n",
    "- Без учета охвата на первом месте идет акция со скидкой имениннику, но параметр Reach понизил приоритет этой акции до третьего места, что логично, поскольку охват её минимальный сравнению с другими гипотезами увеличения выручки (1 по дестятибалльной шкале)\n",
    "\n",
    "\n",
    "- без изменений остались рейтинговые позиции гипотез о добавлении двух новых каналов привлечения трафика и запуске  собственной службе доставки\n",
    "\n",
    "\n",
    "- Стали более приоритетными в RICE (по сравнению с ICE) гипотезы о добавлении блоков рекомендаций товаров на сайт интернет магазина и о показе на главной странице баннеров с актуальными акциями и распродажами"
   ]
  },
  {
   "cell_type": "markdown",
   "metadata": {},
   "source": [
    "## Часть № 2. Анализ A/B-теста"
   ]
  },
  {
   "cell_type": "markdown",
   "metadata": {},
   "source": [
    "### Изучение общей информации о данных для части 2 (Анализ A/B-теста) и предобработка данных"
   ]
  },
  {
   "cell_type": "code",
   "execution_count": 16,
   "metadata": {},
   "outputs": [],
   "source": [
    "# Импортируем данные \n",
    "orders = pd.read_csv('https://code.s3.yandex.net/datasets/orders.csv')\n",
    "visitors = pd.read_csv('https://code.s3.yandex.net/datasets/visitors.csv')"
   ]
  },
  {
   "cell_type": "code",
   "execution_count": 17,
   "metadata": {},
   "outputs": [],
   "source": [
    "try:\n",
    "    orders = pd.read_csv('/datasets/orders.csv')\n",
    "    visitors = pd.read_csv('/datasets/visitors.csv')\n",
    "except:\n",
    "    orders = pd.read_csv('https://code.s3.yandex.net/datasets/orders.csv')\n",
    "    visitors = pd.read_csv('https://code.s3.yandex.net/datasets/visitors.csv')"
   ]
  },
  {
   "cell_type": "markdown",
   "metadata": {},
   "source": [
    "**Информация о датасете orders:**\n",
    "\n",
    "- transactionId — идентификатор заказа;\n",
    "\n",
    "\n",
    "- visitorId — идентификатор пользователя, совершившего заказ;\n",
    "\n",
    "\n",
    "- date — дата, когда был совершён заказ;\n",
    "\n",
    "\n",
    "- revenue — выручка заказа;\n",
    "\n",
    "\n",
    "- group — группа A/B-теста, в которую попал заказ.\n",
    "\n",
    "\n",
    "**Информация о датасете visitors:**\n",
    "\n",
    "\n",
    "- date — дата;\n",
    "\n",
    "\n",
    "- group — группа A/B-теста;\n",
    "\n",
    "\n",
    "- visitors — количество пользователей в указанную дату в указанной группе A/B-теста."
   ]
  },
  {
   "cell_type": "markdown",
   "metadata": {},
   "source": [
    "**orders:**"
   ]
  },
  {
   "cell_type": "code",
   "execution_count": 18,
   "metadata": {},
   "outputs": [
    {
     "name": "stdout",
     "output_type": "stream",
     "text": [
      "<class 'pandas.core.frame.DataFrame'>\n",
      "RangeIndex: 1197 entries, 0 to 1196\n",
      "Data columns (total 5 columns):\n",
      " #   Column         Non-Null Count  Dtype \n",
      "---  ------         --------------  ----- \n",
      " 0   transactionId  1197 non-null   int64 \n",
      " 1   visitorId      1197 non-null   int64 \n",
      " 2   date           1197 non-null   object\n",
      " 3   revenue        1197 non-null   int64 \n",
      " 4   group          1197 non-null   object\n",
      "dtypes: int64(3), object(2)\n",
      "memory usage: 37.5+ KB\n"
     ]
    }
   ],
   "source": [
    "# Посмотрим на общую информацию о датасете и сам датасет\n",
    "orders.info()"
   ]
  },
  {
   "cell_type": "code",
   "execution_count": 19,
   "metadata": {},
   "outputs": [
    {
     "data": {
      "text/html": [
       "<div>\n",
       "<style scoped>\n",
       "    .dataframe tbody tr th:only-of-type {\n",
       "        vertical-align: middle;\n",
       "    }\n",
       "\n",
       "    .dataframe tbody tr th {\n",
       "        vertical-align: top;\n",
       "    }\n",
       "\n",
       "    .dataframe thead th {\n",
       "        text-align: right;\n",
       "    }\n",
       "</style>\n",
       "<table border=\"1\" class=\"dataframe\">\n",
       "  <thead>\n",
       "    <tr style=\"text-align: right;\">\n",
       "      <th></th>\n",
       "      <th>transactionId</th>\n",
       "      <th>visitorId</th>\n",
       "      <th>date</th>\n",
       "      <th>revenue</th>\n",
       "      <th>group</th>\n",
       "    </tr>\n",
       "  </thead>\n",
       "  <tbody>\n",
       "    <tr>\n",
       "      <th>0</th>\n",
       "      <td>3667963787</td>\n",
       "      <td>3312258926</td>\n",
       "      <td>2019-08-15</td>\n",
       "      <td>1650</td>\n",
       "      <td>B</td>\n",
       "    </tr>\n",
       "    <tr>\n",
       "      <th>1</th>\n",
       "      <td>2804400009</td>\n",
       "      <td>3642806036</td>\n",
       "      <td>2019-08-15</td>\n",
       "      <td>730</td>\n",
       "      <td>B</td>\n",
       "    </tr>\n",
       "    <tr>\n",
       "      <th>2</th>\n",
       "      <td>2961555356</td>\n",
       "      <td>4069496402</td>\n",
       "      <td>2019-08-15</td>\n",
       "      <td>400</td>\n",
       "      <td>A</td>\n",
       "    </tr>\n",
       "    <tr>\n",
       "      <th>3</th>\n",
       "      <td>3797467345</td>\n",
       "      <td>1196621759</td>\n",
       "      <td>2019-08-15</td>\n",
       "      <td>9759</td>\n",
       "      <td>B</td>\n",
       "    </tr>\n",
       "    <tr>\n",
       "      <th>4</th>\n",
       "      <td>2282983706</td>\n",
       "      <td>2322279887</td>\n",
       "      <td>2019-08-15</td>\n",
       "      <td>2308</td>\n",
       "      <td>B</td>\n",
       "    </tr>\n",
       "  </tbody>\n",
       "</table>\n",
       "</div>"
      ],
      "text/plain": [
       "   transactionId   visitorId        date  revenue group\n",
       "0     3667963787  3312258926  2019-08-15     1650     B\n",
       "1     2804400009  3642806036  2019-08-15      730     B\n",
       "2     2961555356  4069496402  2019-08-15      400     A\n",
       "3     3797467345  1196621759  2019-08-15     9759     B\n",
       "4     2282983706  2322279887  2019-08-15     2308     B"
      ]
     },
     "execution_count": 19,
     "metadata": {},
     "output_type": "execute_result"
    }
   ],
   "source": [
    "orders.head()"
   ]
  },
  {
   "cell_type": "code",
   "execution_count": 20,
   "metadata": {},
   "outputs": [
    {
     "data": {
      "text/plain": [
       "Index(['transactionId', 'visitorId', 'date', 'revenue', 'group'], dtype='object')"
      ]
     },
     "execution_count": 20,
     "metadata": {},
     "output_type": "execute_result"
    }
   ],
   "source": [
    "# Для удобства приведем названия столбцов к нижнему регистру\n",
    "orders.columns"
   ]
  },
  {
   "cell_type": "code",
   "execution_count": 21,
   "metadata": {},
   "outputs": [],
   "source": [
    "# Подготовим список new_names с новыми именами для столбцов\n",
    "new_names1 = ['transactionid', 'visitorid', 'date', 'revenue', 'group']"
   ]
  },
  {
   "cell_type": "code",
   "execution_count": 22,
   "metadata": {},
   "outputs": [],
   "source": [
    "# Переименуем столбцы таблицы, которая хранится в переменной orders\n",
    "orders.set_axis(new_names1, axis = 'columns', inplace = True)"
   ]
  },
  {
   "cell_type": "code",
   "execution_count": 23,
   "metadata": {},
   "outputs": [
    {
     "data": {
      "text/plain": [
       "Index(['transactionid', 'visitorid', 'date', 'revenue', 'group'], dtype='object')"
      ]
     },
     "execution_count": 23,
     "metadata": {},
     "output_type": "execute_result"
    }
   ],
   "source": [
    "#Проверим замену\n",
    "orders.columns"
   ]
  },
  {
   "cell_type": "code",
   "execution_count": 24,
   "metadata": {},
   "outputs": [
    {
     "name": "stdout",
     "output_type": "stream",
     "text": [
      "50\n",
      "1294500\n"
     ]
    }
   ],
   "source": [
    "print(orders['revenue'].min())\n",
    "print(orders['revenue'].max())"
   ]
  },
  {
   "cell_type": "code",
   "execution_count": 25,
   "metadata": {},
   "outputs": [],
   "source": [
    "#заменим тип данных переменной revenue\n",
    "orders['revenue'] =orders['revenue'].astype('uint32')"
   ]
  },
  {
   "cell_type": "code",
   "execution_count": 26,
   "metadata": {},
   "outputs": [],
   "source": [
    "#заменим тип данных переменной date\n",
    "orders['date'] = orders['date'].map(\n",
    "    lambda x: dt.datetime.strptime(x, '%Y-%m-%d')\n",
    ")"
   ]
  },
  {
   "cell_type": "code",
   "execution_count": 27,
   "metadata": {},
   "outputs": [
    {
     "name": "stdout",
     "output_type": "stream",
     "text": [
      "<class 'pandas.core.frame.DataFrame'>\n",
      "RangeIndex: 1197 entries, 0 to 1196\n",
      "Data columns (total 5 columns):\n",
      " #   Column         Non-Null Count  Dtype         \n",
      "---  ------         --------------  -----         \n",
      " 0   transactionid  1197 non-null   int64         \n",
      " 1   visitorid      1197 non-null   int64         \n",
      " 2   date           1197 non-null   datetime64[ns]\n",
      " 3   revenue        1197 non-null   uint32        \n",
      " 4   group          1197 non-null   object        \n",
      "dtypes: datetime64[ns](1), int64(2), object(1), uint32(1)\n",
      "memory usage: 37.5+ KB\n"
     ]
    }
   ],
   "source": [
    "#проверим замену\n",
    "orders.info()"
   ]
  },
  {
   "cell_type": "code",
   "execution_count": 28,
   "metadata": {},
   "outputs": [
    {
     "name": "stdout",
     "output_type": "stream",
     "text": [
      "Начальная дата: 2019-08-01 00:00:00\n",
      "Конечная дата: 2019-08-31 00:00:00\n"
     ]
    }
   ],
   "source": [
    "print('Начальная дата:', orders['date'].min())\n",
    "print('Конечная дата:', orders['date'].max())\n"
   ]
  },
  {
   "cell_type": "markdown",
   "metadata": {},
   "source": [
    "**visitors:**"
   ]
  },
  {
   "cell_type": "code",
   "execution_count": 29,
   "metadata": {},
   "outputs": [
    {
     "name": "stdout",
     "output_type": "stream",
     "text": [
      "<class 'pandas.core.frame.DataFrame'>\n",
      "RangeIndex: 62 entries, 0 to 61\n",
      "Data columns (total 3 columns):\n",
      " #   Column    Non-Null Count  Dtype \n",
      "---  ------    --------------  ----- \n",
      " 0   date      62 non-null     object\n",
      " 1   group     62 non-null     object\n",
      " 2   visitors  62 non-null     int64 \n",
      "dtypes: int64(1), object(2)\n",
      "memory usage: 1.0+ KB\n"
     ]
    }
   ],
   "source": [
    "# Посмотрим на общую информацию о датасете и сам датасет\n",
    "visitors.info()"
   ]
  },
  {
   "cell_type": "code",
   "execution_count": 30,
   "metadata": {},
   "outputs": [
    {
     "data": {
      "text/html": [
       "<div>\n",
       "<style scoped>\n",
       "    .dataframe tbody tr th:only-of-type {\n",
       "        vertical-align: middle;\n",
       "    }\n",
       "\n",
       "    .dataframe tbody tr th {\n",
       "        vertical-align: top;\n",
       "    }\n",
       "\n",
       "    .dataframe thead th {\n",
       "        text-align: right;\n",
       "    }\n",
       "</style>\n",
       "<table border=\"1\" class=\"dataframe\">\n",
       "  <thead>\n",
       "    <tr style=\"text-align: right;\">\n",
       "      <th></th>\n",
       "      <th>date</th>\n",
       "      <th>group</th>\n",
       "      <th>visitors</th>\n",
       "    </tr>\n",
       "  </thead>\n",
       "  <tbody>\n",
       "    <tr>\n",
       "      <th>0</th>\n",
       "      <td>2019-08-01</td>\n",
       "      <td>A</td>\n",
       "      <td>719</td>\n",
       "    </tr>\n",
       "    <tr>\n",
       "      <th>1</th>\n",
       "      <td>2019-08-02</td>\n",
       "      <td>A</td>\n",
       "      <td>619</td>\n",
       "    </tr>\n",
       "    <tr>\n",
       "      <th>2</th>\n",
       "      <td>2019-08-03</td>\n",
       "      <td>A</td>\n",
       "      <td>507</td>\n",
       "    </tr>\n",
       "    <tr>\n",
       "      <th>3</th>\n",
       "      <td>2019-08-04</td>\n",
       "      <td>A</td>\n",
       "      <td>717</td>\n",
       "    </tr>\n",
       "    <tr>\n",
       "      <th>4</th>\n",
       "      <td>2019-08-05</td>\n",
       "      <td>A</td>\n",
       "      <td>756</td>\n",
       "    </tr>\n",
       "  </tbody>\n",
       "</table>\n",
       "</div>"
      ],
      "text/plain": [
       "         date group  visitors\n",
       "0  2019-08-01     A       719\n",
       "1  2019-08-02     A       619\n",
       "2  2019-08-03     A       507\n",
       "3  2019-08-04     A       717\n",
       "4  2019-08-05     A       756"
      ]
     },
     "execution_count": 30,
     "metadata": {},
     "output_type": "execute_result"
    }
   ],
   "source": [
    "visitors.head()"
   ]
  },
  {
   "cell_type": "code",
   "execution_count": 31,
   "metadata": {},
   "outputs": [
    {
     "data": {
      "text/html": [
       "<div>\n",
       "<style scoped>\n",
       "    .dataframe tbody tr th:only-of-type {\n",
       "        vertical-align: middle;\n",
       "    }\n",
       "\n",
       "    .dataframe tbody tr th {\n",
       "        vertical-align: top;\n",
       "    }\n",
       "\n",
       "    .dataframe thead th {\n",
       "        text-align: right;\n",
       "    }\n",
       "</style>\n",
       "<table border=\"1\" class=\"dataframe\">\n",
       "  <thead>\n",
       "    <tr style=\"text-align: right;\">\n",
       "      <th></th>\n",
       "      <th>visitors</th>\n",
       "    </tr>\n",
       "  </thead>\n",
       "  <tbody>\n",
       "    <tr>\n",
       "      <th>count</th>\n",
       "      <td>62.000000</td>\n",
       "    </tr>\n",
       "    <tr>\n",
       "      <th>mean</th>\n",
       "      <td>607.290323</td>\n",
       "    </tr>\n",
       "    <tr>\n",
       "      <th>std</th>\n",
       "      <td>114.400560</td>\n",
       "    </tr>\n",
       "    <tr>\n",
       "      <th>min</th>\n",
       "      <td>361.000000</td>\n",
       "    </tr>\n",
       "    <tr>\n",
       "      <th>25%</th>\n",
       "      <td>534.000000</td>\n",
       "    </tr>\n",
       "    <tr>\n",
       "      <th>50%</th>\n",
       "      <td>624.500000</td>\n",
       "    </tr>\n",
       "    <tr>\n",
       "      <th>75%</th>\n",
       "      <td>710.500000</td>\n",
       "    </tr>\n",
       "    <tr>\n",
       "      <th>max</th>\n",
       "      <td>770.000000</td>\n",
       "    </tr>\n",
       "  </tbody>\n",
       "</table>\n",
       "</div>"
      ],
      "text/plain": [
       "         visitors\n",
       "count   62.000000\n",
       "mean   607.290323\n",
       "std    114.400560\n",
       "min    361.000000\n",
       "25%    534.000000\n",
       "50%    624.500000\n",
       "75%    710.500000\n",
       "max    770.000000"
      ]
     },
     "execution_count": 31,
     "metadata": {},
     "output_type": "execute_result"
    }
   ],
   "source": [
    "visitors.describe()"
   ]
  },
  {
   "cell_type": "code",
   "execution_count": 32,
   "metadata": {},
   "outputs": [],
   "source": [
    "# Заменим тип данных переменной visitors\n",
    "visitors['visitors'] = visitors['visitors'].astype('uint16')"
   ]
  },
  {
   "cell_type": "code",
   "execution_count": 33,
   "metadata": {},
   "outputs": [],
   "source": [
    "# Заменим тип данных переменной date\n",
    "visitors['date'] = visitors['date'].map(\n",
    "    lambda x: dt.datetime.strptime(x, '%Y-%m-%d')\n",
    ")"
   ]
  },
  {
   "cell_type": "code",
   "execution_count": 34,
   "metadata": {},
   "outputs": [
    {
     "name": "stdout",
     "output_type": "stream",
     "text": [
      "<class 'pandas.core.frame.DataFrame'>\n",
      "RangeIndex: 62 entries, 0 to 61\n",
      "Data columns (total 3 columns):\n",
      " #   Column    Non-Null Count  Dtype         \n",
      "---  ------    --------------  -----         \n",
      " 0   date      62 non-null     datetime64[ns]\n",
      " 1   group     62 non-null     object        \n",
      " 2   visitors  62 non-null     uint16        \n",
      "dtypes: datetime64[ns](1), object(1), uint16(1)\n",
      "memory usage: 932.0+ bytes\n"
     ]
    }
   ],
   "source": [
    "# Проверим замену\n",
    "visitors.info()"
   ]
  },
  {
   "cell_type": "code",
   "execution_count": 35,
   "metadata": {},
   "outputs": [
    {
     "name": "stdout",
     "output_type": "stream",
     "text": [
      "Начальная дата: 2019-08-01 00:00:00\n",
      "Конечная дата: 2019-08-31 00:00:00\n"
     ]
    }
   ],
   "source": [
    "print('Начальная дата:', visitors['date'].min())\n",
    "print('Конечная дата:', visitors['date'].max())"
   ]
  },
  {
   "cell_type": "markdown",
   "metadata": {},
   "source": [
    "**Вывод:**\n",
    "    \n",
    "Таким образом, мы изучили два датасета,  изменили типы данных на более подходящие, проверили совпадение временных диапазонов (они действительно совпадают)"
   ]
  },
  {
   "cell_type": "markdown",
   "metadata": {},
   "source": [
    "### Построение графика кумулятивной выручки по группам."
   ]
  },
  {
   "cell_type": "markdown",
   "metadata": {},
   "source": [
    "Прежде чем сторить график кумулятивной выручки по группам - оценим соответствие нашей выборки минимальному необходимому объёму выборки с помощью онлайн-калькулятора http://www.evanmiller.org/ab-testing/sample-size.html\n",
    "\n",
    "Для начала расситаем начальную конверсию, полученную после изменения конверсию и относительное изменение конверсии после изменений:"
   ]
  },
  {
   "cell_type": "code",
   "execution_count": 36,
   "metadata": {},
   "outputs": [
    {
     "name": "stdout",
     "output_type": "stream",
     "text": [
      "Начальная конверсия: 2.97 %\n",
      "Полученная после изменений конверсия: 3.38 %\n",
      "Относительное изменение конверсии после изменений: 12.13 %\n"
     ]
    }
   ],
   "source": [
    "initial_conversion = len(orders[orders['group']=='A']) / visitors[visitors['group']=='A']['visitors'].sum()*100\n",
    "final_conversion = len(orders[orders['group']=='B']) / visitors[visitors['group']=='B']['visitors'].sum()*100\n",
    "print('Начальная конверсия: {:.2f} %'.format(initial_conversion))\n",
    "print('Полученная после изменений конверсия: {:.2f} %'.format(final_conversion))\n",
    "print('Относительное изменение конверсии после изменений: {:.2f} %'.format(abs(1-(initial_conversion/final_conversion))*100))"
   ]
  },
  {
   "attachments": {
    "image.png": {
     "image/png": "[encoded data removed]"
    }
   },
   "cell_type": "markdown",
   "metadata": {},
   "source": [
    "Введем начальную конверсию и полученное относительное изменение конверсии в калькулятор и получим минимальный необходимый размер выборки\n",
    "![image.png](attachment:image.png)"
   ]
  },
  {
   "cell_type": "code",
   "execution_count": 37,
   "metadata": {},
   "outputs": [
    {
     "data": {
      "text/plain": [
       "37652"
      ]
     },
     "execution_count": 37,
     "metadata": {},
     "output_type": "execute_result"
    }
   ],
   "source": [
    "# Посмотрим на размер нашей выборки\n",
    "visitors['visitors'].sum()"
   ]
  },
  {
   "cell_type": "markdown",
   "metadata": {},
   "source": [
    "Таким образом, необходимое количество значений выборки, равное 35462 наблюдениям, меньше нашей выборки (37652), а значит можно проводить эксперимент)"
   ]
  },
  {
   "cell_type": "code",
   "execution_count": 38,
   "metadata": {},
   "outputs": [
    {
     "name": "stdout",
     "output_type": "stream",
     "text": [
      "        date group  orders  buyers  revenue  visitors\n",
      "0 2019-08-01     A      24      20   148579       719\n",
      "1 2019-08-01     B      21      20   101217       713\n",
      "2 2019-08-02     A      44      38   242401      1338\n",
      "3 2019-08-02     B      45      43   266748      1294\n",
      "4 2019-08-03     A      68      62   354874      1845\n"
     ]
    }
   ],
   "source": [
    "# создаем массив уникальных пар значений дат и групп теста\n",
    "datesGroups = orders[['date','group']].drop_duplicates()\n",
    "\n",
    "# получаем агрегированные кумулятивные по дням данные о заказах \n",
    "ordersAggregated = datesGroups.apply(lambda x: orders[np.logical_and(orders['date'] <= x['date'], orders['group'] == x['group'])].agg({'date' : 'max', 'group' : 'max', 'transactionid' : pd.Series.nunique, 'visitorid' : pd.Series.nunique, 'revenue' : 'sum'}), axis=1).sort_values(by=['date','group'])\n",
    "\n",
    "# получаем агрегированные кумулятивные по дням данные о посетителях интернет-магазина \n",
    "visitorsAggregated = datesGroups.apply(lambda x: visitors[np.logical_and(visitors['date'] <= x['date'], visitors['group'] == x['group'])].agg({'date' : 'max', 'group' : 'max', 'visitors' : 'sum'}), axis=1).sort_values(by=['date','group'])\n",
    "\n",
    "# объединяем кумулятивные данные в одной таблице и присваиваем ее столбцам понятные названия\n",
    "cumulativeData = ordersAggregated.merge(visitorsAggregated, left_on=['date', 'group'], right_on=['date', 'group'])\n",
    "cumulativeData.columns = ['date', 'group', 'orders', 'buyers', 'revenue', 'visitors']\n",
    "\n",
    "print(cumulativeData.head(5)) "
   ]
  },
  {
   "cell_type": "code",
   "execution_count": 39,
   "metadata": {},
   "outputs": [
    {
     "data": {
      "image/png": "[encoded data removed]",
      "text/plain": [
       "<Figure size 1080x432 with 1 Axes>"
      ]
     },
     "metadata": {
      "needs_background": "light"
     },
     "output_type": "display_data"
    }
   ],
   "source": [
    "plt.figure(figsize =(15, 6))\n",
    "\n",
    "# датафрейм с кумулятивным количеством заказов и кумулятивной выручкой по дням в группе А\n",
    "cumulativeRevenueA = cumulativeData[cumulativeData['group']=='A'][['date','revenue', 'orders']]\n",
    "\n",
    "# датафрейм с кумулятивным количеством заказов и кумулятивной выручкой по дням в группе B\n",
    "cumulativeRevenueB = cumulativeData[cumulativeData['group']=='B'][['date','revenue', 'orders']]\n",
    "\n",
    "# Строим график выручки группы А\n",
    "plt.plot(cumulativeRevenueA['date'], cumulativeRevenueA['revenue'], label='A')\n",
    "\n",
    "# Строим график выручки группы B\n",
    "plt.plot(cumulativeRevenueB['date'], cumulativeRevenueB['revenue'], label='B')\n",
    "plt.title('График кумулятивной выручки по группам')\n",
    "plt.xlabel('Дата')\n",
    "plt.ylabel('Выручка')\n",
    "plt.legend() \n",
    "plt.show()"
   ]
  },
  {
   "cell_type": "markdown",
   "metadata": {},
   "source": [
    "Выручка почти равномерно увеличивается в течение всего теста, однако есть точка, в которой  выручка группы B резко растет. Это может сигнализировать о всплесках числа заказов, либо о появлении очень дорогих заказов в выборке. В целом, график кумулятивной выручки группы B лежит выше, чем график кумулятивной выручки группы A на протяжении всего периода. Можно сделать вывод, что группа B приносит большую прибыль, нежели группа A."
   ]
  },
  {
   "cell_type": "markdown",
   "metadata": {},
   "source": [
    "### Построение графика кумулятивного среднего чека по группам"
   ]
  },
  {
   "cell_type": "code",
   "execution_count": 40,
   "metadata": {},
   "outputs": [
    {
     "data": {
      "image/png": "[encoded data removed]",
      "text/plain": [
       "<Figure size 1080x432 with 1 Axes>"
      ]
     },
     "metadata": {
      "needs_background": "light"
     },
     "output_type": "display_data"
    }
   ],
   "source": [
    "plt.figure(figsize =(15, 6))\n",
    "plt.plot(cumulativeRevenueA['date'], cumulativeRevenueA['revenue']/cumulativeRevenueA['orders'], label='A')\n",
    "plt.plot(cumulativeRevenueB['date'], cumulativeRevenueB['revenue']/cumulativeRevenueB['orders'], label='B')\n",
    "plt.title('График кумулятивного среднего чека по группам')\n",
    "plt.xlabel('Дата')\n",
    "plt.ylabel('Средний чек')\n",
    "plt.legend() \n",
    "plt.show()"
   ]
  },
  {
   "cell_type": "markdown",
   "metadata": {},
   "source": [
    "Средний чек становится равномерным ближе к концу теста. Cредний чек в группе B тоже почти на протяжении всего временного отрезка был выше, чем средний чек в группе А, однако стоит заострить внимание на резком колебании во второй половине графика - возможно, этот скачок обусловлен аномалиями."
   ]
  },
  {
   "cell_type": "markdown",
   "metadata": {},
   "source": [
    "### Построение графика относительного изменения кумулятивного среднего чека группы B к группе A"
   ]
  },
  {
   "cell_type": "code",
   "execution_count": 41,
   "metadata": {},
   "outputs": [
    {
     "data": {
      "image/png": "[encoded data removed]",
      "text/plain": [
       "<Figure size 1080x432 with 1 Axes>"
      ]
     },
     "metadata": {
      "needs_background": "light"
     },
     "output_type": "display_data"
    }
   ],
   "source": [
    "plt.figure(figsize =(15, 6))\n",
    "# собираем данные в одном датафрейме\n",
    "mergedCumulativeRevenue = cumulativeRevenueA.merge(cumulativeRevenueB, left_on='date', right_on='date', how='left', suffixes=['A', 'B'])\n",
    "\n",
    "# cтроим отношение средних чеков\n",
    "plt.plot(mergedCumulativeRevenue['date'], (mergedCumulativeRevenue['revenueB']/mergedCumulativeRevenue['ordersB'])/(mergedCumulativeRevenue['revenueA']/mergedCumulativeRevenue['ordersA'])-1)\n",
    "\n",
    "# добавляем ось X\n",
    "plt.axhline(y=0, color='black', linestyle='--') \n",
    "\n",
    "plt.title('График относительного изменения кумулятивного среднего чека группы B к группе A')\n",
    "plt.xlabel('Дата')\n",
    "plt.show()"
   ]
  },
  {
   "cell_type": "markdown",
   "metadata": {},
   "source": [
    "В нескольких точках график различия между сегментами резко «скачет». Либо это сигнализирует о наличии слишком крупных заказов, либо о наличии выбросов. Необходимо будет проверить данные на наличие аномалий."
   ]
  },
  {
   "cell_type": "markdown",
   "metadata": {},
   "source": [
    "### Построение графика кумулятивной конверсии по группам"
   ]
  },
  {
   "cell_type": "code",
   "execution_count": 42,
   "metadata": {},
   "outputs": [
    {
     "data": {
      "image/png": "[encoded data removed]",
      "text/plain": [
       "<Figure size 1080x432 with 1 Axes>"
      ]
     },
     "metadata": {
      "needs_background": "light"
     },
     "output_type": "display_data"
    }
   ],
   "source": [
    "plt.figure(figsize =(15, 6))\n",
    "# считаем кумулятивную конверсию\n",
    "cumulativeData['conversion'] = cumulativeData['orders']/cumulativeData['visitors']\n",
    "\n",
    "# отделяем данные по группе A\n",
    "cumulativeDataA = cumulativeData[cumulativeData['group']=='A']\n",
    "\n",
    "# отделяем данные по группе B\n",
    "cumulativeDataB = cumulativeData[cumulativeData['group']=='B']\n",
    "\n",
    "# строим графики\n",
    "plt.plot(cumulativeDataA['date'], cumulativeDataA['conversion'], label='A')\n",
    "plt.plot(cumulativeDataB['date'], cumulativeDataB['conversion'], label='B')\n",
    "plt.title('График кумулятивной по группам')\n",
    "plt.xlabel('Дата')\n",
    "plt.ylabel('Конверсия')\n",
    "plt.legend()\n",
    "plt.show()\n",
    "\n"
   ]
  },
  {
   "cell_type": "markdown",
   "metadata": {},
   "source": [
    "Мы получили относительно симметричный график. Группы колебались около одного значения, но затем конверсия группы A вырвалась вперёд и зафиксировалась, а конверсия группы B просела и также зафиксировалась. Опять же группа В приоритетнее."
   ]
  },
  {
   "cell_type": "markdown",
   "metadata": {},
   "source": [
    "### График относительного изменения кумулятивной конверсии группы B к группе A"
   ]
  },
  {
   "cell_type": "code",
   "execution_count": 43,
   "metadata": {
    "scrolled": true
   },
   "outputs": [
    {
     "data": {
      "image/png": "[encoded data removed]",
      "text/plain": [
       "<Figure size 1080x432 with 1 Axes>"
      ]
     },
     "metadata": {
      "needs_background": "light"
     },
     "output_type": "display_data"
    }
   ],
   "source": [
    "plt.figure(figsize =(15, 6))\n",
    "mergedCumulativeConversions = cumulativeDataA[['date','conversion']].merge(cumulativeDataB[['date','conversion']], left_on='date', right_on='date', how='left', suffixes=['A', 'B'])\n",
    "\n",
    "plt.plot(mergedCumulativeConversions['date'], mergedCumulativeConversions['conversionB']/mergedCumulativeConversions['conversionA']-1, label=\"Относительный прирост конверсии группы B относительно группы A\")\n",
    "\n",
    "\n",
    "plt.axhline(y=0, color='black', linestyle='--')\n",
    "plt.title('График относительного изменения кумулятивной конверсии группы B к группе A')\n",
    "plt.xlabel('Дата')\n",
    "plt.show()\n"
   ]
  },
  {
   "cell_type": "markdown",
   "metadata": {},
   "source": [
    "Несмотря на то, что в начале теста группа B значительно проигрывала группе A, ее конверсия стабильно лучше конверсии в группе A, это заметно спустя неделю от начала теста."
   ]
  },
  {
   "cell_type": "markdown",
   "metadata": {},
   "source": [
    "### Построение точечного графика количества заказов по пользователям"
   ]
  },
  {
   "cell_type": "code",
   "execution_count": 44,
   "metadata": {
    "scrolled": false
   },
   "outputs": [
    {
     "name": "stdout",
     "output_type": "stream",
     "text": [
      "       visitorid  orders\n",
      "1023  4256040402      11\n",
      "591   2458001652      11\n",
      "569   2378935119       9\n",
      "487   2038680547       8\n",
      "44     199603092       5\n",
      "744   3062433592       5\n",
      "55     237748145       5\n",
      "917   3803269165       5\n",
      "299   1230306981       5\n",
      "897   3717692402       5\n"
     ]
    },
    {
     "data": {
      "image/png": "[encoded data removed]",
      "text/plain": [
       "<Figure size 432x288 with 1 Axes>"
      ]
     },
     "metadata": {
      "needs_background": "light"
     },
     "output_type": "display_data"
    }
   ],
   "source": [
    "# Построим гистограмму распределения количества заказов на одного пользователя\n",
    "ordersByUsers = (\n",
    "    orders.drop(['group', 'revenue', 'date'], axis=1)\n",
    "    .groupby('visitorid', as_index=False)\n",
    "    .agg({'transactionid': pd.Series.nunique})\n",
    ")\n",
    "\n",
    "ordersByUsers.columns = ['visitorid', 'orders']\n",
    "\n",
    "print(ordersByUsers.sort_values(by='orders', ascending=False).head(10)) \n",
    "plt.hist(ordersByUsers['orders'], alpha = 0.5, ec='black') \n",
    "plt.title('Гистрограмма распределения количества заказов на одного пользователя')\n",
    "plt.xlabel('Количество заказов на одного пользователя')\n",
    "plt.ylabel('Число пользователей')\n",
    "plt.show()\n",
    "\n"
   ]
  },
  {
   "cell_type": "code",
   "execution_count": 45,
   "metadata": {},
   "outputs": [
    {
     "data": {
      "image/png": "[encoded data removed]",
      "text/plain": [
       "<Figure size 432x288 with 1 Axes>"
      ]
     },
     "metadata": {
      "needs_background": "light"
     },
     "output_type": "display_data"
    }
   ],
   "source": [
    "x_values = pd.Series(range(0,len(ordersByUsers)))\n",
    "\n",
    "plt.scatter(x_values, ordersByUsers['orders']) \n",
    "plt.title('Точечная диаграмма числа заказов на одного пользователя')\n",
    "plt.show()"
   ]
  },
  {
   "cell_type": "markdown",
   "metadata": {},
   "source": [
    "Большая часть клиентов совершают по одному - двум заказам, однако есть и те, кто заказывают существенно больше"
   ]
  },
  {
   "cell_type": "markdown",
   "metadata": {},
   "source": [
    "### Рассчет 95-й и 99-й перцентиля количества заказов на пользователя. Выбор границы для определения аномальных пользователей."
   ]
  },
  {
   "cell_type": "code",
   "execution_count": 46,
   "metadata": {},
   "outputs": [
    {
     "name": "stdout",
     "output_type": "stream",
     "text": [
      "Перцентили:\n",
      "95: 2.0\n",
      "99: 4.0\n"
     ]
    }
   ],
   "source": [
    "percentiles = np.percentile(ordersByUsers['orders'], [95, 99])\n",
    "print('Перцентили:\\n95: {}\\n99: {}'.format(percentiles[0],percentiles[1]))"
   ]
  },
  {
   "cell_type": "markdown",
   "metadata": {},
   "source": [
    "Не более 5% пользователей оформляли заказы больше чем 2 раза и только 1% пользователей заказывал более четырех раз."
   ]
  },
  {
   "cell_type": "markdown",
   "metadata": {},
   "source": [
    "### Построение точечного графика стоимостей заказов"
   ]
  },
  {
   "cell_type": "code",
   "execution_count": 47,
   "metadata": {},
   "outputs": [
    {
     "data": {
      "image/png": "[encoded data removed]",
      "text/plain": [
       "<Figure size 432x288 with 1 Axes>"
      ]
     },
     "metadata": {
      "needs_background": "light"
     },
     "output_type": "display_data"
    }
   ],
   "source": [
    "plt.hist(orders['revenue'],bins = 40, range=(0,100000),alpha = 0.5, ec='black')\n",
    "plt.title('Гистограмма распределения стоимостей заказов')\n",
    "plt.show()"
   ]
  },
  {
   "cell_type": "code",
   "execution_count": 48,
   "metadata": {},
   "outputs": [
    {
     "data": {
      "image/png": "[encoded data removed]",
      "text/plain": [
       "<Figure size 432x288 with 1 Axes>"
      ]
     },
     "metadata": {
      "needs_background": "light"
     },
     "output_type": "display_data"
    }
   ],
   "source": [
    "x_values = pd.Series(range(0,len(orders['revenue'])))\n",
    "plt.scatter(x_values, orders['revenue']) \n",
    "plt.title('Точечная диаграмма стоимости заказов')\n",
    "plt.axis([0, 1200, 0, 200000]) \n",
    "plt.show()"
   ]
  },
  {
   "cell_type": "markdown",
   "metadata": {},
   "source": [
    "Исходя из графика, большая часть пользователей совершает покупки стоимостью не более 25000-30000 у.е. "
   ]
  },
  {
   "cell_type": "markdown",
   "metadata": {},
   "source": [
    "### Рассчет 95-го и 99-го перцентиля стоимости заказов. Выбор границы для определения аномальных заказов."
   ]
  },
  {
   "cell_type": "code",
   "execution_count": 49,
   "metadata": {},
   "outputs": [
    {
     "name": "stdout",
     "output_type": "stream",
     "text": [
      "Перцентили:\n",
      "95: 28000\n",
      "99: 58233\n"
     ]
    }
   ],
   "source": [
    "percentiles = np.percentile(orders['revenue'], [95, 99])\n",
    "print('Перцентили:\\n95: {:.0f}\\n99: {:.0f}'.format(percentiles[0],percentiles[1]))"
   ]
  },
  {
   "cell_type": "markdown",
   "metadata": {},
   "source": [
    "Не более 5% заказов дороже 28000 у.е и не более 1% дороже 58233 у.е"
   ]
  },
  {
   "cell_type": "markdown",
   "metadata": {},
   "source": [
    "### Рассчет статистической значимости различий в конверсии между группами по «сырым» данным"
   ]
  },
  {
   "cell_type": "code",
   "execution_count": 50,
   "metadata": {
    "scrolled": false
   },
   "outputs": [
    {
     "data": {
      "text/html": [
       "<div>\n",
       "<style scoped>\n",
       "    .dataframe tbody tr th:only-of-type {\n",
       "        vertical-align: middle;\n",
       "    }\n",
       "\n",
       "    .dataframe tbody tr th {\n",
       "        vertical-align: top;\n",
       "    }\n",
       "\n",
       "    .dataframe thead th {\n",
       "        text-align: right;\n",
       "    }\n",
       "</style>\n",
       "<table border=\"1\" class=\"dataframe\">\n",
       "  <thead>\n",
       "    <tr style=\"text-align: right;\">\n",
       "      <th></th>\n",
       "      <th>0</th>\n",
       "      <th>1</th>\n",
       "      <th>2</th>\n",
       "      <th>3</th>\n",
       "      <th>4</th>\n",
       "    </tr>\n",
       "  </thead>\n",
       "  <tbody>\n",
       "    <tr>\n",
       "      <th>date</th>\n",
       "      <td>2019-08-01 00:00:00</td>\n",
       "      <td>2019-08-02 00:00:00</td>\n",
       "      <td>2019-08-03 00:00:00</td>\n",
       "      <td>2019-08-04 00:00:00</td>\n",
       "      <td>2019-08-05 00:00:00</td>\n",
       "    </tr>\n",
       "    <tr>\n",
       "      <th>ordersPerDateA</th>\n",
       "      <td>20</td>\n",
       "      <td>19</td>\n",
       "      <td>24</td>\n",
       "      <td>15</td>\n",
       "      <td>25</td>\n",
       "    </tr>\n",
       "    <tr>\n",
       "      <th>revenuePerDateA</th>\n",
       "      <td>148579</td>\n",
       "      <td>93822</td>\n",
       "      <td>112473</td>\n",
       "      <td>70825</td>\n",
       "      <td>124218</td>\n",
       "    </tr>\n",
       "    <tr>\n",
       "      <th>ordersPerDateB</th>\n",
       "      <td>21</td>\n",
       "      <td>24</td>\n",
       "      <td>16</td>\n",
       "      <td>17</td>\n",
       "      <td>23</td>\n",
       "    </tr>\n",
       "    <tr>\n",
       "      <th>revenuePerDateB</th>\n",
       "      <td>101217</td>\n",
       "      <td>165531</td>\n",
       "      <td>114248</td>\n",
       "      <td>108571</td>\n",
       "      <td>92428</td>\n",
       "    </tr>\n",
       "    <tr>\n",
       "      <th>ordersCummulativeA</th>\n",
       "      <td>20</td>\n",
       "      <td>39</td>\n",
       "      <td>63</td>\n",
       "      <td>78</td>\n",
       "      <td>103</td>\n",
       "    </tr>\n",
       "    <tr>\n",
       "      <th>revenueCummulativeA</th>\n",
       "      <td>148579</td>\n",
       "      <td>242401</td>\n",
       "      <td>354874</td>\n",
       "      <td>425699</td>\n",
       "      <td>549917</td>\n",
       "    </tr>\n",
       "    <tr>\n",
       "      <th>ordersCummulativeB</th>\n",
       "      <td>21</td>\n",
       "      <td>45</td>\n",
       "      <td>61</td>\n",
       "      <td>78</td>\n",
       "      <td>101</td>\n",
       "    </tr>\n",
       "    <tr>\n",
       "      <th>revenueCummulativeB</th>\n",
       "      <td>101217</td>\n",
       "      <td>266748</td>\n",
       "      <td>380996</td>\n",
       "      <td>489567</td>\n",
       "      <td>581995</td>\n",
       "    </tr>\n",
       "    <tr>\n",
       "      <th>visitorsPerDateA</th>\n",
       "      <td>719</td>\n",
       "      <td>619</td>\n",
       "      <td>507</td>\n",
       "      <td>717</td>\n",
       "      <td>756</td>\n",
       "    </tr>\n",
       "    <tr>\n",
       "      <th>visitorsPerDateB</th>\n",
       "      <td>713</td>\n",
       "      <td>581</td>\n",
       "      <td>509</td>\n",
       "      <td>770</td>\n",
       "      <td>707</td>\n",
       "    </tr>\n",
       "    <tr>\n",
       "      <th>visitorsCummulativeA</th>\n",
       "      <td>719</td>\n",
       "      <td>1338</td>\n",
       "      <td>1845</td>\n",
       "      <td>2562</td>\n",
       "      <td>3318</td>\n",
       "    </tr>\n",
       "    <tr>\n",
       "      <th>visitorsCummulativeB</th>\n",
       "      <td>713</td>\n",
       "      <td>1294</td>\n",
       "      <td>1803</td>\n",
       "      <td>2573</td>\n",
       "      <td>3280</td>\n",
       "    </tr>\n",
       "  </tbody>\n",
       "</table>\n",
       "</div>"
      ],
      "text/plain": [
       "                                        0                    1  \\\n",
       "date                  2019-08-01 00:00:00  2019-08-02 00:00:00   \n",
       "ordersPerDateA                         20                   19   \n",
       "revenuePerDateA                    148579                93822   \n",
       "ordersPerDateB                         21                   24   \n",
       "revenuePerDateB                    101217               165531   \n",
       "ordersCummulativeA                     20                   39   \n",
       "revenueCummulativeA                148579               242401   \n",
       "ordersCummulativeB                     21                   45   \n",
       "revenueCummulativeB                101217               266748   \n",
       "visitorsPerDateA                      719                  619   \n",
       "visitorsPerDateB                      713                  581   \n",
       "visitorsCummulativeA                  719                 1338   \n",
       "visitorsCummulativeB                  713                 1294   \n",
       "\n",
       "                                        2                    3  \\\n",
       "date                  2019-08-03 00:00:00  2019-08-04 00:00:00   \n",
       "ordersPerDateA                         24                   15   \n",
       "revenuePerDateA                    112473                70825   \n",
       "ordersPerDateB                         16                   17   \n",
       "revenuePerDateB                    114248               108571   \n",
       "ordersCummulativeA                     63                   78   \n",
       "revenueCummulativeA                354874               425699   \n",
       "ordersCummulativeB                     61                   78   \n",
       "revenueCummulativeB                380996               489567   \n",
       "visitorsPerDateA                      507                  717   \n",
       "visitorsPerDateB                      509                  770   \n",
       "visitorsCummulativeA                 1845                 2562   \n",
       "visitorsCummulativeB                 1803                 2573   \n",
       "\n",
       "                                        4  \n",
       "date                  2019-08-05 00:00:00  \n",
       "ordersPerDateA                         25  \n",
       "revenuePerDateA                    124218  \n",
       "ordersPerDateB                         23  \n",
       "revenuePerDateB                     92428  \n",
       "ordersCummulativeA                    103  \n",
       "revenueCummulativeA                549917  \n",
       "ordersCummulativeB                    101  \n",
       "revenueCummulativeB                581995  \n",
       "visitorsPerDateA                      756  \n",
       "visitorsPerDateB                      707  \n",
       "visitorsCummulativeA                 3318  \n",
       "visitorsCummulativeB                 3280  "
      ]
     },
     "metadata": {},
     "output_type": "display_data"
    }
   ],
   "source": [
    "visitorsADaily = visitors[visitors['group'] == 'A'][['date', 'visitors']]\n",
    "visitorsADaily.columns = ['date', 'visitorsPerDateA']\n",
    "\n",
    "visitorsACummulative = visitorsADaily.apply(\n",
    "    lambda x: visitorsADaily[visitorsADaily['date'] <= x['date']].agg(\n",
    "        {'date': 'max', 'visitorsPerDateA': 'sum'}\n",
    "    ),\n",
    "    axis=1,\n",
    ")\n",
    "visitorsACummulative.columns = ['date', 'visitorsCummulativeA']\n",
    "\n",
    "visitorsBDaily = visitors[visitors['group'] == 'B'][['date', 'visitors']]\n",
    "visitorsBDaily.columns = ['date', 'visitorsPerDateB']\n",
    "\n",
    "visitorsBCummulative = visitorsBDaily.apply(\n",
    "    lambda x: visitorsBDaily[visitorsBDaily['date'] <= x['date']].agg(\n",
    "        {'date': 'max', 'visitorsPerDateB': 'sum'}\n",
    "    ),\n",
    "    axis=1,\n",
    ")\n",
    "visitorsBCummulative.columns = ['date', 'visitorsCummulativeB']\n",
    "\n",
    "ordersADaily = (\n",
    "    orders[orders['group'] == 'A'][['date', 'transactionid', 'visitorid', 'revenue']]\n",
    "    .groupby('date', as_index=False)\n",
    "    .agg({'visitorid': pd.Series.nunique, 'revenue': 'sum'})\n",
    ")\n",
    "ordersADaily.columns = ['date', 'ordersPerDateA', 'revenuePerDateA']\n",
    "\n",
    "ordersACummulative = ordersADaily.apply(\n",
    "    lambda x: ordersADaily[ordersADaily['date'] <= x['date']].agg(\n",
    "        {'date': 'max', 'ordersPerDateA': 'sum', 'revenuePerDateA': 'sum'}\n",
    "    ),\n",
    "    axis=1,\n",
    ").sort_values(by=['date'])\n",
    "ordersACummulative.columns = [\n",
    "    'date',\n",
    "    'ordersCummulativeA',\n",
    "    'revenueCummulativeA',\n",
    "]\n",
    "\n",
    "ordersBDaily = (\n",
    "    orders[orders['group'] == 'B'][['date', 'visitorid', 'transactionid', 'revenue']]\n",
    "    .groupby('date', as_index=False)\n",
    "    .agg({'transactionid': pd.Series.nunique, 'revenue': 'sum'})\n",
    ")\n",
    "ordersBDaily.columns = ['date', 'ordersPerDateB', 'revenuePerDateB']\n",
    "\n",
    "ordersBCummulative = ordersBDaily.apply(\n",
    "    lambda x: ordersBDaily[ordersBDaily['date'] <= x['date']].agg(\n",
    "        {'date': 'max', 'ordersPerDateB': 'sum', 'revenuePerDateB': 'sum'}\n",
    "    ),\n",
    "    axis=1,\n",
    ").sort_values(by=['date'])\n",
    "ordersBCummulative.columns = [\n",
    "    'date',\n",
    "    'ordersCummulativeB',\n",
    "    'revenueCummulativeB',\n",
    "]\n",
    "\n",
    "data = (\n",
    "    ordersADaily.merge(\n",
    "        ordersBDaily, left_on='date', right_on='date', how='left'\n",
    "    )\n",
    "    .merge(ordersACummulative, left_on='date', right_on='date', how='left')\n",
    "    .merge(ordersBCummulative, left_on='date', right_on='date', how='left')\n",
    "    .merge(visitorsADaily, left_on='date', right_on='date', how='left')\n",
    "    .merge(visitorsBDaily, left_on='date', right_on='date', how='left')\n",
    "    .merge(visitorsACummulative, left_on='date', right_on='date', how='left')\n",
    "    .merge(visitorsBCummulative, left_on='date', right_on='date', how='left')\n",
    ")\n",
    "\n",
    "display(data.head(5).T) "
   ]
  },
  {
   "cell_type": "markdown",
   "metadata": {},
   "source": [
    "Где:\n",
    "\n",
    "- ordersPerDateA — количество заказов в выбранную дату в группе A;\n",
    "\n",
    "\n",
    "- revenuePerDateA — суммарная выручка в выбранную дату в группе A;\n",
    "\n",
    "\n",
    "- ordersPerDateB — количество заказов в выбранную дату в группе B;\n",
    "\n",
    "\n",
    "- revenuePerDateB — суммарная выручка в выбранную дату в группе B;\n",
    "\n",
    "\n",
    "- ordersCummulativeA — суммарное число заказов до выбранной даты включительно в группе A;\n",
    "\n",
    "\n",
    "- revenueCummulativeA — суммарная выручка до выбранной даты включительно в группе A;\n",
    "\n",
    "\n",
    "- ordersCummulativeB — суммарное количество заказов до выбранной даты включительно в группе B;\n",
    "\n",
    "\n",
    "- revenueCummulativeB — суммарная выручка до выбранной даты включительно в группе B;\n",
    "\n",
    "\n",
    "- visitorsPerDateA — количество пользователей в выбранную дату в группе A;  \n",
    "\n",
    "\n",
    "- visitorsPerDateB — количество пользователей в выбранную дату в группе B;\n",
    "\n",
    "\n",
    "- visitorsCummulativeA — количество пользователей до выбранной даты включительно в группе A;\n",
    "\n",
    "\n",
    "- visitorsCummulativeB — количество пользователей до выбранной даты включительно в группе B."
   ]
  },
  {
   "cell_type": "markdown",
   "metadata": {},
   "source": [
    "Для сравнения различий в конверсии между группами по «сырым» данным мы будем использовать непараметрический тест Уилкоксона-Манна-Уитни, которой используется в случае, когда мы имеем дело не с нормально распределенными выборками.\n",
    "\n",
    "**Нулевая гипотеза H0:**\n",
    "\n",
    "По \"сырым\" данным статистически значимых различий в конверсиях групп А и B нет\n",
    "\n",
    "**Альтернативная гипотеза H0:**\n",
    "\n",
    "По \"сырым\" данным в конверсии групп A и B разница статистически значима\n",
    "\n",
    "\n",
    "При заданных гипотезах критерий является двусторонным (нулевая гипотеза означает равенство значений, а альтернативная - неравенство), поэтому мы зададим дополнительный параметр alternative='two-sided' и возьмем критический уровень значимости, равый 5 %:"
   ]
  },
  {
   "cell_type": "code",
   "execution_count": 51,
   "metadata": {
    "scrolled": true
   },
   "outputs": [
    {
     "name": "stdout",
     "output_type": "stream",
     "text": [
      "Относительный прирост конверсии группы B по отношению к группе A: 0.138\n",
      "\n",
      "P-value: 0.016792355056752608\n",
      "\n",
      "По неочищенным данным в конверсии групп A и B разница статистически значима\n"
     ]
    }
   ],
   "source": [
    "ordersByUsersA = (\n",
    "    orders[orders['group'] == 'A']\n",
    "    .groupby('visitorid', as_index=False)\n",
    "    .agg({'transactionid': pd.Series.nunique})\n",
    ")\n",
    "ordersByUsersA.columns = ['visitorid', 'orders']\n",
    "\n",
    "ordersByUsersB = (\n",
    "    orders[orders['group'] == 'B']\n",
    "    .groupby('visitorid', as_index=False)\n",
    "    .agg({'transactionid': pd.Series.nunique})\n",
    ")\n",
    "ordersByUsersB.columns = ['visitorid', 'orders']\n",
    "\n",
    "sampleA = pd.concat(\n",
    "    [\n",
    "        ordersByUsersA['orders'],\n",
    "        pd.Series(\n",
    "            0,\n",
    "            index=np.arange(\n",
    "                data['visitorsPerDateA'].sum() - len(ordersByUsersA['orders'])\n",
    "            ),\n",
    "            name='orders',\n",
    "        ),\n",
    "    ],\n",
    "    axis=0,\n",
    ")\n",
    "\n",
    "sampleB = pd.concat(\n",
    "    [\n",
    "        ordersByUsersB['orders'],\n",
    "        pd.Series(\n",
    "            0,\n",
    "            index=np.arange(\n",
    "                data['visitorsPerDateB'].sum() - len(ordersByUsersB['orders'])\n",
    "            ),\n",
    "            name='orders',\n",
    "        ),\n",
    "    ],\n",
    "    axis=0,\n",
    ")\n",
    "\n",
    "\n",
    "print('Относительный прирост конверсии группы B по отношению к группе A: {:.3f}'.format(sampleB.mean()/sampleA.mean()-1))\n",
    "print()\n",
    "alpha = 0.05\n",
    "results = stats.mannwhitneyu(sampleA, sampleB,alternative='two-sided')\n",
    "print('P-value: {}'.format(results.pvalue))\n",
    "print()\n",
    "if results.pvalue < alpha:\n",
    "    print('По неочищенным данным в конверсии групп A и B разница статистически значима')\n",
    "else:\n",
    "    print('По неочищенным данным различий  в конверсии групп A и B нет')\n",
    "    "
   ]
  },
  {
   "cell_type": "markdown",
   "metadata": {},
   "source": [
    "### Рассчет статистической значимости различий в среднем чеке заказа между группами по «сырым» данным"
   ]
  },
  {
   "cell_type": "markdown",
   "metadata": {},
   "source": [
    "**Нулевая гипотеза H0:**\n",
    "\n",
    "По \"сырым\" данным статистически значимых различий в средних чеках групп А и B нет\n",
    "\n",
    "**Альтернативная гипотеза H0:**\n",
    "\n",
    "По \"сырым\" данным в средних чеках групп A и B разница статистически значима"
   ]
  },
  {
   "cell_type": "code",
   "execution_count": 52,
   "metadata": {},
   "outputs": [
    {
     "name": "stdout",
     "output_type": "stream",
     "text": [
      "Относительное изменение среднего чека в группе B по отношению группы A: 0.259\n",
      "\n",
      "P-value: 0.7292909855432458\n",
      "\n",
      "По неочищенным данным различий в средних чеках в группах A и B нет\n"
     ]
    }
   ],
   "source": [
    "print('Относительное изменение среднего чека в группе B по отношению группы A: {:.3f}'.format(\n",
    "orders[orders['group']=='B']['revenue'].mean()/orders[orders['group']=='A']['revenue'].mean()-1))\n",
    "results = stats.mannwhitneyu(orders[orders['group']=='A']['revenue'], orders[orders['group']=='B']['revenue'], alternative='two-sided')\n",
    "print()\n",
    "print('P-value: {}'.format(results.pvalue))\n",
    "print()\n",
    "if results.pvalue < alpha:\n",
    "    print('По неочищенным данным разница в средних чеках в группах A и B статистически значима')\n",
    "    \n",
    "else:\n",
    "    print('По неочищенным данным различий в средних чеках в группах A и B нет')"
   ]
  },
  {
   "cell_type": "markdown",
   "metadata": {},
   "source": [
    "### Рассчет статистической значимости различий в конверсии между группами по «очищенным» данным"
   ]
  },
  {
   "cell_type": "markdown",
   "metadata": {},
   "source": [
    "Примем за аномальных пользователей тех, кто совершил более 2 заказов или совершил заказ дороже 28000 у.е. Так мы уберём 5% пользователей с наибольшим числом заказов и от 1% до 5% пользователей с дорогими заказами. Сделаем срезы пользователей с числом заказов больше 2 — usersWithManyOrders и пользователей, совершивших заказы дороже 28 000 — usersWithExpensiveOrders. Объединим их в таблице abnormalUsers.\n",
    "\n",
    "Узнаем, сколько всего аномальных пользователей методом shape():"
   ]
  },
  {
   "cell_type": "code",
   "execution_count": 53,
   "metadata": {},
   "outputs": [
    {
     "name": "stdout",
     "output_type": "stream",
     "text": [
      "1099    148427295\n",
      "18      199603092\n",
      "928     204675465\n",
      "23      237748145\n",
      "37      249864742\n",
      "Name: visitorid, dtype: int64\n",
      "\n",
      "(74,)\n"
     ]
    }
   ],
   "source": [
    "usersWithManyOrders = pd.concat(\n",
    "    [\n",
    "        ordersByUsersA[ordersByUsersA['orders'] > 2]['visitorid'],\n",
    "        ordersByUsersB[ordersByUsersB['orders'] > 2]['visitorid'],\n",
    "    ],\n",
    "    axis=0,\n",
    ")\n",
    "usersWithExpensiveOrders = orders[orders['revenue'] > 28000]['visitorid']\n",
    "abnormalUsers = (\n",
    "    pd.concat([usersWithManyOrders, usersWithExpensiveOrders], axis=0)\n",
    "    .drop_duplicates()\n",
    "    .sort_values()\n",
    ")\n",
    "print(abnormalUsers.head(5))\n",
    "print()\n",
    "print(abnormalUsers.shape) "
   ]
  },
  {
   "cell_type": "markdown",
   "metadata": {},
   "source": [
    "Количество аномальных пользователей - 74."
   ]
  },
  {
   "cell_type": "markdown",
   "metadata": {},
   "source": [
    "Узнаем, как их действия повлияли на результаты теста. Посчитаем статистическую значимость различий в конверсии между группами теста по очищенным данным. Сначала подготовим выборки количества заказов по пользователям по группам теста:"
   ]
  },
  {
   "cell_type": "code",
   "execution_count": 54,
   "metadata": {},
   "outputs": [],
   "source": [
    "sampleAFiltered = pd.concat(\n",
    "    [\n",
    "        ordersByUsersA[\n",
    "            np.logical_not(ordersByUsersA['visitorid'].isin(abnormalUsers))\n",
    "        ]['orders'],\n",
    "        pd.Series(\n",
    "            0,\n",
    "            index=np.arange(\n",
    "                data['visitorsPerDateA'].sum() - len(ordersByUsersA['orders'])\n",
    "            ),\n",
    "            name='orders',\n",
    "        ),\n",
    "    ],\n",
    "    axis=0,\n",
    ")\n",
    "\n",
    "sampleBFiltered = pd.concat(\n",
    "    [\n",
    "        ordersByUsersB[\n",
    "            np.logical_not(ordersByUsersB['visitorid'].isin(abnormalUsers))\n",
    "        ]['orders'],\n",
    "        pd.Series(\n",
    "            0,\n",
    "            index=np.arange(\n",
    "                data['visitorsPerDateB'].sum() - len(ordersByUsersB['orders'])\n",
    "            ),\n",
    "            name='orders',\n",
    "        ),\n",
    "    ],\n",
    "    axis=0,\n",
    ")"
   ]
  },
  {
   "cell_type": "markdown",
   "metadata": {},
   "source": [
    "Применим статистический критерий Манна-Уитни к полученным выборкам:"
   ]
  },
  {
   "cell_type": "markdown",
   "metadata": {},
   "source": [
    "**Нулевая гипотеза H0:**\n",
    "\n",
    "По \"очищенным\" данным статистически значимых различий в конверсиях групп А и B нет\n",
    "\n",
    "**Альтернативная гипотеза H0:**\n",
    "\n",
    "По \"очищенным\" данным в конверсии групп A и B разница статистически значима"
   ]
  },
  {
   "cell_type": "code",
   "execution_count": 55,
   "metadata": {},
   "outputs": [
    {
     "name": "stdout",
     "output_type": "stream",
     "text": [
      "Относительный прирост конверсии группы B по отношению к группе A после очистки данных: 0.173\n",
      "\n",
      "P-value: 0.013042592743036758\n",
      "\n",
      "По очищенным данным в конверсии групп A и B разница статистически значима\n"
     ]
    }
   ],
   "source": [
    "print('Относительный прирост конверсии группы B по отношению к группе A после очистки данных: {:.3f}'.format(sampleBFiltered.mean()/sampleAFiltered.mean()-1))\n",
    "print()\n",
    "results = stats.mannwhitneyu(sampleAFiltered, sampleBFiltered, alternative='two-sided')\n",
    "print('P-value: {}'.format(results.pvalue))\n",
    "print()\n",
    "if results.pvalue < alpha:\n",
    "    print('По очищенным данным в конверсии групп A и B разница статистически значима')\n",
    "else:\n",
    "    print('По очищенным данным различий в конверсии групп нет')"
   ]
  },
  {
   "cell_type": "markdown",
   "metadata": {},
   "source": [
    "Результаты по конверсии практически не изменились."
   ]
  },
  {
   "cell_type": "markdown",
   "metadata": {},
   "source": [
    "### Рассчет статистической значимости различий в среднем чеке заказа между группами по «очищенным» данным."
   ]
  },
  {
   "cell_type": "markdown",
   "metadata": {},
   "source": [
    "**Нулевая гипотеза H0:**\n",
    "\n",
    "По \"сырым\" данным статистически значимых различий в средних чеках групп А и B нет\n",
    "\n",
    "**Альтернативная гипотеза H0:**\n",
    "\n",
    "По \"сырым\" данным в средних чеках групп A и B разница статистически значима"
   ]
  },
  {
   "cell_type": "code",
   "execution_count": 56,
   "metadata": {
    "scrolled": true
   },
   "outputs": [
    {
     "name": "stdout",
     "output_type": "stream",
     "text": [
      "Относительное изменение среднего чека в группе B по отношению группы A после очистки данных: -0.020\n",
      "\n",
      "P-value: 0.738481751314565\n",
      "\n",
      "По очищенным данным различий в средних чеках в группах A и B нет\n"
     ]
    }
   ],
   "source": [
    "print('Относительное изменение среднего чека в группе B по отношению группы A после очистки данных: {:.3f}'.format(\n",
    "orders[np.logical_and(orders['group']=='B', np.logical_not(orders['visitorid'].isin(abnormalUsers)))]['revenue'].mean()\\\n",
    "/orders[np.logical_and(orders['group']=='A', np.logical_not(orders['visitorid'].isin(abnormalUsers)))]['revenue'].mean()-1))\n",
    "print()\n",
    "       \n",
    "results = stats.mannwhitneyu(orders[np.logical_and(orders['group']=='A', np.logical_not(orders['visitorid'].isin(abnormalUsers)))]['revenue'],\n",
    "                             orders[np.logical_and(orders['group']=='B', np.logical_not(orders['visitorid'].isin(abnormalUsers)))]['revenue'],alternative='two-sided')\n",
    "print('P-value: {}'.format(results.pvalue))\n",
    "print()\n",
    "if results.pvalue < alpha:\n",
    "    print('По очищенным данным разница в средних чеках в группах A и B статистически значима')\n",
    "else:\n",
    "    print('По очищенным данным различий в средних чеках в группах A и B нет')"
   ]
  },
  {
   "cell_type": "markdown",
   "metadata": {},
   "source": [
    "## Итоговый вывод"
   ]
  },
  {
   "cell_type": "markdown",
   "metadata": {},
   "source": [
    "### Часть №1. Приоритизация гипотез"
   ]
  },
  {
   "cell_type": "markdown",
   "metadata": {},
   "source": [
    "Исходя из таблицы приоритета гипотез параметр охвата Reach (скольких пользователей затронет изменение) существенно меняет приоритетность гипотез, вычисленную по методу ICE.\n",
    "\n",
    "- Без учета охвата на первом месте идет акция со скидкой имениннику, но параметр Reach понизил приоритет этой акции до третьего места, что логично, поскольку охват её минимальный сравнению с другими гипотезами увеличения выручки (1 по дестятибалльной шкале)\n",
    "\n",
    "\n",
    "- без изменений остались рейтинговые позиции гипотез о добавлении двух новых каналов привлечения трафика и запуске собственной службе доставки\n",
    "\n",
    "\n",
    "- Стали более приоритетными в RICE (по сравнению с ICE) гипотезы о добавлении блоков рекомендаций товаров на сайт интернет магазина и о показе на главной странице баннеров с актуальными акциями и распродажами\n",
    "\n",
    " На мой взгляд, параметр Reach очень важен, так как он учитывает охват изменений, а  это важная составляющая оценки гипотез"
   ]
  },
  {
   "cell_type": "markdown",
   "metadata": {},
   "source": [
    "### Часть № 2. Анализ A/B-теста"
   ]
  },
  {
   "cell_type": "markdown",
   "metadata": {},
   "source": [
    "**Варианты решений:**\n",
    "\n",
    "- Остановить тест, зафиксировать победу одной из групп.\n",
    "\n",
    "\n",
    "- Остановить тест, зафиксировать отсутствие различий между группами.\n",
    "\n",
    "\n",
    "- Продолжить тест.\n",
    "\n",
    "Начнем с того, что мы подтвердили корректность проведения самого A/B - теста, оценив соответствие нашей выборки минимальному необходимому объёму выборки - проблему подглядывания в результате сравнения групп во время проведения теста можно исключить.\n",
    "\n",
    "Кумулятивные метрики по выручке, среднему чеку и конверсии почти все время лидировали в группе B. Но были сомнения относительно лидерства этой группы, связанные с резкими колебаниями на графике кумулятивного среднего чека в группе B до очистки данных от аномальных пользователей. Действительно, на \"очищенных\" данных разница между средними чеками стала минимальна, однако тест все равно стоит остановить и зафиксировать победу группы B, поскольку показатель конверсии в группе B больше показателя в группе A (на 14% до и на 17% после очистки данных) и данная разница показателей конверсии между группами и до и после очистки данных является статистически значимой."
   ]
  }
 ],
 "metadata": {
  "ExecuteTimeLog": [
   {
    "duration": 4,
    "start_time": "2021-06-08T14:31:48.019Z"
   },
   {
    "duration": 1482,
    "start_time": "2021-06-08T14:35:37.380Z"
   },
   {
    "duration": 135,
    "start_time": "2021-06-08T14:37:27.301Z"
   },
   {
    "duration": 53,
    "start_time": "2021-06-08T14:37:41.509Z"
   },
   {
    "duration": 3,
    "start_time": "2021-06-08T14:38:51.101Z"
   },
   {
    "duration": 9,
    "start_time": "2021-06-08T14:41:03.612Z"
   },
   {
    "duration": 17,
    "start_time": "2021-06-08T14:41:17.983Z"
   },
   {
    "duration": 8,
    "start_time": "2021-06-08T14:42:36.415Z"
   },
   {
    "duration": 5,
    "start_time": "2021-06-08T14:43:46.834Z"
   },
   {
    "duration": 8,
    "start_time": "2021-06-08T14:45:13.500Z"
   },
   {
    "duration": 9,
    "start_time": "2021-06-08T14:45:39.972Z"
   },
   {
    "duration": 5,
    "start_time": "2021-06-08T14:47:22.134Z"
   },
   {
    "duration": 4,
    "start_time": "2021-06-08T14:48:08.257Z"
   },
   {
    "duration": 405,
    "start_time": "2021-06-08T14:49:15.844Z"
   },
   {
    "duration": 4,
    "start_time": "2021-06-08T14:49:22.706Z"
   },
   {
    "duration": 5,
    "start_time": "2021-06-08T14:49:48.185Z"
   },
   {
    "duration": 17,
    "start_time": "2021-06-08T14:56:05.917Z"
   },
   {
    "duration": 14,
    "start_time": "2021-06-08T14:57:33.056Z"
   },
   {
    "duration": 1406,
    "start_time": "2021-06-08T14:59:19.784Z"
   },
   {
    "duration": 50,
    "start_time": "2021-06-08T14:59:21.192Z"
   },
   {
    "duration": 9,
    "start_time": "2021-06-08T14:59:21.245Z"
   },
   {
    "duration": 18,
    "start_time": "2021-06-08T14:59:21.256Z"
   },
   {
    "duration": 6,
    "start_time": "2021-06-08T14:59:21.276Z"
   },
   {
    "duration": 17,
    "start_time": "2021-06-08T14:59:21.284Z"
   },
   {
    "duration": 24,
    "start_time": "2021-06-08T14:59:21.303Z"
   },
   {
    "duration": 7,
    "start_time": "2021-06-08T14:59:21.330Z"
   },
   {
    "duration": 7,
    "start_time": "2021-06-08T14:59:21.340Z"
   },
   {
    "duration": 8,
    "start_time": "2021-06-08T14:59:21.349Z"
   },
   {
    "duration": 9,
    "start_time": "2021-06-08T14:59:21.360Z"
   },
   {
    "duration": 18,
    "start_time": "2021-06-08T14:59:21.372Z"
   },
   {
    "duration": 8,
    "start_time": "2021-06-08T15:02:33.997Z"
   },
   {
    "duration": 15,
    "start_time": "2021-06-08T15:02:40.529Z"
   },
   {
    "duration": 386,
    "start_time": "2021-06-08T15:02:51.261Z"
   },
   {
    "duration": 430,
    "start_time": "2021-06-08T15:04:14.991Z"
   },
   {
    "duration": 16,
    "start_time": "2021-06-08T15:04:22.335Z"
   },
   {
    "duration": 534,
    "start_time": "2021-06-08T15:04:28.260Z"
   },
   {
    "duration": 739,
    "start_time": "2021-06-08T15:04:39.637Z"
   },
   {
    "duration": 554,
    "start_time": "2021-06-08T15:04:52.455Z"
   },
   {
    "duration": 540,
    "start_time": "2021-06-08T15:06:57.721Z"
   },
   {
    "duration": 14,
    "start_time": "2021-06-08T15:08:47.146Z"
   },
   {
    "duration": 534,
    "start_time": "2021-06-08T15:08:49.777Z"
   },
   {
    "duration": 14,
    "start_time": "2021-06-08T15:09:56.015Z"
   },
   {
    "duration": 15,
    "start_time": "2021-06-08T15:10:04.001Z"
   },
   {
    "duration": 652,
    "start_time": "2021-06-08T15:10:07.364Z"
   },
   {
    "duration": 4,
    "start_time": "2021-06-08T16:30:23.825Z"
   },
   {
    "duration": 6,
    "start_time": "2021-06-08T16:32:16.659Z"
   },
   {
    "duration": 15,
    "start_time": "2021-06-08T16:32:24.846Z"
   },
   {
    "duration": 15,
    "start_time": "2021-06-08T16:32:29.578Z"
   },
   {
    "duration": 14,
    "start_time": "2021-06-08T16:32:36.173Z"
   },
   {
    "duration": 14,
    "start_time": "2021-06-08T16:33:02.915Z"
   },
   {
    "duration": 543,
    "start_time": "2021-06-08T16:33:39.928Z"
   },
   {
    "duration": 529,
    "start_time": "2021-06-08T16:33:48.904Z"
   },
   {
    "duration": 518,
    "start_time": "2021-06-08T16:34:04.777Z"
   },
   {
    "duration": 543,
    "start_time": "2021-06-08T16:34:22.606Z"
   },
   {
    "duration": 271,
    "start_time": "2021-06-08T16:47:49.794Z"
   },
   {
    "duration": 507,
    "start_time": "2021-06-08T16:48:29.039Z"
   },
   {
    "duration": 712,
    "start_time": "2021-06-08T16:49:19.137Z"
   },
   {
    "duration": 708,
    "start_time": "2021-06-08T16:49:51.415Z"
   },
   {
    "duration": 732,
    "start_time": "2021-06-08T16:50:05.151Z"
   },
   {
    "duration": 891,
    "start_time": "2021-06-08T16:50:11.071Z"
   },
   {
    "duration": 793,
    "start_time": "2021-06-08T16:50:17.549Z"
   },
   {
    "duration": 620,
    "start_time": "2021-06-08T16:50:44.943Z"
   },
   {
    "duration": 293,
    "start_time": "2021-06-08T16:53:31.064Z"
   },
   {
    "duration": 270,
    "start_time": "2021-06-08T16:54:07.193Z"
   },
   {
    "duration": 280,
    "start_time": "2021-06-08T16:56:18.385Z"
   },
   {
    "duration": 301,
    "start_time": "2021-06-08T17:00:00.339Z"
   },
   {
    "duration": 10,
    "start_time": "2021-06-08T17:00:34.841Z"
   },
   {
    "duration": 16,
    "start_time": "2021-06-08T17:00:40.745Z"
   },
   {
    "duration": 597,
    "start_time": "2021-06-08T17:02:12.148Z"
   },
   {
    "duration": 450,
    "start_time": "2021-06-08T17:02:25.277Z"
   },
   {
    "duration": 461,
    "start_time": "2021-06-08T17:02:55.873Z"
   },
   {
    "duration": 550,
    "start_time": "2021-06-08T17:03:14.969Z"
   },
   {
    "duration": 553,
    "start_time": "2021-06-08T17:03:31.410Z"
   },
   {
    "duration": 18,
    "start_time": "2021-06-08T17:06:18.723Z"
   },
   {
    "duration": 16,
    "start_time": "2021-06-08T17:06:31.976Z"
   },
   {
    "duration": 382,
    "start_time": "2021-06-08T17:06:57.723Z"
   },
   {
    "duration": 15,
    "start_time": "2021-06-08T17:07:14.869Z"
   },
   {
    "duration": 531,
    "start_time": "2021-06-08T17:07:17.685Z"
   },
   {
    "duration": 15,
    "start_time": "2021-06-08T17:07:22.893Z"
   },
   {
    "duration": 1413,
    "start_time": "2021-06-08T17:11:15.755Z"
   },
   {
    "duration": 138,
    "start_time": "2021-06-08T17:11:17.171Z"
   },
   {
    "duration": 9,
    "start_time": "2021-06-08T17:11:17.312Z"
   },
   {
    "duration": 18,
    "start_time": "2021-06-08T17:11:17.324Z"
   },
   {
    "duration": 6,
    "start_time": "2021-06-08T17:11:17.344Z"
   },
   {
    "duration": 9,
    "start_time": "2021-06-08T17:11:17.352Z"
   },
   {
    "duration": 16,
    "start_time": "2021-06-08T17:11:17.363Z"
   },
   {
    "duration": 5,
    "start_time": "2021-06-08T17:11:17.382Z"
   },
   {
    "duration": 4,
    "start_time": "2021-06-08T17:11:17.425Z"
   },
   {
    "duration": 7,
    "start_time": "2021-06-08T17:11:17.431Z"
   },
   {
    "duration": 15,
    "start_time": "2021-06-08T17:11:17.441Z"
   },
   {
    "duration": 21,
    "start_time": "2021-06-08T17:11:17.458Z"
   },
   {
    "duration": 557,
    "start_time": "2021-06-08T17:11:17.481Z"
   },
   {
    "duration": 17,
    "start_time": "2021-06-08T17:11:18.040Z"
   },
   {
    "duration": 544,
    "start_time": "2021-06-08T17:11:18.059Z"
   },
   {
    "duration": 24,
    "start_time": "2021-06-08T17:11:18.606Z"
   },
   {
    "duration": 566,
    "start_time": "2021-06-08T17:11:18.633Z"
   },
   {
    "duration": 7389,
    "start_time": "2021-06-08T17:13:16.706Z"
   },
   {
    "duration": 6832,
    "start_time": "2021-06-08T17:15:24.143Z"
   },
   {
    "duration": 1526,
    "start_time": "2021-06-08T17:15:50.919Z"
   },
   {
    "duration": 1226,
    "start_time": "2021-06-08T17:16:02.246Z"
   },
   {
    "duration": 14,
    "start_time": "2021-06-08T17:16:12.185Z"
   },
   {
    "duration": 1272,
    "start_time": "2021-06-08T17:16:20.923Z"
   },
   {
    "duration": 1242,
    "start_time": "2021-06-08T17:16:33.640Z"
   },
   {
    "duration": 1720,
    "start_time": "2021-06-08T17:17:02.113Z"
   },
   {
    "duration": 702,
    "start_time": "2021-06-08T17:17:43.221Z"
   },
   {
    "duration": 1221,
    "start_time": "2021-06-08T17:18:07.009Z"
   },
   {
    "duration": 1369,
    "start_time": "2021-06-08T17:18:31.192Z"
   },
   {
    "duration": 1330,
    "start_time": "2021-06-08T17:18:53.569Z"
   },
   {
    "duration": 310,
    "start_time": "2021-06-08T17:21:25.600Z"
   },
   {
    "duration": 295,
    "start_time": "2021-06-08T17:22:33.578Z"
   },
   {
    "duration": 20,
    "start_time": "2021-06-08T17:22:40.417Z"
   },
   {
    "duration": 7244,
    "start_time": "2021-06-08T17:23:49.092Z"
   },
   {
    "duration": 16,
    "start_time": "2021-06-08T17:24:21.949Z"
   },
   {
    "duration": 1423,
    "start_time": "2021-06-08T17:24:44.715Z"
   },
   {
    "duration": 65,
    "start_time": "2021-06-08T17:24:46.142Z"
   },
   {
    "duration": 9,
    "start_time": "2021-06-08T17:24:46.213Z"
   },
   {
    "duration": 20,
    "start_time": "2021-06-08T17:24:46.224Z"
   },
   {
    "duration": 6,
    "start_time": "2021-06-08T17:24:46.247Z"
   },
   {
    "duration": 8,
    "start_time": "2021-06-08T17:24:46.256Z"
   },
   {
    "duration": 14,
    "start_time": "2021-06-08T17:24:46.267Z"
   },
   {
    "duration": 42,
    "start_time": "2021-06-08T17:24:46.284Z"
   },
   {
    "duration": 6,
    "start_time": "2021-06-08T17:24:46.328Z"
   },
   {
    "duration": 8,
    "start_time": "2021-06-08T17:24:46.337Z"
   },
   {
    "duration": 17,
    "start_time": "2021-06-08T17:24:46.347Z"
   },
   {
    "duration": 16,
    "start_time": "2021-06-08T17:24:46.367Z"
   },
   {
    "duration": 571,
    "start_time": "2021-06-08T17:24:46.386Z"
   },
   {
    "duration": 17,
    "start_time": "2021-06-08T17:24:46.959Z"
   },
   {
    "duration": 545,
    "start_time": "2021-06-08T17:24:46.979Z"
   },
   {
    "duration": 15,
    "start_time": "2021-06-08T17:24:47.527Z"
   },
   {
    "duration": 833,
    "start_time": "2021-06-08T17:24:47.545Z"
   },
   {
    "duration": 18,
    "start_time": "2021-06-08T17:26:15.662Z"
   },
   {
    "duration": 7049,
    "start_time": "2021-06-08T17:26:54.146Z"
   },
   {
    "duration": 1478,
    "start_time": "2021-06-08T17:28:18.125Z"
   },
   {
    "duration": 76,
    "start_time": "2021-06-08T17:28:19.606Z"
   },
   {
    "duration": 9,
    "start_time": "2021-06-08T17:28:19.684Z"
   },
   {
    "duration": 29,
    "start_time": "2021-06-08T17:28:19.696Z"
   },
   {
    "duration": 7,
    "start_time": "2021-06-08T17:28:19.728Z"
   },
   {
    "duration": 10,
    "start_time": "2021-06-08T17:28:19.738Z"
   },
   {
    "duration": 12,
    "start_time": "2021-06-08T17:28:19.752Z"
   },
   {
    "duration": 6,
    "start_time": "2021-06-08T17:28:19.770Z"
   },
   {
    "duration": 44,
    "start_time": "2021-06-08T17:28:19.780Z"
   },
   {
    "duration": 8,
    "start_time": "2021-06-08T17:28:19.828Z"
   },
   {
    "duration": 8,
    "start_time": "2021-06-08T17:28:19.839Z"
   },
   {
    "duration": 29,
    "start_time": "2021-06-08T17:28:19.850Z"
   },
   {
    "duration": 585,
    "start_time": "2021-06-08T17:28:19.882Z"
   },
   {
    "duration": 19,
    "start_time": "2021-06-08T17:28:20.470Z"
   },
   {
    "duration": 539,
    "start_time": "2021-06-08T17:28:20.491Z"
   },
   {
    "duration": 18,
    "start_time": "2021-06-08T17:28:21.033Z"
   },
   {
    "duration": 818,
    "start_time": "2021-06-08T17:28:21.054Z"
   },
   {
    "duration": 288,
    "start_time": "2021-06-08T17:30:33.905Z"
   },
   {
    "duration": 283,
    "start_time": "2021-06-08T17:31:07.759Z"
   },
   {
    "duration": 16,
    "start_time": "2021-06-08T17:32:51.163Z"
   },
   {
    "duration": 10,
    "start_time": "2021-06-08T17:33:49.584Z"
   },
   {
    "duration": 17,
    "start_time": "2021-06-08T17:33:56.833Z"
   },
   {
    "duration": 11,
    "start_time": "2021-06-08T17:35:02.391Z"
   },
   {
    "duration": 18,
    "start_time": "2021-06-08T17:35:12.079Z"
   },
   {
    "duration": 12,
    "start_time": "2021-06-08T17:36:06.366Z"
   },
   {
    "duration": 12,
    "start_time": "2021-06-08T17:36:24.200Z"
   },
   {
    "duration": 10,
    "start_time": "2021-06-08T17:38:20.420Z"
   },
   {
    "duration": 1484,
    "start_time": "2021-06-08T17:38:48.912Z"
   },
   {
    "duration": 56,
    "start_time": "2021-06-08T17:38:50.398Z"
   },
   {
    "duration": 9,
    "start_time": "2021-06-08T17:38:50.456Z"
   },
   {
    "duration": 18,
    "start_time": "2021-06-08T17:38:50.468Z"
   },
   {
    "duration": 6,
    "start_time": "2021-06-08T17:38:50.489Z"
   },
   {
    "duration": 8,
    "start_time": "2021-06-08T17:38:50.497Z"
   },
   {
    "duration": 25,
    "start_time": "2021-06-08T17:38:50.507Z"
   },
   {
    "duration": 8,
    "start_time": "2021-06-08T17:38:50.534Z"
   },
   {
    "duration": 4,
    "start_time": "2021-06-08T17:38:50.545Z"
   },
   {
    "duration": 11,
    "start_time": "2021-06-08T17:38:50.552Z"
   },
   {
    "duration": 10,
    "start_time": "2021-06-08T17:38:50.565Z"
   },
   {
    "duration": 26,
    "start_time": "2021-06-08T17:38:50.578Z"
   },
   {
    "duration": 558,
    "start_time": "2021-06-08T17:38:50.625Z"
   },
   {
    "duration": 16,
    "start_time": "2021-06-08T17:38:51.186Z"
   },
   {
    "duration": 526,
    "start_time": "2021-06-08T17:38:51.225Z"
   },
   {
    "duration": 10,
    "start_time": "2021-06-08T17:38:51.754Z"
   },
   {
    "duration": 368,
    "start_time": "2021-06-08T17:38:51.766Z"
   },
   {
    "duration": 18,
    "start_time": "2021-06-08T18:03:45.843Z"
   },
   {
    "duration": 45,
    "start_time": "2021-06-08T18:04:09.959Z"
   },
   {
    "duration": 361,
    "start_time": "2021-06-08T18:05:59.314Z"
   },
   {
    "duration": 19,
    "start_time": "2021-06-08T18:06:08.312Z"
   },
   {
    "duration": 575,
    "start_time": "2021-06-08T18:06:10.404Z"
   },
   {
    "duration": 1528,
    "start_time": "2021-06-09T09:42:18.883Z"
   },
   {
    "duration": 99,
    "start_time": "2021-06-09T09:42:20.413Z"
   },
   {
    "duration": 9,
    "start_time": "2021-06-09T09:42:20.515Z"
   },
   {
    "duration": 18,
    "start_time": "2021-06-09T09:42:20.528Z"
   },
   {
    "duration": 11,
    "start_time": "2021-06-09T09:42:20.549Z"
   },
   {
    "duration": 13,
    "start_time": "2021-06-09T09:42:20.563Z"
   },
   {
    "duration": 38,
    "start_time": "2021-06-09T09:42:20.579Z"
   },
   {
    "duration": 9,
    "start_time": "2021-06-09T09:42:20.621Z"
   },
   {
    "duration": 8,
    "start_time": "2021-06-09T09:42:20.633Z"
   },
   {
    "duration": 6,
    "start_time": "2021-06-09T09:42:20.644Z"
   },
   {
    "duration": 23,
    "start_time": "2021-06-09T09:42:20.652Z"
   },
   {
    "duration": 38,
    "start_time": "2021-06-09T09:42:20.677Z"
   },
   {
    "duration": 591,
    "start_time": "2021-06-09T09:42:20.718Z"
   },
   {
    "duration": 19,
    "start_time": "2021-06-09T09:42:21.312Z"
   },
   {
    "duration": 378,
    "start_time": "2021-06-09T09:42:21.333Z"
   },
   {
    "duration": 9,
    "start_time": "2021-06-09T09:42:21.714Z"
   },
   {
    "duration": 518,
    "start_time": "2021-06-09T09:42:21.726Z"
   },
   {
    "duration": 15,
    "start_time": "2021-06-09T09:42:51.297Z"
   },
   {
    "duration": 540,
    "start_time": "2021-06-09T09:42:54.648Z"
   },
   {
    "duration": 290,
    "start_time": "2021-06-09T09:46:15.072Z"
   },
   {
    "duration": 282,
    "start_time": "2021-06-09T09:46:23.682Z"
   },
   {
    "duration": 366,
    "start_time": "2021-06-09T09:46:51.854Z"
   },
   {
    "duration": 293,
    "start_time": "2021-06-09T09:46:59.008Z"
   },
   {
    "duration": 308,
    "start_time": "2021-06-09T09:47:57.893Z"
   },
   {
    "duration": 315,
    "start_time": "2021-06-09T09:48:05.690Z"
   },
   {
    "duration": 745,
    "start_time": "2021-06-09T09:48:17.167Z"
   },
   {
    "duration": 296,
    "start_time": "2021-06-09T09:48:40.975Z"
   },
   {
    "duration": 304,
    "start_time": "2021-06-09T09:49:16.392Z"
   },
   {
    "duration": 638,
    "start_time": "2021-06-09T09:49:44.528Z"
   },
   {
    "duration": 293,
    "start_time": "2021-06-09T09:50:43.830Z"
   },
   {
    "duration": 670,
    "start_time": "2021-06-09T09:52:10.409Z"
   },
   {
    "duration": 646,
    "start_time": "2021-06-09T09:52:15.739Z"
   },
   {
    "duration": 712,
    "start_time": "2021-06-09T09:52:23.200Z"
   },
   {
    "duration": 1276,
    "start_time": "2021-06-09T09:52:33.084Z"
   },
   {
    "duration": 729,
    "start_time": "2021-06-09T09:53:01.673Z"
   },
   {
    "duration": 562,
    "start_time": "2021-06-09T09:53:14.424Z"
   },
   {
    "duration": 1532,
    "start_time": "2021-06-09T10:16:23.978Z"
   },
   {
    "duration": 38,
    "start_time": "2021-06-09T10:16:25.512Z"
   },
   {
    "duration": 9,
    "start_time": "2021-06-09T10:16:25.553Z"
   },
   {
    "duration": 20,
    "start_time": "2021-06-09T10:16:25.565Z"
   },
   {
    "duration": 25,
    "start_time": "2021-06-09T10:16:25.587Z"
   },
   {
    "duration": 9,
    "start_time": "2021-06-09T10:16:25.614Z"
   },
   {
    "duration": 11,
    "start_time": "2021-06-09T10:16:25.625Z"
   },
   {
    "duration": 5,
    "start_time": "2021-06-09T10:16:25.640Z"
   },
   {
    "duration": 7,
    "start_time": "2021-06-09T10:16:25.647Z"
   },
   {
    "duration": 6,
    "start_time": "2021-06-09T10:16:25.656Z"
   },
   {
    "duration": 47,
    "start_time": "2021-06-09T10:16:25.664Z"
   },
   {
    "duration": 19,
    "start_time": "2021-06-09T10:16:25.713Z"
   },
   {
    "duration": 587,
    "start_time": "2021-06-09T10:16:25.734Z"
   },
   {
    "duration": 17,
    "start_time": "2021-06-09T10:16:26.324Z"
   },
   {
    "duration": 578,
    "start_time": "2021-06-09T10:16:26.344Z"
   },
   {
    "duration": 11,
    "start_time": "2021-06-09T10:16:26.924Z"
   },
   {
    "duration": 371,
    "start_time": "2021-06-09T10:16:26.937Z"
   },
   {
    "duration": 3,
    "start_time": "2021-06-09T10:21:22.734Z"
   },
   {
    "duration": 1526,
    "start_time": "2021-06-09T10:21:56.471Z"
   },
   {
    "duration": 45,
    "start_time": "2021-06-09T10:21:57.999Z"
   },
   {
    "duration": 8,
    "start_time": "2021-06-09T10:21:58.047Z"
   },
   {
    "duration": 16,
    "start_time": "2021-06-09T10:21:58.058Z"
   },
   {
    "duration": 6,
    "start_time": "2021-06-09T10:21:58.077Z"
   },
   {
    "duration": 29,
    "start_time": "2021-06-09T10:21:58.086Z"
   },
   {
    "duration": 12,
    "start_time": "2021-06-09T10:21:58.117Z"
   },
   {
    "duration": 5,
    "start_time": "2021-06-09T10:21:58.132Z"
   },
   {
    "duration": 4,
    "start_time": "2021-06-09T10:21:58.140Z"
   },
   {
    "duration": 8,
    "start_time": "2021-06-09T10:21:58.146Z"
   },
   {
    "duration": 6,
    "start_time": "2021-06-09T10:21:58.157Z"
   },
   {
    "duration": 57,
    "start_time": "2021-06-09T10:21:58.165Z"
   },
   {
    "duration": 588,
    "start_time": "2021-06-09T10:21:58.224Z"
   },
   {
    "duration": 16,
    "start_time": "2021-06-09T10:21:58.814Z"
   },
   {
    "duration": 559,
    "start_time": "2021-06-09T10:21:58.832Z"
   },
   {
    "duration": 1522,
    "start_time": "2021-06-09T10:37:27.183Z"
   },
   {
    "duration": 39,
    "start_time": "2021-06-09T10:37:28.709Z"
   },
   {
    "duration": 8,
    "start_time": "2021-06-09T10:37:28.751Z"
   },
   {
    "duration": 18,
    "start_time": "2021-06-09T10:37:28.762Z"
   },
   {
    "duration": 6,
    "start_time": "2021-06-09T10:37:28.782Z"
   },
   {
    "duration": 22,
    "start_time": "2021-06-09T10:37:28.791Z"
   },
   {
    "duration": 13,
    "start_time": "2021-06-09T10:37:28.816Z"
   },
   {
    "duration": 11,
    "start_time": "2021-06-09T10:37:28.831Z"
   },
   {
    "duration": 7,
    "start_time": "2021-06-09T10:37:28.846Z"
   },
   {
    "duration": 10,
    "start_time": "2021-06-09T10:37:28.856Z"
   },
   {
    "duration": 10,
    "start_time": "2021-06-09T10:37:28.869Z"
   },
   {
    "duration": 17,
    "start_time": "2021-06-09T10:37:28.910Z"
   },
   {
    "duration": 599,
    "start_time": "2021-06-09T10:37:28.930Z"
   },
   {
    "duration": 19,
    "start_time": "2021-06-09T10:37:29.532Z"
   },
   {
    "duration": 570,
    "start_time": "2021-06-09T10:37:29.554Z"
   },
   {
    "duration": 1573,
    "start_time": "2021-06-11T10:41:31.454Z"
   },
   {
    "duration": 185,
    "start_time": "2021-06-11T10:41:33.030Z"
   },
   {
    "duration": 9,
    "start_time": "2021-06-11T10:41:33.219Z"
   },
   {
    "duration": 20,
    "start_time": "2021-06-11T10:41:33.231Z"
   },
   {
    "duration": 10,
    "start_time": "2021-06-11T10:41:33.254Z"
   },
   {
    "duration": 12,
    "start_time": "2021-06-11T10:41:33.266Z"
   },
   {
    "duration": 12,
    "start_time": "2021-06-11T10:41:33.287Z"
   },
   {
    "duration": 6,
    "start_time": "2021-06-11T10:41:33.310Z"
   },
   {
    "duration": 12,
    "start_time": "2021-06-11T10:41:33.319Z"
   },
   {
    "duration": 8,
    "start_time": "2021-06-11T10:41:33.333Z"
   },
   {
    "duration": 9,
    "start_time": "2021-06-11T10:41:33.344Z"
   },
   {
    "duration": 38,
    "start_time": "2021-06-11T10:41:33.385Z"
   },
   {
    "duration": 592,
    "start_time": "2021-06-11T10:41:33.426Z"
   },
   {
    "duration": 19,
    "start_time": "2021-06-11T10:41:34.020Z"
   },
   {
    "duration": 603,
    "start_time": "2021-06-11T10:41:34.041Z"
   },
   {
    "duration": 301,
    "start_time": "2021-06-11T10:41:34.647Z"
   },
   {
    "duration": 10,
    "start_time": "2021-06-11T12:55:49.238Z"
   },
   {
    "duration": 13,
    "start_time": "2021-06-11T12:59:42.212Z"
   },
   {
    "duration": 37,
    "start_time": "2021-06-11T13:00:06.449Z"
   },
   {
    "duration": 545,
    "start_time": "2021-06-11T13:00:44.183Z"
   },
   {
    "duration": 12,
    "start_time": "2021-06-11T13:00:51.791Z"
   },
   {
    "duration": 8,
    "start_time": "2021-06-11T13:01:09.161Z"
   },
   {
    "duration": 11,
    "start_time": "2021-06-11T13:01:18.242Z"
   },
   {
    "duration": 370,
    "start_time": "2021-06-11T13:01:34.861Z"
   },
   {
    "duration": 7,
    "start_time": "2021-06-11T13:03:26.250Z"
   },
   {
    "duration": 4,
    "start_time": "2021-06-11T13:03:50.064Z"
   },
   {
    "duration": 7,
    "start_time": "2021-06-11T13:04:00.987Z"
   },
   {
    "duration": 303,
    "start_time": "2021-06-11T16:22:26.305Z"
   },
   {
    "duration": 1373,
    "start_time": "2021-06-11T16:22:34.183Z"
   },
   {
    "duration": 140,
    "start_time": "2021-06-11T16:22:35.558Z"
   },
   {
    "duration": 9,
    "start_time": "2021-06-11T16:22:35.701Z"
   },
   {
    "duration": 19,
    "start_time": "2021-06-11T16:22:35.713Z"
   },
   {
    "duration": 7,
    "start_time": "2021-06-11T16:22:35.735Z"
   },
   {
    "duration": 9,
    "start_time": "2021-06-11T16:22:35.744Z"
   },
   {
    "duration": 15,
    "start_time": "2021-06-11T16:22:35.756Z"
   },
   {
    "duration": 9,
    "start_time": "2021-06-11T16:22:35.775Z"
   },
   {
    "duration": 12,
    "start_time": "2021-06-11T16:22:35.787Z"
   },
   {
    "duration": 14,
    "start_time": "2021-06-11T16:22:35.802Z"
   },
   {
    "duration": 13,
    "start_time": "2021-06-11T16:22:35.818Z"
   },
   {
    "duration": 25,
    "start_time": "2021-06-11T16:22:35.834Z"
   },
   {
    "duration": 536,
    "start_time": "2021-06-11T16:22:35.862Z"
   },
   {
    "duration": 16,
    "start_time": "2021-06-11T16:22:36.401Z"
   },
   {
    "duration": 529,
    "start_time": "2021-06-11T16:22:36.419Z"
   },
   {
    "duration": 293,
    "start_time": "2021-06-11T16:22:36.950Z"
   },
   {
    "duration": 8,
    "start_time": "2021-06-11T16:22:37.246Z"
   },
   {
    "duration": 19,
    "start_time": "2021-06-11T16:22:37.256Z"
   },
   {
    "duration": 12,
    "start_time": "2021-06-11T16:22:37.278Z"
   },
   {
    "duration": 13,
    "start_time": "2021-06-11T16:22:37.292Z"
   },
   {
    "duration": 3,
    "start_time": "2021-06-11T16:23:25.920Z"
   },
   {
    "duration": 391,
    "start_time": "2021-06-11T16:24:08.936Z"
   },
   {
    "duration": 263,
    "start_time": "2021-06-11T16:24:37.136Z"
   },
   {
    "duration": 4,
    "start_time": "2021-06-11T16:24:48.669Z"
   },
   {
    "duration": 279,
    "start_time": "2021-06-11T16:24:51.736Z"
   },
   {
    "duration": 4,
    "start_time": "2021-06-11T16:25:19.186Z"
   },
   {
    "duration": 1837,
    "start_time": "2021-06-11T16:25:25.587Z"
   },
   {
    "duration": 79,
    "start_time": "2021-06-11T16:25:27.427Z"
   },
   {
    "duration": 8,
    "start_time": "2021-06-11T16:25:27.509Z"
   },
   {
    "duration": 23,
    "start_time": "2021-06-11T16:25:27.520Z"
   },
   {
    "duration": 11,
    "start_time": "2021-06-11T16:25:27.545Z"
   },
   {
    "duration": 9,
    "start_time": "2021-06-11T16:25:27.558Z"
   },
   {
    "duration": 15,
    "start_time": "2021-06-11T16:25:27.569Z"
   },
   {
    "duration": 7,
    "start_time": "2021-06-11T16:25:27.588Z"
   },
   {
    "duration": 7,
    "start_time": "2021-06-11T16:25:27.597Z"
   },
   {
    "duration": 9,
    "start_time": "2021-06-11T16:25:27.606Z"
   },
   {
    "duration": 10,
    "start_time": "2021-06-11T16:25:27.617Z"
   },
   {
    "duration": 39,
    "start_time": "2021-06-11T16:25:27.629Z"
   },
   {
    "duration": 664,
    "start_time": "2021-06-11T16:25:27.670Z"
   },
   {
    "duration": 29,
    "start_time": "2021-06-11T16:25:28.337Z"
   },
   {
    "duration": 520,
    "start_time": "2021-06-11T16:25:28.369Z"
   },
   {
    "duration": 127,
    "start_time": "2021-06-11T16:25:28.892Z"
   },
   {
    "duration": 8,
    "start_time": "2021-06-11T16:25:29.021Z"
   },
   {
    "duration": 16,
    "start_time": "2021-06-11T16:25:29.031Z"
   },
   {
    "duration": 14,
    "start_time": "2021-06-11T16:25:29.049Z"
   },
   {
    "duration": 9,
    "start_time": "2021-06-11T16:25:29.065Z"
   },
   {
    "duration": 8,
    "start_time": "2021-06-11T16:25:29.077Z"
   },
   {
    "duration": 9,
    "start_time": "2021-06-11T16:25:29.087Z"
   },
   {
    "duration": 369,
    "start_time": "2021-06-11T16:26:46.244Z"
   },
   {
    "duration": 5,
    "start_time": "2021-06-11T16:26:50.493Z"
   },
   {
    "duration": 5,
    "start_time": "2021-06-11T16:33:28.223Z"
   },
   {
    "duration": 1481,
    "start_time": "2021-06-11T16:37:38.266Z"
   },
   {
    "duration": 1189,
    "start_time": "2021-06-11T16:38:22.955Z"
   },
   {
    "duration": 4,
    "start_time": "2021-06-11T16:40:44.053Z"
   },
   {
    "duration": 1137,
    "start_time": "2021-06-11T16:40:49.259Z"
   },
   {
    "duration": 1134,
    "start_time": "2021-06-11T16:41:02.561Z"
   },
   {
    "duration": 1177,
    "start_time": "2021-06-11T16:42:19.668Z"
   },
   {
    "duration": 1165,
    "start_time": "2021-06-11T16:42:56.674Z"
   },
   {
    "duration": 1102,
    "start_time": "2021-06-11T16:44:13.371Z"
   },
   {
    "duration": 1436,
    "start_time": "2021-06-11T16:52:35.458Z"
   },
   {
    "duration": 88,
    "start_time": "2021-06-11T16:52:36.897Z"
   },
   {
    "duration": 9,
    "start_time": "2021-06-11T16:52:36.988Z"
   },
   {
    "duration": 20,
    "start_time": "2021-06-11T16:52:37.000Z"
   },
   {
    "duration": 6,
    "start_time": "2021-06-11T16:52:37.022Z"
   },
   {
    "duration": 10,
    "start_time": "2021-06-11T16:52:37.031Z"
   },
   {
    "duration": 18,
    "start_time": "2021-06-11T16:52:37.044Z"
   },
   {
    "duration": 7,
    "start_time": "2021-06-11T16:52:37.068Z"
   },
   {
    "duration": 9,
    "start_time": "2021-06-11T16:52:37.078Z"
   },
   {
    "duration": 8,
    "start_time": "2021-06-11T16:52:37.089Z"
   },
   {
    "duration": 10,
    "start_time": "2021-06-11T16:52:37.099Z"
   },
   {
    "duration": 56,
    "start_time": "2021-06-11T16:52:37.111Z"
   },
   {
    "duration": 568,
    "start_time": "2021-06-11T16:52:37.170Z"
   },
   {
    "duration": 27,
    "start_time": "2021-06-11T16:52:37.740Z"
   },
   {
    "duration": 515,
    "start_time": "2021-06-11T16:52:37.770Z"
   },
   {
    "duration": 136,
    "start_time": "2021-06-11T16:52:38.288Z"
   },
   {
    "duration": 8,
    "start_time": "2021-06-11T16:52:38.426Z"
   },
   {
    "duration": 23,
    "start_time": "2021-06-11T16:52:38.436Z"
   },
   {
    "duration": 9,
    "start_time": "2021-06-11T16:52:38.462Z"
   },
   {
    "duration": 8,
    "start_time": "2021-06-11T16:52:38.473Z"
   },
   {
    "duration": 9,
    "start_time": "2021-06-11T16:52:38.483Z"
   },
   {
    "duration": 11,
    "start_time": "2021-06-11T16:52:38.495Z"
   },
   {
    "duration": 10,
    "start_time": "2021-06-11T16:52:38.512Z"
   },
   {
    "duration": 31,
    "start_time": "2021-06-11T16:52:38.526Z"
   },
   {
    "duration": 23,
    "start_time": "2021-06-11T16:52:38.559Z"
   },
   {
    "duration": 10,
    "start_time": "2021-06-11T16:55:29.930Z"
   },
   {
    "duration": 11,
    "start_time": "2021-06-11T16:56:03.440Z"
   },
   {
    "duration": 1332,
    "start_time": "2021-06-11T17:03:28.549Z"
   },
   {
    "duration": 1420,
    "start_time": "2021-06-11T17:03:37.239Z"
   },
   {
    "duration": 75,
    "start_time": "2021-06-11T17:03:38.661Z"
   },
   {
    "duration": 9,
    "start_time": "2021-06-11T17:03:38.739Z"
   },
   {
    "duration": 18,
    "start_time": "2021-06-11T17:03:38.751Z"
   },
   {
    "duration": 8,
    "start_time": "2021-06-11T17:03:38.772Z"
   },
   {
    "duration": 15,
    "start_time": "2021-06-11T17:03:38.782Z"
   },
   {
    "duration": 15,
    "start_time": "2021-06-11T17:03:38.800Z"
   },
   {
    "duration": 7,
    "start_time": "2021-06-11T17:03:38.819Z"
   },
   {
    "duration": 3,
    "start_time": "2021-06-11T17:03:38.856Z"
   },
   {
    "duration": 9,
    "start_time": "2021-06-11T17:03:38.862Z"
   },
   {
    "duration": 10,
    "start_time": "2021-06-11T17:03:38.874Z"
   },
   {
    "duration": 21,
    "start_time": "2021-06-11T17:03:38.886Z"
   },
   {
    "duration": 562,
    "start_time": "2021-06-11T17:03:38.909Z"
   },
   {
    "duration": 17,
    "start_time": "2021-06-11T17:03:39.473Z"
   },
   {
    "duration": 794,
    "start_time": "2021-06-11T17:03:39.494Z"
   },
   {
    "duration": 142,
    "start_time": "2021-06-11T17:03:40.291Z"
   },
   {
    "duration": 11,
    "start_time": "2021-06-11T17:03:40.436Z"
   },
   {
    "duration": 18,
    "start_time": "2021-06-11T17:03:40.449Z"
   },
   {
    "duration": 9,
    "start_time": "2021-06-11T17:03:40.469Z"
   },
   {
    "duration": 7,
    "start_time": "2021-06-11T17:03:40.480Z"
   },
   {
    "duration": 11,
    "start_time": "2021-06-11T17:03:40.489Z"
   },
   {
    "duration": 9,
    "start_time": "2021-06-11T17:03:40.503Z"
   },
   {
    "duration": 46,
    "start_time": "2021-06-11T17:03:40.516Z"
   },
   {
    "duration": 8,
    "start_time": "2021-06-11T17:03:40.564Z"
   },
   {
    "duration": 23,
    "start_time": "2021-06-11T17:03:40.574Z"
   },
   {
    "duration": 13,
    "start_time": "2021-06-11T17:04:12.081Z"
   },
   {
    "duration": 8,
    "start_time": "2021-06-11T17:10:52.036Z"
   },
   {
    "duration": 10,
    "start_time": "2021-06-11T17:11:26.615Z"
   },
   {
    "duration": 18,
    "start_time": "2021-06-11T17:22:34.276Z"
   },
   {
    "duration": 5,
    "start_time": "2021-06-11T17:23:29.070Z"
   },
   {
    "duration": 5,
    "start_time": "2021-06-11T17:24:17.894Z"
   },
   {
    "duration": 6,
    "start_time": "2021-06-11T17:25:27.145Z"
   },
   {
    "duration": 9,
    "start_time": "2021-06-11T17:26:10.590Z"
   },
   {
    "duration": 1384,
    "start_time": "2021-06-13T08:57:30.186Z"
   },
   {
    "duration": 179,
    "start_time": "2021-06-13T08:57:31.572Z"
   },
   {
    "duration": 8,
    "start_time": "2021-06-13T08:57:31.754Z"
   },
   {
    "duration": 17,
    "start_time": "2021-06-13T08:57:31.765Z"
   },
   {
    "duration": 11,
    "start_time": "2021-06-13T08:57:31.785Z"
   },
   {
    "duration": 14,
    "start_time": "2021-06-13T08:57:31.798Z"
   },
   {
    "duration": 15,
    "start_time": "2021-06-13T08:57:31.815Z"
   },
   {
    "duration": 5,
    "start_time": "2021-06-13T08:57:31.856Z"
   },
   {
    "duration": 5,
    "start_time": "2021-06-13T08:57:31.864Z"
   },
   {
    "duration": 8,
    "start_time": "2021-06-13T08:57:31.871Z"
   },
   {
    "duration": 7,
    "start_time": "2021-06-13T08:57:31.882Z"
   },
   {
    "duration": 16,
    "start_time": "2021-06-13T08:57:31.891Z"
   },
   {
    "duration": 557,
    "start_time": "2021-06-13T08:57:31.909Z"
   },
   {
    "duration": 15,
    "start_time": "2021-06-13T08:57:32.469Z"
   },
   {
    "duration": 523,
    "start_time": "2021-06-13T08:57:32.486Z"
   },
   {
    "duration": 498,
    "start_time": "2021-06-13T08:57:33.011Z"
   },
   {
    "duration": 8,
    "start_time": "2021-06-13T08:57:33.511Z"
   },
   {
    "duration": 13,
    "start_time": "2021-06-13T08:57:33.521Z"
   },
   {
    "duration": 6,
    "start_time": "2021-06-13T08:57:33.537Z"
   },
   {
    "duration": 5,
    "start_time": "2021-06-13T08:57:33.545Z"
   },
   {
    "duration": 7,
    "start_time": "2021-06-13T08:57:33.552Z"
   },
   {
    "duration": 14,
    "start_time": "2021-06-13T08:57:33.561Z"
   },
   {
    "duration": 5,
    "start_time": "2021-06-13T08:57:33.579Z"
   },
   {
    "duration": 5,
    "start_time": "2021-06-13T08:57:33.586Z"
   },
   {
    "duration": 21,
    "start_time": "2021-06-13T08:57:33.593Z"
   },
   {
    "duration": 8,
    "start_time": "2021-06-13T08:57:33.616Z"
   },
   {
    "duration": 35,
    "start_time": "2021-06-13T08:57:33.626Z"
   },
   {
    "duration": 12,
    "start_time": "2021-06-13T08:57:33.664Z"
   },
   {
    "duration": 18,
    "start_time": "2021-06-13T08:57:33.678Z"
   },
   {
    "duration": 7,
    "start_time": "2021-06-13T08:57:33.699Z"
   },
   {
    "duration": 9,
    "start_time": "2021-06-13T08:57:33.708Z"
   },
   {
    "duration": 8,
    "start_time": "2021-06-13T08:57:33.755Z"
   },
   {
    "duration": 5,
    "start_time": "2021-06-13T09:01:07.417Z"
   },
   {
    "duration": 6,
    "start_time": "2021-06-13T09:01:42.529Z"
   },
   {
    "duration": 2271,
    "start_time": "2021-06-13T09:02:04.278Z"
   },
   {
    "duration": 1352,
    "start_time": "2021-06-13T09:02:15.523Z"
   },
   {
    "duration": 75,
    "start_time": "2021-06-13T09:02:16.877Z"
   },
   {
    "duration": 9,
    "start_time": "2021-06-13T09:02:16.955Z"
   },
   {
    "duration": 21,
    "start_time": "2021-06-13T09:02:16.966Z"
   },
   {
    "duration": 6,
    "start_time": "2021-06-13T09:02:16.989Z"
   },
   {
    "duration": 7,
    "start_time": "2021-06-13T09:02:16.997Z"
   },
   {
    "duration": 11,
    "start_time": "2021-06-13T09:02:17.006Z"
   },
   {
    "duration": 39,
    "start_time": "2021-06-13T09:02:17.020Z"
   },
   {
    "duration": 7,
    "start_time": "2021-06-13T09:02:17.061Z"
   },
   {
    "duration": 13,
    "start_time": "2021-06-13T09:02:17.070Z"
   },
   {
    "duration": 11,
    "start_time": "2021-06-13T09:02:17.085Z"
   },
   {
    "duration": 22,
    "start_time": "2021-06-13T09:02:17.098Z"
   },
   {
    "duration": 577,
    "start_time": "2021-06-13T09:02:17.122Z"
   },
   {
    "duration": 14,
    "start_time": "2021-06-13T09:02:17.701Z"
   },
   {
    "duration": 515,
    "start_time": "2021-06-13T09:02:17.717Z"
   },
   {
    "duration": 112,
    "start_time": "2021-06-13T09:02:18.234Z"
   },
   {
    "duration": 8,
    "start_time": "2021-06-13T09:02:18.348Z"
   },
   {
    "duration": 14,
    "start_time": "2021-06-13T09:02:18.358Z"
   },
   {
    "duration": 7,
    "start_time": "2021-06-13T09:02:18.375Z"
   },
   {
    "duration": 7,
    "start_time": "2021-06-13T09:02:18.384Z"
   },
   {
    "duration": 8,
    "start_time": "2021-06-13T09:02:18.393Z"
   },
   {
    "duration": 8,
    "start_time": "2021-06-13T09:02:18.403Z"
   },
   {
    "duration": 8,
    "start_time": "2021-06-13T09:02:18.415Z"
   },
   {
    "duration": 32,
    "start_time": "2021-06-13T09:02:18.426Z"
   },
   {
    "duration": 1322,
    "start_time": "2021-06-13T09:02:18.460Z"
   },
   {
    "duration": -36,
    "start_time": "2021-06-13T09:02:19.821Z"
   },
   {
    "duration": -40,
    "start_time": "2021-06-13T09:02:19.826Z"
   },
   {
    "duration": -40,
    "start_time": "2021-06-13T09:02:19.828Z"
   },
   {
    "duration": -41,
    "start_time": "2021-06-13T09:02:19.830Z"
   },
   {
    "duration": -40,
    "start_time": "2021-06-13T09:02:19.831Z"
   },
   {
    "duration": -41,
    "start_time": "2021-06-13T09:02:19.833Z"
   },
   {
    "duration": -42,
    "start_time": "2021-06-13T09:02:19.836Z"
   },
   {
    "duration": -43,
    "start_time": "2021-06-13T09:02:19.838Z"
   },
   {
    "duration": 1410,
    "start_time": "2021-06-13T09:02:35.255Z"
   },
   {
    "duration": 64,
    "start_time": "2021-06-13T09:02:36.667Z"
   },
   {
    "duration": 8,
    "start_time": "2021-06-13T09:02:36.734Z"
   },
   {
    "duration": 22,
    "start_time": "2021-06-13T09:02:36.745Z"
   },
   {
    "duration": 5,
    "start_time": "2021-06-13T09:02:36.770Z"
   },
   {
    "duration": 10,
    "start_time": "2021-06-13T09:02:36.778Z"
   },
   {
    "duration": 13,
    "start_time": "2021-06-13T09:02:36.790Z"
   },
   {
    "duration": 7,
    "start_time": "2021-06-13T09:02:36.806Z"
   },
   {
    "duration": 39,
    "start_time": "2021-06-13T09:02:36.816Z"
   },
   {
    "duration": 6,
    "start_time": "2021-06-13T09:02:36.857Z"
   },
   {
    "duration": 12,
    "start_time": "2021-06-13T09:02:36.865Z"
   },
   {
    "duration": 16,
    "start_time": "2021-06-13T09:02:36.879Z"
   },
   {
    "duration": 636,
    "start_time": "2021-06-13T09:02:36.897Z"
   },
   {
    "duration": 26,
    "start_time": "2021-06-13T09:02:37.535Z"
   },
   {
    "duration": 495,
    "start_time": "2021-06-13T09:02:37.564Z"
   },
   {
    "duration": 127,
    "start_time": "2021-06-13T09:02:38.061Z"
   },
   {
    "duration": 8,
    "start_time": "2021-06-13T09:02:38.190Z"
   },
   {
    "duration": 14,
    "start_time": "2021-06-13T09:02:38.200Z"
   },
   {
    "duration": 11,
    "start_time": "2021-06-13T09:02:38.217Z"
   },
   {
    "duration": 6,
    "start_time": "2021-06-13T09:02:38.231Z"
   },
   {
    "duration": 8,
    "start_time": "2021-06-13T09:02:38.240Z"
   },
   {
    "duration": 7,
    "start_time": "2021-06-13T09:02:38.251Z"
   },
   {
    "duration": 6,
    "start_time": "2021-06-13T09:02:38.262Z"
   },
   {
    "duration": 6,
    "start_time": "2021-06-13T09:02:38.271Z"
   },
   {
    "duration": 23,
    "start_time": "2021-06-13T09:02:38.279Z"
   },
   {
    "duration": 14,
    "start_time": "2021-06-13T09:02:38.305Z"
   },
   {
    "duration": 37,
    "start_time": "2021-06-13T09:02:38.321Z"
   },
   {
    "duration": 8,
    "start_time": "2021-06-13T09:02:38.361Z"
   },
   {
    "duration": 11,
    "start_time": "2021-06-13T09:02:38.372Z"
   },
   {
    "duration": 15,
    "start_time": "2021-06-13T09:02:38.385Z"
   },
   {
    "duration": 5,
    "start_time": "2021-06-13T09:02:38.403Z"
   },
   {
    "duration": 46,
    "start_time": "2021-06-13T09:02:38.410Z"
   },
   {
    "duration": 8,
    "start_time": "2021-06-13T09:02:38.458Z"
   },
   {
    "duration": 388,
    "start_time": "2021-06-13T09:03:12.319Z"
   },
   {
    "duration": 269,
    "start_time": "2021-06-13T09:03:18.738Z"
   },
   {
    "duration": 6,
    "start_time": "2021-06-13T09:03:25.094Z"
   },
   {
    "duration": -31,
    "start_time": "2021-06-13T09:04:51.499Z"
   },
   {
    "duration": 1373,
    "start_time": "2021-06-13T09:04:51.538Z"
   },
   {
    "duration": 67,
    "start_time": "2021-06-13T09:04:52.914Z"
   },
   {
    "duration": 9,
    "start_time": "2021-06-13T09:04:52.984Z"
   },
   {
    "duration": 18,
    "start_time": "2021-06-13T09:04:52.996Z"
   },
   {
    "duration": 7,
    "start_time": "2021-06-13T09:04:53.017Z"
   },
   {
    "duration": 29,
    "start_time": "2021-06-13T09:04:53.027Z"
   },
   {
    "duration": 21,
    "start_time": "2021-06-13T09:04:53.059Z"
   },
   {
    "duration": 5,
    "start_time": "2021-06-13T09:04:53.084Z"
   },
   {
    "duration": 7,
    "start_time": "2021-06-13T09:04:53.092Z"
   },
   {
    "duration": 6,
    "start_time": "2021-06-13T09:04:53.101Z"
   },
   {
    "duration": 6,
    "start_time": "2021-06-13T09:04:53.110Z"
   },
   {
    "duration": 48,
    "start_time": "2021-06-13T09:04:53.119Z"
   },
   {
    "duration": 574,
    "start_time": "2021-06-13T09:04:53.169Z"
   },
   {
    "duration": 21,
    "start_time": "2021-06-13T09:04:53.745Z"
   },
   {
    "duration": 536,
    "start_time": "2021-06-13T09:04:53.768Z"
   },
   {
    "duration": 125,
    "start_time": "2021-06-13T09:04:54.307Z"
   },
   {
    "duration": 8,
    "start_time": "2021-06-13T09:04:54.434Z"
   },
   {
    "duration": 20,
    "start_time": "2021-06-13T09:04:54.444Z"
   },
   {
    "duration": 8,
    "start_time": "2021-06-13T09:04:54.467Z"
   },
   {
    "duration": 4,
    "start_time": "2021-06-13T09:04:54.477Z"
   },
   {
    "duration": 6,
    "start_time": "2021-06-13T09:04:54.484Z"
   },
   {
    "duration": 8,
    "start_time": "2021-06-13T09:04:54.492Z"
   },
   {
    "duration": 4,
    "start_time": "2021-06-13T09:04:54.506Z"
   },
   {
    "duration": 5,
    "start_time": "2021-06-13T09:04:54.557Z"
   },
   {
    "duration": 24,
    "start_time": "2021-06-13T09:04:54.565Z"
   },
   {
    "duration": 11,
    "start_time": "2021-06-13T09:04:54.592Z"
   },
   {
    "duration": 6,
    "start_time": "2021-06-13T09:04:54.606Z"
   },
   {
    "duration": 46,
    "start_time": "2021-06-13T09:04:54.616Z"
   },
   {
    "duration": 12,
    "start_time": "2021-06-13T09:04:54.664Z"
   },
   {
    "duration": 18,
    "start_time": "2021-06-13T09:04:54.679Z"
   },
   {
    "duration": 6,
    "start_time": "2021-06-13T09:04:54.699Z"
   },
   {
    "duration": 48,
    "start_time": "2021-06-13T09:04:54.708Z"
   },
   {
    "duration": 9,
    "start_time": "2021-06-13T09:04:54.758Z"
   },
   {
    "duration": 6,
    "start_time": "2021-06-13T09:15:39.201Z"
   },
   {
    "duration": 888,
    "start_time": "2021-06-13T09:44:39.709Z"
   },
   {
    "duration": 558,
    "start_time": "2021-06-13T09:45:17.779Z"
   },
   {
    "duration": 519,
    "start_time": "2021-06-13T09:46:17.677Z"
   },
   {
    "duration": 459,
    "start_time": "2021-06-13T09:46:37.125Z"
   },
   {
    "duration": 8,
    "start_time": "2021-06-13T09:49:20.136Z"
   },
   {
    "duration": 484,
    "start_time": "2021-06-13T09:52:03.486Z"
   },
   {
    "duration": 452,
    "start_time": "2021-06-13T12:16:29.107Z"
   },
   {
    "duration": 472,
    "start_time": "2021-06-13T12:16:54.306Z"
   },
   {
    "duration": 550,
    "start_time": "2021-06-13T12:17:04.420Z"
   },
   {
    "duration": 631,
    "start_time": "2021-06-13T12:19:44.554Z"
   },
   {
    "duration": 257,
    "start_time": "2021-06-13T14:33:33.357Z"
   },
   {
    "duration": 171,
    "start_time": "2021-06-13T14:33:46.103Z"
   },
   {
    "duration": 183,
    "start_time": "2021-06-13T14:33:53.326Z"
   },
   {
    "duration": 1139,
    "start_time": "2021-06-13T14:34:04.279Z"
   },
   {
    "duration": 116,
    "start_time": "2021-06-13T14:34:05.420Z"
   },
   {
    "duration": 7,
    "start_time": "2021-06-13T14:34:05.538Z"
   },
   {
    "duration": 13,
    "start_time": "2021-06-13T14:34:05.547Z"
   },
   {
    "duration": 6,
    "start_time": "2021-06-13T14:34:05.562Z"
   },
   {
    "duration": 11,
    "start_time": "2021-06-13T14:34:05.569Z"
   },
   {
    "duration": 8,
    "start_time": "2021-06-13T14:34:05.581Z"
   },
   {
    "duration": 5,
    "start_time": "2021-06-13T14:34:05.591Z"
   },
   {
    "duration": 4,
    "start_time": "2021-06-13T14:34:05.598Z"
   },
   {
    "duration": 6,
    "start_time": "2021-06-13T14:34:05.604Z"
   },
   {
    "duration": 8,
    "start_time": "2021-06-13T14:34:05.612Z"
   },
   {
    "duration": 15,
    "start_time": "2021-06-13T14:34:05.622Z"
   },
   {
    "duration": 401,
    "start_time": "2021-06-13T14:34:05.639Z"
   },
   {
    "duration": 13,
    "start_time": "2021-06-13T14:34:06.041Z"
   },
   {
    "duration": 377,
    "start_time": "2021-06-13T14:34:06.055Z"
   },
   {
    "duration": 168,
    "start_time": "2021-06-13T14:34:06.434Z"
   },
   {
    "duration": 6,
    "start_time": "2021-06-13T14:34:06.603Z"
   },
   {
    "duration": 11,
    "start_time": "2021-06-13T14:34:06.611Z"
   },
   {
    "duration": 7,
    "start_time": "2021-06-13T14:34:06.623Z"
   },
   {
    "duration": 4,
    "start_time": "2021-06-13T14:34:06.632Z"
   },
   {
    "duration": 6,
    "start_time": "2021-06-13T14:34:06.638Z"
   },
   {
    "duration": 10,
    "start_time": "2021-06-13T14:34:06.645Z"
   },
   {
    "duration": 7,
    "start_time": "2021-06-13T14:34:06.658Z"
   },
   {
    "duration": 19,
    "start_time": "2021-06-13T14:34:06.666Z"
   },
   {
    "duration": 15,
    "start_time": "2021-06-13T14:34:06.686Z"
   },
   {
    "duration": 12,
    "start_time": "2021-06-13T14:34:06.703Z"
   },
   {
    "duration": 6,
    "start_time": "2021-06-13T14:34:06.717Z"
   },
   {
    "duration": 11,
    "start_time": "2021-06-13T14:34:06.725Z"
   },
   {
    "duration": 12,
    "start_time": "2021-06-13T14:34:06.737Z"
   },
   {
    "duration": 20,
    "start_time": "2021-06-13T14:34:06.750Z"
   },
   {
    "duration": 16,
    "start_time": "2021-06-13T14:34:06.772Z"
   },
   {
    "duration": 7,
    "start_time": "2021-06-13T14:34:06.789Z"
   },
   {
    "duration": 9,
    "start_time": "2021-06-13T14:34:06.798Z"
   },
   {
    "duration": 6,
    "start_time": "2021-06-13T14:34:06.809Z"
   },
   {
    "duration": 355,
    "start_time": "2021-06-13T14:34:06.816Z"
   },
   {
    "duration": 358,
    "start_time": "2021-06-13T14:34:16.875Z"
   },
   {
    "duration": 480,
    "start_time": "2021-06-13T14:34:31.688Z"
   },
   {
    "duration": 252,
    "start_time": "2021-06-13T14:34:57.527Z"
   },
   {
    "duration": 494,
    "start_time": "2021-06-13T14:37:19.376Z"
   },
   {
    "duration": 712,
    "start_time": "2021-06-13T14:37:50.647Z"
   },
   {
    "duration": 457,
    "start_time": "2021-06-13T14:38:03.213Z"
   },
   {
    "duration": 3,
    "start_time": "2021-06-13T14:41:26.541Z"
   },
   {
    "duration": 1049,
    "start_time": "2021-06-13T14:41:56.942Z"
   },
   {
    "duration": 58,
    "start_time": "2021-06-13T14:41:57.993Z"
   },
   {
    "duration": 6,
    "start_time": "2021-06-13T14:41:58.053Z"
   },
   {
    "duration": 13,
    "start_time": "2021-06-13T14:41:58.061Z"
   },
   {
    "duration": 6,
    "start_time": "2021-06-13T14:41:58.075Z"
   },
   {
    "duration": 6,
    "start_time": "2021-06-13T14:41:58.083Z"
   },
   {
    "duration": 8,
    "start_time": "2021-06-13T14:41:58.091Z"
   },
   {
    "duration": 4,
    "start_time": "2021-06-13T14:41:58.102Z"
   },
   {
    "duration": 2,
    "start_time": "2021-06-13T14:41:58.109Z"
   },
   {
    "duration": 4,
    "start_time": "2021-06-13T14:41:58.113Z"
   },
   {
    "duration": 6,
    "start_time": "2021-06-13T14:41:58.119Z"
   },
   {
    "duration": 13,
    "start_time": "2021-06-13T14:41:58.127Z"
   },
   {
    "duration": 430,
    "start_time": "2021-06-13T14:41:58.142Z"
   },
   {
    "duration": 16,
    "start_time": "2021-06-13T14:41:58.574Z"
   },
   {
    "duration": 356,
    "start_time": "2021-06-13T14:41:58.592Z"
   },
   {
    "duration": 84,
    "start_time": "2021-06-13T14:41:58.949Z"
   },
   {
    "duration": 7,
    "start_time": "2021-06-13T14:41:59.035Z"
   },
   {
    "duration": 10,
    "start_time": "2021-06-13T14:41:59.044Z"
   },
   {
    "duration": 5,
    "start_time": "2021-06-13T14:41:59.055Z"
   },
   {
    "duration": 3,
    "start_time": "2021-06-13T14:41:59.062Z"
   },
   {
    "duration": 5,
    "start_time": "2021-06-13T14:41:59.067Z"
   },
   {
    "duration": 7,
    "start_time": "2021-06-13T14:41:59.074Z"
   },
   {
    "duration": 4,
    "start_time": "2021-06-13T14:41:59.084Z"
   },
   {
    "duration": 3,
    "start_time": "2021-06-13T14:41:59.090Z"
   },
   {
    "duration": 15,
    "start_time": "2021-06-13T14:41:59.095Z"
   },
   {
    "duration": 7,
    "start_time": "2021-06-13T14:41:59.112Z"
   },
   {
    "duration": 5,
    "start_time": "2021-06-13T14:41:59.121Z"
   },
   {
    "duration": 7,
    "start_time": "2021-06-13T14:41:59.128Z"
   },
   {
    "duration": 7,
    "start_time": "2021-06-13T14:41:59.137Z"
   },
   {
    "duration": 13,
    "start_time": "2021-06-13T14:41:59.184Z"
   },
   {
    "duration": 3,
    "start_time": "2021-06-13T14:41:59.199Z"
   },
   {
    "duration": 9,
    "start_time": "2021-06-13T14:41:59.204Z"
   },
   {
    "duration": 7,
    "start_time": "2021-06-13T14:41:59.215Z"
   },
   {
    "duration": 6,
    "start_time": "2021-06-13T14:41:59.223Z"
   },
   {
    "duration": 496,
    "start_time": "2021-06-13T14:41:59.231Z"
   },
   {
    "duration": 4,
    "start_time": "2021-06-13T14:58:59.598Z"
   },
   {
    "duration": 264,
    "start_time": "2021-06-13T15:06:24.956Z"
   },
   {
    "duration": 12,
    "start_time": "2021-06-13T15:06:37.576Z"
   },
   {
    "duration": 10,
    "start_time": "2021-06-13T15:07:49.762Z"
   },
   {
    "duration": 9,
    "start_time": "2021-06-13T15:09:11.515Z"
   },
   {
    "duration": 12,
    "start_time": "2021-06-13T15:09:23.044Z"
   },
   {
    "duration": 12,
    "start_time": "2021-06-13T15:09:32.694Z"
   },
   {
    "duration": 10,
    "start_time": "2021-06-13T15:09:49.573Z"
   },
   {
    "duration": 10,
    "start_time": "2021-06-13T15:09:58.965Z"
   },
   {
    "duration": 9,
    "start_time": "2021-06-13T15:10:03.910Z"
   },
   {
    "duration": 10,
    "start_time": "2021-06-13T15:10:44.107Z"
   },
   {
    "duration": 12,
    "start_time": "2021-06-13T15:10:54.254Z"
   },
   {
    "duration": 12,
    "start_time": "2021-06-13T15:11:38.469Z"
   },
   {
    "duration": 4449,
    "start_time": "2021-06-13T15:50:54.792Z"
   },
   {
    "duration": 353,
    "start_time": "2021-06-13T16:05:22.587Z"
   },
   {
    "duration": 207,
    "start_time": "2021-06-13T16:10:26.370Z"
   },
   {
    "duration": 280,
    "start_time": "2021-06-13T16:10:42.480Z"
   },
   {
    "duration": 302,
    "start_time": "2021-06-13T16:10:58.920Z"
   },
   {
    "duration": 3,
    "start_time": "2021-06-13T16:18:35.465Z"
   },
   {
    "duration": 196,
    "start_time": "2021-06-13T16:20:25.763Z"
   },
   {
    "duration": 298,
    "start_time": "2021-06-13T16:21:18.093Z"
   },
   {
    "duration": 314,
    "start_time": "2021-06-13T16:22:14.964Z"
   },
   {
    "duration": 309,
    "start_time": "2021-06-13T16:23:13.690Z"
   },
   {
    "duration": 297,
    "start_time": "2021-06-13T16:25:08.945Z"
   },
   {
    "duration": 272,
    "start_time": "2021-06-13T16:25:20.683Z"
   },
   {
    "duration": 276,
    "start_time": "2021-06-13T16:25:28.048Z"
   },
   {
    "duration": 309,
    "start_time": "2021-06-13T16:27:56.664Z"
   },
   {
    "duration": 363,
    "start_time": "2021-06-13T16:28:17.093Z"
   },
   {
    "duration": 487,
    "start_time": "2021-06-13T16:30:01.667Z"
   },
   {
    "duration": 187,
    "start_time": "2021-06-13T16:31:49.211Z"
   },
   {
    "duration": 55,
    "start_time": "2021-06-13T16:32:08.883Z"
   },
   {
    "duration": 222,
    "start_time": "2021-06-13T16:32:18.886Z"
   },
   {
    "duration": 286,
    "start_time": "2021-06-13T16:33:19.801Z"
   },
   {
    "duration": 279,
    "start_time": "2021-06-13T16:33:46.648Z"
   },
   {
    "duration": 292,
    "start_time": "2021-06-13T16:35:40.221Z"
   },
   {
    "duration": 361,
    "start_time": "2021-06-13T16:44:26.345Z"
   },
   {
    "duration": 2,
    "start_time": "2021-06-13T16:45:10.813Z"
   },
   {
    "duration": 173,
    "start_time": "2021-06-13T16:49:10.721Z"
   },
   {
    "duration": 104,
    "start_time": "2021-06-13T16:49:55.616Z"
   },
   {
    "duration": 284,
    "start_time": "2021-06-13T16:50:26.185Z"
   },
   {
    "duration": 405,
    "start_time": "2021-06-13T16:50:51.602Z"
   },
   {
    "duration": 581,
    "start_time": "2021-06-13T16:53:12.894Z"
   },
   {
    "duration": 1139,
    "start_time": "2021-06-13T17:59:59.299Z"
   },
   {
    "duration": 117,
    "start_time": "2021-06-13T18:00:00.440Z"
   },
   {
    "duration": 7,
    "start_time": "2021-06-13T18:00:00.561Z"
   },
   {
    "duration": 30,
    "start_time": "2021-06-13T18:00:00.569Z"
   },
   {
    "duration": 14,
    "start_time": "2021-06-13T18:00:00.602Z"
   },
   {
    "duration": 30,
    "start_time": "2021-06-13T18:00:00.618Z"
   },
   {
    "duration": 25,
    "start_time": "2021-06-13T18:00:00.651Z"
   },
   {
    "duration": 20,
    "start_time": "2021-06-13T18:00:00.678Z"
   },
   {
    "duration": 25,
    "start_time": "2021-06-13T18:00:00.700Z"
   },
   {
    "duration": 19,
    "start_time": "2021-06-13T18:00:00.727Z"
   },
   {
    "duration": 18,
    "start_time": "2021-06-13T18:00:00.749Z"
   },
   {
    "duration": 42,
    "start_time": "2021-06-13T18:00:00.769Z"
   },
   {
    "duration": 416,
    "start_time": "2021-06-13T18:00:00.813Z"
   },
   {
    "duration": 13,
    "start_time": "2021-06-13T18:00:01.231Z"
   },
   {
    "duration": 462,
    "start_time": "2021-06-13T18:00:01.246Z"
   },
   {
    "duration": 258,
    "start_time": "2021-06-13T18:00:01.711Z"
   },
   {
    "duration": 9,
    "start_time": "2021-06-13T18:00:01.972Z"
   },
   {
    "duration": 43,
    "start_time": "2021-06-13T18:00:01.983Z"
   },
   {
    "duration": 20,
    "start_time": "2021-06-13T18:00:02.028Z"
   },
   {
    "duration": 21,
    "start_time": "2021-06-13T18:00:02.050Z"
   },
   {
    "duration": 20,
    "start_time": "2021-06-13T18:00:02.072Z"
   },
   {
    "duration": 29,
    "start_time": "2021-06-13T18:00:02.099Z"
   },
   {
    "duration": 38,
    "start_time": "2021-06-13T18:00:02.131Z"
   },
   {
    "duration": 21,
    "start_time": "2021-06-13T18:00:02.171Z"
   },
   {
    "duration": 31,
    "start_time": "2021-06-13T18:00:02.194Z"
   },
   {
    "duration": 9,
    "start_time": "2021-06-13T18:00:02.228Z"
   },
   {
    "duration": 20,
    "start_time": "2021-06-13T18:00:02.240Z"
   },
   {
    "duration": 33,
    "start_time": "2021-06-13T18:00:02.262Z"
   },
   {
    "duration": 15,
    "start_time": "2021-06-13T18:00:02.301Z"
   },
   {
    "duration": 30,
    "start_time": "2021-06-13T18:00:02.318Z"
   },
   {
    "duration": 36,
    "start_time": "2021-06-13T18:00:02.350Z"
   },
   {
    "duration": 21,
    "start_time": "2021-06-13T18:00:02.388Z"
   },
   {
    "duration": 31,
    "start_time": "2021-06-13T18:00:02.412Z"
   },
   {
    "duration": 27,
    "start_time": "2021-06-13T18:00:02.446Z"
   },
   {
    "duration": 16,
    "start_time": "2021-06-13T18:00:02.475Z"
   },
   {
    "duration": 31,
    "start_time": "2021-06-13T18:00:02.496Z"
   },
   {
    "duration": 12,
    "start_time": "2021-06-13T18:00:02.529Z"
   },
   {
    "duration": 515,
    "start_time": "2021-06-13T18:00:02.543Z"
   },
   {
    "duration": 418,
    "start_time": "2021-06-13T18:00:03.060Z"
   },
   {
    "duration": 367,
    "start_time": "2021-06-13T18:00:03.484Z"
   },
   {
    "duration": 474,
    "start_time": "2021-06-13T18:00:03.852Z"
   },
   {
    "duration": 443,
    "start_time": "2021-06-13T18:00:04.328Z"
   },
   {
    "duration": 14,
    "start_time": "2021-06-13T18:00:04.773Z"
   },
   {
    "duration": 501,
    "start_time": "2021-06-13T18:00:04.790Z"
   },
   {
    "duration": 533,
    "start_time": "2021-06-13T18:00:05.293Z"
   },
   {
    "duration": 627,
    "start_time": "2021-06-13T18:00:27.283Z"
   },
   {
    "duration": 300,
    "start_time": "2021-06-13T18:02:37.364Z"
   },
   {
    "duration": 584,
    "start_time": "2021-06-13T18:02:56.193Z"
   },
   {
    "duration": 5,
    "start_time": "2021-06-13T18:06:46.248Z"
   },
   {
    "duration": 1484,
    "start_time": "2021-06-14T13:29:13.455Z"
   },
   {
    "duration": 114,
    "start_time": "2021-06-14T13:29:14.941Z"
   },
   {
    "duration": 9,
    "start_time": "2021-06-14T13:29:15.058Z"
   },
   {
    "duration": 53,
    "start_time": "2021-06-14T13:29:15.071Z"
   },
   {
    "duration": 9,
    "start_time": "2021-06-14T13:29:15.128Z"
   },
   {
    "duration": 13,
    "start_time": "2021-06-14T13:29:15.140Z"
   },
   {
    "duration": 12,
    "start_time": "2021-06-14T13:29:15.156Z"
   },
   {
    "duration": 43,
    "start_time": "2021-06-14T13:29:15.170Z"
   },
   {
    "duration": 5,
    "start_time": "2021-06-14T13:29:15.219Z"
   },
   {
    "duration": 10,
    "start_time": "2021-06-14T13:29:15.228Z"
   },
   {
    "duration": 12,
    "start_time": "2021-06-14T13:29:15.240Z"
   },
   {
    "duration": 19,
    "start_time": "2021-06-14T13:29:15.255Z"
   },
   {
    "duration": 571,
    "start_time": "2021-06-14T13:29:15.309Z"
   },
   {
    "duration": 28,
    "start_time": "2021-06-14T13:29:15.882Z"
   },
   {
    "duration": 551,
    "start_time": "2021-06-14T13:29:15.912Z"
   },
   {
    "duration": 206,
    "start_time": "2021-06-14T13:29:16.465Z"
   },
   {
    "duration": 7,
    "start_time": "2021-06-14T13:29:16.673Z"
   },
   {
    "duration": 16,
    "start_time": "2021-06-14T13:29:16.683Z"
   },
   {
    "duration": 5,
    "start_time": "2021-06-14T13:29:16.702Z"
   },
   {
    "duration": 9,
    "start_time": "2021-06-14T13:29:16.709Z"
   },
   {
    "duration": 8,
    "start_time": "2021-06-14T13:29:16.721Z"
   },
   {
    "duration": 10,
    "start_time": "2021-06-14T13:29:16.731Z"
   },
   {
    "duration": 7,
    "start_time": "2021-06-14T13:29:16.743Z"
   },
   {
    "duration": 6,
    "start_time": "2021-06-14T13:29:16.752Z"
   },
   {
    "duration": 51,
    "start_time": "2021-06-14T13:29:16.761Z"
   },
   {
    "duration": 12,
    "start_time": "2021-06-14T13:29:16.815Z"
   },
   {
    "duration": 6,
    "start_time": "2021-06-14T13:29:16.834Z"
   },
   {
    "duration": 11,
    "start_time": "2021-06-14T13:29:16.844Z"
   },
   {
    "duration": 50,
    "start_time": "2021-06-14T13:29:16.858Z"
   },
   {
    "duration": 16,
    "start_time": "2021-06-14T13:29:16.911Z"
   },
   {
    "duration": 5,
    "start_time": "2021-06-14T13:29:16.930Z"
   },
   {
    "duration": 7,
    "start_time": "2021-06-14T13:29:16.937Z"
   },
   {
    "duration": 11,
    "start_time": "2021-06-14T13:29:16.946Z"
   },
   {
    "duration": 8,
    "start_time": "2021-06-14T13:29:16.959Z"
   },
   {
    "duration": 3,
    "start_time": "2021-06-14T13:29:17.009Z"
   },
   {
    "duration": 16,
    "start_time": "2021-06-14T13:29:17.015Z"
   },
   {
    "duration": 5,
    "start_time": "2021-06-14T13:29:17.033Z"
   },
   {
    "duration": 715,
    "start_time": "2021-06-14T13:29:17.040Z"
   },
   {
    "duration": 705,
    "start_time": "2021-06-14T13:29:17.758Z"
   },
   {
    "duration": 456,
    "start_time": "2021-06-14T13:29:18.466Z"
   },
   {
    "duration": 563,
    "start_time": "2021-06-14T13:29:18.924Z"
   },
   {
    "duration": 542,
    "start_time": "2021-06-14T13:29:19.490Z"
   },
   {
    "duration": 3,
    "start_time": "2021-06-14T13:29:20.034Z"
   },
   {
    "duration": 514,
    "start_time": "2021-06-14T13:29:20.040Z"
   },
   {
    "duration": 475,
    "start_time": "2021-06-14T13:29:20.556Z"
   },
   {
    "duration": 350,
    "start_time": "2021-06-14T13:29:21.033Z"
   },
   {
    "duration": 5,
    "start_time": "2021-06-14T13:29:21.386Z"
   },
   {
    "duration": 382,
    "start_time": "2021-06-14T13:29:48.188Z"
   },
   {
    "duration": 327,
    "start_time": "2021-06-14T13:29:55.550Z"
   },
   {
    "duration": 4,
    "start_time": "2021-06-14T13:37:42.059Z"
   },
   {
    "duration": 299,
    "start_time": "2021-06-14T13:38:39.335Z"
   },
   {
    "duration": 538,
    "start_time": "2021-06-14T13:39:36.374Z"
   },
   {
    "duration": 544,
    "start_time": "2021-06-14T13:39:51.185Z"
   },
   {
    "duration": 514,
    "start_time": "2021-06-14T13:46:35.920Z"
   },
   {
    "duration": 383,
    "start_time": "2021-06-14T13:47:02.931Z"
   },
   {
    "duration": 4,
    "start_time": "2021-06-14T13:50:37.114Z"
   },
   {
    "duration": 9,
    "start_time": "2021-06-14T13:51:47.110Z"
   },
   {
    "duration": 125,
    "start_time": "2021-06-14T13:53:31.916Z"
   },
   {
    "duration": 1448,
    "start_time": "2021-06-15T21:17:59.189Z"
   },
   {
    "duration": 130,
    "start_time": "2021-06-15T21:18:00.640Z"
   },
   {
    "duration": 8,
    "start_time": "2021-06-15T21:18:00.773Z"
   },
   {
    "duration": 25,
    "start_time": "2021-06-15T21:18:00.784Z"
   },
   {
    "duration": 12,
    "start_time": "2021-06-15T21:18:00.811Z"
   },
   {
    "duration": 13,
    "start_time": "2021-06-15T21:18:00.825Z"
   },
   {
    "duration": 14,
    "start_time": "2021-06-15T21:18:00.840Z"
   },
   {
    "duration": 7,
    "start_time": "2021-06-15T21:18:00.884Z"
   },
   {
    "duration": 4,
    "start_time": "2021-06-15T21:18:00.894Z"
   },
   {
    "duration": 20,
    "start_time": "2021-06-15T21:18:00.901Z"
   },
   {
    "duration": 16,
    "start_time": "2021-06-15T21:18:00.924Z"
   },
   {
    "duration": 46,
    "start_time": "2021-06-15T21:18:00.942Z"
   },
   {
    "duration": 593,
    "start_time": "2021-06-15T21:18:00.990Z"
   },
   {
    "duration": 17,
    "start_time": "2021-06-15T21:18:01.586Z"
   },
   {
    "duration": 572,
    "start_time": "2021-06-15T21:18:01.605Z"
   },
   {
    "duration": 197,
    "start_time": "2021-06-15T21:18:02.179Z"
   },
   {
    "duration": 8,
    "start_time": "2021-06-15T21:18:02.378Z"
   },
   {
    "duration": 17,
    "start_time": "2021-06-15T21:18:02.388Z"
   },
   {
    "duration": 16,
    "start_time": "2021-06-15T21:18:02.407Z"
   },
   {
    "duration": 41,
    "start_time": "2021-06-15T21:18:02.425Z"
   },
   {
    "duration": 9,
    "start_time": "2021-06-15T21:18:02.469Z"
   },
   {
    "duration": 18,
    "start_time": "2021-06-15T21:18:02.483Z"
   },
   {
    "duration": 12,
    "start_time": "2021-06-15T21:18:02.506Z"
   },
   {
    "duration": 14,
    "start_time": "2021-06-15T21:18:02.521Z"
   },
   {
    "duration": 50,
    "start_time": "2021-06-15T21:18:02.537Z"
   },
   {
    "duration": 13,
    "start_time": "2021-06-15T21:18:02.589Z"
   },
   {
    "duration": 11,
    "start_time": "2021-06-15T21:18:02.605Z"
   },
   {
    "duration": 15,
    "start_time": "2021-06-15T21:18:02.619Z"
   },
   {
    "duration": 22,
    "start_time": "2021-06-15T21:18:02.637Z"
   },
   {
    "duration": 18,
    "start_time": "2021-06-15T21:18:02.683Z"
   },
   {
    "duration": 8,
    "start_time": "2021-06-15T21:18:02.704Z"
   },
   {
    "duration": 12,
    "start_time": "2021-06-15T21:18:02.715Z"
   },
   {
    "duration": 23,
    "start_time": "2021-06-15T21:18:02.729Z"
   },
   {
    "duration": 7,
    "start_time": "2021-06-15T21:18:02.783Z"
   },
   {
    "duration": 11,
    "start_time": "2021-06-15T21:18:02.792Z"
   },
   {
    "duration": 20,
    "start_time": "2021-06-15T21:18:02.805Z"
   },
   {
    "duration": 37,
    "start_time": "2021-06-15T21:18:02.828Z"
   },
   {
    "duration": 600,
    "start_time": "2021-06-15T21:18:02.867Z"
   },
   {
    "duration": 448,
    "start_time": "2021-06-15T21:18:03.470Z"
   },
   {
    "duration": 438,
    "start_time": "2021-06-15T21:18:03.920Z"
   },
   {
    "duration": 557,
    "start_time": "2021-06-15T21:18:04.361Z"
   },
   {
    "duration": 542,
    "start_time": "2021-06-15T21:18:04.920Z"
   },
   {
    "duration": 19,
    "start_time": "2021-06-15T21:18:05.464Z"
   },
   {
    "duration": 547,
    "start_time": "2021-06-15T21:18:05.485Z"
   },
   {
    "duration": 476,
    "start_time": "2021-06-15T21:18:06.035Z"
   },
   {
    "duration": 341,
    "start_time": "2021-06-15T21:18:06.513Z"
   },
   {
    "duration": 6,
    "start_time": "2021-06-15T21:18:06.857Z"
   },
   {
    "duration": 501,
    "start_time": "2021-06-15T21:18:06.882Z"
   },
   {
    "duration": 392,
    "start_time": "2021-06-15T21:18:07.385Z"
   },
   {
    "duration": 6,
    "start_time": "2021-06-15T21:18:07.783Z"
   },
   {
    "duration": 1400,
    "start_time": "2021-06-15T23:16:15.632Z"
   },
   {
    "duration": 113,
    "start_time": "2021-06-15T23:16:17.035Z"
   },
   {
    "duration": 9,
    "start_time": "2021-06-15T23:16:17.150Z"
   },
   {
    "duration": 17,
    "start_time": "2021-06-15T23:16:17.161Z"
   },
   {
    "duration": 10,
    "start_time": "2021-06-15T23:16:17.180Z"
   },
   {
    "duration": 14,
    "start_time": "2021-06-15T23:16:17.192Z"
   },
   {
    "duration": 16,
    "start_time": "2021-06-15T23:16:17.208Z"
   },
   {
    "duration": 9,
    "start_time": "2021-06-15T23:16:17.228Z"
   },
   {
    "duration": 9,
    "start_time": "2021-06-15T23:16:17.240Z"
   },
   {
    "duration": 7,
    "start_time": "2021-06-15T23:16:17.251Z"
   },
   {
    "duration": 5,
    "start_time": "2021-06-15T23:16:17.284Z"
   },
   {
    "duration": 17,
    "start_time": "2021-06-15T23:16:17.292Z"
   },
   {
    "duration": 557,
    "start_time": "2021-06-15T23:16:17.311Z"
   },
   {
    "duration": 26,
    "start_time": "2021-06-15T23:16:17.872Z"
   },
   {
    "duration": 528,
    "start_time": "2021-06-15T23:16:17.900Z"
   },
   {
    "duration": 255,
    "start_time": "2021-06-15T23:16:18.430Z"
   },
   {
    "duration": 8,
    "start_time": "2021-06-15T23:16:18.688Z"
   },
   {
    "duration": 15,
    "start_time": "2021-06-15T23:16:18.698Z"
   },
   {
    "duration": 6,
    "start_time": "2021-06-15T23:16:18.715Z"
   },
   {
    "duration": 4,
    "start_time": "2021-06-15T23:16:18.724Z"
   },
   {
    "duration": 6,
    "start_time": "2021-06-15T23:16:18.730Z"
   },
   {
    "duration": 47,
    "start_time": "2021-06-15T23:16:18.738Z"
   },
   {
    "duration": 5,
    "start_time": "2021-06-15T23:16:18.791Z"
   },
   {
    "duration": 6,
    "start_time": "2021-06-15T23:16:18.798Z"
   },
   {
    "duration": 25,
    "start_time": "2021-06-15T23:16:18.806Z"
   },
   {
    "duration": 11,
    "start_time": "2021-06-15T23:16:18.833Z"
   },
   {
    "duration": 38,
    "start_time": "2021-06-15T23:16:18.847Z"
   },
   {
    "duration": 10,
    "start_time": "2021-06-15T23:16:18.887Z"
   },
   {
    "duration": 14,
    "start_time": "2021-06-15T23:16:18.899Z"
   },
   {
    "duration": 20,
    "start_time": "2021-06-15T23:16:18.915Z"
   },
   {
    "duration": 10,
    "start_time": "2021-06-15T23:16:18.938Z"
   },
   {
    "duration": 33,
    "start_time": "2021-06-15T23:16:18.950Z"
   },
   {
    "duration": 8,
    "start_time": "2021-06-15T23:16:18.986Z"
   },
   {
    "duration": 7,
    "start_time": "2021-06-15T23:16:18.996Z"
   },
   {
    "duration": 19,
    "start_time": "2021-06-15T23:16:19.005Z"
   },
   {
    "duration": 9,
    "start_time": "2021-06-15T23:16:19.027Z"
   },
   {
    "duration": 612,
    "start_time": "2021-06-15T23:16:19.039Z"
   },
   {
    "duration": 440,
    "start_time": "2021-06-15T23:16:19.654Z"
   },
   {
    "duration": 422,
    "start_time": "2021-06-15T23:16:20.096Z"
   },
   {
    "duration": 531,
    "start_time": "2021-06-15T23:16:20.521Z"
   },
   {
    "duration": 513,
    "start_time": "2021-06-15T23:16:21.055Z"
   },
   {
    "duration": 3,
    "start_time": "2021-06-15T23:16:21.571Z"
   },
   {
    "duration": 524,
    "start_time": "2021-06-15T23:16:21.584Z"
   },
   {
    "duration": 426,
    "start_time": "2021-06-15T23:16:22.111Z"
   },
   {
    "duration": 415,
    "start_time": "2021-06-15T23:16:22.540Z"
   },
   {
    "duration": 6,
    "start_time": "2021-06-15T23:16:22.957Z"
   },
   {
    "duration": 526,
    "start_time": "2021-06-15T23:16:22.966Z"
   },
   {
    "duration": 400,
    "start_time": "2021-06-15T23:16:23.494Z"
   },
   {
    "duration": 6,
    "start_time": "2021-06-15T23:16:23.896Z"
   },
   {
    "duration": 1573,
    "start_time": "2021-06-15T23:54:19.660Z"
   },
   {
    "duration": 79,
    "start_time": "2021-06-15T23:54:21.236Z"
   },
   {
    "duration": 8,
    "start_time": "2021-06-15T23:54:21.318Z"
   },
   {
    "duration": 21,
    "start_time": "2021-06-15T23:54:21.329Z"
   },
   {
    "duration": 13,
    "start_time": "2021-06-15T23:54:21.352Z"
   },
   {
    "duration": 18,
    "start_time": "2021-06-15T23:54:21.367Z"
   },
   {
    "duration": 14,
    "start_time": "2021-06-15T23:54:21.387Z"
   },
   {
    "duration": 14,
    "start_time": "2021-06-15T23:54:21.404Z"
   },
   {
    "duration": 5,
    "start_time": "2021-06-15T23:54:21.423Z"
   },
   {
    "duration": 7,
    "start_time": "2021-06-15T23:54:21.431Z"
   },
   {
    "duration": 9,
    "start_time": "2021-06-15T23:54:21.441Z"
   },
   {
    "duration": 42,
    "start_time": "2021-06-15T23:54:21.453Z"
   },
   {
    "duration": 534,
    "start_time": "2021-06-15T23:54:21.497Z"
   },
   {
    "duration": 15,
    "start_time": "2021-06-15T23:54:22.033Z"
   },
   {
    "duration": 511,
    "start_time": "2021-06-15T23:54:22.051Z"
   },
   {
    "duration": 126,
    "start_time": "2021-06-15T23:54:22.564Z"
   },
   {
    "duration": 8,
    "start_time": "2021-06-15T23:54:22.692Z"
   },
   {
    "duration": 15,
    "start_time": "2021-06-15T23:54:22.703Z"
   },
   {
    "duration": 7,
    "start_time": "2021-06-15T23:54:22.720Z"
   },
   {
    "duration": 6,
    "start_time": "2021-06-15T23:54:22.729Z"
   },
   {
    "duration": 13,
    "start_time": "2021-06-15T23:54:22.737Z"
   },
   {
    "duration": 32,
    "start_time": "2021-06-15T23:54:22.752Z"
   },
   {
    "duration": 8,
    "start_time": "2021-06-15T23:54:22.787Z"
   },
   {
    "duration": 6,
    "start_time": "2021-06-15T23:54:22.798Z"
   },
   {
    "duration": 27,
    "start_time": "2021-06-15T23:54:22.806Z"
   },
   {
    "duration": 9,
    "start_time": "2021-06-15T23:54:22.836Z"
   },
   {
    "duration": 37,
    "start_time": "2021-06-15T23:54:22.850Z"
   },
   {
    "duration": 11,
    "start_time": "2021-06-15T23:54:22.890Z"
   },
   {
    "duration": 13,
    "start_time": "2021-06-15T23:54:22.903Z"
   },
   {
    "duration": 23,
    "start_time": "2021-06-15T23:54:22.918Z"
   },
   {
    "duration": 4,
    "start_time": "2021-06-15T23:54:22.944Z"
   },
   {
    "duration": 35,
    "start_time": "2021-06-15T23:54:22.951Z"
   },
   {
    "duration": 13,
    "start_time": "2021-06-15T23:54:22.988Z"
   },
   {
    "duration": 8,
    "start_time": "2021-06-15T23:54:23.003Z"
   },
   {
    "duration": 14,
    "start_time": "2021-06-15T23:54:23.014Z"
   },
   {
    "duration": 6,
    "start_time": "2021-06-15T23:54:23.031Z"
   },
   {
    "duration": 620,
    "start_time": "2021-06-15T23:54:23.039Z"
   },
   {
    "duration": 451,
    "start_time": "2021-06-15T23:54:23.661Z"
   },
   {
    "duration": 423,
    "start_time": "2021-06-15T23:54:24.114Z"
   },
   {
    "duration": 548,
    "start_time": "2021-06-15T23:54:24.539Z"
   },
   {
    "duration": 497,
    "start_time": "2021-06-15T23:54:25.089Z"
   },
   {
    "duration": 3,
    "start_time": "2021-06-15T23:54:25.588Z"
   },
   {
    "duration": 507,
    "start_time": "2021-06-15T23:54:25.594Z"
   },
   {
    "duration": 433,
    "start_time": "2021-06-15T23:54:26.103Z"
   },
   {
    "duration": 432,
    "start_time": "2021-06-15T23:54:26.539Z"
   },
   {
    "duration": 9,
    "start_time": "2021-06-15T23:54:26.974Z"
   },
   {
    "duration": 486,
    "start_time": "2021-06-15T23:54:26.986Z"
   },
   {
    "duration": 396,
    "start_time": "2021-06-15T23:54:27.474Z"
   },
   {
    "duration": 11,
    "start_time": "2021-06-15T23:54:27.872Z"
   },
   {
    "duration": 414,
    "start_time": "2021-06-16T00:00:26.674Z"
   },
   {
    "duration": 433,
    "start_time": "2021-06-16T00:00:34.779Z"
   },
   {
    "duration": 423,
    "start_time": "2021-06-16T00:00:49.186Z"
   },
   {
    "duration": 505,
    "start_time": "2021-06-16T00:01:00.383Z"
   },
   {
    "duration": 644,
    "start_time": "2021-06-16T00:01:53.355Z"
   },
   {
    "duration": 530,
    "start_time": "2021-06-16T00:02:12.247Z"
   },
   {
    "duration": 491,
    "start_time": "2021-06-16T00:02:21.831Z"
   },
   {
    "duration": 1301,
    "start_time": "2021-06-16T00:02:36.715Z"
   },
   {
    "duration": 52,
    "start_time": "2021-06-16T00:02:38.018Z"
   },
   {
    "duration": 8,
    "start_time": "2021-06-16T00:02:38.073Z"
   },
   {
    "duration": 21,
    "start_time": "2021-06-16T00:02:38.083Z"
   },
   {
    "duration": 8,
    "start_time": "2021-06-16T00:02:38.106Z"
   },
   {
    "duration": 11,
    "start_time": "2021-06-16T00:02:38.116Z"
   },
   {
    "duration": 15,
    "start_time": "2021-06-16T00:02:38.129Z"
   },
   {
    "duration": 9,
    "start_time": "2021-06-16T00:02:38.147Z"
   },
   {
    "duration": 3,
    "start_time": "2021-06-16T00:02:38.186Z"
   },
   {
    "duration": 6,
    "start_time": "2021-06-16T00:02:38.192Z"
   },
   {
    "duration": 9,
    "start_time": "2021-06-16T00:02:38.200Z"
   },
   {
    "duration": 19,
    "start_time": "2021-06-16T00:02:38.211Z"
   },
   {
    "duration": 554,
    "start_time": "2021-06-16T00:02:38.232Z"
   },
   {
    "duration": 16,
    "start_time": "2021-06-16T00:02:38.788Z"
   },
   {
    "duration": 608,
    "start_time": "2021-06-16T00:02:38.806Z"
   },
   {
    "duration": 92,
    "start_time": "2021-06-16T00:02:39.417Z"
   },
   {
    "duration": 8,
    "start_time": "2021-06-16T00:02:39.511Z"
   },
   {
    "duration": 14,
    "start_time": "2021-06-16T00:02:39.522Z"
   },
   {
    "duration": 5,
    "start_time": "2021-06-16T00:02:39.539Z"
   },
   {
    "duration": 5,
    "start_time": "2021-06-16T00:02:39.547Z"
   },
   {
    "duration": 7,
    "start_time": "2021-06-16T00:02:39.554Z"
   },
   {
    "duration": 21,
    "start_time": "2021-06-16T00:02:39.563Z"
   },
   {
    "duration": 4,
    "start_time": "2021-06-16T00:02:39.587Z"
   },
   {
    "duration": 8,
    "start_time": "2021-06-16T00:02:39.594Z"
   },
   {
    "duration": 21,
    "start_time": "2021-06-16T00:02:39.604Z"
   },
   {
    "duration": 12,
    "start_time": "2021-06-16T00:02:39.628Z"
   },
   {
    "duration": 39,
    "start_time": "2021-06-16T00:02:39.645Z"
   },
   {
    "duration": 9,
    "start_time": "2021-06-16T00:02:39.687Z"
   },
   {
    "duration": 13,
    "start_time": "2021-06-16T00:02:39.698Z"
   },
   {
    "duration": 17,
    "start_time": "2021-06-16T00:02:39.713Z"
   },
   {
    "duration": 7,
    "start_time": "2021-06-16T00:02:39.733Z"
   },
   {
    "duration": 42,
    "start_time": "2021-06-16T00:02:39.742Z"
   },
   {
    "duration": 11,
    "start_time": "2021-06-16T00:02:39.786Z"
   },
   {
    "duration": 6,
    "start_time": "2021-06-16T00:02:39.800Z"
   },
   {
    "duration": 16,
    "start_time": "2021-06-16T00:02:39.809Z"
   },
   {
    "duration": 5,
    "start_time": "2021-06-16T00:02:39.827Z"
   },
   {
    "duration": 607,
    "start_time": "2021-06-16T00:02:39.834Z"
   },
   {
    "duration": 429,
    "start_time": "2021-06-16T00:02:40.444Z"
   },
   {
    "duration": 422,
    "start_time": "2021-06-16T00:02:40.875Z"
   },
   {
    "duration": 490,
    "start_time": "2021-06-16T00:02:41.300Z"
   },
   {
    "duration": 611,
    "start_time": "2021-06-16T00:02:41.792Z"
   },
   {
    "duration": 490,
    "start_time": "2021-06-16T00:02:42.406Z"
   },
   {
    "duration": 441,
    "start_time": "2021-06-16T00:02:42.899Z"
   },
   {
    "duration": 383,
    "start_time": "2021-06-16T00:02:43.343Z"
   },
   {
    "duration": 7,
    "start_time": "2021-06-16T00:02:43.729Z"
   },
   {
    "duration": 484,
    "start_time": "2021-06-16T00:02:43.739Z"
   },
   {
    "duration": 351,
    "start_time": "2021-06-16T00:02:44.226Z"
   },
   {
    "duration": 5,
    "start_time": "2021-06-16T00:02:44.583Z"
   },
   {
    "duration": 499,
    "start_time": "2021-06-16T00:12:25.728Z"
   },
   {
    "duration": 417,
    "start_time": "2021-06-16T00:12:34.205Z"
   },
   {
    "duration": 509,
    "start_time": "2021-06-16T00:12:43.955Z"
   },
   {
    "duration": 9,
    "start_time": "2021-06-16T00:13:29.051Z"
   },
   {
    "duration": 425,
    "start_time": "2021-06-16T00:13:36.427Z"
   },
   {
    "duration": 528,
    "start_time": "2021-06-16T00:13:53.805Z"
   },
   {
    "duration": 444,
    "start_time": "2021-06-16T00:13:59.575Z"
   },
   {
    "duration": 447,
    "start_time": "2021-06-16T00:14:26.663Z"
   },
   {
    "duration": 458,
    "start_time": "2021-06-16T00:15:23.171Z"
   },
   {
    "duration": 455,
    "start_time": "2021-06-16T00:15:48.995Z"
   },
   {
    "duration": 445,
    "start_time": "2021-06-16T00:16:33.523Z"
   },
   {
    "duration": 358,
    "start_time": "2021-06-16T00:32:28.408Z"
   },
   {
    "duration": 458,
    "start_time": "2021-06-16T00:40:02.508Z"
   },
   {
    "duration": 412,
    "start_time": "2021-06-16T00:40:15.504Z"
   },
   {
    "duration": 417,
    "start_time": "2021-06-16T00:40:24.504Z"
   },
   {
    "duration": 433,
    "start_time": "2021-06-16T00:40:35.901Z"
   },
   {
    "duration": 322,
    "start_time": "2021-06-16T00:40:43.026Z"
   },
   {
    "duration": 328,
    "start_time": "2021-06-16T00:41:44.236Z"
   },
   {
    "duration": 370,
    "start_time": "2021-06-16T00:42:57.004Z"
   },
   {
    "duration": 107,
    "start_time": "2021-06-16T00:46:45.904Z"
   },
   {
    "duration": 396,
    "start_time": "2021-06-16T00:46:52.190Z"
   },
   {
    "duration": 6,
    "start_time": "2021-06-16T00:49:16.810Z"
   },
   {
    "duration": 96,
    "start_time": "2021-06-16T00:50:17.132Z"
   },
   {
    "duration": 396,
    "start_time": "2021-06-16T00:53:26.976Z"
   },
   {
    "duration": 272,
    "start_time": "2021-06-16T00:54:20.417Z"
   },
   {
    "duration": 510,
    "start_time": "2021-06-16T00:54:43.417Z"
   },
   {
    "duration": 486,
    "start_time": "2021-06-16T00:56:31.514Z"
   },
   {
    "duration": 7698,
    "start_time": "2021-06-16T00:56:43.942Z"
   },
   {
    "duration": 445,
    "start_time": "2021-06-16T00:59:42.332Z"
   },
   {
    "duration": 6995,
    "start_time": "2021-06-16T01:00:26.510Z"
   },
   {
    "duration": 6727,
    "start_time": "2021-06-16T01:00:57.012Z"
   },
   {
    "duration": 6565,
    "start_time": "2021-06-16T01:01:13.213Z"
   },
   {
    "duration": 449,
    "start_time": "2021-06-16T01:02:13.977Z"
   },
   {
    "duration": 6999,
    "start_time": "2021-06-16T01:04:05.364Z"
   },
   {
    "duration": 235,
    "start_time": "2021-06-16T01:04:29.512Z"
   },
   {
    "duration": 238,
    "start_time": "2021-06-16T01:09:56.823Z"
   },
   {
    "duration": 203,
    "start_time": "2021-06-16T01:10:18.389Z"
   },
   {
    "duration": 215,
    "start_time": "2021-06-16T01:10:26.508Z"
   },
   {
    "duration": 201,
    "start_time": "2021-06-16T01:10:36.333Z"
   },
   {
    "duration": 14,
    "start_time": "2021-06-16T01:12:45.557Z"
   },
   {
    "duration": 224,
    "start_time": "2021-06-16T01:13:12.770Z"
   },
   {
    "duration": 15,
    "start_time": "2021-06-16T01:14:00.033Z"
   },
   {
    "duration": 16,
    "start_time": "2021-06-16T01:14:17.603Z"
   },
   {
    "duration": 15,
    "start_time": "2021-06-16T01:14:30.943Z"
   },
   {
    "duration": 16,
    "start_time": "2021-06-16T01:14:42.467Z"
   },
   {
    "duration": 6,
    "start_time": "2021-06-16T01:15:21.030Z"
   },
   {
    "duration": 6,
    "start_time": "2021-06-16T01:15:49.772Z"
   },
   {
    "duration": 7,
    "start_time": "2021-06-16T01:15:58.464Z"
   },
   {
    "duration": 6,
    "start_time": "2021-06-16T01:16:28.771Z"
   },
   {
    "duration": 3,
    "start_time": "2021-06-16T01:17:12.160Z"
   },
   {
    "duration": 90,
    "start_time": "2021-06-16T01:23:05.104Z"
   },
   {
    "duration": 1405,
    "start_time": "2021-06-16T01:31:54.797Z"
   },
   {
    "duration": 159,
    "start_time": "2021-06-16T01:31:56.204Z"
   },
   {
    "duration": 9,
    "start_time": "2021-06-16T01:31:56.366Z"
   },
   {
    "duration": 24,
    "start_time": "2021-06-16T01:31:56.378Z"
   },
   {
    "duration": 7,
    "start_time": "2021-06-16T01:31:56.405Z"
   },
   {
    "duration": 10,
    "start_time": "2021-06-16T01:31:56.414Z"
   },
   {
    "duration": 13,
    "start_time": "2021-06-16T01:31:56.427Z"
   },
   {
    "duration": 5,
    "start_time": "2021-06-16T01:31:56.444Z"
   },
   {
    "duration": 32,
    "start_time": "2021-06-16T01:31:56.452Z"
   },
   {
    "duration": 9,
    "start_time": "2021-06-16T01:31:56.486Z"
   },
   {
    "duration": 9,
    "start_time": "2021-06-16T01:31:56.497Z"
   },
   {
    "duration": 23,
    "start_time": "2021-06-16T01:31:56.509Z"
   },
   {
    "duration": 550,
    "start_time": "2021-06-16T01:31:56.535Z"
   },
   {
    "duration": 15,
    "start_time": "2021-06-16T01:31:57.088Z"
   },
   {
    "duration": 503,
    "start_time": "2021-06-16T01:31:57.106Z"
   },
   {
    "duration": 340,
    "start_time": "2021-06-16T01:31:57.611Z"
   },
   {
    "duration": 11,
    "start_time": "2021-06-16T01:31:57.954Z"
   },
   {
    "duration": 13,
    "start_time": "2021-06-16T01:31:57.967Z"
   },
   {
    "duration": 6,
    "start_time": "2021-06-16T01:31:57.983Z"
   },
   {
    "duration": 5,
    "start_time": "2021-06-16T01:31:57.992Z"
   },
   {
    "duration": 6,
    "start_time": "2021-06-16T01:31:58.000Z"
   },
   {
    "duration": 8,
    "start_time": "2021-06-16T01:31:58.008Z"
   },
   {
    "duration": 5,
    "start_time": "2021-06-16T01:31:58.022Z"
   },
   {
    "duration": 9,
    "start_time": "2021-06-16T01:31:58.031Z"
   },
   {
    "duration": 55,
    "start_time": "2021-06-16T01:31:58.043Z"
   },
   {
    "duration": 15,
    "start_time": "2021-06-16T01:31:58.100Z"
   },
   {
    "duration": 6,
    "start_time": "2021-06-16T01:31:58.118Z"
   },
   {
    "duration": 14,
    "start_time": "2021-06-16T01:31:58.126Z"
   },
   {
    "duration": 18,
    "start_time": "2021-06-16T01:31:58.142Z"
   },
   {
    "duration": 35,
    "start_time": "2021-06-16T01:31:58.162Z"
   },
   {
    "duration": 4,
    "start_time": "2021-06-16T01:31:58.199Z"
   },
   {
    "duration": 9,
    "start_time": "2021-06-16T01:31:58.206Z"
   },
   {
    "duration": 12,
    "start_time": "2021-06-16T01:31:58.217Z"
   },
   {
    "duration": 13,
    "start_time": "2021-06-16T01:31:58.231Z"
   },
   {
    "duration": 46,
    "start_time": "2021-06-16T01:31:58.246Z"
   },
   {
    "duration": 5,
    "start_time": "2021-06-16T01:31:58.294Z"
   },
   {
    "duration": 581,
    "start_time": "2021-06-16T01:31:58.302Z"
   },
   {
    "duration": 426,
    "start_time": "2021-06-16T01:31:58.885Z"
   },
   {
    "duration": 426,
    "start_time": "2021-06-16T01:31:59.313Z"
   },
   {
    "duration": 645,
    "start_time": "2021-06-16T01:31:59.742Z"
   },
   {
    "duration": 617,
    "start_time": "2021-06-16T01:32:00.389Z"
   },
   {
    "duration": 497,
    "start_time": "2021-06-16T01:32:01.009Z"
   },
   {
    "duration": 551,
    "start_time": "2021-06-16T01:32:01.508Z"
   },
   {
    "duration": 390,
    "start_time": "2021-06-16T01:32:02.062Z"
   },
   {
    "duration": 6,
    "start_time": "2021-06-16T01:32:02.454Z"
   },
   {
    "duration": 376,
    "start_time": "2021-06-16T01:32:02.462Z"
   },
   {
    "duration": 420,
    "start_time": "2021-06-16T01:32:02.841Z"
   },
   {
    "duration": 6,
    "start_time": "2021-06-16T01:32:03.263Z"
   },
   {
    "duration": 455,
    "start_time": "2021-06-16T01:32:03.283Z"
   },
   {
    "duration": 202,
    "start_time": "2021-06-16T01:32:03.741Z"
   },
   {
    "duration": 14,
    "start_time": "2021-06-16T01:32:03.945Z"
   },
   {
    "duration": 32,
    "start_time": "2021-06-16T01:32:03.962Z"
   },
   {
    "duration": 14,
    "start_time": "2021-06-16T01:32:03.996Z"
   },
   {
    "duration": 15,
    "start_time": "2021-06-16T01:33:36.990Z"
   },
   {
    "duration": 15,
    "start_time": "2021-06-16T01:33:54.040Z"
   },
   {
    "duration": 100,
    "start_time": "2021-06-16T01:34:11.313Z"
   },
   {
    "duration": 14,
    "start_time": "2021-06-16T01:34:17.417Z"
   },
   {
    "duration": 6268,
    "start_time": "2021-06-16T01:36:09.689Z"
   },
   {
    "duration": 16,
    "start_time": "2021-06-16T01:36:22.729Z"
   },
   {
    "duration": 83,
    "start_time": "2021-06-16T01:36:49.624Z"
   },
   {
    "duration": 13,
    "start_time": "2021-06-16T01:37:51.903Z"
   },
   {
    "duration": 10,
    "start_time": "2021-06-16T01:38:11.015Z"
   },
   {
    "duration": 4,
    "start_time": "2021-06-16T01:42:11.553Z"
   },
   {
    "duration": 6332,
    "start_time": "2021-06-16T01:43:57.340Z"
   },
   {
    "duration": 6156,
    "start_time": "2021-06-16T01:44:25.589Z"
   },
   {
    "duration": 22,
    "start_time": "2021-06-16T01:44:54.441Z"
   },
   {
    "duration": 99,
    "start_time": "2021-06-16T01:45:17.746Z"
   },
   {
    "duration": 87,
    "start_time": "2021-06-16T01:45:22.312Z"
   },
   {
    "duration": 23,
    "start_time": "2021-06-16T01:45:35.732Z"
   },
   {
    "duration": 1346,
    "start_time": "2021-06-16T01:49:47.006Z"
   },
   {
    "duration": 52,
    "start_time": "2021-06-16T01:49:48.355Z"
   },
   {
    "duration": 9,
    "start_time": "2021-06-16T01:49:48.410Z"
   },
   {
    "duration": 17,
    "start_time": "2021-06-16T01:49:48.422Z"
   },
   {
    "duration": 8,
    "start_time": "2021-06-16T01:49:48.442Z"
   },
   {
    "duration": 14,
    "start_time": "2021-06-16T01:49:48.452Z"
   },
   {
    "duration": 20,
    "start_time": "2021-06-16T01:49:48.469Z"
   },
   {
    "duration": 8,
    "start_time": "2021-06-16T01:49:48.494Z"
   },
   {
    "duration": 8,
    "start_time": "2021-06-16T01:49:48.506Z"
   },
   {
    "duration": 8,
    "start_time": "2021-06-16T01:49:48.517Z"
   },
   {
    "duration": 11,
    "start_time": "2021-06-16T01:49:48.527Z"
   },
   {
    "duration": 54,
    "start_time": "2021-06-16T01:49:48.541Z"
   },
   {
    "duration": 556,
    "start_time": "2021-06-16T01:49:48.597Z"
   },
   {
    "duration": 28,
    "start_time": "2021-06-16T01:49:49.155Z"
   },
   {
    "duration": 501,
    "start_time": "2021-06-16T01:49:49.186Z"
   },
   {
    "duration": 90,
    "start_time": "2021-06-16T01:49:49.689Z"
   },
   {
    "duration": 8,
    "start_time": "2021-06-16T01:49:49.781Z"
   },
   {
    "duration": 16,
    "start_time": "2021-06-16T01:49:49.791Z"
   },
   {
    "duration": 6,
    "start_time": "2021-06-16T01:49:49.810Z"
   },
   {
    "duration": 5,
    "start_time": "2021-06-16T01:49:49.819Z"
   },
   {
    "duration": 6,
    "start_time": "2021-06-16T01:49:49.826Z"
   },
   {
    "duration": 9,
    "start_time": "2021-06-16T01:49:49.834Z"
   },
   {
    "duration": 5,
    "start_time": "2021-06-16T01:49:49.887Z"
   },
   {
    "duration": 8,
    "start_time": "2021-06-16T01:49:49.895Z"
   },
   {
    "duration": 23,
    "start_time": "2021-06-16T01:49:49.905Z"
   },
   {
    "duration": 9,
    "start_time": "2021-06-16T01:49:49.930Z"
   },
   {
    "duration": 9,
    "start_time": "2021-06-16T01:49:49.941Z"
   },
   {
    "duration": 10,
    "start_time": "2021-06-16T01:49:49.984Z"
   },
   {
    "duration": 13,
    "start_time": "2021-06-16T01:49:49.996Z"
   },
   {
    "duration": 22,
    "start_time": "2021-06-16T01:49:50.012Z"
   },
   {
    "duration": 10,
    "start_time": "2021-06-16T01:49:50.036Z"
   },
   {
    "duration": 35,
    "start_time": "2021-06-16T01:49:50.048Z"
   },
   {
    "duration": 13,
    "start_time": "2021-06-16T01:49:50.086Z"
   },
   {
    "duration": 12,
    "start_time": "2021-06-16T01:49:50.101Z"
   },
   {
    "duration": 19,
    "start_time": "2021-06-16T01:49:50.115Z"
   },
   {
    "duration": 9,
    "start_time": "2021-06-16T01:49:50.136Z"
   },
   {
    "duration": 599,
    "start_time": "2021-06-16T01:49:50.148Z"
   },
   {
    "duration": 433,
    "start_time": "2021-06-16T01:49:50.749Z"
   },
   {
    "duration": 421,
    "start_time": "2021-06-16T01:49:51.185Z"
   },
   {
    "duration": 493,
    "start_time": "2021-06-16T01:49:51.608Z"
   },
   {
    "duration": 504,
    "start_time": "2021-06-16T01:49:52.103Z"
   },
   {
    "duration": 501,
    "start_time": "2021-06-16T01:49:52.609Z"
   },
   {
    "duration": 457,
    "start_time": "2021-06-16T01:49:53.113Z"
   },
   {
    "duration": 384,
    "start_time": "2021-06-16T01:49:53.572Z"
   },
   {
    "duration": 6,
    "start_time": "2021-06-16T01:49:53.959Z"
   },
   {
    "duration": 354,
    "start_time": "2021-06-16T01:49:53.967Z"
   },
   {
    "duration": 367,
    "start_time": "2021-06-16T01:49:54.324Z"
   },
   {
    "duration": 6,
    "start_time": "2021-06-16T01:49:54.694Z"
   },
   {
    "duration": 458,
    "start_time": "2021-06-16T01:49:54.702Z"
   },
   {
    "duration": 273,
    "start_time": "2021-06-16T01:49:55.163Z"
   },
   {
    "duration": 14,
    "start_time": "2021-06-16T01:49:55.438Z"
   },
   {
    "duration": 39,
    "start_time": "2021-06-16T01:49:55.455Z"
   },
   {
    "duration": 13,
    "start_time": "2021-06-16T01:49:55.497Z"
   },
   {
    "duration": 12,
    "start_time": "2021-06-16T01:49:55.512Z"
   },
   {
    "duration": 10,
    "start_time": "2021-06-16T01:49:55.526Z"
   },
   {
    "duration": 59,
    "start_time": "2021-06-16T01:49:55.539Z"
   },
   {
    "duration": 22,
    "start_time": "2021-06-16T01:56:27.718Z"
   },
   {
    "duration": 91,
    "start_time": "2021-06-16T01:59:41.043Z"
   },
   {
    "duration": 1400,
    "start_time": "2021-06-16T02:10:50.118Z"
   },
   {
    "duration": 55,
    "start_time": "2021-06-16T02:10:51.521Z"
   },
   {
    "duration": 9,
    "start_time": "2021-06-16T02:10:51.578Z"
   },
   {
    "duration": 17,
    "start_time": "2021-06-16T02:10:51.590Z"
   },
   {
    "duration": 15,
    "start_time": "2021-06-16T02:10:51.610Z"
   },
   {
    "duration": 17,
    "start_time": "2021-06-16T02:10:51.628Z"
   },
   {
    "duration": 12,
    "start_time": "2021-06-16T02:10:51.647Z"
   },
   {
    "duration": 22,
    "start_time": "2021-06-16T02:10:51.665Z"
   },
   {
    "duration": 8,
    "start_time": "2021-06-16T02:10:51.690Z"
   },
   {
    "duration": 6,
    "start_time": "2021-06-16T02:10:51.701Z"
   },
   {
    "duration": 8,
    "start_time": "2021-06-16T02:10:51.710Z"
   },
   {
    "duration": 18,
    "start_time": "2021-06-16T02:10:51.721Z"
   },
   {
    "duration": 557,
    "start_time": "2021-06-16T02:10:51.741Z"
   },
   {
    "duration": 16,
    "start_time": "2021-06-16T02:10:52.300Z"
   },
   {
    "duration": 505,
    "start_time": "2021-06-16T02:10:52.318Z"
   },
   {
    "duration": 104,
    "start_time": "2021-06-16T02:10:52.825Z"
   },
   {
    "duration": 8,
    "start_time": "2021-06-16T02:10:52.931Z"
   },
   {
    "duration": 16,
    "start_time": "2021-06-16T02:10:52.941Z"
   },
   {
    "duration": 8,
    "start_time": "2021-06-16T02:10:52.960Z"
   },
   {
    "duration": 5,
    "start_time": "2021-06-16T02:10:52.971Z"
   },
   {
    "duration": 9,
    "start_time": "2021-06-16T02:10:52.979Z"
   },
   {
    "duration": 9,
    "start_time": "2021-06-16T02:10:52.990Z"
   },
   {
    "duration": 6,
    "start_time": "2021-06-16T02:10:53.006Z"
   },
   {
    "duration": 6,
    "start_time": "2021-06-16T02:10:53.015Z"
   },
   {
    "duration": 24,
    "start_time": "2021-06-16T02:10:53.024Z"
   },
   {
    "duration": 40,
    "start_time": "2021-06-16T02:10:53.051Z"
   },
   {
    "duration": 16,
    "start_time": "2021-06-16T02:10:53.093Z"
   },
   {
    "duration": 24,
    "start_time": "2021-06-16T02:10:53.111Z"
   },
   {
    "duration": 15,
    "start_time": "2021-06-16T02:10:53.137Z"
   },
   {
    "duration": 30,
    "start_time": "2021-06-16T02:10:53.154Z"
   },
   {
    "duration": 8,
    "start_time": "2021-06-16T02:10:53.187Z"
   },
   {
    "duration": 11,
    "start_time": "2021-06-16T02:10:53.198Z"
   },
   {
    "duration": 15,
    "start_time": "2021-06-16T02:10:53.211Z"
   },
   {
    "duration": 19,
    "start_time": "2021-06-16T02:10:53.228Z"
   },
   {
    "duration": 18,
    "start_time": "2021-06-16T02:10:53.249Z"
   },
   {
    "duration": 15,
    "start_time": "2021-06-16T02:10:53.270Z"
   },
   {
    "duration": 672,
    "start_time": "2021-06-16T02:10:53.287Z"
   },
   {
    "duration": 435,
    "start_time": "2021-06-16T02:10:53.961Z"
   },
   {
    "duration": 404,
    "start_time": "2021-06-16T02:10:54.399Z"
   },
   {
    "duration": 492,
    "start_time": "2021-06-16T02:10:54.806Z"
   },
   {
    "duration": 517,
    "start_time": "2021-06-16T02:10:55.300Z"
   },
   {
    "duration": 489,
    "start_time": "2021-06-16T02:10:55.820Z"
   },
   {
    "duration": 422,
    "start_time": "2021-06-16T02:10:56.311Z"
   },
   {
    "duration": 364,
    "start_time": "2021-06-16T02:10:56.735Z"
   },
   {
    "duration": 6,
    "start_time": "2021-06-16T02:10:57.101Z"
   },
   {
    "duration": 340,
    "start_time": "2021-06-16T02:10:57.110Z"
   },
   {
    "duration": 406,
    "start_time": "2021-06-16T02:10:57.453Z"
   },
   {
    "duration": 6,
    "start_time": "2021-06-16T02:10:57.861Z"
   },
   {
    "duration": 429,
    "start_time": "2021-06-16T02:10:57.884Z"
   },
   {
    "duration": 212,
    "start_time": "2021-06-16T02:10:58.316Z"
   },
   {
    "duration": 15,
    "start_time": "2021-06-16T02:10:58.530Z"
   },
   {
    "duration": 37,
    "start_time": "2021-06-16T02:10:58.547Z"
   },
   {
    "duration": 14,
    "start_time": "2021-06-16T02:10:58.587Z"
   },
   {
    "duration": 17,
    "start_time": "2021-06-16T02:10:58.603Z"
   },
   {
    "duration": 21,
    "start_time": "2021-06-16T02:10:58.623Z"
   },
   {
    "duration": 40,
    "start_time": "2021-06-16T02:10:58.647Z"
   },
   {
    "duration": 1453,
    "start_time": "2021-06-16T19:12:25.178Z"
   },
   {
    "duration": 44,
    "start_time": "2021-06-16T19:12:26.633Z"
   },
   {
    "duration": 9,
    "start_time": "2021-06-16T19:12:26.679Z"
   },
   {
    "duration": 17,
    "start_time": "2021-06-16T19:12:26.691Z"
   },
   {
    "duration": 14,
    "start_time": "2021-06-16T19:12:26.711Z"
   },
   {
    "duration": 8,
    "start_time": "2021-06-16T19:12:26.727Z"
   },
   {
    "duration": 12,
    "start_time": "2021-06-16T19:12:26.737Z"
   },
   {
    "duration": 6,
    "start_time": "2021-06-16T19:12:26.753Z"
   },
   {
    "duration": 4,
    "start_time": "2021-06-16T19:12:26.762Z"
   },
   {
    "duration": 8,
    "start_time": "2021-06-16T19:12:26.768Z"
   },
   {
    "duration": 48,
    "start_time": "2021-06-16T19:12:26.779Z"
   },
   {
    "duration": 17,
    "start_time": "2021-06-16T19:12:26.830Z"
   },
   {
    "duration": 620,
    "start_time": "2021-06-16T19:12:26.849Z"
   },
   {
    "duration": 17,
    "start_time": "2021-06-16T19:12:27.471Z"
   },
   {
    "duration": 570,
    "start_time": "2021-06-16T19:12:27.490Z"
   },
   {
    "duration": 79,
    "start_time": "2021-06-16T19:12:28.063Z"
   },
   {
    "duration": 8,
    "start_time": "2021-06-16T19:12:28.145Z"
   },
   {
    "duration": 16,
    "start_time": "2021-06-16T19:12:28.155Z"
   },
   {
    "duration": 7,
    "start_time": "2021-06-16T19:12:28.173Z"
   },
   {
    "duration": 9,
    "start_time": "2021-06-16T19:12:28.182Z"
   },
   {
    "duration": 6,
    "start_time": "2021-06-16T19:12:28.194Z"
   },
   {
    "duration": 26,
    "start_time": "2021-06-16T19:12:28.202Z"
   },
   {
    "duration": 5,
    "start_time": "2021-06-16T19:12:28.234Z"
   },
   {
    "duration": 7,
    "start_time": "2021-06-16T19:12:28.243Z"
   },
   {
    "duration": 24,
    "start_time": "2021-06-16T19:12:28.253Z"
   },
   {
    "duration": 11,
    "start_time": "2021-06-16T19:12:28.279Z"
   },
   {
    "duration": 7,
    "start_time": "2021-06-16T19:12:28.326Z"
   },
   {
    "duration": 8,
    "start_time": "2021-06-16T19:12:28.335Z"
   },
   {
    "duration": 10,
    "start_time": "2021-06-16T19:12:28.346Z"
   },
   {
    "duration": 19,
    "start_time": "2021-06-16T19:12:28.359Z"
   },
   {
    "duration": 46,
    "start_time": "2021-06-16T19:12:28.380Z"
   },
   {
    "duration": 12,
    "start_time": "2021-06-16T19:12:28.428Z"
   },
   {
    "duration": 12,
    "start_time": "2021-06-16T19:12:28.442Z"
   },
   {
    "duration": 8,
    "start_time": "2021-06-16T19:12:28.456Z"
   },
   {
    "duration": 13,
    "start_time": "2021-06-16T19:12:28.467Z"
   },
   {
    "duration": 5,
    "start_time": "2021-06-16T19:12:28.482Z"
   },
   {
    "duration": 675,
    "start_time": "2021-06-16T19:12:28.489Z"
   },
   {
    "duration": 472,
    "start_time": "2021-06-16T19:12:29.167Z"
   },
   {
    "duration": 466,
    "start_time": "2021-06-16T19:12:29.642Z"
   },
   {
    "duration": 555,
    "start_time": "2021-06-16T19:12:30.111Z"
   },
   {
    "duration": 551,
    "start_time": "2021-06-16T19:12:30.668Z"
   },
   {
    "duration": 558,
    "start_time": "2021-06-16T19:12:31.225Z"
   },
   {
    "duration": 522,
    "start_time": "2021-06-16T19:12:31.786Z"
   },
   {
    "duration": 419,
    "start_time": "2021-06-16T19:12:32.311Z"
   },
   {
    "duration": 5,
    "start_time": "2021-06-16T19:12:32.733Z"
   },
   {
    "duration": 430,
    "start_time": "2021-06-16T19:12:32.741Z"
   },
   {
    "duration": 401,
    "start_time": "2021-06-16T19:12:33.174Z"
   },
   {
    "duration": 7,
    "start_time": "2021-06-16T19:12:33.577Z"
   },
   {
    "duration": 490,
    "start_time": "2021-06-16T19:12:33.586Z"
   },
   {
    "duration": 239,
    "start_time": "2021-06-16T19:12:34.078Z"
   },
   {
    "duration": 15,
    "start_time": "2021-06-16T19:12:34.325Z"
   },
   {
    "duration": 17,
    "start_time": "2021-06-16T19:12:34.342Z"
   },
   {
    "duration": 14,
    "start_time": "2021-06-16T19:12:34.361Z"
   },
   {
    "duration": 53,
    "start_time": "2021-06-16T19:12:34.378Z"
   },
   {
    "duration": 11,
    "start_time": "2021-06-16T19:12:34.433Z"
   },
   {
    "duration": 21,
    "start_time": "2021-06-16T19:12:34.446Z"
   },
   {
    "duration": 477,
    "start_time": "2021-06-16T19:12:52.932Z"
   },
   {
    "duration": 466,
    "start_time": "2021-06-16T19:13:05.747Z"
   },
   {
    "duration": 1498,
    "start_time": "2021-06-17T22:12:37.830Z"
   },
   {
    "duration": 188,
    "start_time": "2021-06-17T22:12:39.330Z"
   },
   {
    "duration": 12,
    "start_time": "2021-06-17T22:12:39.522Z"
   },
   {
    "duration": 23,
    "start_time": "2021-06-17T22:12:39.537Z"
   },
   {
    "duration": 8,
    "start_time": "2021-06-17T22:12:39.563Z"
   },
   {
    "duration": 10,
    "start_time": "2021-06-17T22:12:39.574Z"
   },
   {
    "duration": 11,
    "start_time": "2021-06-17T22:12:39.587Z"
   },
   {
    "duration": 10,
    "start_time": "2021-06-17T22:12:39.602Z"
   },
   {
    "duration": 42,
    "start_time": "2021-06-17T22:12:39.615Z"
   },
   {
    "duration": 5,
    "start_time": "2021-06-17T22:12:39.660Z"
   },
   {
    "duration": 7,
    "start_time": "2021-06-17T22:12:39.668Z"
   },
   {
    "duration": 15,
    "start_time": "2021-06-17T22:12:39.677Z"
   },
   {
    "duration": 601,
    "start_time": "2021-06-17T22:12:39.695Z"
   },
   {
    "duration": 17,
    "start_time": "2021-06-17T22:12:40.299Z"
   },
   {
    "duration": 556,
    "start_time": "2021-06-17T22:12:40.318Z"
   },
   {
    "duration": 330,
    "start_time": "2021-06-17T22:12:40.877Z"
   },
   {
    "duration": 13,
    "start_time": "2021-06-17T22:12:41.210Z"
   },
   {
    "duration": 20,
    "start_time": "2021-06-17T22:12:41.226Z"
   },
   {
    "duration": 10,
    "start_time": "2021-06-17T22:12:41.249Z"
   },
   {
    "duration": 7,
    "start_time": "2021-06-17T22:12:41.262Z"
   },
   {
    "duration": 13,
    "start_time": "2021-06-17T22:12:41.271Z"
   },
   {
    "duration": 10,
    "start_time": "2021-06-17T22:12:41.287Z"
   },
   {
    "duration": 6,
    "start_time": "2021-06-17T22:12:41.304Z"
   },
   {
    "duration": 6,
    "start_time": "2021-06-17T22:12:41.313Z"
   },
   {
    "duration": 47,
    "start_time": "2021-06-17T22:12:41.322Z"
   },
   {
    "duration": 10,
    "start_time": "2021-06-17T22:12:41.372Z"
   },
   {
    "duration": 11,
    "start_time": "2021-06-17T22:12:41.384Z"
   },
   {
    "duration": 8,
    "start_time": "2021-06-17T22:12:41.398Z"
   },
   {
    "duration": 52,
    "start_time": "2021-06-17T22:12:41.408Z"
   },
   {
    "duration": 18,
    "start_time": "2021-06-17T22:12:41.462Z"
   },
   {
    "duration": 5,
    "start_time": "2021-06-17T22:12:41.483Z"
   },
   {
    "duration": 7,
    "start_time": "2021-06-17T22:12:41.491Z"
   },
   {
    "duration": 11,
    "start_time": "2021-06-17T22:12:41.500Z"
   },
   {
    "duration": 7,
    "start_time": "2021-06-17T22:12:41.556Z"
   },
   {
    "duration": 20,
    "start_time": "2021-06-17T22:12:41.567Z"
   },
   {
    "duration": 8,
    "start_time": "2021-06-17T22:12:41.590Z"
   },
   {
    "duration": 635,
    "start_time": "2021-06-17T22:12:41.601Z"
   },
   {
    "duration": 456,
    "start_time": "2021-06-17T22:12:42.238Z"
   },
   {
    "duration": 451,
    "start_time": "2021-06-17T22:12:42.696Z"
   },
   {
    "duration": 721,
    "start_time": "2021-06-17T22:12:43.163Z"
   },
   {
    "duration": 777,
    "start_time": "2021-06-17T22:12:43.888Z"
   },
   {
    "duration": 699,
    "start_time": "2021-06-17T22:12:44.668Z"
   },
   {
    "duration": 778,
    "start_time": "2021-06-17T22:12:45.370Z"
   },
   {
    "duration": 521,
    "start_time": "2021-06-17T22:12:46.155Z"
   },
   {
    "duration": 7,
    "start_time": "2021-06-17T22:12:46.679Z"
   },
   {
    "duration": 589,
    "start_time": "2021-06-17T22:12:46.689Z"
   },
   {
    "duration": 404,
    "start_time": "2021-06-17T22:12:47.281Z"
   },
   {
    "duration": 6,
    "start_time": "2021-06-17T22:12:47.688Z"
   },
   {
    "duration": 473,
    "start_time": "2021-06-17T22:12:47.697Z"
   },
   {
    "duration": 620,
    "start_time": "2021-06-17T22:12:48.173Z"
   },
   {
    "duration": 9,
    "start_time": "2021-06-17T22:12:48.786Z"
   },
   {
    "duration": 7,
    "start_time": "2021-06-17T22:12:48.789Z"
   },
   {
    "duration": 4,
    "start_time": "2021-06-17T22:12:48.793Z"
   },
   {
    "duration": 3,
    "start_time": "2021-06-17T22:12:48.796Z"
   },
   {
    "duration": 0,
    "start_time": "2021-06-17T22:12:48.801Z"
   },
   {
    "duration": -3,
    "start_time": "2021-06-17T22:12:48.805Z"
   },
   {
    "duration": 1508,
    "start_time": "2021-06-17T22:13:28.121Z"
   },
   {
    "duration": 66,
    "start_time": "2021-06-17T22:13:29.632Z"
   },
   {
    "duration": 12,
    "start_time": "2021-06-17T22:13:29.702Z"
   },
   {
    "duration": 23,
    "start_time": "2021-06-17T22:13:29.718Z"
   },
   {
    "duration": 9,
    "start_time": "2021-06-17T22:13:29.744Z"
   },
   {
    "duration": 10,
    "start_time": "2021-06-17T22:13:29.755Z"
   },
   {
    "duration": 11,
    "start_time": "2021-06-17T22:13:29.768Z"
   },
   {
    "duration": 9,
    "start_time": "2021-06-17T22:13:29.783Z"
   },
   {
    "duration": 9,
    "start_time": "2021-06-17T22:13:29.796Z"
   },
   {
    "duration": 6,
    "start_time": "2021-06-17T22:13:29.807Z"
   },
   {
    "duration": 14,
    "start_time": "2021-06-17T22:13:29.815Z"
   },
   {
    "duration": 38,
    "start_time": "2021-06-17T22:13:29.831Z"
   },
   {
    "duration": 594,
    "start_time": "2021-06-17T22:13:29.872Z"
   },
   {
    "duration": 18,
    "start_time": "2021-06-17T22:13:30.468Z"
   },
   {
    "duration": 561,
    "start_time": "2021-06-17T22:13:30.489Z"
   },
   {
    "duration": 142,
    "start_time": "2021-06-17T22:13:31.056Z"
   },
   {
    "duration": 11,
    "start_time": "2021-06-17T22:13:31.201Z"
   },
   {
    "duration": 23,
    "start_time": "2021-06-17T22:13:31.215Z"
   },
   {
    "duration": 10,
    "start_time": "2021-06-17T22:13:31.240Z"
   },
   {
    "duration": 9,
    "start_time": "2021-06-17T22:13:31.252Z"
   },
   {
    "duration": 6,
    "start_time": "2021-06-17T22:13:31.263Z"
   },
   {
    "duration": 11,
    "start_time": "2021-06-17T22:13:31.271Z"
   },
   {
    "duration": 8,
    "start_time": "2021-06-17T22:13:31.287Z"
   },
   {
    "duration": 11,
    "start_time": "2021-06-17T22:13:31.298Z"
   },
   {
    "duration": 57,
    "start_time": "2021-06-17T22:13:31.311Z"
   },
   {
    "duration": 14,
    "start_time": "2021-06-17T22:13:31.370Z"
   },
   {
    "duration": 7,
    "start_time": "2021-06-17T22:13:31.386Z"
   },
   {
    "duration": 19,
    "start_time": "2021-06-17T22:13:31.395Z"
   },
   {
    "duration": 40,
    "start_time": "2021-06-17T22:13:31.417Z"
   },
   {
    "duration": 20,
    "start_time": "2021-06-17T22:13:31.460Z"
   },
   {
    "duration": 7,
    "start_time": "2021-06-17T22:13:31.482Z"
   },
   {
    "duration": 14,
    "start_time": "2021-06-17T22:13:31.491Z"
   },
   {
    "duration": 10,
    "start_time": "2021-06-17T22:13:31.508Z"
   },
   {
    "duration": 6,
    "start_time": "2021-06-17T22:13:31.555Z"
   },
   {
    "duration": 18,
    "start_time": "2021-06-17T22:13:31.563Z"
   },
   {
    "duration": 22,
    "start_time": "2021-06-17T22:13:31.584Z"
   },
   {
    "duration": 613,
    "start_time": "2021-06-17T22:13:31.608Z"
   },
   {
    "duration": 475,
    "start_time": "2021-06-17T22:13:32.223Z"
   },
   {
    "duration": 466,
    "start_time": "2021-06-17T22:13:32.701Z"
   },
   {
    "duration": 549,
    "start_time": "2021-06-17T22:13:33.169Z"
   },
   {
    "duration": 728,
    "start_time": "2021-06-17T22:13:33.720Z"
   },
   {
    "duration": 553,
    "start_time": "2021-06-17T22:13:34.450Z"
   },
   {
    "duration": 551,
    "start_time": "2021-06-17T22:13:35.005Z"
   },
   {
    "duration": 527,
    "start_time": "2021-06-17T22:13:35.558Z"
   },
   {
    "duration": 8,
    "start_time": "2021-06-17T22:13:36.088Z"
   },
   {
    "duration": 639,
    "start_time": "2021-06-17T22:13:36.099Z"
   },
   {
    "duration": 592,
    "start_time": "2021-06-17T22:13:36.742Z"
   },
   {
    "duration": 7,
    "start_time": "2021-06-17T22:13:37.337Z"
   },
   {
    "duration": 730,
    "start_time": "2021-06-17T22:13:37.348Z"
   },
   {
    "duration": 406,
    "start_time": "2021-06-17T22:13:38.081Z"
   },
   {
    "duration": 22,
    "start_time": "2021-06-17T22:13:38.491Z"
   },
   {
    "duration": 47,
    "start_time": "2021-06-17T22:13:38.516Z"
   },
   {
    "duration": 20,
    "start_time": "2021-06-17T22:13:38.566Z"
   },
   {
    "duration": 30,
    "start_time": "2021-06-17T22:13:38.589Z"
   },
   {
    "duration": 14,
    "start_time": "2021-06-17T22:13:38.622Z"
   },
   {
    "duration": 32,
    "start_time": "2021-06-17T22:13:38.657Z"
   },
   {
    "duration": 89,
    "start_time": "2021-06-17T22:24:16.369Z"
   },
   {
    "duration": 21,
    "start_time": "2021-06-17T23:02:50.021Z"
   },
   {
    "duration": 1420,
    "start_time": "2021-06-17T23:03:02.813Z"
   },
   {
    "duration": 108,
    "start_time": "2021-06-17T23:03:04.236Z"
   },
   {
    "duration": 18,
    "start_time": "2021-06-17T23:03:04.347Z"
   },
   {
    "duration": 22,
    "start_time": "2021-06-17T23:03:04.367Z"
   },
   {
    "duration": 27,
    "start_time": "2021-06-17T23:03:04.391Z"
   },
   {
    "duration": 5,
    "start_time": "2021-06-17T23:03:04.421Z"
   },
   {
    "duration": 14,
    "start_time": "2021-06-17T23:03:04.428Z"
   },
   {
    "duration": 21,
    "start_time": "2021-06-17T23:03:04.444Z"
   },
   {
    "duration": 9,
    "start_time": "2021-06-17T23:03:04.470Z"
   },
   {
    "duration": 9,
    "start_time": "2021-06-17T23:03:04.482Z"
   },
   {
    "duration": 13,
    "start_time": "2021-06-17T23:03:04.493Z"
   },
   {
    "duration": 18,
    "start_time": "2021-06-17T23:03:04.508Z"
   },
   {
    "duration": 19,
    "start_time": "2021-06-17T23:03:04.529Z"
   },
   {
    "duration": 551,
    "start_time": "2021-06-17T23:03:04.550Z"
   },
   {
    "duration": 16,
    "start_time": "2021-06-17T23:03:05.104Z"
   },
   {
    "duration": 517,
    "start_time": "2021-06-17T23:03:05.122Z"
   },
   {
    "duration": 132,
    "start_time": "2021-06-17T23:03:05.641Z"
   },
   {
    "duration": 9,
    "start_time": "2021-06-17T23:03:05.776Z"
   },
   {
    "duration": 24,
    "start_time": "2021-06-17T23:03:05.787Z"
   },
   {
    "duration": 8,
    "start_time": "2021-06-17T23:03:05.813Z"
   },
   {
    "duration": 7,
    "start_time": "2021-06-17T23:03:05.823Z"
   },
   {
    "duration": 22,
    "start_time": "2021-06-17T23:03:05.833Z"
   },
   {
    "duration": 13,
    "start_time": "2021-06-17T23:03:05.858Z"
   },
   {
    "duration": 16,
    "start_time": "2021-06-17T23:03:05.873Z"
   },
   {
    "duration": 15,
    "start_time": "2021-06-17T23:03:05.891Z"
   },
   {
    "duration": 27,
    "start_time": "2021-06-17T23:03:05.908Z"
   },
   {
    "duration": 19,
    "start_time": "2021-06-17T23:03:05.941Z"
   },
   {
    "duration": 10,
    "start_time": "2021-06-17T23:03:05.964Z"
   },
   {
    "duration": 22,
    "start_time": "2021-06-17T23:03:05.977Z"
   },
   {
    "duration": 16,
    "start_time": "2021-06-17T23:03:06.001Z"
   },
   {
    "duration": 37,
    "start_time": "2021-06-17T23:03:06.020Z"
   },
   {
    "duration": 14,
    "start_time": "2021-06-17T23:03:06.060Z"
   },
   {
    "duration": 9,
    "start_time": "2021-06-17T23:03:06.078Z"
   },
   {
    "duration": 21,
    "start_time": "2021-06-17T23:03:06.090Z"
   },
   {
    "duration": 9,
    "start_time": "2021-06-17T23:03:06.114Z"
   },
   {
    "duration": 42,
    "start_time": "2021-06-17T23:03:06.126Z"
   },
   {
    "duration": 10,
    "start_time": "2021-06-17T23:03:06.170Z"
   },
   {
    "duration": 1011,
    "start_time": "2021-06-17T23:03:06.183Z"
   },
   {
    "duration": 571,
    "start_time": "2021-06-17T23:03:07.197Z"
   },
   {
    "duration": 601,
    "start_time": "2021-06-17T23:03:07.771Z"
   },
   {
    "duration": 689,
    "start_time": "2021-06-17T23:03:08.374Z"
   },
   {
    "duration": 740,
    "start_time": "2021-06-17T23:03:09.067Z"
   },
   {
    "duration": 561,
    "start_time": "2021-06-17T23:03:09.810Z"
   },
   {
    "duration": 448,
    "start_time": "2021-06-17T23:03:10.374Z"
   },
   {
    "duration": 388,
    "start_time": "2021-06-17T23:03:10.825Z"
   },
   {
    "duration": 5,
    "start_time": "2021-06-17T23:03:11.216Z"
   },
   {
    "duration": 368,
    "start_time": "2021-06-17T23:03:11.224Z"
   },
   {
    "duration": 370,
    "start_time": "2021-06-17T23:03:11.595Z"
   },
   {
    "duration": 5,
    "start_time": "2021-06-17T23:03:11.969Z"
   },
   {
    "duration": 452,
    "start_time": "2021-06-17T23:03:11.977Z"
   },
   {
    "duration": 245,
    "start_time": "2021-06-17T23:03:12.431Z"
   },
   {
    "duration": 14,
    "start_time": "2021-06-17T23:03:12.679Z"
   },
   {
    "duration": 17,
    "start_time": "2021-06-17T23:03:12.696Z"
   },
   {
    "duration": 46,
    "start_time": "2021-06-17T23:03:12.715Z"
   },
   {
    "duration": 11,
    "start_time": "2021-06-17T23:03:12.764Z"
   },
   {
    "duration": 18,
    "start_time": "2021-06-17T23:03:12.777Z"
   },
   {
    "duration": 21,
    "start_time": "2021-06-17T23:03:12.797Z"
   },
   {
    "duration": 93,
    "start_time": "2021-06-17T23:03:58.310Z"
   },
   {
    "duration": 94,
    "start_time": "2021-06-17T23:05:16.726Z"
   },
   {
    "duration": 101,
    "start_time": "2021-06-17T23:06:41.431Z"
   },
   {
    "duration": 16,
    "start_time": "2021-06-17T23:08:54.406Z"
   },
   {
    "duration": 95,
    "start_time": "2021-06-17T23:09:15.164Z"
   },
   {
    "duration": 54,
    "start_time": "2021-06-17T23:17:23.932Z"
   },
   {
    "duration": 75,
    "start_time": "2021-06-17T23:17:59.058Z"
   },
   {
    "duration": 79,
    "start_time": "2021-06-17T23:19:41.211Z"
   },
   {
    "duration": 96,
    "start_time": "2021-06-17T23:22:52.324Z"
   },
   {
    "duration": 103,
    "start_time": "2021-06-17T23:26:04.169Z"
   },
   {
    "duration": 401,
    "start_time": "2021-06-17T23:26:44.717Z"
   },
   {
    "duration": 1462,
    "start_time": "2021-06-17T23:26:58.917Z"
   },
   {
    "duration": 205,
    "start_time": "2021-06-17T23:27:00.382Z"
   },
   {
    "duration": 20,
    "start_time": "2021-06-17T23:27:00.590Z"
   },
   {
    "duration": 24,
    "start_time": "2021-06-17T23:27:00.612Z"
   },
   {
    "duration": 28,
    "start_time": "2021-06-17T23:27:00.638Z"
   },
   {
    "duration": 17,
    "start_time": "2021-06-17T23:27:00.669Z"
   },
   {
    "duration": 36,
    "start_time": "2021-06-17T23:27:00.688Z"
   },
   {
    "duration": 38,
    "start_time": "2021-06-17T23:27:00.727Z"
   },
   {
    "duration": 16,
    "start_time": "2021-06-17T23:27:00.768Z"
   },
   {
    "duration": 17,
    "start_time": "2021-06-17T23:27:00.786Z"
   },
   {
    "duration": 15,
    "start_time": "2021-06-17T23:27:00.806Z"
   },
   {
    "duration": 19,
    "start_time": "2021-06-17T23:27:00.823Z"
   },
   {
    "duration": 42,
    "start_time": "2021-06-17T23:27:00.844Z"
   },
   {
    "duration": 541,
    "start_time": "2021-06-17T23:27:00.888Z"
   },
   {
    "duration": 27,
    "start_time": "2021-06-17T23:27:01.431Z"
   },
   {
    "duration": 529,
    "start_time": "2021-06-17T23:27:01.460Z"
   },
   {
    "duration": 319,
    "start_time": "2021-06-17T23:27:01.991Z"
   },
   {
    "duration": 55,
    "start_time": "2021-06-17T23:27:02.313Z"
   },
   {
    "duration": 9,
    "start_time": "2021-06-17T23:27:02.371Z"
   },
   {
    "duration": 14,
    "start_time": "2021-06-17T23:27:02.383Z"
   },
   {
    "duration": 12,
    "start_time": "2021-06-17T23:27:02.400Z"
   },
   {
    "duration": 6,
    "start_time": "2021-06-17T23:27:02.415Z"
   },
   {
    "duration": 4,
    "start_time": "2021-06-17T23:27:02.455Z"
   },
   {
    "duration": 9,
    "start_time": "2021-06-17T23:27:02.464Z"
   },
   {
    "duration": 9,
    "start_time": "2021-06-17T23:27:02.476Z"
   },
   {
    "duration": 6,
    "start_time": "2021-06-17T23:27:02.488Z"
   },
   {
    "duration": 21,
    "start_time": "2021-06-17T23:27:02.497Z"
   },
   {
    "duration": 40,
    "start_time": "2021-06-17T23:27:02.521Z"
   },
   {
    "duration": 7,
    "start_time": "2021-06-17T23:27:02.564Z"
   },
   {
    "duration": 14,
    "start_time": "2021-06-17T23:27:02.573Z"
   },
   {
    "duration": 24,
    "start_time": "2021-06-17T23:27:02.590Z"
   },
   {
    "duration": 21,
    "start_time": "2021-06-17T23:27:02.616Z"
   },
   {
    "duration": 5,
    "start_time": "2021-06-17T23:27:02.656Z"
   },
   {
    "duration": 8,
    "start_time": "2021-06-17T23:27:02.664Z"
   },
   {
    "duration": 10,
    "start_time": "2021-06-17T23:27:02.675Z"
   },
   {
    "duration": 8,
    "start_time": "2021-06-17T23:27:02.687Z"
   },
   {
    "duration": 14,
    "start_time": "2021-06-17T23:27:02.698Z"
   },
   {
    "duration": 45,
    "start_time": "2021-06-17T23:27:02.715Z"
   },
   {
    "duration": 595,
    "start_time": "2021-06-17T23:27:02.763Z"
   },
   {
    "duration": 450,
    "start_time": "2021-06-17T23:27:03.360Z"
   },
   {
    "duration": 424,
    "start_time": "2021-06-17T23:27:03.812Z"
   },
   {
    "duration": 548,
    "start_time": "2021-06-17T23:27:04.238Z"
   },
   {
    "duration": 508,
    "start_time": "2021-06-17T23:27:04.789Z"
   },
   {
    "duration": 552,
    "start_time": "2021-06-17T23:27:05.299Z"
   },
   {
    "duration": 457,
    "start_time": "2021-06-17T23:27:05.855Z"
   },
   {
    "duration": 399,
    "start_time": "2021-06-17T23:27:06.314Z"
   },
   {
    "duration": 6,
    "start_time": "2021-06-17T23:27:06.715Z"
   },
   {
    "duration": 470,
    "start_time": "2021-06-17T23:27:06.724Z"
   },
   {
    "duration": 389,
    "start_time": "2021-06-17T23:27:07.197Z"
   },
   {
    "duration": 6,
    "start_time": "2021-06-17T23:27:07.588Z"
   },
   {
    "duration": 473,
    "start_time": "2021-06-17T23:27:07.596Z"
   },
   {
    "duration": 377,
    "start_time": "2021-06-17T23:27:08.073Z"
   },
   {
    "duration": 19,
    "start_time": "2021-06-17T23:27:08.457Z"
   },
   {
    "duration": 20,
    "start_time": "2021-06-17T23:27:08.479Z"
   },
   {
    "duration": 19,
    "start_time": "2021-06-17T23:27:08.502Z"
   },
   {
    "duration": 47,
    "start_time": "2021-06-17T23:27:08.524Z"
   },
   {
    "duration": 14,
    "start_time": "2021-06-17T23:27:08.574Z"
   },
   {
    "duration": 28,
    "start_time": "2021-06-17T23:27:08.591Z"
   },
   {
    "duration": 749,
    "start_time": "2021-06-17T23:28:57.429Z"
   },
   {
    "duration": 126,
    "start_time": "2021-06-17T23:29:55.501Z"
   },
   {
    "duration": 707,
    "start_time": "2021-06-17T23:30:38.112Z"
   },
   {
    "duration": 701,
    "start_time": "2021-06-17T23:30:53.672Z"
   },
   {
    "duration": 709,
    "start_time": "2021-06-17T23:31:06.174Z"
   },
   {
    "duration": 712,
    "start_time": "2021-06-17T23:31:26.894Z"
   },
   {
    "duration": 90,
    "start_time": "2021-06-17T23:31:55.111Z"
   },
   {
    "duration": 94,
    "start_time": "2021-06-17T23:35:53.676Z"
   },
   {
    "duration": 97,
    "start_time": "2021-06-17T23:47:48.929Z"
   },
   {
    "duration": 92,
    "start_time": "2021-06-17T23:49:08.446Z"
   },
   {
    "duration": 1465,
    "start_time": "2021-06-17T23:51:36.965Z"
   },
   {
    "duration": 75,
    "start_time": "2021-06-17T23:51:38.433Z"
   },
   {
    "duration": 19,
    "start_time": "2021-06-17T23:51:38.511Z"
   },
   {
    "duration": 12,
    "start_time": "2021-06-17T23:51:38.533Z"
   },
   {
    "duration": 19,
    "start_time": "2021-06-17T23:51:38.548Z"
   },
   {
    "duration": 7,
    "start_time": "2021-06-17T23:51:38.570Z"
   },
   {
    "duration": 8,
    "start_time": "2021-06-17T23:51:38.579Z"
   },
   {
    "duration": 15,
    "start_time": "2021-06-17T23:51:38.589Z"
   },
   {
    "duration": 7,
    "start_time": "2021-06-17T23:51:38.609Z"
   },
   {
    "duration": 39,
    "start_time": "2021-06-17T23:51:38.619Z"
   },
   {
    "duration": 9,
    "start_time": "2021-06-17T23:51:38.661Z"
   },
   {
    "duration": 10,
    "start_time": "2021-06-17T23:51:38.673Z"
   },
   {
    "duration": 18,
    "start_time": "2021-06-17T23:51:38.685Z"
   },
   {
    "duration": 595,
    "start_time": "2021-06-17T23:51:38.706Z"
   },
   {
    "duration": 17,
    "start_time": "2021-06-17T23:51:39.303Z"
   },
   {
    "duration": 548,
    "start_time": "2021-06-17T23:51:39.323Z"
   },
   {
    "duration": 134,
    "start_time": "2021-06-17T23:51:39.873Z"
   },
   {
    "duration": 54,
    "start_time": "2021-06-17T23:51:40.009Z"
   },
   {
    "duration": 8,
    "start_time": "2021-06-17T23:51:40.066Z"
   },
   {
    "duration": 18,
    "start_time": "2021-06-17T23:51:40.077Z"
   },
   {
    "duration": 8,
    "start_time": "2021-06-17T23:51:40.098Z"
   },
   {
    "duration": 11,
    "start_time": "2021-06-17T23:51:40.108Z"
   },
   {
    "duration": 9,
    "start_time": "2021-06-17T23:51:40.122Z"
   },
   {
    "duration": 27,
    "start_time": "2021-06-17T23:51:40.134Z"
   },
   {
    "duration": 12,
    "start_time": "2021-06-17T23:51:40.164Z"
   },
   {
    "duration": 14,
    "start_time": "2021-06-17T23:51:40.178Z"
   },
   {
    "duration": 21,
    "start_time": "2021-06-17T23:51:40.198Z"
   },
   {
    "duration": 38,
    "start_time": "2021-06-17T23:51:40.222Z"
   },
   {
    "duration": 11,
    "start_time": "2021-06-17T23:51:40.263Z"
   },
   {
    "duration": 19,
    "start_time": "2021-06-17T23:51:40.277Z"
   },
   {
    "duration": 16,
    "start_time": "2021-06-17T23:51:40.299Z"
   },
   {
    "duration": 45,
    "start_time": "2021-06-17T23:51:40.318Z"
   },
   {
    "duration": 8,
    "start_time": "2021-06-17T23:51:40.366Z"
   },
   {
    "duration": 13,
    "start_time": "2021-06-17T23:51:40.377Z"
   },
   {
    "duration": 13,
    "start_time": "2021-06-17T23:51:40.393Z"
   },
   {
    "duration": 9,
    "start_time": "2021-06-17T23:51:40.409Z"
   },
   {
    "duration": 51,
    "start_time": "2021-06-17T23:51:40.421Z"
   },
   {
    "duration": 7,
    "start_time": "2021-06-17T23:51:40.475Z"
   },
   {
    "duration": 647,
    "start_time": "2021-06-17T23:51:40.485Z"
   },
   {
    "duration": 448,
    "start_time": "2021-06-17T23:51:41.134Z"
   },
   {
    "duration": 451,
    "start_time": "2021-06-17T23:51:41.584Z"
   },
   {
    "duration": 567,
    "start_time": "2021-06-17T23:51:42.037Z"
   },
   {
    "duration": 528,
    "start_time": "2021-06-17T23:51:42.607Z"
   },
   {
    "duration": 538,
    "start_time": "2021-06-17T23:51:43.138Z"
   },
   {
    "duration": 517,
    "start_time": "2021-06-17T23:51:43.679Z"
   },
   {
    "duration": 384,
    "start_time": "2021-06-17T23:51:44.199Z"
   },
   {
    "duration": 5,
    "start_time": "2021-06-17T23:51:44.585Z"
   },
   {
    "duration": 380,
    "start_time": "2021-06-17T23:51:44.592Z"
   },
   {
    "duration": 411,
    "start_time": "2021-06-17T23:51:44.974Z"
   },
   {
    "duration": 6,
    "start_time": "2021-06-17T23:51:45.388Z"
   },
   {
    "duration": 480,
    "start_time": "2021-06-17T23:51:45.397Z"
   },
   {
    "duration": 228,
    "start_time": "2021-06-17T23:51:45.880Z"
   },
   {
    "duration": 15,
    "start_time": "2021-06-17T23:51:46.111Z"
   },
   {
    "duration": 35,
    "start_time": "2021-06-17T23:51:46.129Z"
   },
   {
    "duration": 14,
    "start_time": "2021-06-17T23:51:46.167Z"
   },
   {
    "duration": 16,
    "start_time": "2021-06-17T23:51:46.184Z"
   },
   {
    "duration": 23,
    "start_time": "2021-06-17T23:51:46.202Z"
   },
   {
    "duration": 242,
    "start_time": "2021-06-18T00:29:45.058Z"
   },
   {
    "duration": 206,
    "start_time": "2021-06-18T00:29:49.208Z"
   },
   {
    "duration": 8,
    "start_time": "2021-06-18T01:07:28.685Z"
   },
   {
    "duration": 8,
    "start_time": "2021-06-18T01:07:33.554Z"
   },
   {
    "duration": 1522,
    "start_time": "2021-06-18T13:49:49.515Z"
   },
   {
    "duration": 147,
    "start_time": "2021-06-18T13:49:51.040Z"
   },
   {
    "duration": 20,
    "start_time": "2021-06-18T13:49:51.190Z"
   },
   {
    "duration": 19,
    "start_time": "2021-06-18T13:49:51.213Z"
   },
   {
    "duration": 19,
    "start_time": "2021-06-18T13:49:51.234Z"
   },
   {
    "duration": 6,
    "start_time": "2021-06-18T13:49:51.255Z"
   },
   {
    "duration": 10,
    "start_time": "2021-06-18T13:49:51.264Z"
   },
   {
    "duration": 11,
    "start_time": "2021-06-18T13:49:51.278Z"
   },
   {
    "duration": 6,
    "start_time": "2021-06-18T13:49:51.292Z"
   },
   {
    "duration": 6,
    "start_time": "2021-06-18T13:49:51.301Z"
   },
   {
    "duration": 47,
    "start_time": "2021-06-18T13:49:51.309Z"
   },
   {
    "duration": 5,
    "start_time": "2021-06-18T13:49:51.359Z"
   },
   {
    "duration": 27,
    "start_time": "2021-06-18T13:49:51.367Z"
   },
   {
    "duration": 607,
    "start_time": "2021-06-18T13:49:51.397Z"
   },
   {
    "duration": 17,
    "start_time": "2021-06-18T13:49:52.006Z"
   },
   {
    "duration": 579,
    "start_time": "2021-06-18T13:49:52.026Z"
   },
   {
    "duration": 309,
    "start_time": "2021-06-18T13:49:52.607Z"
   },
   {
    "duration": 91,
    "start_time": "2021-06-18T13:49:52.920Z"
   },
   {
    "duration": 12,
    "start_time": "2021-06-18T13:49:53.014Z"
   },
   {
    "duration": 27,
    "start_time": "2021-06-18T13:49:53.029Z"
   },
   {
    "duration": 19,
    "start_time": "2021-06-18T13:49:53.060Z"
   },
   {
    "duration": 21,
    "start_time": "2021-06-18T13:49:53.082Z"
   },
   {
    "duration": 5,
    "start_time": "2021-06-18T13:49:53.113Z"
   },
   {
    "duration": 6,
    "start_time": "2021-06-18T13:49:53.123Z"
   },
   {
    "duration": 6,
    "start_time": "2021-06-18T13:49:53.132Z"
   },
   {
    "duration": 15,
    "start_time": "2021-06-18T13:49:53.141Z"
   },
   {
    "duration": 30,
    "start_time": "2021-06-18T13:49:53.159Z"
   },
   {
    "duration": 8,
    "start_time": "2021-06-18T13:49:53.192Z"
   },
   {
    "duration": 9,
    "start_time": "2021-06-18T13:49:53.203Z"
   },
   {
    "duration": 51,
    "start_time": "2021-06-18T13:49:53.214Z"
   },
   {
    "duration": 14,
    "start_time": "2021-06-18T13:49:53.267Z"
   },
   {
    "duration": 19,
    "start_time": "2021-06-18T13:49:53.284Z"
   },
   {
    "duration": 10,
    "start_time": "2021-06-18T13:49:53.305Z"
   },
   {
    "duration": 40,
    "start_time": "2021-06-18T13:49:53.318Z"
   },
   {
    "duration": 14,
    "start_time": "2021-06-18T13:49:53.361Z"
   },
   {
    "duration": 14,
    "start_time": "2021-06-18T13:49:53.377Z"
   },
   {
    "duration": 21,
    "start_time": "2021-06-18T13:49:53.394Z"
   },
   {
    "duration": 40,
    "start_time": "2021-06-18T13:49:53.418Z"
   },
   {
    "duration": 963,
    "start_time": "2021-06-18T13:49:53.460Z"
   },
   {
    "duration": 654,
    "start_time": "2021-06-18T13:49:54.426Z"
   },
   {
    "duration": 446,
    "start_time": "2021-06-18T13:49:55.083Z"
   },
   {
    "duration": 547,
    "start_time": "2021-06-18T13:49:55.531Z"
   },
   {
    "duration": 544,
    "start_time": "2021-06-18T13:49:56.080Z"
   },
   {
    "duration": 539,
    "start_time": "2021-06-18T13:49:56.627Z"
   },
   {
    "duration": 497,
    "start_time": "2021-06-18T13:49:57.170Z"
   },
   {
    "duration": 376,
    "start_time": "2021-06-18T13:49:57.669Z"
   },
   {
    "duration": 10,
    "start_time": "2021-06-18T13:49:58.048Z"
   },
   {
    "duration": 409,
    "start_time": "2021-06-18T13:49:58.061Z"
   },
   {
    "duration": 393,
    "start_time": "2021-06-18T13:49:58.473Z"
   },
   {
    "duration": 7,
    "start_time": "2021-06-18T13:49:58.868Z"
   },
   {
    "duration": 485,
    "start_time": "2021-06-18T13:49:58.878Z"
   },
   {
    "duration": 232,
    "start_time": "2021-06-18T13:49:59.366Z"
   },
   {
    "duration": 17,
    "start_time": "2021-06-18T13:49:59.601Z"
   },
   {
    "duration": 36,
    "start_time": "2021-06-18T13:49:59.620Z"
   },
   {
    "duration": 17,
    "start_time": "2021-06-18T13:49:59.659Z"
   },
   {
    "duration": 12,
    "start_time": "2021-06-18T13:49:59.679Z"
   },
   {
    "duration": 24,
    "start_time": "2021-06-18T13:49:59.693Z"
   },
   {
    "duration": 94,
    "start_time": "2021-06-18T14:08:43.928Z"
   },
   {
    "duration": 110,
    "start_time": "2021-06-18T14:10:26.022Z"
   },
   {
    "duration": 24,
    "start_time": "2021-06-18T14:11:21.559Z"
   },
   {
    "duration": 16,
    "start_time": "2021-06-18T14:11:55.696Z"
   },
   {
    "duration": 90,
    "start_time": "2021-06-18T14:12:31.350Z"
   },
   {
    "duration": 24,
    "start_time": "2021-06-18T14:13:25.589Z"
   },
   {
    "duration": 3,
    "start_time": "2021-06-18T14:22:25.671Z"
   },
   {
    "duration": 82,
    "start_time": "2021-06-18T14:30:57.922Z"
   },
   {
    "duration": 78,
    "start_time": "2021-06-18T14:34:11.028Z"
   },
   {
    "duration": 1602,
    "start_time": "2021-06-18T14:34:24.218Z"
   },
   {
    "duration": 79,
    "start_time": "2021-06-18T14:34:25.823Z"
   },
   {
    "duration": 19,
    "start_time": "2021-06-18T14:34:25.905Z"
   },
   {
    "duration": 14,
    "start_time": "2021-06-18T14:34:25.927Z"
   },
   {
    "duration": 17,
    "start_time": "2021-06-18T14:34:25.944Z"
   },
   {
    "duration": 8,
    "start_time": "2021-06-18T14:34:25.964Z"
   },
   {
    "duration": 10,
    "start_time": "2021-06-18T14:34:25.975Z"
   },
   {
    "duration": 12,
    "start_time": "2021-06-18T14:34:25.989Z"
   },
   {
    "duration": 5,
    "start_time": "2021-06-18T14:34:26.005Z"
   },
   {
    "duration": 43,
    "start_time": "2021-06-18T14:34:26.013Z"
   },
   {
    "duration": 5,
    "start_time": "2021-06-18T14:34:26.059Z"
   },
   {
    "duration": 10,
    "start_time": "2021-06-18T14:34:26.066Z"
   },
   {
    "duration": 26,
    "start_time": "2021-06-18T14:34:26.079Z"
   },
   {
    "duration": 592,
    "start_time": "2021-06-18T14:34:26.107Z"
   },
   {
    "duration": 18,
    "start_time": "2021-06-18T14:34:26.701Z"
   },
   {
    "duration": 559,
    "start_time": "2021-06-18T14:34:26.721Z"
   },
   {
    "duration": 132,
    "start_time": "2021-06-18T14:34:27.283Z"
   },
   {
    "duration": 66,
    "start_time": "2021-06-18T14:34:27.418Z"
   },
   {
    "duration": 8,
    "start_time": "2021-06-18T14:34:27.486Z"
   },
   {
    "duration": 15,
    "start_time": "2021-06-18T14:34:27.497Z"
   },
   {
    "duration": 8,
    "start_time": "2021-06-18T14:34:27.515Z"
   },
   {
    "duration": 16,
    "start_time": "2021-06-18T14:34:27.525Z"
   },
   {
    "duration": 5,
    "start_time": "2021-06-18T14:34:27.555Z"
   },
   {
    "duration": 12,
    "start_time": "2021-06-18T14:34:27.563Z"
   },
   {
    "duration": 9,
    "start_time": "2021-06-18T14:34:27.577Z"
   },
   {
    "duration": 5,
    "start_time": "2021-06-18T14:34:27.589Z"
   },
   {
    "duration": 26,
    "start_time": "2021-06-18T14:34:27.597Z"
   },
   {
    "duration": 10,
    "start_time": "2021-06-18T14:34:27.656Z"
   },
   {
    "duration": 10,
    "start_time": "2021-06-18T14:34:27.669Z"
   },
   {
    "duration": 9,
    "start_time": "2021-06-18T14:34:27.681Z"
   },
   {
    "duration": 12,
    "start_time": "2021-06-18T14:34:27.693Z"
   },
   {
    "duration": 60,
    "start_time": "2021-06-18T14:34:27.708Z"
   },
   {
    "duration": 8,
    "start_time": "2021-06-18T14:34:27.771Z"
   },
   {
    "duration": 10,
    "start_time": "2021-06-18T14:34:27.781Z"
   },
   {
    "duration": 13,
    "start_time": "2021-06-18T14:34:27.793Z"
   },
   {
    "duration": 11,
    "start_time": "2021-06-18T14:34:27.809Z"
   },
   {
    "duration": 45,
    "start_time": "2021-06-18T14:34:27.823Z"
   },
   {
    "duration": 5,
    "start_time": "2021-06-18T14:34:27.871Z"
   },
   {
    "duration": 707,
    "start_time": "2021-06-18T14:34:27.879Z"
   },
   {
    "duration": 461,
    "start_time": "2021-06-18T14:34:28.588Z"
   },
   {
    "duration": 462,
    "start_time": "2021-06-18T14:34:29.056Z"
   },
   {
    "duration": 546,
    "start_time": "2021-06-18T14:34:29.520Z"
   },
   {
    "duration": 548,
    "start_time": "2021-06-18T14:34:30.068Z"
   },
   {
    "duration": 561,
    "start_time": "2021-06-18T14:34:30.618Z"
   },
   {
    "duration": 504,
    "start_time": "2021-06-18T14:34:31.181Z"
   },
   {
    "duration": 360,
    "start_time": "2021-06-18T14:34:31.688Z"
   },
   {
    "duration": 7,
    "start_time": "2021-06-18T14:34:32.051Z"
   },
   {
    "duration": 448,
    "start_time": "2021-06-18T14:34:32.060Z"
   },
   {
    "duration": 438,
    "start_time": "2021-06-18T14:34:32.510Z"
   },
   {
    "duration": 7,
    "start_time": "2021-06-18T14:34:32.955Z"
   },
   {
    "duration": 479,
    "start_time": "2021-06-18T14:34:32.964Z"
   },
   {
    "duration": 226,
    "start_time": "2021-06-18T14:34:33.445Z"
   },
   {
    "duration": 16,
    "start_time": "2021-06-18T14:34:33.673Z"
   },
   {
    "duration": 14,
    "start_time": "2021-06-18T14:34:33.692Z"
   },
   {
    "duration": 51,
    "start_time": "2021-06-18T14:34:33.709Z"
   },
   {
    "duration": 11,
    "start_time": "2021-06-18T14:34:33.762Z"
   },
   {
    "duration": 22,
    "start_time": "2021-06-18T14:34:33.776Z"
   },
   {
    "duration": 1713,
    "start_time": "2021-06-18T15:07:49.453Z"
   },
   {
    "duration": 113,
    "start_time": "2021-06-18T15:07:51.169Z"
   },
   {
    "duration": 17,
    "start_time": "2021-06-18T15:07:51.285Z"
   },
   {
    "duration": 15,
    "start_time": "2021-06-18T15:07:51.305Z"
   },
   {
    "duration": 29,
    "start_time": "2021-06-18T15:07:51.322Z"
   },
   {
    "duration": 23,
    "start_time": "2021-06-18T15:07:51.353Z"
   },
   {
    "duration": 26,
    "start_time": "2021-06-18T15:07:51.378Z"
   },
   {
    "duration": 16,
    "start_time": "2021-06-18T15:07:51.408Z"
   },
   {
    "duration": 17,
    "start_time": "2021-06-18T15:07:51.427Z"
   },
   {
    "duration": 17,
    "start_time": "2021-06-18T15:07:51.446Z"
   },
   {
    "duration": 23,
    "start_time": "2021-06-18T15:07:51.465Z"
   },
   {
    "duration": 24,
    "start_time": "2021-06-18T15:07:51.490Z"
   },
   {
    "duration": 36,
    "start_time": "2021-06-18T15:07:51.517Z"
   },
   {
    "duration": 620,
    "start_time": "2021-06-18T15:07:51.555Z"
   },
   {
    "duration": 18,
    "start_time": "2021-06-18T15:07:52.177Z"
   },
   {
    "duration": 717,
    "start_time": "2021-06-18T15:07:52.210Z"
   },
   {
    "duration": 220,
    "start_time": "2021-06-18T15:07:52.929Z"
   },
   {
    "duration": 49,
    "start_time": "2021-06-18T15:07:53.151Z"
   },
   {
    "duration": 12,
    "start_time": "2021-06-18T15:07:53.202Z"
   },
   {
    "duration": 16,
    "start_time": "2021-06-18T15:07:53.218Z"
   },
   {
    "duration": 23,
    "start_time": "2021-06-18T15:07:53.236Z"
   },
   {
    "duration": 15,
    "start_time": "2021-06-18T15:07:53.262Z"
   },
   {
    "duration": 8,
    "start_time": "2021-06-18T15:07:53.284Z"
   },
   {
    "duration": 14,
    "start_time": "2021-06-18T15:07:53.297Z"
   },
   {
    "duration": 9,
    "start_time": "2021-06-18T15:07:53.314Z"
   },
   {
    "duration": 5,
    "start_time": "2021-06-18T15:07:53.327Z"
   },
   {
    "duration": 25,
    "start_time": "2021-06-18T15:07:53.334Z"
   },
   {
    "duration": 53,
    "start_time": "2021-06-18T15:07:53.361Z"
   },
   {
    "duration": 17,
    "start_time": "2021-06-18T15:07:53.431Z"
   },
   {
    "duration": 11,
    "start_time": "2021-06-18T15:07:53.450Z"
   },
   {
    "duration": 17,
    "start_time": "2021-06-18T15:07:53.463Z"
   },
   {
    "duration": 46,
    "start_time": "2021-06-18T15:07:53.482Z"
   },
   {
    "duration": 7,
    "start_time": "2021-06-18T15:07:53.532Z"
   },
   {
    "duration": 10,
    "start_time": "2021-06-18T15:07:53.542Z"
   },
   {
    "duration": 12,
    "start_time": "2021-06-18T15:07:53.555Z"
   },
   {
    "duration": 8,
    "start_time": "2021-06-18T15:07:53.570Z"
   },
   {
    "duration": 42,
    "start_time": "2021-06-18T15:07:53.580Z"
   },
   {
    "duration": 20,
    "start_time": "2021-06-18T15:07:53.624Z"
   },
   {
    "duration": 664,
    "start_time": "2021-06-18T15:07:53.647Z"
   },
   {
    "duration": 497,
    "start_time": "2021-06-18T15:07:54.314Z"
   },
   {
    "duration": 491,
    "start_time": "2021-06-18T15:07:54.814Z"
   },
   {
    "duration": 560,
    "start_time": "2021-06-18T15:07:55.309Z"
   },
   {
    "duration": 559,
    "start_time": "2021-06-18T15:07:55.871Z"
   },
   {
    "duration": 596,
    "start_time": "2021-06-18T15:07:56.433Z"
   },
   {
    "duration": 680,
    "start_time": "2021-06-18T15:07:57.032Z"
   },
   {
    "duration": 415,
    "start_time": "2021-06-18T15:07:57.714Z"
   },
   {
    "duration": 5,
    "start_time": "2021-06-18T15:07:58.132Z"
   },
   {
    "duration": 413,
    "start_time": "2021-06-18T15:07:58.140Z"
   },
   {
    "duration": 418,
    "start_time": "2021-06-18T15:07:58.557Z"
   },
   {
    "duration": 6,
    "start_time": "2021-06-18T15:07:58.977Z"
   },
   {
    "duration": 535,
    "start_time": "2021-06-18T15:07:58.986Z"
   },
   {
    "duration": 246,
    "start_time": "2021-06-18T15:07:59.523Z"
   },
   {
    "duration": 17,
    "start_time": "2021-06-18T15:07:59.772Z"
   },
   {
    "duration": 28,
    "start_time": "2021-06-18T15:07:59.791Z"
   },
   {
    "duration": 15,
    "start_time": "2021-06-18T15:07:59.822Z"
   },
   {
    "duration": 20,
    "start_time": "2021-06-18T15:07:59.844Z"
   },
   {
    "duration": 55,
    "start_time": "2021-06-18T15:07:59.867Z"
   }
  ],
  "kernelspec": {
   "display_name": "Python 3",
   "language": "python",
   "name": "python3"
  },
  "language_info": {
   "codemirror_mode": {
    "name": "ipython",
    "version": 3
   },
   "file_extension": ".py",
   "mimetype": "text/x-python",
   "name": "python",
   "nbconvert_exporter": "python",
   "pygments_lexer": "ipython3",
   "version": "3.8.2"
  },
  "toc": {
   "base_numbering": 1,
   "nav_menu": {},
   "number_sections": true,
   "sideBar": true,
   "skip_h1_title": true,
   "title_cell": "Table of Contents",
   "title_sidebar": "Contents",
   "toc_cell": false,
   "toc_position": {
    "height": "calc(100% - 180px)",
    "left": "10px",
    "top": "150px",
    "width": "176.944px"
   },
   "toc_section_display": true,
   "toc_window_display": false
  }
 },
 "nbformat": 4,
 "nbformat_minor": 2
}
