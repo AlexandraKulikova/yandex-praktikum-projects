{
 "cells": [
  {
   "cell_type": "markdown",
   "metadata": {},
   "source": [
    "# Прогнозы и предсказания"
   ]
  },
  {
   "cell_type": "markdown",
   "metadata": {},
   "source": [
    "## Описание проекта:"
   ]
  },
  {
   "cell_type": "markdown",
   "metadata": {},
   "source": [
    "Сеть фитнес-центров «Культурист-датасаентист» разрабатывает стратегию взаимодействия с клиентами на основе аналитических данных.\n",
    "\n",
    "Распространённая проблема фитнес-клубов и других сервисов — отток клиентов. Для фитнес-центра можно считать, что клиент попал в отток, если за последний месяц ни разу не посетил спортзал. \n",
    "\n",
    "Чтобы бороться с оттоком, отдел по работе с клиентами «Культуриста-датасаентиста» перевёл в электронный вид множество клиентских анкет. Наша задача — провести анализ и подготовить план действий по удержанию клиентов.\n",
    "\n",
    "**А именно:**\n",
    "\n",
    "\n",
    "- научиться прогнозировать вероятность оттока (на уровне следующего месяца) для каждого клиента;\n",
    "\n",
    "\n",
    "- сформировать типичные портреты клиентов: выделить несколько наиболее ярких групп и охарактеризовать их основные свойства;\n",
    "\n",
    "\n",
    "- проанализировать основные признаки, наиболее сильно влияющие на отток;\n",
    "\n",
    "\n",
    "- сформулировать основные выводы и разработать рекомендации по повышению качества работы с клиентами:\n",
    "\n",
    "\n",
    "1) выделить целевые группы клиентов;\n",
    "\n",
    "2) предложить меры по снижению оттока;\n",
    "\n",
    "3) определить другие особенности взаимодействия с клиентами.\n",
    "\n",
    "\n",
    "**Описание данных:**\n",
    "\n",
    "«Культурист-датасаентист» предоставил сведения в csv-файлах. Заказчик подготовил данные, которые содержат данные на месяц до оттока и факт оттока на определённый месяц. Набор данных включает следующие поля:\n",
    "\n",
    "\n",
    "- 'Churn' — факт оттока в текущем месяце;\n",
    "\n",
    "\n",
    "- Текущие поля в датасете:\n",
    "   \n",
    "**Данные клиента за предыдущий до проверки факта оттока месяц:**\n",
    "\n",
    "\n",
    "- 'gender' — пол;\n",
    "\n",
    "\n",
    "- 'Near_Location' — проживание или работа в районе, где находится фитнес-центр;\n",
    "\n",
    "\n",
    "- 'Partner' — сотрудник компании-партнёра клуба (сотрудничество с компаниями, чьи сотрудники могут получать скидки на абонемент — в таком случае фитнес-центр хранит информацию о работодателе клиента);\n",
    "\n",
    "\n",
    "- Promo_friends — факт первоначальной записи в рамках акции «приведи друга» (использовал промо-код от знакомого при оплате первого абонемента);\n",
    "\n",
    "\n",
    "- 'Phone' — наличие контактного телефона;\n",
    "\n",
    "\n",
    "- 'Age' — возраст;\n",
    "\n",
    "\n",
    "- 'Lifetime' — время с момента первого обращения в фитнес-центр (в месяцах).\n",
    "\n",
    "**Информация на основе журнала посещений, покупок и информация о текущем статусе абонемента клиента:**\n",
    "\n",
    "\n",
    "- 'Contract_period' — длительность текущего действующего абонемента (месяц, 3 месяца, 6 месяцев, год);\n",
    "\n",
    "\n",
    "- 'Month_to_end_contract' — срок до окончания текущего действующего абонемента (в месяцах);\n",
    "\n",
    "\n",
    "- 'Group_visits' — факт посещения групповых занятий;\n",
    "\n",
    "\n",
    "- 'Avg_class_frequency_total' — средняя частота посещений в неделю за все время с начала действия абонемента;\n",
    "\n",
    "\n",
    "- 'Avg_class_frequency_current_month' — средняя частота посещений в неделю за предыдущий месяц;\n",
    "\n",
    "\n",
    "- 'Avg_additional_charges_total' — суммарная выручка от других услуг фитнес-центра: кафе, спорт-товары, косметический и массажный салон.\n"
   ]
  },
  {
   "cell_type": "markdown",
   "metadata": {},
   "source": [
    "## Шаг 1. Изучение общей информации о датасете и предобработка данных"
   ]
  },
  {
   "cell_type": "markdown",
   "metadata": {},
   "source": [
    "1) Импортируем необходимые для решения поставленных задач библиотеки\n",
    "\n",
    "2) Импортируем датасет\n",
    "\n",
    "3) Посмотрим на общую информацию о датасете и сам датасет, проведем необходимую предобработку данных"
   ]
  },
  {
   "cell_type": "code",
   "execution_count": 1,
   "metadata": {},
   "outputs": [],
   "source": [
    "# Импортируем библиотеки\n",
    "import numpy as np\n",
    "import pandas as pd\n",
    "import matplotlib.pyplot as plt\n",
    "import seaborn as sns\n",
    "\n",
    "from sklearn.model_selection import train_test_split\n",
    "from sklearn.linear_model import LogisticRegression\n",
    "from sklearn.ensemble import RandomForestClassifier\n",
    "\n",
    "from sklearn.metrics import accuracy_score, precision_score, recall_score, f1_score\n",
    "from sklearn.preprocessing import StandardScaler\n",
    "from scipy.cluster.hierarchy import dendrogram, linkage\n",
    "from sklearn.cluster import KMeans"
   ]
  },
  {
   "cell_type": "code",
   "execution_count": 2,
   "metadata": {},
   "outputs": [],
   "source": [
    "# прочитаем файл\n",
    "\n",
    "gym_churn = pd.read_csv(' /datasets/gym_churn.csv')\n",
    "    \n",
    "# установим отображение количества столбцов на экране\n",
    "pd.options.display.max_columns = 40"
   ]
  },
  {
   "cell_type": "code",
   "execution_count": 3,
   "metadata": {},
   "outputs": [
    {
     "name": "stdout",
     "output_type": "stream",
     "text": [
      "<class 'pandas.core.frame.DataFrame'>\n",
      "RangeIndex: 4000 entries, 0 to 3999\n",
      "Data columns (total 14 columns):\n",
      " #   Column                             Non-Null Count  Dtype  \n",
      "---  ------                             --------------  -----  \n",
      " 0   gender                             4000 non-null   int64  \n",
      " 1   Near_Location                      4000 non-null   int64  \n",
      " 2   Partner                            4000 non-null   int64  \n",
      " 3   Promo_friends                      4000 non-null   int64  \n",
      " 4   Phone                              4000 non-null   int64  \n",
      " 5   Contract_period                    4000 non-null   int64  \n",
      " 6   Group_visits                       4000 non-null   int64  \n",
      " 7   Age                                4000 non-null   int64  \n",
      " 8   Avg_additional_charges_total       4000 non-null   float64\n",
      " 9   Month_to_end_contract              4000 non-null   float64\n",
      " 10  Lifetime                           4000 non-null   int64  \n",
      " 11  Avg_class_frequency_total          4000 non-null   float64\n",
      " 12  Avg_class_frequency_current_month  4000 non-null   float64\n",
      " 13  Churn                              4000 non-null   int64  \n",
      "dtypes: float64(4), int64(10)\n",
      "memory usage: 437.6 KB\n"
     ]
    }
   ],
   "source": [
    "# Посмотрим на общую информацию о датасете и сам датасет\n",
    "gym_churn.info()"
   ]
  },
  {
   "cell_type": "code",
   "execution_count": 4,
   "metadata": {},
   "outputs": [
    {
     "data": {
      "text/html": [
       "<div>\n",
       "<style scoped>\n",
       "    .dataframe tbody tr th:only-of-type {\n",
       "        vertical-align: middle;\n",
       "    }\n",
       "\n",
       "    .dataframe tbody tr th {\n",
       "        vertical-align: top;\n",
       "    }\n",
       "\n",
       "    .dataframe thead th {\n",
       "        text-align: right;\n",
       "    }\n",
       "</style>\n",
       "<table border=\"1\" class=\"dataframe\">\n",
       "  <thead>\n",
       "    <tr style=\"text-align: right;\">\n",
       "      <th></th>\n",
       "      <th>gender</th>\n",
       "      <th>Near_Location</th>\n",
       "      <th>Partner</th>\n",
       "      <th>Promo_friends</th>\n",
       "      <th>Phone</th>\n",
       "      <th>Contract_period</th>\n",
       "      <th>Group_visits</th>\n",
       "      <th>Age</th>\n",
       "      <th>Avg_additional_charges_total</th>\n",
       "      <th>Month_to_end_contract</th>\n",
       "      <th>Lifetime</th>\n",
       "      <th>Avg_class_frequency_total</th>\n",
       "      <th>Avg_class_frequency_current_month</th>\n",
       "      <th>Churn</th>\n",
       "    </tr>\n",
       "  </thead>\n",
       "  <tbody>\n",
       "    <tr>\n",
       "      <th>0</th>\n",
       "      <td>1</td>\n",
       "      <td>1</td>\n",
       "      <td>1</td>\n",
       "      <td>1</td>\n",
       "      <td>0</td>\n",
       "      <td>6</td>\n",
       "      <td>1</td>\n",
       "      <td>29</td>\n",
       "      <td>14.227470</td>\n",
       "      <td>5.0</td>\n",
       "      <td>3</td>\n",
       "      <td>0.020398</td>\n",
       "      <td>0.000000</td>\n",
       "      <td>0</td>\n",
       "    </tr>\n",
       "    <tr>\n",
       "      <th>1</th>\n",
       "      <td>0</td>\n",
       "      <td>1</td>\n",
       "      <td>0</td>\n",
       "      <td>0</td>\n",
       "      <td>1</td>\n",
       "      <td>12</td>\n",
       "      <td>1</td>\n",
       "      <td>31</td>\n",
       "      <td>113.202938</td>\n",
       "      <td>12.0</td>\n",
       "      <td>7</td>\n",
       "      <td>1.922936</td>\n",
       "      <td>1.910244</td>\n",
       "      <td>0</td>\n",
       "    </tr>\n",
       "    <tr>\n",
       "      <th>2</th>\n",
       "      <td>0</td>\n",
       "      <td>1</td>\n",
       "      <td>1</td>\n",
       "      <td>0</td>\n",
       "      <td>1</td>\n",
       "      <td>1</td>\n",
       "      <td>0</td>\n",
       "      <td>28</td>\n",
       "      <td>129.448479</td>\n",
       "      <td>1.0</td>\n",
       "      <td>2</td>\n",
       "      <td>1.859098</td>\n",
       "      <td>1.736502</td>\n",
       "      <td>0</td>\n",
       "    </tr>\n",
       "    <tr>\n",
       "      <th>3</th>\n",
       "      <td>0</td>\n",
       "      <td>1</td>\n",
       "      <td>1</td>\n",
       "      <td>1</td>\n",
       "      <td>1</td>\n",
       "      <td>12</td>\n",
       "      <td>1</td>\n",
       "      <td>33</td>\n",
       "      <td>62.669863</td>\n",
       "      <td>12.0</td>\n",
       "      <td>2</td>\n",
       "      <td>3.205633</td>\n",
       "      <td>3.357215</td>\n",
       "      <td>0</td>\n",
       "    </tr>\n",
       "    <tr>\n",
       "      <th>4</th>\n",
       "      <td>1</td>\n",
       "      <td>1</td>\n",
       "      <td>1</td>\n",
       "      <td>1</td>\n",
       "      <td>1</td>\n",
       "      <td>1</td>\n",
       "      <td>0</td>\n",
       "      <td>26</td>\n",
       "      <td>198.362265</td>\n",
       "      <td>1.0</td>\n",
       "      <td>3</td>\n",
       "      <td>1.113884</td>\n",
       "      <td>1.120078</td>\n",
       "      <td>0</td>\n",
       "    </tr>\n",
       "  </tbody>\n",
       "</table>\n",
       "</div>"
      ],
      "text/plain": [
       "   gender  Near_Location  Partner  Promo_friends  Phone  Contract_period  \\\n",
       "0       1              1        1              1      0                6   \n",
       "1       0              1        0              0      1               12   \n",
       "2       0              1        1              0      1                1   \n",
       "3       0              1        1              1      1               12   \n",
       "4       1              1        1              1      1                1   \n",
       "\n",
       "   Group_visits  Age  Avg_additional_charges_total  Month_to_end_contract  \\\n",
       "0             1   29                     14.227470                    5.0   \n",
       "1             1   31                    113.202938                   12.0   \n",
       "2             0   28                    129.448479                    1.0   \n",
       "3             1   33                     62.669863                   12.0   \n",
       "4             0   26                    198.362265                    1.0   \n",
       "\n",
       "   Lifetime  Avg_class_frequency_total  Avg_class_frequency_current_month  \\\n",
       "0         3                   0.020398                           0.000000   \n",
       "1         7                   1.922936                           1.910244   \n",
       "2         2                   1.859098                           1.736502   \n",
       "3         2                   3.205633                           3.357215   \n",
       "4         3                   1.113884                           1.120078   \n",
       "\n",
       "   Churn  \n",
       "0      0  \n",
       "1      0  \n",
       "2      0  \n",
       "3      0  \n",
       "4      0  "
      ]
     },
     "execution_count": 4,
     "metadata": {},
     "output_type": "execute_result"
    }
   ],
   "source": [
    "gym_churn.head()"
   ]
  },
  {
   "cell_type": "markdown",
   "metadata": {},
   "source": [
    "Отлично, пропусков в данных нет и проблем с типами данных тоже, однако стоит поработать с названиями столбцов:"
   ]
  },
  {
   "cell_type": "code",
   "execution_count": 5,
   "metadata": {},
   "outputs": [],
   "source": [
    "#для удобства приведем все названия переменных к нижнему регистру\n",
    "gym_churn.columns = gym_churn.columns.str.lower()"
   ]
  },
  {
   "cell_type": "code",
   "execution_count": 6,
   "metadata": {},
   "outputs": [
    {
     "data": {
      "text/html": [
       "<div>\n",
       "<style scoped>\n",
       "    .dataframe tbody tr th:only-of-type {\n",
       "        vertical-align: middle;\n",
       "    }\n",
       "\n",
       "    .dataframe tbody tr th {\n",
       "        vertical-align: top;\n",
       "    }\n",
       "\n",
       "    .dataframe thead th {\n",
       "        text-align: right;\n",
       "    }\n",
       "</style>\n",
       "<table border=\"1\" class=\"dataframe\">\n",
       "  <thead>\n",
       "    <tr style=\"text-align: right;\">\n",
       "      <th></th>\n",
       "      <th>gender</th>\n",
       "      <th>near_location</th>\n",
       "      <th>partner</th>\n",
       "      <th>promo_friends</th>\n",
       "      <th>phone</th>\n",
       "      <th>contract_period</th>\n",
       "      <th>group_visits</th>\n",
       "      <th>age</th>\n",
       "      <th>avg_additional_charges_total</th>\n",
       "      <th>month_to_end_contract</th>\n",
       "      <th>lifetime</th>\n",
       "      <th>avg_class_frequency_total</th>\n",
       "      <th>avg_class_frequency_current_month</th>\n",
       "      <th>churn</th>\n",
       "    </tr>\n",
       "  </thead>\n",
       "  <tbody>\n",
       "    <tr>\n",
       "      <th>0</th>\n",
       "      <td>1</td>\n",
       "      <td>1</td>\n",
       "      <td>1</td>\n",
       "      <td>1</td>\n",
       "      <td>0</td>\n",
       "      <td>6</td>\n",
       "      <td>1</td>\n",
       "      <td>29</td>\n",
       "      <td>14.227470</td>\n",
       "      <td>5.0</td>\n",
       "      <td>3</td>\n",
       "      <td>0.020398</td>\n",
       "      <td>0.000000</td>\n",
       "      <td>0</td>\n",
       "    </tr>\n",
       "    <tr>\n",
       "      <th>1</th>\n",
       "      <td>0</td>\n",
       "      <td>1</td>\n",
       "      <td>0</td>\n",
       "      <td>0</td>\n",
       "      <td>1</td>\n",
       "      <td>12</td>\n",
       "      <td>1</td>\n",
       "      <td>31</td>\n",
       "      <td>113.202938</td>\n",
       "      <td>12.0</td>\n",
       "      <td>7</td>\n",
       "      <td>1.922936</td>\n",
       "      <td>1.910244</td>\n",
       "      <td>0</td>\n",
       "    </tr>\n",
       "    <tr>\n",
       "      <th>2</th>\n",
       "      <td>0</td>\n",
       "      <td>1</td>\n",
       "      <td>1</td>\n",
       "      <td>0</td>\n",
       "      <td>1</td>\n",
       "      <td>1</td>\n",
       "      <td>0</td>\n",
       "      <td>28</td>\n",
       "      <td>129.448479</td>\n",
       "      <td>1.0</td>\n",
       "      <td>2</td>\n",
       "      <td>1.859098</td>\n",
       "      <td>1.736502</td>\n",
       "      <td>0</td>\n",
       "    </tr>\n",
       "    <tr>\n",
       "      <th>3</th>\n",
       "      <td>0</td>\n",
       "      <td>1</td>\n",
       "      <td>1</td>\n",
       "      <td>1</td>\n",
       "      <td>1</td>\n",
       "      <td>12</td>\n",
       "      <td>1</td>\n",
       "      <td>33</td>\n",
       "      <td>62.669863</td>\n",
       "      <td>12.0</td>\n",
       "      <td>2</td>\n",
       "      <td>3.205633</td>\n",
       "      <td>3.357215</td>\n",
       "      <td>0</td>\n",
       "    </tr>\n",
       "    <tr>\n",
       "      <th>4</th>\n",
       "      <td>1</td>\n",
       "      <td>1</td>\n",
       "      <td>1</td>\n",
       "      <td>1</td>\n",
       "      <td>1</td>\n",
       "      <td>1</td>\n",
       "      <td>0</td>\n",
       "      <td>26</td>\n",
       "      <td>198.362265</td>\n",
       "      <td>1.0</td>\n",
       "      <td>3</td>\n",
       "      <td>1.113884</td>\n",
       "      <td>1.120078</td>\n",
       "      <td>0</td>\n",
       "    </tr>\n",
       "  </tbody>\n",
       "</table>\n",
       "</div>"
      ],
      "text/plain": [
       "   gender  near_location  partner  promo_friends  phone  contract_period  \\\n",
       "0       1              1        1              1      0                6   \n",
       "1       0              1        0              0      1               12   \n",
       "2       0              1        1              0      1                1   \n",
       "3       0              1        1              1      1               12   \n",
       "4       1              1        1              1      1                1   \n",
       "\n",
       "   group_visits  age  avg_additional_charges_total  month_to_end_contract  \\\n",
       "0             1   29                     14.227470                    5.0   \n",
       "1             1   31                    113.202938                   12.0   \n",
       "2             0   28                    129.448479                    1.0   \n",
       "3             1   33                     62.669863                   12.0   \n",
       "4             0   26                    198.362265                    1.0   \n",
       "\n",
       "   lifetime  avg_class_frequency_total  avg_class_frequency_current_month  \\\n",
       "0         3                   0.020398                           0.000000   \n",
       "1         7                   1.922936                           1.910244   \n",
       "2         2                   1.859098                           1.736502   \n",
       "3         2                   3.205633                           3.357215   \n",
       "4         3                   1.113884                           1.120078   \n",
       "\n",
       "   churn  \n",
       "0      0  \n",
       "1      0  \n",
       "2      0  \n",
       "3      0  \n",
       "4      0  "
      ]
     },
     "execution_count": 6,
     "metadata": {},
     "output_type": "execute_result"
    }
   ],
   "source": [
    "#проверим замену\n",
    "gym_churn.head()"
   ]
  },
  {
   "cell_type": "markdown",
   "metadata": {},
   "source": [
    "Проверим данные на наличие дубликатов:"
   ]
  },
  {
   "cell_type": "code",
   "execution_count": 7,
   "metadata": {},
   "outputs": [
    {
     "data": {
      "text/plain": [
       "0"
      ]
     },
     "execution_count": 7,
     "metadata": {},
     "output_type": "execute_result"
    }
   ],
   "source": [
    "gym_churn.duplicated().sum()"
   ]
  },
  {
   "cell_type": "markdown",
   "metadata": {},
   "source": [
    "Дубликатов в строках не обнаружено. Приступаем к исследовательскому анализу данных."
   ]
  },
  {
   "cell_type": "markdown",
   "metadata": {},
   "source": [
    "## Шаг 2. Исследовательский анализ данных (EDA)"
   ]
  },
  {
   "cell_type": "markdown",
   "metadata": {},
   "source": [
    "### Изучение отсутствующих признаков, средних значений и стандартных отклонений "
   ]
  },
  {
   "cell_type": "markdown",
   "metadata": {},
   "source": [
    "Посмотрим на описательные статистики с помощью меода describe()"
   ]
  },
  {
   "cell_type": "code",
   "execution_count": 8,
   "metadata": {},
   "outputs": [
    {
     "data": {
      "text/html": [
       "<div>\n",
       "<style scoped>\n",
       "    .dataframe tbody tr th:only-of-type {\n",
       "        vertical-align: middle;\n",
       "    }\n",
       "\n",
       "    .dataframe tbody tr th {\n",
       "        vertical-align: top;\n",
       "    }\n",
       "\n",
       "    .dataframe thead th {\n",
       "        text-align: right;\n",
       "    }\n",
       "</style>\n",
       "<table border=\"1\" class=\"dataframe\">\n",
       "  <thead>\n",
       "    <tr style=\"text-align: right;\">\n",
       "      <th></th>\n",
       "      <th>count</th>\n",
       "      <th>mean</th>\n",
       "      <th>std</th>\n",
       "      <th>min</th>\n",
       "      <th>25%</th>\n",
       "      <th>50%</th>\n",
       "      <th>75%</th>\n",
       "      <th>max</th>\n",
       "    </tr>\n",
       "  </thead>\n",
       "  <tbody>\n",
       "    <tr>\n",
       "      <th>gender</th>\n",
       "      <td>4000.0</td>\n",
       "      <td>0.510250</td>\n",
       "      <td>0.499957</td>\n",
       "      <td>0.000000</td>\n",
       "      <td>0.000000</td>\n",
       "      <td>1.000000</td>\n",
       "      <td>1.000000</td>\n",
       "      <td>1.000000</td>\n",
       "    </tr>\n",
       "    <tr>\n",
       "      <th>near_location</th>\n",
       "      <td>4000.0</td>\n",
       "      <td>0.845250</td>\n",
       "      <td>0.361711</td>\n",
       "      <td>0.000000</td>\n",
       "      <td>1.000000</td>\n",
       "      <td>1.000000</td>\n",
       "      <td>1.000000</td>\n",
       "      <td>1.000000</td>\n",
       "    </tr>\n",
       "    <tr>\n",
       "      <th>partner</th>\n",
       "      <td>4000.0</td>\n",
       "      <td>0.486750</td>\n",
       "      <td>0.499887</td>\n",
       "      <td>0.000000</td>\n",
       "      <td>0.000000</td>\n",
       "      <td>0.000000</td>\n",
       "      <td>1.000000</td>\n",
       "      <td>1.000000</td>\n",
       "    </tr>\n",
       "    <tr>\n",
       "      <th>promo_friends</th>\n",
       "      <td>4000.0</td>\n",
       "      <td>0.308500</td>\n",
       "      <td>0.461932</td>\n",
       "      <td>0.000000</td>\n",
       "      <td>0.000000</td>\n",
       "      <td>0.000000</td>\n",
       "      <td>1.000000</td>\n",
       "      <td>1.000000</td>\n",
       "    </tr>\n",
       "    <tr>\n",
       "      <th>phone</th>\n",
       "      <td>4000.0</td>\n",
       "      <td>0.903500</td>\n",
       "      <td>0.295313</td>\n",
       "      <td>0.000000</td>\n",
       "      <td>1.000000</td>\n",
       "      <td>1.000000</td>\n",
       "      <td>1.000000</td>\n",
       "      <td>1.000000</td>\n",
       "    </tr>\n",
       "    <tr>\n",
       "      <th>contract_period</th>\n",
       "      <td>4000.0</td>\n",
       "      <td>4.681250</td>\n",
       "      <td>4.549706</td>\n",
       "      <td>1.000000</td>\n",
       "      <td>1.000000</td>\n",
       "      <td>1.000000</td>\n",
       "      <td>6.000000</td>\n",
       "      <td>12.000000</td>\n",
       "    </tr>\n",
       "    <tr>\n",
       "      <th>group_visits</th>\n",
       "      <td>4000.0</td>\n",
       "      <td>0.412250</td>\n",
       "      <td>0.492301</td>\n",
       "      <td>0.000000</td>\n",
       "      <td>0.000000</td>\n",
       "      <td>0.000000</td>\n",
       "      <td>1.000000</td>\n",
       "      <td>1.000000</td>\n",
       "    </tr>\n",
       "    <tr>\n",
       "      <th>age</th>\n",
       "      <td>4000.0</td>\n",
       "      <td>29.184250</td>\n",
       "      <td>3.258367</td>\n",
       "      <td>18.000000</td>\n",
       "      <td>27.000000</td>\n",
       "      <td>29.000000</td>\n",
       "      <td>31.000000</td>\n",
       "      <td>41.000000</td>\n",
       "    </tr>\n",
       "    <tr>\n",
       "      <th>avg_additional_charges_total</th>\n",
       "      <td>4000.0</td>\n",
       "      <td>146.943728</td>\n",
       "      <td>96.355602</td>\n",
       "      <td>0.148205</td>\n",
       "      <td>68.868830</td>\n",
       "      <td>136.220159</td>\n",
       "      <td>210.949625</td>\n",
       "      <td>552.590740</td>\n",
       "    </tr>\n",
       "    <tr>\n",
       "      <th>month_to_end_contract</th>\n",
       "      <td>4000.0</td>\n",
       "      <td>4.322750</td>\n",
       "      <td>4.191297</td>\n",
       "      <td>1.000000</td>\n",
       "      <td>1.000000</td>\n",
       "      <td>1.000000</td>\n",
       "      <td>6.000000</td>\n",
       "      <td>12.000000</td>\n",
       "    </tr>\n",
       "    <tr>\n",
       "      <th>lifetime</th>\n",
       "      <td>4000.0</td>\n",
       "      <td>3.724750</td>\n",
       "      <td>3.749267</td>\n",
       "      <td>0.000000</td>\n",
       "      <td>1.000000</td>\n",
       "      <td>3.000000</td>\n",
       "      <td>5.000000</td>\n",
       "      <td>31.000000</td>\n",
       "    </tr>\n",
       "    <tr>\n",
       "      <th>avg_class_frequency_total</th>\n",
       "      <td>4000.0</td>\n",
       "      <td>1.879020</td>\n",
       "      <td>0.972245</td>\n",
       "      <td>0.000000</td>\n",
       "      <td>1.180875</td>\n",
       "      <td>1.832768</td>\n",
       "      <td>2.536078</td>\n",
       "      <td>6.023668</td>\n",
       "    </tr>\n",
       "    <tr>\n",
       "      <th>avg_class_frequency_current_month</th>\n",
       "      <td>4000.0</td>\n",
       "      <td>1.767052</td>\n",
       "      <td>1.052906</td>\n",
       "      <td>0.000000</td>\n",
       "      <td>0.963003</td>\n",
       "      <td>1.719574</td>\n",
       "      <td>2.510336</td>\n",
       "      <td>6.146783</td>\n",
       "    </tr>\n",
       "    <tr>\n",
       "      <th>churn</th>\n",
       "      <td>4000.0</td>\n",
       "      <td>0.265250</td>\n",
       "      <td>0.441521</td>\n",
       "      <td>0.000000</td>\n",
       "      <td>0.000000</td>\n",
       "      <td>0.000000</td>\n",
       "      <td>1.000000</td>\n",
       "      <td>1.000000</td>\n",
       "    </tr>\n",
       "  </tbody>\n",
       "</table>\n",
       "</div>"
      ],
      "text/plain": [
       "                                    count        mean        std        min  \\\n",
       "gender                             4000.0    0.510250   0.499957   0.000000   \n",
       "near_location                      4000.0    0.845250   0.361711   0.000000   \n",
       "partner                            4000.0    0.486750   0.499887   0.000000   \n",
       "promo_friends                      4000.0    0.308500   0.461932   0.000000   \n",
       "phone                              4000.0    0.903500   0.295313   0.000000   \n",
       "contract_period                    4000.0    4.681250   4.549706   1.000000   \n",
       "group_visits                       4000.0    0.412250   0.492301   0.000000   \n",
       "age                                4000.0   29.184250   3.258367  18.000000   \n",
       "avg_additional_charges_total       4000.0  146.943728  96.355602   0.148205   \n",
       "month_to_end_contract              4000.0    4.322750   4.191297   1.000000   \n",
       "lifetime                           4000.0    3.724750   3.749267   0.000000   \n",
       "avg_class_frequency_total          4000.0    1.879020   0.972245   0.000000   \n",
       "avg_class_frequency_current_month  4000.0    1.767052   1.052906   0.000000   \n",
       "churn                              4000.0    0.265250   0.441521   0.000000   \n",
       "\n",
       "                                         25%         50%         75%  \\\n",
       "gender                              0.000000    1.000000    1.000000   \n",
       "near_location                       1.000000    1.000000    1.000000   \n",
       "partner                             0.000000    0.000000    1.000000   \n",
       "promo_friends                       0.000000    0.000000    1.000000   \n",
       "phone                               1.000000    1.000000    1.000000   \n",
       "contract_period                     1.000000    1.000000    6.000000   \n",
       "group_visits                        0.000000    0.000000    1.000000   \n",
       "age                                27.000000   29.000000   31.000000   \n",
       "avg_additional_charges_total       68.868830  136.220159  210.949625   \n",
       "month_to_end_contract               1.000000    1.000000    6.000000   \n",
       "lifetime                            1.000000    3.000000    5.000000   \n",
       "avg_class_frequency_total           1.180875    1.832768    2.536078   \n",
       "avg_class_frequency_current_month   0.963003    1.719574    2.510336   \n",
       "churn                               0.000000    0.000000    1.000000   \n",
       "\n",
       "                                          max  \n",
       "gender                               1.000000  \n",
       "near_location                        1.000000  \n",
       "partner                              1.000000  \n",
       "promo_friends                        1.000000  \n",
       "phone                                1.000000  \n",
       "contract_period                     12.000000  \n",
       "group_visits                         1.000000  \n",
       "age                                 41.000000  \n",
       "avg_additional_charges_total       552.590740  \n",
       "month_to_end_contract               12.000000  \n",
       "lifetime                            31.000000  \n",
       "avg_class_frequency_total            6.023668  \n",
       "avg_class_frequency_current_month    6.146783  \n",
       "churn                                1.000000  "
      ]
     },
     "execution_count": 8,
     "metadata": {},
     "output_type": "execute_result"
    }
   ],
   "source": [
    "gym_churn.describe().T"
   ]
  },
  {
   "cell_type": "markdown",
   "metadata": {},
   "source": [
    "**Вывод на основе описательных статистик:**\n",
    "\n",
    "- Распределение по полу приблизительно одинаковое\n",
    "\n",
    "\n",
    "- Большинство пользователей (85%) живут или работают в районах, где находится фитнес-центр\n",
    "\n",
    "\n",
    "- Почти половина пользователей являются сотрудниками компании-партнёра клуба\n",
    "\n",
    "\n",
    "- Приблизительно 31% клиентов использовали промо-код от знакомого при оплате первого абонемента\n",
    "\n",
    "\n",
    "- В 90% случаев известен контактный телефон клиента\n",
    "\n",
    "\n",
    "- Средний возраст клиента - 29 лет\n",
    "\n",
    "\n",
    "- Средние выручка от клиента на дополнительные услуги - 146 у.е. ( кафе, спорт-товары, косметический и массажный салон)\n",
    "\n",
    "\n",
    "- Средний срок до окончания текущего действующего абонемента - 4.3 месяца\n",
    "\n",
    "\n",
    "- Среднее время с момента первого обращения в фитнес-центр - 3.7 месяцев\n",
    "\n",
    "\n",
    "- Средняя частота посещений в неделю за все время с начала действия абонемента - около 2 раз (1.88)\n",
    "\n",
    "\n",
    "- Средняя частота посещений в неделю за предыдущий месяц - около 2 раз (1.77)\n",
    "\n",
    "\n",
    "- Доля оттока - приблизительно 27%"
   ]
  },
  {
   "cell_type": "markdown",
   "metadata": {},
   "source": [
    "### Средние значения в двух группах - те, кто ушли в отток и те, кто остались"
   ]
  },
  {
   "cell_type": "code",
   "execution_count": 9,
   "metadata": {},
   "outputs": [
    {
     "data": {
      "text/html": [
       "<div>\n",
       "<style scoped>\n",
       "    .dataframe tbody tr th:only-of-type {\n",
       "        vertical-align: middle;\n",
       "    }\n",
       "\n",
       "    .dataframe tbody tr th {\n",
       "        vertical-align: top;\n",
       "    }\n",
       "\n",
       "    .dataframe thead th {\n",
       "        text-align: right;\n",
       "    }\n",
       "</style>\n",
       "<table border=\"1\" class=\"dataframe\">\n",
       "  <thead>\n",
       "    <tr style=\"text-align: right;\">\n",
       "      <th>churn</th>\n",
       "      <th>0</th>\n",
       "      <th>1</th>\n",
       "    </tr>\n",
       "  </thead>\n",
       "  <tbody>\n",
       "    <tr>\n",
       "      <th>gender</th>\n",
       "      <td>0.510037</td>\n",
       "      <td>0.510839</td>\n",
       "    </tr>\n",
       "    <tr>\n",
       "      <th>near_location</th>\n",
       "      <td>0.873086</td>\n",
       "      <td>0.768143</td>\n",
       "    </tr>\n",
       "    <tr>\n",
       "      <th>partner</th>\n",
       "      <td>0.534195</td>\n",
       "      <td>0.355325</td>\n",
       "    </tr>\n",
       "    <tr>\n",
       "      <th>promo_friends</th>\n",
       "      <td>0.353522</td>\n",
       "      <td>0.183789</td>\n",
       "    </tr>\n",
       "    <tr>\n",
       "      <th>phone</th>\n",
       "      <td>0.903709</td>\n",
       "      <td>0.902922</td>\n",
       "    </tr>\n",
       "    <tr>\n",
       "      <th>contract_period</th>\n",
       "      <td>5.747193</td>\n",
       "      <td>1.728558</td>\n",
       "    </tr>\n",
       "    <tr>\n",
       "      <th>group_visits</th>\n",
       "      <td>0.464103</td>\n",
       "      <td>0.268615</td>\n",
       "    </tr>\n",
       "    <tr>\n",
       "      <th>age</th>\n",
       "      <td>29.976523</td>\n",
       "      <td>26.989632</td>\n",
       "    </tr>\n",
       "    <tr>\n",
       "      <th>avg_additional_charges_total</th>\n",
       "      <td>158.445715</td>\n",
       "      <td>115.082899</td>\n",
       "    </tr>\n",
       "    <tr>\n",
       "      <th>month_to_end_contract</th>\n",
       "      <td>5.283089</td>\n",
       "      <td>1.662582</td>\n",
       "    </tr>\n",
       "    <tr>\n",
       "      <th>lifetime</th>\n",
       "      <td>4.711807</td>\n",
       "      <td>0.990575</td>\n",
       "    </tr>\n",
       "    <tr>\n",
       "      <th>avg_class_frequency_total</th>\n",
       "      <td>2.024876</td>\n",
       "      <td>1.474995</td>\n",
       "    </tr>\n",
       "    <tr>\n",
       "      <th>avg_class_frequency_current_month</th>\n",
       "      <td>2.027882</td>\n",
       "      <td>1.044546</td>\n",
       "    </tr>\n",
       "  </tbody>\n",
       "</table>\n",
       "</div>"
      ],
      "text/plain": [
       "churn                                       0           1\n",
       "gender                               0.510037    0.510839\n",
       "near_location                        0.873086    0.768143\n",
       "partner                              0.534195    0.355325\n",
       "promo_friends                        0.353522    0.183789\n",
       "phone                                0.903709    0.902922\n",
       "contract_period                      5.747193    1.728558\n",
       "group_visits                         0.464103    0.268615\n",
       "age                                 29.976523   26.989632\n",
       "avg_additional_charges_total       158.445715  115.082899\n",
       "month_to_end_contract                5.283089    1.662582\n",
       "lifetime                             4.711807    0.990575\n",
       "avg_class_frequency_total            2.024876    1.474995\n",
       "avg_class_frequency_current_month    2.027882    1.044546"
      ]
     },
     "execution_count": 9,
     "metadata": {},
     "output_type": "execute_result"
    }
   ],
   "source": [
    "churn_grouped = gym_churn.groupby('churn').mean().T\n",
    "churn_grouped"
   ]
  },
  {
   "cell_type": "markdown",
   "metadata": {},
   "source": [
    "**Вывод на основе средних значений в двух группах (попавших в отток и тех, кто остались):**\n",
    "\n",
    "- Распределение по полу приблизительно одинаковое, что среди тех, кто ушел в отток, что среди оставшихся\n",
    "\n",
    "\n",
    "- Доля клиентов,  живущих или работающих в районах, где находится фитнес-центр, ниже среди тех, кто попал в отток, что также логично, поскольку из-за дополнительных издержек человек может сделать выбор в пользу какого-нибудь другого варианта\n",
    "\n",
    "\n",
    "- Среди попавших в отток доля людей, являющихся сотрудниками компании-партнёра клуба, существенно ниже\n",
    "\n",
    "\n",
    "- Среди попавших в отток доля людей, использовавших промо-код от знакомого при оплате первого абонемента, существенно ниже (Вероятно, что люди могут посещать зал вместе, а таким образом меньше вероятность того, что они уйдут в отток)\n",
    "\n",
    "- Наличие мобильного номера клиента не отличается в группах\n",
    "\n",
    "\n",
    "- Длительность текущего действующего абонемента среди попавших в отток существенно ниже (1.7 месяца против 5.7). Это логично, так как человек в ближайшее время может понять, удобен ли ему по всем параментам  клуб. К тому же есть много акций на первый месяц занятий - люди воспользуются выгодой, но остаться в клубе не планируют\n",
    "\n",
    "- У групп есть разница в среднем возрасте клиентов - попавшие в отток моложе\n",
    "\n",
    "\n",
    "- Суммарная выручка от дополнительных услуг фитнес-центра ниже среди тех, кто попал в отток\n",
    "\n",
    "\n",
    "- Срок до окончания текущего действующего абонемента существенно ниже среди тех, кто попал в отток, что логично, потому что обидно терять слишком много занятий, на которые были потрачены деньги\n",
    "\n",
    "\n",
    "- Время с момента первого обращения в фитнес-центр (в месяцах) для действующей группы - 4.7 месяцев, а для группы оттока - 1.7.\n",
    "\n",
    "\n",
    "- Средняя частота посещений в неделю за все время с начала действия абонемента для тех, кто попал в отток - 1.47 раз, а для тех, кто не попал - 2.02\n",
    "\n",
    "\n",
    "- Средняя частота посещений в неделю за предыдущий месяц почти в два раза ниже у группы, попавшей в отток. На мой взгляд, наиболее важное наблюдение."
   ]
  },
  {
   "cell_type": "markdown",
   "metadata": {},
   "source": [
    "### Cтолбчатые гистограммы и распределения признаков для тех, кто ушёл (отток) и тех, кто остался (не попали в отток)"
   ]
  },
  {
   "cell_type": "code",
   "execution_count": 10,
   "metadata": {},
   "outputs": [],
   "source": [
    "left = gym_churn[gym_churn['churn']==1]\n",
    "stayed = gym_churn[gym_churn['churn']==0]"
   ]
  },
  {
   "cell_type": "code",
   "execution_count": 11,
   "metadata": {},
   "outputs": [
    {
     "name": "stderr",
     "output_type": "stream",
     "text": [
      "c:\\users\\asus\\appdata\\local\\programs\\python\\python38-32\\lib\\site-packages\\seaborn\\distributions.py:2551: FutureWarning: `distplot` is a deprecated function and will be removed in a future version. Please adapt your code to use either `displot` (a figure-level function with similar flexibility) or `histplot` (an axes-level function for histograms).\n",
      "  warnings.warn(msg, FutureWarning)\n",
      "c:\\users\\asus\\appdata\\local\\programs\\python\\python38-32\\lib\\site-packages\\seaborn\\distributions.py:2551: FutureWarning: `distplot` is a deprecated function and will be removed in a future version. Please adapt your code to use either `displot` (a figure-level function with similar flexibility) or `histplot` (an axes-level function for histograms).\n",
      "  warnings.warn(msg, FutureWarning)\n"
     ]
    },
    {
     "data": {
      "image/png": "[encoded data removed]",
      "text/plain": [
       "<Figure size 720x288 with 1 Axes>"
      ]
     },
     "metadata": {
      "needs_background": "light"
     },
     "output_type": "display_data"
    },
    {
     "name": "stderr",
     "output_type": "stream",
     "text": [
      "c:\\users\\asus\\appdata\\local\\programs\\python\\python38-32\\lib\\site-packages\\seaborn\\distributions.py:2551: FutureWarning: `distplot` is a deprecated function and will be removed in a future version. Please adapt your code to use either `displot` (a figure-level function with similar flexibility) or `histplot` (an axes-level function for histograms).\n",
      "  warnings.warn(msg, FutureWarning)\n",
      "c:\\users\\asus\\appdata\\local\\programs\\python\\python38-32\\lib\\site-packages\\seaborn\\distributions.py:2551: FutureWarning: `distplot` is a deprecated function and will be removed in a future version. Please adapt your code to use either `displot` (a figure-level function with similar flexibility) or `histplot` (an axes-level function for histograms).\n",
      "  warnings.warn(msg, FutureWarning)\n"
     ]
    },
    {
     "data": {
      "image/png": "[encoded data removed]",
      "text/plain": [
       "<Figure size 720x288 with 1 Axes>"
      ]
     },
     "metadata": {
      "needs_background": "light"
     },
     "output_type": "display_data"
    },
    {
     "name": "stderr",
     "output_type": "stream",
     "text": [
      "c:\\users\\asus\\appdata\\local\\programs\\python\\python38-32\\lib\\site-packages\\seaborn\\distributions.py:2551: FutureWarning: `distplot` is a deprecated function and will be removed in a future version. Please adapt your code to use either `displot` (a figure-level function with similar flexibility) or `histplot` (an axes-level function for histograms).\n",
      "  warnings.warn(msg, FutureWarning)\n",
      "c:\\users\\asus\\appdata\\local\\programs\\python\\python38-32\\lib\\site-packages\\seaborn\\distributions.py:2551: FutureWarning: `distplot` is a deprecated function and will be removed in a future version. Please adapt your code to use either `displot` (a figure-level function with similar flexibility) or `histplot` (an axes-level function for histograms).\n",
      "  warnings.warn(msg, FutureWarning)\n"
     ]
    },
    {
     "data": {
      "image/png": "[encoded data removed]",
      "text/plain": [
       "<Figure size 720x288 with 1 Axes>"
      ]
     },
     "metadata": {
      "needs_background": "light"
     },
     "output_type": "display_data"
    },
    {
     "name": "stderr",
     "output_type": "stream",
     "text": [
      "c:\\users\\asus\\appdata\\local\\programs\\python\\python38-32\\lib\\site-packages\\seaborn\\distributions.py:2551: FutureWarning: `distplot` is a deprecated function and will be removed in a future version. Please adapt your code to use either `displot` (a figure-level function with similar flexibility) or `histplot` (an axes-level function for histograms).\n",
      "  warnings.warn(msg, FutureWarning)\n",
      "c:\\users\\asus\\appdata\\local\\programs\\python\\python38-32\\lib\\site-packages\\seaborn\\distributions.py:2551: FutureWarning: `distplot` is a deprecated function and will be removed in a future version. Please adapt your code to use either `displot` (a figure-level function with similar flexibility) or `histplot` (an axes-level function for histograms).\n",
      "  warnings.warn(msg, FutureWarning)\n"
     ]
    },
    {
     "data": {
      "image/png": "[encoded data removed]",
      "text/plain": [
       "<Figure size 720x288 with 1 Axes>"
      ]
     },
     "metadata": {
      "needs_background": "light"
     },
     "output_type": "display_data"
    },
    {
     "name": "stderr",
     "output_type": "stream",
     "text": [
      "c:\\users\\asus\\appdata\\local\\programs\\python\\python38-32\\lib\\site-packages\\seaborn\\distributions.py:2551: FutureWarning: `distplot` is a deprecated function and will be removed in a future version. Please adapt your code to use either `displot` (a figure-level function with similar flexibility) or `histplot` (an axes-level function for histograms).\n",
      "  warnings.warn(msg, FutureWarning)\n",
      "c:\\users\\asus\\appdata\\local\\programs\\python\\python38-32\\lib\\site-packages\\seaborn\\distributions.py:2551: FutureWarning: `distplot` is a deprecated function and will be removed in a future version. Please adapt your code to use either `displot` (a figure-level function with similar flexibility) or `histplot` (an axes-level function for histograms).\n",
      "  warnings.warn(msg, FutureWarning)\n"
     ]
    },
    {
     "data": {
      "image/png": "[encoded data removed]",
      "text/plain": [
       "<Figure size 720x288 with 1 Axes>"
      ]
     },
     "metadata": {
      "needs_background": "light"
     },
     "output_type": "display_data"
    },
    {
     "name": "stderr",
     "output_type": "stream",
     "text": [
      "c:\\users\\asus\\appdata\\local\\programs\\python\\python38-32\\lib\\site-packages\\seaborn\\distributions.py:2551: FutureWarning: `distplot` is a deprecated function and will be removed in a future version. Please adapt your code to use either `displot` (a figure-level function with similar flexibility) or `histplot` (an axes-level function for histograms).\n",
      "  warnings.warn(msg, FutureWarning)\n",
      "c:\\users\\asus\\appdata\\local\\programs\\python\\python38-32\\lib\\site-packages\\seaborn\\distributions.py:2551: FutureWarning: `distplot` is a deprecated function and will be removed in a future version. Please adapt your code to use either `displot` (a figure-level function with similar flexibility) or `histplot` (an axes-level function for histograms).\n",
      "  warnings.warn(msg, FutureWarning)\n"
     ]
    },
    {
     "data": {
      "image/png": "[encoded data removed]",
      "text/plain": [
       "<Figure size 720x288 with 1 Axes>"
      ]
     },
     "metadata": {
      "needs_background": "light"
     },
     "output_type": "display_data"
    },
    {
     "name": "stderr",
     "output_type": "stream",
     "text": [
      "c:\\users\\asus\\appdata\\local\\programs\\python\\python38-32\\lib\\site-packages\\seaborn\\distributions.py:2551: FutureWarning: `distplot` is a deprecated function and will be removed in a future version. Please adapt your code to use either `displot` (a figure-level function with similar flexibility) or `histplot` (an axes-level function for histograms).\n",
      "  warnings.warn(msg, FutureWarning)\n",
      "c:\\users\\asus\\appdata\\local\\programs\\python\\python38-32\\lib\\site-packages\\seaborn\\distributions.py:2551: FutureWarning: `distplot` is a deprecated function and will be removed in a future version. Please adapt your code to use either `displot` (a figure-level function with similar flexibility) or `histplot` (an axes-level function for histograms).\n",
      "  warnings.warn(msg, FutureWarning)\n"
     ]
    },
    {
     "data": {
      "image/png": "[encoded data removed]",
      "text/plain": [
       "<Figure size 720x288 with 1 Axes>"
      ]
     },
     "metadata": {
      "needs_background": "light"
     },
     "output_type": "display_data"
    }
   ],
   "source": [
    "for column in ['avg_additional_charges_total', 'avg_class_frequency_total', 'avg_class_frequency_current_month', 'lifetime', 'age', 'contract_period', 'month_to_end_contract']: \n",
    "  plt.figure(figsize=(10,4)) \n",
    "  plt.title(column)\n",
    "  sns.distplot(left[column])\n",
    "  sns.distplot(stayed[column])\n",
    "  plt.legend(['Отток', 'Остальные'])\n",
    "  plt.show()"
   ]
  },
  {
   "cell_type": "code",
   "execution_count": 12,
   "metadata": {},
   "outputs": [
    {
     "data": {
      "image/png": "[encoded data removed]",
      "text/plain": [
       "<Figure size 432x288 with 1 Axes>"
      ]
     },
     "metadata": {
      "needs_background": "light"
     },
     "output_type": "display_data"
    },
    {
     "data": {
      "image/png": "[encoded data removed]",
      "text/plain": [
       "<Figure size 432x288 with 1 Axes>"
      ]
     },
     "metadata": {
      "needs_background": "light"
     },
     "output_type": "display_data"
    },
    {
     "data": {
      "image/png": "[encoded data removed]",
      "text/plain": [
       "<Figure size 432x288 with 1 Axes>"
      ]
     },
     "metadata": {
      "needs_background": "light"
     },
     "output_type": "display_data"
    },
    {
     "data": {
      "image/png": "[encoded data removed]",
      "text/plain": [
       "<Figure size 432x288 with 1 Axes>"
      ]
     },
     "metadata": {
      "needs_background": "light"
     },
     "output_type": "display_data"
    },
    {
     "data": {
      "image/png": "[encoded data removed]",
      "text/plain": [
       "<Figure size 432x288 with 1 Axes>"
      ]
     },
     "metadata": {
      "needs_background": "light"
     },
     "output_type": "display_data"
    },
    {
     "data": {
      "image/png": "[encoded data removed]",
      "text/plain": [
       "<Figure size 432x288 with 1 Axes>"
      ]
     },
     "metadata": {
      "needs_background": "light"
     },
     "output_type": "display_data"
    },
    {
     "data": {
      "image/png": "[encoded data removed]",
      "text/plain": [
       "<Figure size 432x288 with 1 Axes>"
      ]
     },
     "metadata": {
      "needs_background": "light"
     },
     "output_type": "display_data"
    }
   ],
   "source": [
    "for column in gym_churn.columns:\n",
    "    if column not in ['avg_additional_charges_total', 'avg_class_frequency_total', 'avg_class_frequency_current_month', 'lifetime', 'age', 'contract_period', 'month_to_end_contract']:\n",
    "      gym_churn.groupby('churn')[column].hist()\n",
    "      plt.title(column)\n",
    "      plt.legend(['Оставшиеся', 'Отток'])\n",
    "      plt.show()"
   ]
  },
  {
   "cell_type": "markdown",
   "metadata": {},
   "source": [
    "Графики отражают картину, которую мы получили при просмотре средних значений."
   ]
  },
  {
   "cell_type": "markdown",
   "metadata": {},
   "source": [
    "### Матрица корреляций"
   ]
  },
  {
   "cell_type": "code",
   "execution_count": 13,
   "metadata": {},
   "outputs": [
    {
     "data": {
      "image/png": "[encoded data removed]",
      "text/plain": [
       "<Figure size 1008x1080 with 2 Axes>"
      ]
     },
     "metadata": {
      "needs_background": "light"
     },
     "output_type": "display_data"
    }
   ],
   "source": [
    "plt.figure(figsize=(14,15))\n",
    "sns.heatmap(data = gym_churn.corr(), annot=True, square=True, cmap=\"YlGnBu\")\n",
    "plt.title('Матрица корреляций')\n",
    "plt.show()"
   ]
  },
  {
   "cell_type": "markdown",
   "metadata": {},
   "source": [
    "Исходя из тепловой карты, видно, что сильно коррелируют такие признаки как мonth_to_end_contract ( срок до окончания текущего действующего абонемента (в месяцах)) и сontract_period (длительность текущего действующего абонемента (месяц, 3 месяца, 6 месяцев, год), а так же аvg_class_frequency_current_month ( средняя частота посещений в неделю за предыдущий месяц) и аvg_class_frequency_total (средняя частота посещений в неделю за все время с начала действия абонемента), что логично, поскольку показатели взаимосвязанны между собой. Также видна некоторая зависимость между promo_friends и partner. Вероятно, сотрудники компаний-партнеров клуба чаще остальных приглашают своих друзей и знакомых.\n",
    "\n",
    "Явной зависимости факта оттока от признаков не обнаружено."
   ]
  },
  {
   "cell_type": "markdown",
   "metadata": {},
   "source": [
    "## Шаг 3. Построение модели прогнозирования оттока клиентов"
   ]
  },
  {
   "cell_type": "markdown",
   "metadata": {},
   "source": [
    "Построим модель бинарной классификации клиентов, где целевой признак — факт оттока клиента в следующем месяце:"
   ]
  },
  {
   "cell_type": "markdown",
   "metadata": {},
   "source": [
    "Разделяем данные на признаки (матрица X) и целевую переменную (y):"
   ]
  },
  {
   "cell_type": "code",
   "execution_count": 14,
   "metadata": {},
   "outputs": [],
   "source": [
    "X = gym_churn.drop('churn', axis = 1)"
   ]
  },
  {
   "cell_type": "code",
   "execution_count": 15,
   "metadata": {},
   "outputs": [],
   "source": [
    "y = gym_churn['churn']"
   ]
  },
  {
   "cell_type": "markdown",
   "metadata": {},
   "source": [
    "Разбьем данные на обучающую и валидационную выборку функцией train_test_split():"
   ]
  },
  {
   "cell_type": "code",
   "execution_count": 16,
   "metadata": {},
   "outputs": [],
   "source": [
    "X_train, X_test, y_train, y_test = train_test_split(X, y, test_size=0.2, random_state = 0)"
   ]
  },
  {
   "cell_type": "markdown",
   "metadata": {},
   "source": [
    "### Логистическая регрессия"
   ]
  },
  {
   "cell_type": "markdown",
   "metadata": {},
   "source": [
    "Зададим алгоритм для нашей модели:"
   ]
  },
  {
   "cell_type": "code",
   "execution_count": 17,
   "metadata": {},
   "outputs": [],
   "source": [
    "log_reg_model = LogisticRegression(random_state = 0) "
   ]
  },
  {
   "cell_type": "markdown",
   "metadata": {},
   "source": [
    "Обучим модель:"
   ]
  },
  {
   "cell_type": "code",
   "execution_count": 18,
   "metadata": {},
   "outputs": [
    {
     "name": "stderr",
     "output_type": "stream",
     "text": [
      "c:\\users\\asus\\appdata\\local\\programs\\python\\python38-32\\lib\\site-packages\\sklearn\\linear_model\\_logistic.py:762: ConvergenceWarning: lbfgs failed to converge (status=1):\n",
      "STOP: TOTAL NO. of ITERATIONS REACHED LIMIT.\n",
      "\n",
      "Increase the number of iterations (max_iter) or scale the data as shown in:\n",
      "    https://scikit-learn.org/stable/modules/preprocessing.html\n",
      "Please also refer to the documentation for alternative solver options:\n",
      "    https://scikit-learn.org/stable/modules/linear_model.html#logistic-regression\n",
      "  n_iter_i = _check_optimize_result(\n"
     ]
    },
    {
     "data": {
      "text/plain": [
       "LogisticRegression(random_state=0)"
      ]
     },
     "execution_count": 18,
     "metadata": {},
     "output_type": "execute_result"
    }
   ],
   "source": [
    "log_reg_model.fit(X_train, y_train)"
   ]
  },
  {
   "cell_type": "code",
   "execution_count": 19,
   "metadata": {},
   "outputs": [],
   "source": [
    "predictions = log_reg_model.predict(X_test)\n",
    "probabilities =  log_reg_model.predict_proba(X_test)[:,1]"
   ]
  },
  {
   "cell_type": "code",
   "execution_count": 20,
   "metadata": {},
   "outputs": [
    {
     "name": "stdout",
     "output_type": "stream",
     "text": [
      "Метрики для модели логистической регрессии:\n",
      "\n",
      "Accuracy: 0.91\n",
      "Precision: 0.83\n",
      "Recall: 0.81\n",
      "F1: 0.82\n"
     ]
    }
   ],
   "source": [
    "print('Метрики для модели логистической регрессии:')\n",
    "print()\n",
    "print('Accuracy: {:.2f}'.format(accuracy_score(y_test,predictions)))\n",
    "print('Precision: {:.2f}'.format(precision_score(y_test,predictions)))\n",
    "print('Recall: {:.2f}'.format(recall_score(y_test,predictions)))\n",
    "print('F1: {:.2f}'.format(f1_score(y_test,predictions)))"
   ]
  },
  {
   "cell_type": "markdown",
   "metadata": {},
   "source": [
    "### Случайный лес"
   ]
  },
  {
   "cell_type": "markdown",
   "metadata": {},
   "source": [
    "Зададим алгоритм для нашей модели:"
   ]
  },
  {
   "cell_type": "code",
   "execution_count": 21,
   "metadata": {},
   "outputs": [],
   "source": [
    "random_forest_model = RandomForestClassifier(n_estimators = 100, random_state = 0)"
   ]
  },
  {
   "cell_type": "markdown",
   "metadata": {},
   "source": [
    "Обучим модель случайного леса:"
   ]
  },
  {
   "cell_type": "code",
   "execution_count": 22,
   "metadata": {},
   "outputs": [
    {
     "data": {
      "text/plain": [
       "RandomForestClassifier(random_state=0)"
      ]
     },
     "execution_count": 22,
     "metadata": {},
     "output_type": "execute_result"
    }
   ],
   "source": [
    "random_forest_model.fit(X_train, y_train)"
   ]
  },
  {
   "cell_type": "code",
   "execution_count": 23,
   "metadata": {},
   "outputs": [],
   "source": [
    "random_forest_predictions = random_forest_model.predict(X_test)# Ваш код здесь\n",
    "random_forest_probabilities = random_forest_model.predict_proba(X_test)[:, 1]"
   ]
  },
  {
   "cell_type": "code",
   "execution_count": 24,
   "metadata": {},
   "outputs": [
    {
     "name": "stdout",
     "output_type": "stream",
     "text": [
      "Метрики для модели случайного леса:\n",
      "\n",
      "Accuracy: 0.92\n",
      "Precision: 0.84\n",
      "Recall: 0.82\n",
      "F1: 0.83\n"
     ]
    }
   ],
   "source": [
    "print('Метрики для модели случайного леса:')\n",
    "print()\n",
    "print('Accuracy: {:.2f}'.format(accuracy_score(y_test,random_forest_predictions)))\n",
    "print('Precision: {:.2f}'.format(precision_score(y_test,random_forest_predictions)))\n",
    "print('Recall: {:.2f}'.format(recall_score(y_test,random_forest_predictions)))\n",
    "print('F1: {:.2f}'.format(f1_score(y_test,random_forest_predictions)))"
   ]
  },
  {
   "cell_type": "markdown",
   "metadata": {},
   "source": [
    "В целом, различия в моделях не критичны, но модель логистической регрессии регресси показала себя немного лучше, чем модель случайного леса - доля правильных прогнозов и полнота чуть выше в модели логистической регрессии. Возможно, при изменении таких параметров, как количество деревьев и глубины дерева, показатели в модели случайного леса могут улучшиться, но обе модели уже на данный момент показывают неплохие результаты."
   ]
  },
  {
   "cell_type": "markdown",
   "metadata": {},
   "source": [
    "Поскольку мы сделали выбор в пользу логистической регрессии - оценим степень воздействия признаков на целевую переменную:"
   ]
  },
  {
   "cell_type": "markdown",
   "metadata": {},
   "source": [
    "**Важность признаков в логистической регрессии:**"
   ]
  },
  {
   "cell_type": "markdown",
   "metadata": {},
   "source": [
    "Для начала посмотрим на знак перед коэффициентами - это обозначение напрявления влиляния признака на целевую переменную."
   ]
  },
  {
   "cell_type": "code",
   "execution_count": 25,
   "metadata": {},
   "outputs": [
    {
     "data": {
      "text/html": [
       "<div>\n",
       "<style scoped>\n",
       "    .dataframe tbody tr th:only-of-type {\n",
       "        vertical-align: middle;\n",
       "    }\n",
       "\n",
       "    .dataframe tbody tr th {\n",
       "        vertical-align: top;\n",
       "    }\n",
       "\n",
       "    .dataframe thead th {\n",
       "        text-align: right;\n",
       "    }\n",
       "</style>\n",
       "<table border=\"1\" class=\"dataframe\">\n",
       "  <thead>\n",
       "    <tr style=\"text-align: right;\">\n",
       "      <th></th>\n",
       "      <th>feature</th>\n",
       "      <th>coef</th>\n",
       "    </tr>\n",
       "  </thead>\n",
       "  <tbody>\n",
       "    <tr>\n",
       "      <th>0</th>\n",
       "      <td>gender</td>\n",
       "      <td>0.063792</td>\n",
       "    </tr>\n",
       "    <tr>\n",
       "      <th>1</th>\n",
       "      <td>near_location</td>\n",
       "      <td>-0.156738</td>\n",
       "    </tr>\n",
       "    <tr>\n",
       "      <th>2</th>\n",
       "      <td>partner</td>\n",
       "      <td>-0.079159</td>\n",
       "    </tr>\n",
       "    <tr>\n",
       "      <th>3</th>\n",
       "      <td>promo_friends</td>\n",
       "      <td>-0.692443</td>\n",
       "    </tr>\n",
       "    <tr>\n",
       "      <th>4</th>\n",
       "      <td>phone</td>\n",
       "      <td>1.157229</td>\n",
       "    </tr>\n",
       "    <tr>\n",
       "      <th>5</th>\n",
       "      <td>contract_period</td>\n",
       "      <td>-0.050411</td>\n",
       "    </tr>\n",
       "    <tr>\n",
       "      <th>6</th>\n",
       "      <td>group_visits</td>\n",
       "      <td>-0.373360</td>\n",
       "    </tr>\n",
       "    <tr>\n",
       "      <th>7</th>\n",
       "      <td>age</td>\n",
       "      <td>-0.103244</td>\n",
       "    </tr>\n",
       "    <tr>\n",
       "      <th>8</th>\n",
       "      <td>avg_additional_charges_total</td>\n",
       "      <td>-0.004296</td>\n",
       "    </tr>\n",
       "    <tr>\n",
       "      <th>9</th>\n",
       "      <td>month_to_end_contract</td>\n",
       "      <td>-0.234766</td>\n",
       "    </tr>\n",
       "    <tr>\n",
       "      <th>10</th>\n",
       "      <td>lifetime</td>\n",
       "      <td>-1.014122</td>\n",
       "    </tr>\n",
       "    <tr>\n",
       "      <th>11</th>\n",
       "      <td>avg_class_frequency_total</td>\n",
       "      <td>4.565715</td>\n",
       "    </tr>\n",
       "    <tr>\n",
       "      <th>12</th>\n",
       "      <td>avg_class_frequency_current_month</td>\n",
       "      <td>-5.213690</td>\n",
       "    </tr>\n",
       "  </tbody>\n",
       "</table>\n",
       "</div>"
      ],
      "text/plain": [
       "                              feature      coef\n",
       "0                              gender  0.063792\n",
       "1                       near_location -0.156738\n",
       "2                             partner -0.079159\n",
       "3                       promo_friends -0.692443\n",
       "4                               phone  1.157229\n",
       "5                     contract_period -0.050411\n",
       "6                        group_visits -0.373360\n",
       "7                                 age -0.103244\n",
       "8        avg_additional_charges_total -0.004296\n",
       "9               month_to_end_contract -0.234766\n",
       "10                           lifetime -1.014122\n",
       "11          avg_class_frequency_total  4.565715\n",
       "12  avg_class_frequency_current_month -5.213690"
      ]
     },
     "execution_count": 25,
     "metadata": {},
     "output_type": "execute_result"
    }
   ],
   "source": [
    "log_reg_coef = pd.DataFrame({'feature' : X_train.columns, 'coef' : log_reg_model.coef_[0]})\n",
    "log_reg_coef"
   ]
  },
  {
   "cell_type": "markdown",
   "metadata": {},
   "source": [
    "Теперь оценим важность влияния признака. Будем смотреть на коэффициенты по модулю:"
   ]
  },
  {
   "cell_type": "code",
   "execution_count": 26,
   "metadata": {},
   "outputs": [
    {
     "data": {
      "text/html": [
       "<div>\n",
       "<style scoped>\n",
       "    .dataframe tbody tr th:only-of-type {\n",
       "        vertical-align: middle;\n",
       "    }\n",
       "\n",
       "    .dataframe tbody tr th {\n",
       "        vertical-align: top;\n",
       "    }\n",
       "\n",
       "    .dataframe thead th {\n",
       "        text-align: right;\n",
       "    }\n",
       "</style>\n",
       "<table border=\"1\" class=\"dataframe\">\n",
       "  <thead>\n",
       "    <tr style=\"text-align: right;\">\n",
       "      <th></th>\n",
       "      <th>feature</th>\n",
       "      <th>coef</th>\n",
       "    </tr>\n",
       "  </thead>\n",
       "  <tbody>\n",
       "    <tr>\n",
       "      <th>12</th>\n",
       "      <td>avg_class_frequency_current_month</td>\n",
       "      <td>5.213690</td>\n",
       "    </tr>\n",
       "    <tr>\n",
       "      <th>11</th>\n",
       "      <td>avg_class_frequency_total</td>\n",
       "      <td>4.565715</td>\n",
       "    </tr>\n",
       "    <tr>\n",
       "      <th>4</th>\n",
       "      <td>phone</td>\n",
       "      <td>1.157229</td>\n",
       "    </tr>\n",
       "    <tr>\n",
       "      <th>10</th>\n",
       "      <td>lifetime</td>\n",
       "      <td>1.014122</td>\n",
       "    </tr>\n",
       "    <tr>\n",
       "      <th>3</th>\n",
       "      <td>promo_friends</td>\n",
       "      <td>0.692443</td>\n",
       "    </tr>\n",
       "    <tr>\n",
       "      <th>6</th>\n",
       "      <td>group_visits</td>\n",
       "      <td>0.373360</td>\n",
       "    </tr>\n",
       "    <tr>\n",
       "      <th>9</th>\n",
       "      <td>month_to_end_contract</td>\n",
       "      <td>0.234766</td>\n",
       "    </tr>\n",
       "    <tr>\n",
       "      <th>1</th>\n",
       "      <td>near_location</td>\n",
       "      <td>0.156738</td>\n",
       "    </tr>\n",
       "    <tr>\n",
       "      <th>7</th>\n",
       "      <td>age</td>\n",
       "      <td>0.103244</td>\n",
       "    </tr>\n",
       "    <tr>\n",
       "      <th>2</th>\n",
       "      <td>partner</td>\n",
       "      <td>0.079159</td>\n",
       "    </tr>\n",
       "    <tr>\n",
       "      <th>0</th>\n",
       "      <td>gender</td>\n",
       "      <td>0.063792</td>\n",
       "    </tr>\n",
       "    <tr>\n",
       "      <th>5</th>\n",
       "      <td>contract_period</td>\n",
       "      <td>0.050411</td>\n",
       "    </tr>\n",
       "    <tr>\n",
       "      <th>8</th>\n",
       "      <td>avg_additional_charges_total</td>\n",
       "      <td>0.004296</td>\n",
       "    </tr>\n",
       "  </tbody>\n",
       "</table>\n",
       "</div>"
      ],
      "text/plain": [
       "                              feature      coef\n",
       "12  avg_class_frequency_current_month  5.213690\n",
       "11          avg_class_frequency_total  4.565715\n",
       "4                               phone  1.157229\n",
       "10                           lifetime  1.014122\n",
       "3                       promo_friends  0.692443\n",
       "6                        group_visits  0.373360\n",
       "9               month_to_end_contract  0.234766\n",
       "1                       near_location  0.156738\n",
       "7                                 age  0.103244\n",
       "2                             partner  0.079159\n",
       "0                              gender  0.063792\n",
       "5                     contract_period  0.050411\n",
       "8        avg_additional_charges_total  0.004296"
      ]
     },
     "execution_count": 26,
     "metadata": {},
     "output_type": "execute_result"
    }
   ],
   "source": [
    "log_reg_coef['coef'] = log_reg_coef['coef'].abs()\n",
    "log_reg_coef.sort_values(by = 'coef', ascending = False)"
   ]
  },
  {
   "cell_type": "markdown",
   "metadata": {},
   "source": [
    "Можно сделать **следующий вывод:**:"
   ]
  },
  {
   "cell_type": "markdown",
   "metadata": {},
   "source": [
    "Больше всего на отток влияет средняя частота посещений в неделю за предыдущий месяц - чем чаще человек посещает клуб в последнее время, тем ниже вероятность оттока (поскольку коэффициент отрицательный). Далее по степени важности идут такие показатели как средняя частота посещений в неделю за все время с начала действия абонемента и время с момента первого обращения в фитнес-центр (в месяцах), соответственно. "
   ]
  },
  {
   "cell_type": "markdown",
   "metadata": {},
   "source": [
    "## Шаг 4. Кластеризация клиентов"
   ]
  },
  {
   "cell_type": "markdown",
   "metadata": {},
   "source": [
    "Для начала стандартизируем данные:"
   ]
  },
  {
   "cell_type": "code",
   "execution_count": 27,
   "metadata": {},
   "outputs": [],
   "source": [
    "scaler = StandardScaler()\n",
    "x_sc = scaler.fit_transform(X)"
   ]
  },
  {
   "cell_type": "markdown",
   "metadata": {},
   "source": [
    "Построим матрицу расстояний функцией linkage() на стандартизованной матрице признаков и нарисуем дендрограмму:"
   ]
  },
  {
   "cell_type": "code",
   "execution_count": 28,
   "metadata": {},
   "outputs": [],
   "source": [
    "linked = linkage(x_sc, method = 'ward') "
   ]
  },
  {
   "cell_type": "markdown",
   "metadata": {},
   "source": [
    "В переменной linked сохранена таблица «связок» между объектами. Её можно визуализировать как дендрограмму:"
   ]
  },
  {
   "cell_type": "code",
   "execution_count": 29,
   "metadata": {},
   "outputs": [
    {
     "data": {
      "image/png": "[encoded data removed]",
      "text/plain": [
       "<Figure size 1080x720 with 1 Axes>"
      ]
     },
     "metadata": {
      "needs_background": "light"
     },
     "output_type": "display_data"
    }
   ],
   "source": [
    "plt.figure(figsize=(15, 10))  \n",
    "dendrogram(linked, orientation='top')\n",
    "plt.title('Иерархическая кластеризация')\n",
    "plt.show() "
   ]
  },
  {
   "cell_type": "markdown",
   "metadata": {},
   "source": [
    "Исходя из дендограммы, можно предположить, что в нашей выборке 4 основных кластера (4 разных цвета на графике). Однако договоримся за число кластеров принять n=5 согласно условию тестового задания. Обучим модель кластеризации на основании алгоритма K-Means и спрогнозируем кластеры клиентов:"
   ]
  },
  {
   "cell_type": "code",
   "execution_count": 30,
   "metadata": {},
   "outputs": [],
   "source": [
    "km = KMeans(n_clusters = 5, random_state = 0) # задаём число кластеров, равное 5\n",
    "labels = km.fit_predict(x_sc) # применяем алгоритм к данным и формируем вектор кластеров\n",
    "\n",
    "# сохраняем метки кластера в поле нашего датасета\n",
    "gym_churn['cluster_km'] = labels"
   ]
  },
  {
   "cell_type": "markdown",
   "metadata": {},
   "source": [
    "**Cредние значения признаков для кластеров**"
   ]
  },
  {
   "cell_type": "code",
   "execution_count": 31,
   "metadata": {},
   "outputs": [
    {
     "data": {
      "text/html": [
       "<div>\n",
       "<style scoped>\n",
       "    .dataframe tbody tr th:only-of-type {\n",
       "        vertical-align: middle;\n",
       "    }\n",
       "\n",
       "    .dataframe tbody tr th {\n",
       "        vertical-align: top;\n",
       "    }\n",
       "\n",
       "    .dataframe thead th {\n",
       "        text-align: right;\n",
       "    }\n",
       "</style>\n",
       "<table border=\"1\" class=\"dataframe\">\n",
       "  <thead>\n",
       "    <tr style=\"text-align: right;\">\n",
       "      <th></th>\n",
       "      <th>gender</th>\n",
       "      <th>near_location</th>\n",
       "      <th>partner</th>\n",
       "      <th>promo_friends</th>\n",
       "      <th>phone</th>\n",
       "      <th>contract_period</th>\n",
       "      <th>group_visits</th>\n",
       "      <th>age</th>\n",
       "      <th>avg_additional_charges_total</th>\n",
       "      <th>month_to_end_contract</th>\n",
       "      <th>lifetime</th>\n",
       "      <th>avg_class_frequency_total</th>\n",
       "      <th>avg_class_frequency_current_month</th>\n",
       "      <th>churn</th>\n",
       "    </tr>\n",
       "    <tr>\n",
       "      <th>cluster_km</th>\n",
       "      <th></th>\n",
       "      <th></th>\n",
       "      <th></th>\n",
       "      <th></th>\n",
       "      <th></th>\n",
       "      <th></th>\n",
       "      <th></th>\n",
       "      <th></th>\n",
       "      <th></th>\n",
       "      <th></th>\n",
       "      <th></th>\n",
       "      <th></th>\n",
       "      <th></th>\n",
       "      <th></th>\n",
       "    </tr>\n",
       "  </thead>\n",
       "  <tbody>\n",
       "    <tr>\n",
       "      <th>0</th>\n",
       "      <td>0.522078</td>\n",
       "      <td>0.862338</td>\n",
       "      <td>0.470130</td>\n",
       "      <td>0.306494</td>\n",
       "      <td>0.000000</td>\n",
       "      <td>4.787013</td>\n",
       "      <td>0.425974</td>\n",
       "      <td>29.301299</td>\n",
       "      <td>143.957664</td>\n",
       "      <td>4.475325</td>\n",
       "      <td>3.924675</td>\n",
       "      <td>1.847220</td>\n",
       "      <td>1.716369</td>\n",
       "      <td>0.267532</td>\n",
       "    </tr>\n",
       "    <tr>\n",
       "      <th>1</th>\n",
       "      <td>0.480787</td>\n",
       "      <td>0.812559</td>\n",
       "      <td>0.000000</td>\n",
       "      <td>0.086223</td>\n",
       "      <td>1.000000</td>\n",
       "      <td>1.866917</td>\n",
       "      <td>0.325211</td>\n",
       "      <td>28.145267</td>\n",
       "      <td>131.369042</td>\n",
       "      <td>1.791003</td>\n",
       "      <td>2.345829</td>\n",
       "      <td>1.325865</td>\n",
       "      <td>1.086883</td>\n",
       "      <td>0.550141</td>\n",
       "    </tr>\n",
       "    <tr>\n",
       "      <th>2</th>\n",
       "      <td>0.559567</td>\n",
       "      <td>0.858002</td>\n",
       "      <td>0.338147</td>\n",
       "      <td>0.197353</td>\n",
       "      <td>0.998797</td>\n",
       "      <td>2.730445</td>\n",
       "      <td>0.448857</td>\n",
       "      <td>30.196149</td>\n",
       "      <td>164.579011</td>\n",
       "      <td>2.519856</td>\n",
       "      <td>5.010830</td>\n",
       "      <td>2.928140</td>\n",
       "      <td>2.934140</td>\n",
       "      <td>0.048135</td>\n",
       "    </tr>\n",
       "    <tr>\n",
       "      <th>3</th>\n",
       "      <td>0.509603</td>\n",
       "      <td>0.750320</td>\n",
       "      <td>1.000000</td>\n",
       "      <td>0.451985</td>\n",
       "      <td>1.000000</td>\n",
       "      <td>2.554417</td>\n",
       "      <td>0.303457</td>\n",
       "      <td>28.499360</td>\n",
       "      <td>129.812508</td>\n",
       "      <td>2.370038</td>\n",
       "      <td>2.832266</td>\n",
       "      <td>1.355379</td>\n",
       "      <td>1.176172</td>\n",
       "      <td>0.395647</td>\n",
       "    </tr>\n",
       "    <tr>\n",
       "      <th>4</th>\n",
       "      <td>0.495726</td>\n",
       "      <td>0.943376</td>\n",
       "      <td>0.752137</td>\n",
       "      <td>0.541667</td>\n",
       "      <td>1.000000</td>\n",
       "      <td>11.352564</td>\n",
       "      <td>0.564103</td>\n",
       "      <td>29.993590</td>\n",
       "      <td>164.563799</td>\n",
       "      <td>10.376068</td>\n",
       "      <td>4.817308</td>\n",
       "      <td>2.028169</td>\n",
       "      <td>2.020129</td>\n",
       "      <td>0.023504</td>\n",
       "    </tr>\n",
       "  </tbody>\n",
       "</table>\n",
       "</div>"
      ],
      "text/plain": [
       "              gender  near_location   partner  promo_friends     phone  \\\n",
       "cluster_km                                                               \n",
       "0           0.522078       0.862338  0.470130       0.306494  0.000000   \n",
       "1           0.480787       0.812559  0.000000       0.086223  1.000000   \n",
       "2           0.559567       0.858002  0.338147       0.197353  0.998797   \n",
       "3           0.509603       0.750320  1.000000       0.451985  1.000000   \n",
       "4           0.495726       0.943376  0.752137       0.541667  1.000000   \n",
       "\n",
       "            contract_period  group_visits        age  \\\n",
       "cluster_km                                             \n",
       "0                  4.787013      0.425974  29.301299   \n",
       "1                  1.866917      0.325211  28.145267   \n",
       "2                  2.730445      0.448857  30.196149   \n",
       "3                  2.554417      0.303457  28.499360   \n",
       "4                 11.352564      0.564103  29.993590   \n",
       "\n",
       "            avg_additional_charges_total  month_to_end_contract  lifetime  \\\n",
       "cluster_km                                                                  \n",
       "0                             143.957664               4.475325  3.924675   \n",
       "1                             131.369042               1.791003  2.345829   \n",
       "2                             164.579011               2.519856  5.010830   \n",
       "3                             129.812508               2.370038  2.832266   \n",
       "4                             164.563799              10.376068  4.817308   \n",
       "\n",
       "            avg_class_frequency_total  avg_class_frequency_current_month  \\\n",
       "cluster_km                                                                 \n",
       "0                            1.847220                           1.716369   \n",
       "1                            1.325865                           1.086883   \n",
       "2                            2.928140                           2.934140   \n",
       "3                            1.355379                           1.176172   \n",
       "4                            2.028169                           2.020129   \n",
       "\n",
       "               churn  \n",
       "cluster_km            \n",
       "0           0.267532  \n",
       "1           0.550141  \n",
       "2           0.048135  \n",
       "3           0.395647  \n",
       "4           0.023504  "
      ]
     },
     "execution_count": 31,
     "metadata": {},
     "output_type": "execute_result"
    }
   ],
   "source": [
    "# выводим статистику по средним значениям наших признаков по кластеру\n",
    "gym_churn.groupby('cluster_km').mean()"
   ]
  },
  {
   "cell_type": "markdown",
   "metadata": {},
   "source": [
    "Самая высокая доля оттока у третьего кластера (51%), у второго и первого кластеров - 44% и 27% соотвественно, минимальные значения у четвертого и нулевого кластеров - 7% и 3% соответственно. Последние два кластера наиболее надежные."
   ]
  },
  {
   "cell_type": "code",
   "execution_count": 32,
   "metadata": {},
   "outputs": [
    {
     "data": {
      "image/png": "[encoded data removed]",
      "text/plain": [
       "<Figure size 1080x720 with 1 Axes>"
      ]
     },
     "metadata": {
      "needs_background": "light"
     },
     "output_type": "display_data"
    },
    {
     "data": {
      "image/png": "[encoded data removed]",
      "text/plain": [
       "<Figure size 1080x720 with 1 Axes>"
      ]
     },
     "metadata": {
      "needs_background": "light"
     },
     "output_type": "display_data"
    },
    {
     "data": {
      "image/png": "[encoded data removed]",
      "text/plain": [
       "<Figure size 1080x720 with 1 Axes>"
      ]
     },
     "metadata": {
      "needs_background": "light"
     },
     "output_type": "display_data"
    },
    {
     "data": {
      "image/png": "[encoded data removed]",
      "text/plain": [
       "<Figure size 1080x720 with 1 Axes>"
      ]
     },
     "metadata": {
      "needs_background": "light"
     },
     "output_type": "display_data"
    },
    {
     "data": {
      "image/png": "[encoded data removed]",
      "text/plain": [
       "<Figure size 1080x720 with 1 Axes>"
      ]
     },
     "metadata": {
      "needs_background": "light"
     },
     "output_type": "display_data"
    },
    {
     "data": {
      "image/png": "[encoded data removed]",
      "text/plain": [
       "<Figure size 1080x720 with 1 Axes>"
      ]
     },
     "metadata": {
      "needs_background": "light"
     },
     "output_type": "display_data"
    },
    {
     "data": {
      "image/png": "[encoded data removed]",
      "text/plain": [
       "<Figure size 1080x720 with 1 Axes>"
      ]
     },
     "metadata": {
      "needs_background": "light"
     },
     "output_type": "display_data"
    },
    {
     "data": {
      "image/png": "[encoded data removed]",
      "text/plain": [
       "<Figure size 1080x720 with 1 Axes>"
      ]
     },
     "metadata": {
      "needs_background": "light"
     },
     "output_type": "display_data"
    }
   ],
   "source": [
    "for column in ['gender', 'near_location','partner','promo_friends', 'phone','contract_period', 'group_visits', 'churn']:\n",
    "    plt.figure(figsize=(15, 10))\n",
    "    sns.countplot(x = gym_churn[column], hue='cluster_km', data=gym_churn)\n",
    "    plt.title(column)\n",
    "    plt.show()"
   ]
  },
  {
   "cell_type": "code",
   "execution_count": 33,
   "metadata": {
    "scrolled": true
   },
   "outputs": [
    {
     "name": "stderr",
     "output_type": "stream",
     "text": [
      "c:\\users\\asus\\appdata\\local\\programs\\python\\python38-32\\lib\\site-packages\\seaborn\\distributions.py:2551: FutureWarning: `distplot` is a deprecated function and will be removed in a future version. Please adapt your code to use either `displot` (a figure-level function with similar flexibility) or `kdeplot` (an axes-level function for kernel density plots).\n",
      "  warnings.warn(msg, FutureWarning)\n",
      "c:\\users\\asus\\appdata\\local\\programs\\python\\python38-32\\lib\\site-packages\\seaborn\\distributions.py:2551: FutureWarning: `distplot` is a deprecated function and will be removed in a future version. Please adapt your code to use either `displot` (a figure-level function with similar flexibility) or `kdeplot` (an axes-level function for kernel density plots).\n",
      "  warnings.warn(msg, FutureWarning)\n",
      "c:\\users\\asus\\appdata\\local\\programs\\python\\python38-32\\lib\\site-packages\\seaborn\\distributions.py:2551: FutureWarning: `distplot` is a deprecated function and will be removed in a future version. Please adapt your code to use either `displot` (a figure-level function with similar flexibility) or `kdeplot` (an axes-level function for kernel density plots).\n",
      "  warnings.warn(msg, FutureWarning)\n",
      "c:\\users\\asus\\appdata\\local\\programs\\python\\python38-32\\lib\\site-packages\\seaborn\\distributions.py:2551: FutureWarning: `distplot` is a deprecated function and will be removed in a future version. Please adapt your code to use either `displot` (a figure-level function with similar flexibility) or `kdeplot` (an axes-level function for kernel density plots).\n",
      "  warnings.warn(msg, FutureWarning)\n",
      "c:\\users\\asus\\appdata\\local\\programs\\python\\python38-32\\lib\\site-packages\\seaborn\\distributions.py:2551: FutureWarning: `distplot` is a deprecated function and will be removed in a future version. Please adapt your code to use either `displot` (a figure-level function with similar flexibility) or `kdeplot` (an axes-level function for kernel density plots).\n",
      "  warnings.warn(msg, FutureWarning)\n",
      "c:\\users\\asus\\appdata\\local\\programs\\python\\python38-32\\lib\\site-packages\\seaborn\\distributions.py:2551: FutureWarning: `distplot` is a deprecated function and will be removed in a future version. Please adapt your code to use either `displot` (a figure-level function with similar flexibility) or `kdeplot` (an axes-level function for kernel density plots).\n",
      "  warnings.warn(msg, FutureWarning)\n",
      "c:\\users\\asus\\appdata\\local\\programs\\python\\python38-32\\lib\\site-packages\\seaborn\\distributions.py:2551: FutureWarning: `distplot` is a deprecated function and will be removed in a future version. Please adapt your code to use either `displot` (a figure-level function with similar flexibility) or `kdeplot` (an axes-level function for kernel density plots).\n",
      "  warnings.warn(msg, FutureWarning)\n",
      "c:\\users\\asus\\appdata\\local\\programs\\python\\python38-32\\lib\\site-packages\\seaborn\\distributions.py:2551: FutureWarning: `distplot` is a deprecated function and will be removed in a future version. Please adapt your code to use either `displot` (a figure-level function with similar flexibility) or `kdeplot` (an axes-level function for kernel density plots).\n",
      "  warnings.warn(msg, FutureWarning)\n",
      "c:\\users\\asus\\appdata\\local\\programs\\python\\python38-32\\lib\\site-packages\\seaborn\\distributions.py:2551: FutureWarning: `distplot` is a deprecated function and will be removed in a future version. Please adapt your code to use either `displot` (a figure-level function with similar flexibility) or `kdeplot` (an axes-level function for kernel density plots).\n",
      "  warnings.warn(msg, FutureWarning)\n",
      "c:\\users\\asus\\appdata\\local\\programs\\python\\python38-32\\lib\\site-packages\\seaborn\\distributions.py:2551: FutureWarning: `distplot` is a deprecated function and will be removed in a future version. Please adapt your code to use either `displot` (a figure-level function with similar flexibility) or `kdeplot` (an axes-level function for kernel density plots).\n",
      "  warnings.warn(msg, FutureWarning)\n",
      "c:\\users\\asus\\appdata\\local\\programs\\python\\python38-32\\lib\\site-packages\\seaborn\\distributions.py:2551: FutureWarning: `distplot` is a deprecated function and will be removed in a future version. Please adapt your code to use either `displot` (a figure-level function with similar flexibility) or `kdeplot` (an axes-level function for kernel density plots).\n",
      "  warnings.warn(msg, FutureWarning)\n",
      "c:\\users\\asus\\appdata\\local\\programs\\python\\python38-32\\lib\\site-packages\\seaborn\\distributions.py:2551: FutureWarning: `distplot` is a deprecated function and will be removed in a future version. Please adapt your code to use either `displot` (a figure-level function with similar flexibility) or `kdeplot` (an axes-level function for kernel density plots).\n",
      "  warnings.warn(msg, FutureWarning)\n",
      "c:\\users\\asus\\appdata\\local\\programs\\python\\python38-32\\lib\\site-packages\\seaborn\\distributions.py:2551: FutureWarning: `distplot` is a deprecated function and will be removed in a future version. Please adapt your code to use either `displot` (a figure-level function with similar flexibility) or `kdeplot` (an axes-level function for kernel density plots).\n",
      "  warnings.warn(msg, FutureWarning)\n",
      "c:\\users\\asus\\appdata\\local\\programs\\python\\python38-32\\lib\\site-packages\\seaborn\\distributions.py:2551: FutureWarning: `distplot` is a deprecated function and will be removed in a future version. Please adapt your code to use either `displot` (a figure-level function with similar flexibility) or `kdeplot` (an axes-level function for kernel density plots).\n",
      "  warnings.warn(msg, FutureWarning)\n",
      "c:\\users\\asus\\appdata\\local\\programs\\python\\python38-32\\lib\\site-packages\\seaborn\\distributions.py:2551: FutureWarning: `distplot` is a deprecated function and will be removed in a future version. Please adapt your code to use either `displot` (a figure-level function with similar flexibility) or `kdeplot` (an axes-level function for kernel density plots).\n",
      "  warnings.warn(msg, FutureWarning)\n",
      "c:\\users\\asus\\appdata\\local\\programs\\python\\python38-32\\lib\\site-packages\\seaborn\\distributions.py:2551: FutureWarning: `distplot` is a deprecated function and will be removed in a future version. Please adapt your code to use either `displot` (a figure-level function with similar flexibility) or `kdeplot` (an axes-level function for kernel density plots).\n",
      "  warnings.warn(msg, FutureWarning)\n",
      "c:\\users\\asus\\appdata\\local\\programs\\python\\python38-32\\lib\\site-packages\\seaborn\\distributions.py:2551: FutureWarning: `distplot` is a deprecated function and will be removed in a future version. Please adapt your code to use either `displot` (a figure-level function with similar flexibility) or `kdeplot` (an axes-level function for kernel density plots).\n",
      "  warnings.warn(msg, FutureWarning)\n",
      "c:\\users\\asus\\appdata\\local\\programs\\python\\python38-32\\lib\\site-packages\\seaborn\\distributions.py:2551: FutureWarning: `distplot` is a deprecated function and will be removed in a future version. Please adapt your code to use either `displot` (a figure-level function with similar flexibility) or `kdeplot` (an axes-level function for kernel density plots).\n",
      "  warnings.warn(msg, FutureWarning)\n",
      "c:\\users\\asus\\appdata\\local\\programs\\python\\python38-32\\lib\\site-packages\\seaborn\\distributions.py:2551: FutureWarning: `distplot` is a deprecated function and will be removed in a future version. Please adapt your code to use either `displot` (a figure-level function with similar flexibility) or `kdeplot` (an axes-level function for kernel density plots).\n",
      "  warnings.warn(msg, FutureWarning)\n",
      "c:\\users\\asus\\appdata\\local\\programs\\python\\python38-32\\lib\\site-packages\\seaborn\\distributions.py:2551: FutureWarning: `distplot` is a deprecated function and will be removed in a future version. Please adapt your code to use either `displot` (a figure-level function with similar flexibility) or `kdeplot` (an axes-level function for kernel density plots).\n",
      "  warnings.warn(msg, FutureWarning)\n",
      "c:\\users\\asus\\appdata\\local\\programs\\python\\python38-32\\lib\\site-packages\\seaborn\\distributions.py:2551: FutureWarning: `distplot` is a deprecated function and will be removed in a future version. Please adapt your code to use either `displot` (a figure-level function with similar flexibility) or `kdeplot` (an axes-level function for kernel density plots).\n",
      "  warnings.warn(msg, FutureWarning)\n",
      "c:\\users\\asus\\appdata\\local\\programs\\python\\python38-32\\lib\\site-packages\\seaborn\\distributions.py:2551: FutureWarning: `distplot` is a deprecated function and will be removed in a future version. Please adapt your code to use either `displot` (a figure-level function with similar flexibility) or `kdeplot` (an axes-level function for kernel density plots).\n",
      "  warnings.warn(msg, FutureWarning)\n",
      "c:\\users\\asus\\appdata\\local\\programs\\python\\python38-32\\lib\\site-packages\\seaborn\\distributions.py:2551: FutureWarning: `distplot` is a deprecated function and will be removed in a future version. Please adapt your code to use either `displot` (a figure-level function with similar flexibility) or `kdeplot` (an axes-level function for kernel density plots).\n",
      "  warnings.warn(msg, FutureWarning)\n",
      "c:\\users\\asus\\appdata\\local\\programs\\python\\python38-32\\lib\\site-packages\\seaborn\\distributions.py:2551: FutureWarning: `distplot` is a deprecated function and will be removed in a future version. Please adapt your code to use either `displot` (a figure-level function with similar flexibility) or `kdeplot` (an axes-level function for kernel density plots).\n",
      "  warnings.warn(msg, FutureWarning)\n",
      "c:\\users\\asus\\appdata\\local\\programs\\python\\python38-32\\lib\\site-packages\\seaborn\\distributions.py:2551: FutureWarning: `distplot` is a deprecated function and will be removed in a future version. Please adapt your code to use either `displot` (a figure-level function with similar flexibility) or `kdeplot` (an axes-level function for kernel density plots).\n",
      "  warnings.warn(msg, FutureWarning)\n",
      "c:\\users\\asus\\appdata\\local\\programs\\python\\python38-32\\lib\\site-packages\\seaborn\\distributions.py:2551: FutureWarning: `distplot` is a deprecated function and will be removed in a future version. Please adapt your code to use either `displot` (a figure-level function with similar flexibility) or `kdeplot` (an axes-level function for kernel density plots).\n",
      "  warnings.warn(msg, FutureWarning)\n",
      "c:\\users\\asus\\appdata\\local\\programs\\python\\python38-32\\lib\\site-packages\\seaborn\\distributions.py:2551: FutureWarning: `distplot` is a deprecated function and will be removed in a future version. Please adapt your code to use either `displot` (a figure-level function with similar flexibility) or `kdeplot` (an axes-level function for kernel density plots).\n",
      "  warnings.warn(msg, FutureWarning)\n",
      "c:\\users\\asus\\appdata\\local\\programs\\python\\python38-32\\lib\\site-packages\\seaborn\\distributions.py:2551: FutureWarning: `distplot` is a deprecated function and will be removed in a future version. Please adapt your code to use either `displot` (a figure-level function with similar flexibility) or `kdeplot` (an axes-level function for kernel density plots).\n",
      "  warnings.warn(msg, FutureWarning)\n",
      "c:\\users\\asus\\appdata\\local\\programs\\python\\python38-32\\lib\\site-packages\\seaborn\\distributions.py:2551: FutureWarning: `distplot` is a deprecated function and will be removed in a future version. Please adapt your code to use either `displot` (a figure-level function with similar flexibility) or `kdeplot` (an axes-level function for kernel density plots).\n",
      "  warnings.warn(msg, FutureWarning)\n",
      "c:\\users\\asus\\appdata\\local\\programs\\python\\python38-32\\lib\\site-packages\\seaborn\\distributions.py:2551: FutureWarning: `distplot` is a deprecated function and will be removed in a future version. Please adapt your code to use either `displot` (a figure-level function with similar flexibility) or `kdeplot` (an axes-level function for kernel density plots).\n",
      "  warnings.warn(msg, FutureWarning)\n"
     ]
    },
    {
     "data": {
      "image/png": "[encoded data removed]",
      "text/plain": [
       "<Figure size 720x288 with 1 Axes>"
      ]
     },
     "metadata": {
      "needs_background": "light"
     },
     "output_type": "display_data"
    },
    {
     "data": {
      "image/png": "[encoded data removed]",
      "text/plain": [
       "<Figure size 720x288 with 1 Axes>"
      ]
     },
     "metadata": {
      "needs_background": "light"
     },
     "output_type": "display_data"
    },
    {
     "data": {
      "image/png": "[encoded data removed]",
      "text/plain": [
       "<Figure size 720x288 with 1 Axes>"
      ]
     },
     "metadata": {
      "needs_background": "light"
     },
     "output_type": "display_data"
    },
    {
     "data": {
      "image/png": "[encoded data removed]",
      "text/plain": [
       "<Figure size 720x288 with 1 Axes>"
      ]
     },
     "metadata": {
      "needs_background": "light"
     },
     "output_type": "display_data"
    },
    {
     "data": {
      "image/png": "[encoded data removed]",
      "text/plain": [
       "<Figure size 720x288 with 1 Axes>"
      ]
     },
     "metadata": {
      "needs_background": "light"
     },
     "output_type": "display_data"
    },
    {
     "data": {
      "image/png": "[encoded data removed]",
      "text/plain": [
       "<Figure size 720x288 with 1 Axes>"
      ]
     },
     "metadata": {
      "needs_background": "light"
     },
     "output_type": "display_data"
    }
   ],
   "source": [
    "for column in ['avg_additional_charges_total', 'avg_class_frequency_total', 'avg_class_frequency_current_month', 'lifetime', 'age', 'month_to_end_contract']: \n",
    "  plt.figure(figsize=(10,4)) \n",
    "  for i in range(0,5):\n",
    "        sns.distplot(gym_churn.query('cluster_km == @i')[column], hist=False, kde_kws={'label':'Кластер'+ str(i)})\n",
    "  plt.title(column)\n",
    "plt.tight_layout()"
   ]
  },
  {
   "cell_type": "markdown",
   "metadata": {},
   "source": [
    "На основе статистики по средним значениям признаков по кластерам и графикам распределений можно выделить ключевые характеристики для каждого кластера:"
   ]
  },
  {
   "cell_type": "markdown",
   "metadata": {},
   "source": [
    "\n",
    "Отток - 26%\n",
    "Живут или работают недалеко от фитнес-центра\n",
    "Нет мобильного номера\n",
    "В среднем 4.5 месяцев контракты"
   ]
  },
  {
   "cell_type": "markdown",
   "metadata": {},
   "source": [
    "**Кластер 0:**\n",
    "\n",
    "- Отток - 3% (Самый надежный кластер)\n",
    "\n",
    "- Фитнес-центр находится близко от дома или места работы клиентов этого кластера (такая ситуация со всеми кластерами, кроме второго)\n",
    "\n",
    "- Этот кластер лидирует по количеству сотрудников компаний- партнеров и по посещаемости групповых занятий\n",
    "\n",
    "- В основном все люди, пришедшии по промо акции сосредоточены в этом кластере\n",
    "\n",
    "- Средняя длительность текущего действующего абонемента - почти 11 месяцев\n",
    "\n",
    "\n",
    "**Кластер 1:**\n",
    "\n",
    "- Отток - 27%\n",
    "\n",
    "- Единственный кластер, который не делится своими контактами\n",
    "\n",
    "- Средняя длительность текущего действующего абонемента - 4.8 месяцев\n",
    "\n",
    "**Кластер 2:**\n",
    "\n",
    "- Отток - 44%\n",
    "\n",
    "- Не любят групповые тренировки\n",
    "\n",
    "- Почти никто из предстваителей этого кластера не использовал промо-код от знакомого при оплате первого абонемента\n",
    "\n",
    "- Средняя длительность текущего действующего абонемента - 2.4 месяца\n",
    "\n",
    "**Кластер 3:**\n",
    "\n",
    "- Отток - 51% - (самый ненадежный кластер)\n",
    "\n",
    "- Аутсайдеры по количеству суммарных посещений и посещений за последний месяц\n",
    "\n",
    "- Меньше всего приносят денег клубу за дополнительные услуги\n",
    "\n",
    "- Средняя длительность текущего действующего абонемента - 1.9 месяцев\n",
    "\n",
    "**Кластер 4:**\n",
    "\n",
    "- Отток - 7%\n",
    "\n",
    "- Лидеры по количеству посещений в неделю\n",
    "\n",
    "- Средняя длительность текущего действующего абонемента - 2.7 месяцев"
   ]
  },
  {
   "cell_type": "markdown",
   "metadata": {},
   "source": [
    "## Шаг 5. Выводы и базовые рекомендации по работе с клиентами"
   ]
  },
  {
   "cell_type": "markdown",
   "metadata": {},
   "source": [
    "**Вывод на основе описательных статистик:**\n",
    "\n",
    "- Распределение по полу приблизительно одинаковое\n",
    "\n",
    "\n",
    "- Большинство пользователей (85%) живут или работают в районах, где находится фитнес-центр\n",
    "\n",
    "\n",
    "- Почти половина пользователей являются сотрудниками компании-партнёра клуба\n",
    "\n",
    "\n",
    "- Приблизительно 31% клиентов использовали промо-код от знакомого при оплате первого абонемента\n",
    "\n",
    "\n",
    "- В 90% случаев известен контактный телефон клиента\n",
    "\n",
    "\n",
    "- Средний возраст клиента - 29 лет\n",
    "\n",
    "\n",
    "- Средние выручка от клиента на дополнительные услуги - 146 у.е. ( кафе, спорт-товары, косметический и массажный салон)\n",
    "\n",
    "\n",
    "- Средний срок до окончания текущего действующего абонемента - 4.3 месяца\n",
    "\n",
    "\n",
    "- Среднее время с момента первого обращения в фитнес-центр - 3.7 месяцев\n",
    "\n",
    "\n",
    "- Средняя частота посещений в неделю за все время с начала действия абонемента - около 2 раз (1.88)\n",
    "\n",
    "\n",
    "- Средняя частота посещений в неделю за предыдущий месяц - около 2 раз (1.77)\n",
    "\n",
    "\n",
    "- Доля оттока - приблизительно 27%"
   ]
  },
  {
   "cell_type": "markdown",
   "metadata": {},
   "source": [
    "**Вывод на основе средних значений в двух группах (попавших в отток и тех, кто остались):**\n",
    "\n",
    "- Распределение по полу приблизительно одинаковое, что среди тех, кто ушел в отток, что среди оставшихся\n",
    "\n",
    "\n",
    "- Доля клиентов,  живущих или работающих в районах, где находится фитнес-центр, ниже среди тех, кто попал в отток, что также логично, поскольку из-за дополнительных издержек человек может сделать выбор в пользу какого-нибудь другого варианта\n",
    "\n",
    "\n",
    "- Среди попавших в отток доля людей, являющихся сотрудниками компании-партнёра клуба, существенно ниже\n",
    "\n",
    "\n",
    "- Среди попавших в отток доля людей, использовавших промо-код от знакомого при оплате первого абонемента, существенно ниже (Вероятно, что люди могут посещать зал вместе, а таким образом меньше вероятность того, что они уйдут в отток)\n",
    "\n",
    "- Наличие мобильного номера клиента не отличается в группах\n",
    "\n",
    "\n",
    "- Длительность текущего действующего абонемента среди попавших в отток существенно ниже (1.7 месяца против 5.7). Это логично, так как человек в ближайшее время может понять, удобен ли ему по всем параментам  клуб. К тому же есть много акций на первый месяц занятий - люди воспользуются выгодой, но остаться в клубе не планируют\n",
    "\n",
    "- У групп есть разница в среднем возрасте клиентов - попавшие в отток моложе\n",
    "\n",
    "- Суммарная выручка от дополнительных услуг фитнес-центра ниже среди тех, кто попал в отток\n",
    "\n",
    "\n",
    "- Срок до окончания текущего действующего абонемента существенно ниже среди тех, кто попал в отток, что логично, потому что обидно терять слишком много занятий, на которые были потрачены деньги\n",
    "\n",
    "\n",
    "- Время с момента первого обращения в фитнес-центр (в месяцах) для действующей группы - 4.7 месяцев, а для группы оттока - 1.7.\n",
    "\n",
    "\n",
    "- Средняя частота посещений в неделю за все время с начала действия абонемента для тех, кто попал в отток - 1.47 раз, а для тех, кто не попал - 2.02\n",
    "\n",
    "\n",
    "- Средняя частота посещений в неделю за предыдущий месяц почти в два раза ниже у группы, попавшей в отток. На мой взгляд, наиболее важное наблюдение."
   ]
  },
  {
   "cell_type": "markdown",
   "metadata": {},
   "source": [
    "**Выбор и интерпретация модели для прогнозирования вероятности оттока по каждому клиенту:**\n",
    "\n",
    "В целом, различия в моделях не критичны, но модель логистической регрессии регресси показала себя немного лучше, чем модель случайного леса - доля правильных прогнозов и полнота чуть выше в модели логистической регрессии. Возможно, при изменении таких параметров, как количество деревьев и глубины дерева, показатели в модели случайного леса могут улучшиться, но обе модели уже на данный момент показывают неплохие результаты.\n",
    "\n",
    "Больше всего на отток влияет средняя частота посещений в неделю за предыдущий месяц - чем чаще человек посещает клуб в последнее время, тем ниже вероятность оттока (поскольку коэффициент отрицательный). Далее по степени важности идут такие показатели как средняя частота посещений в неделю за все время с начала действия абонемента и время с момента первого обращения в фитнес-центр (в месяцах), соответственно."
   ]
  },
  {
   "cell_type": "markdown",
   "metadata": {},
   "source": [
    "**Кластеризация клиентов:**\n",
    "    \n",
    "Согласно условию задания, мы выделили 5 кластеров с характерными чертами:\n",
    "\n",
    "**Кластер 0:**\n",
    "\n",
    "- Отток - 3% (**Самый надежный кластер**)\n",
    "\n",
    "- Фитнес-центр находится близко от дома или места работы клиентов этого кластера (такая ситуация со всеми кластерами, кроме второго)\n",
    "\n",
    "- Этот кластер лидирует по количеству сотрудников компаний- партнеров и по посещаемости групповых занятий\n",
    "\n",
    "- В основном все люди, пришедшие по промо акции сосредоточены в этом кластере\n",
    "\n",
    "- Средняя длительность текущего действующего абонемента - почти 11 месяцев\n",
    "\n",
    "\n",
    "**Кластер 1:**\n",
    "\n",
    "- Отток - 27%\n",
    "\n",
    "- Единственный кластер, который не делится своими контактами\n",
    "\n",
    "- Средняя длительность текущего действующего абонемента - 4.8 месяцев\n",
    "\n",
    "**Кластер 2:**\n",
    "\n",
    "- Отток - 44%\n",
    "\n",
    "- Не любят групповые тренировки\n",
    "\n",
    "- Почти никто из предстваителей этого кластера не использовал промо-код от знакомого при оплате первого абонемента\n",
    "\n",
    "- Средняя длительность текущего действующего абонемента - 2.4 месяца\n",
    "\n",
    "**Кластер 3:**\n",
    "\n",
    "- Отток - 51% - (**самый ненадежный кластер**)\n",
    "\n",
    "- Аутсайдеры по количеству суммарных посещений и посещений за последний месяц\n",
    "\n",
    "- Меньше всего приносят денег клубу за дополнительные услуги\n",
    "\n",
    "- Средняя длительность текущего действующего абонемента - 1.9 месяцев\n",
    "\n",
    "**Кластер 4:**\n",
    "\n",
    "- Отток - 7%\n",
    "\n",
    "- Лидеры по количеству посещений в неделю\n",
    "\n",
    "- Средняя длительность текущего действующего абонемента - 2.7 месяцев"
   ]
  },
  {
   "cell_type": "markdown",
   "metadata": {},
   "source": [
    "**Рекомендации по работе с клиентами:**\n",
    "\n",
    "Здесь стоит обратить внимание на отличительные особенности самого надежного и самого ненадежного кластера, а именно нулевого и третьего, соответственно.\n",
    "\n",
    "- Наиболее очевидное наблюдение - чем дольше срок абонемента, тем ниже отток. Соответственно, можно сделать дополнительную скидку на долгосрочные абонементы.\n",
    "\n",
    "\n",
    "- Клиенты, не уходяшие в отток в большинстве своем приходят по по промо-акции, поэтому необходимо дополнительно простимулировать их делиться промо-кодами со своими знакомыми\n",
    "\n",
    "\n",
    "- В целом, полагаю, что основная идея заключается в том, чтобы уделить внимание самому надежному кластеру и стараться перенести секрет успеха этого кластера на все остальные)"
   ]
  }
 ],
 "metadata": {
  "ExecuteTimeLog": [
   {
    "duration": 3,
    "start_time": "2021-07-29T00:56:41.992Z"
   },
   {
    "duration": 598,
    "start_time": "2021-07-29T00:57:54.065Z"
   },
   {
    "duration": 329,
    "start_time": "2021-07-29T00:59:23.194Z"
   },
   {
    "duration": 317,
    "start_time": "2021-07-29T00:59:48.393Z"
   },
   {
    "duration": 256,
    "start_time": "2021-07-29T01:00:13.986Z"
   },
   {
    "duration": 8,
    "start_time": "2021-07-29T01:00:15.938Z"
   },
   {
    "duration": 16,
    "start_time": "2021-07-29T01:00:35.730Z"
   },
   {
    "duration": 3,
    "start_time": "2021-07-29T01:04:57.399Z"
   },
   {
    "duration": 10,
    "start_time": "2021-07-29T01:05:26.820Z"
   },
   {
    "duration": 111,
    "start_time": "2021-07-30T10:24:14.084Z"
   },
   {
    "duration": 571,
    "start_time": "2021-07-30T10:24:34.806Z"
   },
   {
    "duration": 296,
    "start_time": "2021-07-30T10:24:35.379Z"
   },
   {
    "duration": 6,
    "start_time": "2021-07-30T10:24:35.677Z"
   },
   {
    "duration": 20,
    "start_time": "2021-07-30T10:24:35.685Z"
   },
   {
    "duration": 3,
    "start_time": "2021-07-30T10:24:35.706Z"
   },
   {
    "duration": 18,
    "start_time": "2021-07-30T10:24:35.710Z"
   },
   {
    "duration": 5,
    "start_time": "2021-07-30T10:25:30.074Z"
   },
   {
    "duration": 38,
    "start_time": "2021-07-30T10:26:36.864Z"
   },
   {
    "duration": 664,
    "start_time": "2021-07-30T10:46:15.388Z"
   },
   {
    "duration": 414,
    "start_time": "2021-07-30T10:46:16.054Z"
   },
   {
    "duration": 7,
    "start_time": "2021-07-30T10:46:16.471Z"
   },
   {
    "duration": 25,
    "start_time": "2021-07-30T10:46:16.480Z"
   },
   {
    "duration": 9,
    "start_time": "2021-07-30T10:46:16.507Z"
   },
   {
    "duration": 17,
    "start_time": "2021-07-30T10:46:16.518Z"
   },
   {
    "duration": 382,
    "start_time": "2021-07-30T10:47:20.239Z"
   },
   {
    "duration": 11,
    "start_time": "2021-07-30T10:47:25.956Z"
   },
   {
    "duration": 45,
    "start_time": "2021-07-30T10:59:45.895Z"
   },
   {
    "duration": 7,
    "start_time": "2021-07-30T11:25:45.899Z"
   },
   {
    "duration": 15,
    "start_time": "2021-07-30T11:25:54.082Z"
   },
   {
    "duration": 11,
    "start_time": "2021-07-30T11:26:51.071Z"
   },
   {
    "duration": 13,
    "start_time": "2021-07-30T11:27:15.597Z"
   },
   {
    "duration": 22,
    "start_time": "2021-07-30T11:27:23.737Z"
   },
   {
    "duration": 7,
    "start_time": "2021-07-30T11:28:02.142Z"
   },
   {
    "duration": 7,
    "start_time": "2021-07-30T11:53:52.159Z"
   },
   {
    "duration": 618,
    "start_time": "2021-07-30T11:55:50.541Z"
   },
   {
    "duration": 2515,
    "start_time": "2021-07-30T11:58:00.525Z"
   },
   {
    "duration": 1101,
    "start_time": "2021-07-30T12:00:08.296Z"
   },
   {
    "duration": 287,
    "start_time": "2021-07-30T12:00:09.400Z"
   },
   {
    "duration": 6,
    "start_time": "2021-07-30T12:00:09.689Z"
   },
   {
    "duration": 14,
    "start_time": "2021-07-30T12:00:09.697Z"
   },
   {
    "duration": 5,
    "start_time": "2021-07-30T12:00:09.713Z"
   },
   {
    "duration": 13,
    "start_time": "2021-07-30T12:00:09.719Z"
   },
   {
    "duration": 11,
    "start_time": "2021-07-30T12:00:09.733Z"
   },
   {
    "duration": 44,
    "start_time": "2021-07-30T12:00:09.747Z"
   },
   {
    "duration": 3,
    "start_time": "2021-07-30T12:00:09.793Z"
   },
   {
    "duration": 15,
    "start_time": "2021-07-30T12:00:09.797Z"
   },
   {
    "duration": 2,
    "start_time": "2021-07-30T12:00:09.813Z"
   },
   {
    "duration": 7,
    "start_time": "2021-07-30T12:00:09.816Z"
   },
   {
    "duration": 2235,
    "start_time": "2021-07-30T12:00:09.825Z"
   },
   {
    "duration": 86,
    "start_time": "2021-07-30T12:04:12.294Z"
   },
   {
    "duration": 97,
    "start_time": "2021-07-30T12:05:04.575Z"
   },
   {
    "duration": 82,
    "start_time": "2021-07-30T12:06:39.478Z"
   },
   {
    "duration": 1441,
    "start_time": "2021-07-30T12:07:17.148Z"
   },
   {
    "duration": 100,
    "start_time": "2021-07-30T12:07:55.082Z"
   },
   {
    "duration": 2425,
    "start_time": "2021-07-30T12:07:59.328Z"
   },
   {
    "duration": 1380,
    "start_time": "2021-07-30T12:08:14.963Z"
   },
   {
    "duration": 1142,
    "start_time": "2021-07-30T12:08:32.143Z"
   },
   {
    "duration": 224,
    "start_time": "2021-07-30T12:08:33.287Z"
   },
   {
    "duration": 7,
    "start_time": "2021-07-30T12:08:33.514Z"
   },
   {
    "duration": 20,
    "start_time": "2021-07-30T12:08:33.523Z"
   },
   {
    "duration": 10,
    "start_time": "2021-07-30T12:08:33.544Z"
   },
   {
    "duration": 15,
    "start_time": "2021-07-30T12:08:33.556Z"
   },
   {
    "duration": 19,
    "start_time": "2021-07-30T12:08:33.573Z"
   },
   {
    "duration": 40,
    "start_time": "2021-07-30T12:08:33.594Z"
   },
   {
    "duration": 2,
    "start_time": "2021-07-30T12:08:33.636Z"
   },
   {
    "duration": 12,
    "start_time": "2021-07-30T12:08:33.639Z"
   },
   {
    "duration": 13,
    "start_time": "2021-07-30T12:08:33.652Z"
   },
   {
    "duration": 10,
    "start_time": "2021-07-30T12:08:33.666Z"
   },
   {
    "duration": 2143,
    "start_time": "2021-07-30T12:08:33.677Z"
   },
   {
    "duration": 1525,
    "start_time": "2021-07-30T12:08:35.822Z"
   },
   {
    "duration": 3,
    "start_time": "2021-07-30T12:11:00.211Z"
   },
   {
    "duration": 1164,
    "start_time": "2021-07-30T12:26:41.344Z"
   },
   {
    "duration": 1209,
    "start_time": "2021-07-30T12:27:03.601Z"
   },
   {
    "duration": 1764,
    "start_time": "2021-07-30T12:27:39.458Z"
   },
   {
    "duration": 1439,
    "start_time": "2021-07-30T12:27:48.964Z"
   },
   {
    "duration": 1225,
    "start_time": "2021-07-30T12:27:58.930Z"
   },
   {
    "duration": 1196,
    "start_time": "2021-07-30T12:28:09.428Z"
   },
   {
    "duration": 329,
    "start_time": "2021-07-30T12:29:09.960Z"
   },
   {
    "duration": 1469,
    "start_time": "2021-07-30T12:29:20.365Z"
   },
   {
    "duration": 259,
    "start_time": "2021-07-30T12:30:30.810Z"
   },
   {
    "duration": 256,
    "start_time": "2021-07-30T12:30:40.861Z"
   },
   {
    "duration": 1160,
    "start_time": "2021-07-30T12:30:46.369Z"
   },
   {
    "duration": 1149,
    "start_time": "2021-07-30T12:31:36.976Z"
   },
   {
    "duration": 2,
    "start_time": "2021-07-30T12:33:25.352Z"
   },
   {
    "duration": 1129,
    "start_time": "2021-07-30T12:33:45.352Z"
   },
   {
    "duration": 216,
    "start_time": "2021-07-30T12:33:46.483Z"
   },
   {
    "duration": 7,
    "start_time": "2021-07-30T12:33:46.701Z"
   },
   {
    "duration": 13,
    "start_time": "2021-07-30T12:33:46.710Z"
   },
   {
    "duration": 2,
    "start_time": "2021-07-30T12:33:46.725Z"
   },
   {
    "duration": 14,
    "start_time": "2021-07-30T12:33:46.729Z"
   },
   {
    "duration": 14,
    "start_time": "2021-07-30T12:33:46.745Z"
   },
   {
    "duration": 42,
    "start_time": "2021-07-30T12:33:46.762Z"
   },
   {
    "duration": 2,
    "start_time": "2021-07-30T12:33:46.805Z"
   },
   {
    "duration": 15,
    "start_time": "2021-07-30T12:33:46.809Z"
   },
   {
    "duration": 17,
    "start_time": "2021-07-30T12:33:46.825Z"
   },
   {
    "duration": 8,
    "start_time": "2021-07-30T12:33:46.844Z"
   },
   {
    "duration": 2268,
    "start_time": "2021-07-30T12:33:46.854Z"
   },
   {
    "duration": 1580,
    "start_time": "2021-07-30T12:33:49.124Z"
   },
   {
    "duration": 1282,
    "start_time": "2021-07-30T12:33:50.706Z"
   },
   {
    "duration": 3,
    "start_time": "2021-07-30T12:33:51.990Z"
   },
   {
    "duration": 90,
    "start_time": "2021-08-01T19:20:59.340Z"
   },
   {
    "duration": 300,
    "start_time": "2021-08-01T19:28:33.831Z"
   },
   {
    "duration": 1104,
    "start_time": "2021-08-01T19:28:41.670Z"
   },
   {
    "duration": 321,
    "start_time": "2021-08-01T19:28:42.776Z"
   },
   {
    "duration": 8,
    "start_time": "2021-08-01T19:28:43.099Z"
   },
   {
    "duration": 16,
    "start_time": "2021-08-01T19:28:43.109Z"
   },
   {
    "duration": 6,
    "start_time": "2021-08-01T19:28:43.127Z"
   },
   {
    "duration": 18,
    "start_time": "2021-08-01T19:28:43.135Z"
   },
   {
    "duration": 19,
    "start_time": "2021-08-01T19:28:43.155Z"
   },
   {
    "duration": 64,
    "start_time": "2021-08-01T19:28:43.177Z"
   },
   {
    "duration": 2,
    "start_time": "2021-08-01T19:28:43.243Z"
   },
   {
    "duration": 20,
    "start_time": "2021-08-01T19:28:43.247Z"
   },
   {
    "duration": 3,
    "start_time": "2021-08-01T19:28:43.269Z"
   },
   {
    "duration": 8,
    "start_time": "2021-08-01T19:28:43.273Z"
   },
   {
    "duration": 2171,
    "start_time": "2021-08-01T19:28:43.283Z"
   },
   {
    "duration": 2262,
    "start_time": "2021-08-01T19:28:45.456Z"
   },
   {
    "duration": 1195,
    "start_time": "2021-08-01T19:28:47.720Z"
   },
   {
    "duration": 2,
    "start_time": "2021-08-01T19:28:48.916Z"
   },
   {
    "duration": 21,
    "start_time": "2021-08-01T19:28:48.920Z"
   },
   {
    "duration": 3,
    "start_time": "2021-08-01T19:29:13.382Z"
   },
   {
    "duration": 31,
    "start_time": "2021-08-01T19:30:33.994Z"
   },
   {
    "duration": 5,
    "start_time": "2021-08-01T19:31:04.035Z"
   },
   {
    "duration": 16,
    "start_time": "2021-08-01T19:47:57.442Z"
   },
   {
    "duration": 3,
    "start_time": "2021-08-01T19:49:47.190Z"
   },
   {
    "duration": 129,
    "start_time": "2021-08-01T19:50:02.134Z"
   },
   {
    "duration": 38,
    "start_time": "2021-08-01T19:50:55.786Z"
   },
   {
    "duration": 6,
    "start_time": "2021-08-01T19:51:31.537Z"
   },
   {
    "duration": 5,
    "start_time": "2021-08-01T19:51:37.737Z"
   },
   {
    "duration": 10,
    "start_time": "2021-08-01T19:51:53.754Z"
   },
   {
    "duration": 2,
    "start_time": "2021-08-01T19:53:46.938Z"
   },
   {
    "duration": 23,
    "start_time": "2021-08-01T19:53:49.138Z"
   },
   {
    "duration": 14,
    "start_time": "2021-08-01T19:53:52.363Z"
   },
   {
    "duration": 392,
    "start_time": "2021-08-01T20:44:50.519Z"
   },
   {
    "duration": 4,
    "start_time": "2021-08-01T22:03:07.546Z"
   },
   {
    "duration": 10,
    "start_time": "2021-08-01T22:03:15.457Z"
   },
   {
    "duration": 2001,
    "start_time": "2021-08-01T22:03:36.874Z"
   },
   {
    "duration": 349,
    "start_time": "2021-08-01T22:03:38.877Z"
   },
   {
    "duration": 7,
    "start_time": "2021-08-01T22:03:39.228Z"
   },
   {
    "duration": 17,
    "start_time": "2021-08-01T22:03:39.237Z"
   },
   {
    "duration": 4,
    "start_time": "2021-08-01T22:03:39.256Z"
   },
   {
    "duration": 12,
    "start_time": "2021-08-01T22:03:39.262Z"
   },
   {
    "duration": 11,
    "start_time": "2021-08-01T22:03:39.277Z"
   },
   {
    "duration": 67,
    "start_time": "2021-08-01T22:03:39.291Z"
   },
   {
    "duration": 3,
    "start_time": "2021-08-01T22:03:39.360Z"
   },
   {
    "duration": 20,
    "start_time": "2021-08-01T22:03:39.365Z"
   },
   {
    "duration": 2,
    "start_time": "2021-08-01T22:03:39.387Z"
   },
   {
    "duration": 10,
    "start_time": "2021-08-01T22:03:39.391Z"
   },
   {
    "duration": 2187,
    "start_time": "2021-08-01T22:03:39.403Z"
   },
   {
    "duration": 1594,
    "start_time": "2021-08-01T22:03:41.592Z"
   },
   {
    "duration": 1159,
    "start_time": "2021-08-01T22:03:43.188Z"
   },
   {
    "duration": 2,
    "start_time": "2021-08-01T22:03:44.349Z"
   },
   {
    "duration": 7,
    "start_time": "2021-08-01T22:03:44.353Z"
   },
   {
    "duration": 5,
    "start_time": "2021-08-01T22:03:44.362Z"
   },
   {
    "duration": 7,
    "start_time": "2021-08-01T22:03:44.369Z"
   },
   {
    "duration": 3,
    "start_time": "2021-08-01T22:03:44.378Z"
   },
   {
    "duration": 27,
    "start_time": "2021-08-01T22:03:44.383Z"
   },
   {
    "duration": 134,
    "start_time": "2021-08-01T22:03:44.412Z"
   },
   {
    "duration": 196,
    "start_time": "2021-08-01T22:03:44.549Z"
   },
   {
    "duration": 413,
    "start_time": "2021-08-01T22:31:27.293Z"
   },
   {
    "duration": 310,
    "start_time": "2021-08-01T22:32:04.831Z"
   },
   {
    "duration": 1182,
    "start_time": "2021-08-01T22:32:12.188Z"
   },
   {
    "duration": 276,
    "start_time": "2021-08-01T22:32:13.371Z"
   },
   {
    "duration": 12,
    "start_time": "2021-08-01T22:32:13.649Z"
   },
   {
    "duration": 15,
    "start_time": "2021-08-01T22:32:13.663Z"
   },
   {
    "duration": 7,
    "start_time": "2021-08-01T22:32:13.680Z"
   },
   {
    "duration": 13,
    "start_time": "2021-08-01T22:32:13.689Z"
   },
   {
    "duration": 9,
    "start_time": "2021-08-01T22:32:13.704Z"
   },
   {
    "duration": 41,
    "start_time": "2021-08-01T22:32:13.741Z"
   },
   {
    "duration": 2,
    "start_time": "2021-08-01T22:32:13.784Z"
   },
   {
    "duration": 22,
    "start_time": "2021-08-01T22:32:13.788Z"
   },
   {
    "duration": 13,
    "start_time": "2021-08-01T22:32:13.812Z"
   },
   {
    "duration": 13,
    "start_time": "2021-08-01T22:32:13.827Z"
   },
   {
    "duration": 2166,
    "start_time": "2021-08-01T22:32:13.843Z"
   },
   {
    "duration": 1520,
    "start_time": "2021-08-01T22:32:16.011Z"
   },
   {
    "duration": 1182,
    "start_time": "2021-08-01T22:32:17.533Z"
   },
   {
    "duration": 2,
    "start_time": "2021-08-01T22:32:18.717Z"
   },
   {
    "duration": 8,
    "start_time": "2021-08-01T22:32:18.720Z"
   },
   {
    "duration": 3,
    "start_time": "2021-08-01T22:32:18.741Z"
   },
   {
    "duration": 8,
    "start_time": "2021-08-01T22:32:18.746Z"
   },
   {
    "duration": 5,
    "start_time": "2021-08-01T22:32:18.756Z"
   },
   {
    "duration": 26,
    "start_time": "2021-08-01T22:32:18.763Z"
   },
   {
    "duration": 152,
    "start_time": "2021-08-01T22:32:18.791Z"
   },
   {
    "duration": 103,
    "start_time": "2021-08-01T22:32:18.947Z"
   },
   {
    "duration": 398,
    "start_time": "2021-08-01T22:34:29.112Z"
   },
   {
    "duration": 18,
    "start_time": "2021-08-01T22:35:30.265Z"
   },
   {
    "duration": 3,
    "start_time": "2021-08-01T22:35:33.146Z"
   },
   {
    "duration": 3,
    "start_time": "2021-08-01T22:35:37.281Z"
   },
   {
    "duration": 148,
    "start_time": "2021-08-01T22:35:51.307Z"
   },
   {
    "duration": 3,
    "start_time": "2021-08-01T22:35:58.258Z"
   },
   {
    "duration": 116,
    "start_time": "2021-08-01T22:40:35.164Z"
   },
   {
    "duration": 283,
    "start_time": "2021-08-01T22:40:42.979Z"
   },
   {
    "duration": 304,
    "start_time": "2021-08-01T22:41:00.919Z"
   },
   {
    "duration": 322,
    "start_time": "2021-08-01T22:41:06.615Z"
   },
   {
    "duration": 11,
    "start_time": "2021-08-01T22:41:31.614Z"
   },
   {
    "duration": 289,
    "start_time": "2021-08-01T22:41:36.393Z"
   },
   {
    "duration": 4,
    "start_time": "2021-08-01T22:42:29.129Z"
   },
   {
    "duration": -203,
    "start_time": "2021-08-01T22:42:34.428Z"
   },
   {
    "duration": 293,
    "start_time": "2021-08-01T22:42:35.071Z"
   },
   {
    "duration": 3,
    "start_time": "2021-08-01T22:43:10.192Z"
   },
   {
    "duration": 286,
    "start_time": "2021-08-01T22:43:27.184Z"
   },
   {
    "duration": 40,
    "start_time": "2021-08-01T22:44:23.179Z"
   },
   {
    "duration": 9,
    "start_time": "2021-08-01T22:45:13.330Z"
   },
   {
    "duration": 96,
    "start_time": "2021-08-01T22:47:30.178Z"
   },
   {
    "duration": 1621,
    "start_time": "2021-08-02T10:38:58.771Z"
   },
   {
    "duration": 362,
    "start_time": "2021-08-02T10:39:00.394Z"
   },
   {
    "duration": 16,
    "start_time": "2021-08-02T10:39:00.759Z"
   },
   {
    "duration": 22,
    "start_time": "2021-08-02T10:39:00.778Z"
   },
   {
    "duration": 3,
    "start_time": "2021-08-02T10:39:00.803Z"
   },
   {
    "duration": 26,
    "start_time": "2021-08-02T10:39:00.808Z"
   },
   {
    "duration": 46,
    "start_time": "2021-08-02T10:39:00.836Z"
   },
   {
    "duration": 88,
    "start_time": "2021-08-02T10:39:00.884Z"
   },
   {
    "duration": 4,
    "start_time": "2021-08-02T10:39:00.979Z"
   },
   {
    "duration": 19,
    "start_time": "2021-08-02T10:39:00.986Z"
   },
   {
    "duration": 4,
    "start_time": "2021-08-02T10:39:01.007Z"
   },
   {
    "duration": 14,
    "start_time": "2021-08-02T10:39:01.014Z"
   },
   {
    "duration": 3940,
    "start_time": "2021-08-02T10:39:01.030Z"
   },
   {
    "duration": 2685,
    "start_time": "2021-08-02T10:39:04.974Z"
   },
   {
    "duration": 1937,
    "start_time": "2021-08-02T10:39:07.662Z"
   },
   {
    "duration": 2,
    "start_time": "2021-08-02T10:39:09.601Z"
   },
   {
    "duration": 10,
    "start_time": "2021-08-02T10:39:09.606Z"
   },
   {
    "duration": 6,
    "start_time": "2021-08-02T10:39:09.618Z"
   },
   {
    "duration": 14,
    "start_time": "2021-08-02T10:39:09.626Z"
   },
   {
    "duration": 25,
    "start_time": "2021-08-02T10:39:09.642Z"
   },
   {
    "duration": 57,
    "start_time": "2021-08-02T10:39:09.672Z"
   },
   {
    "duration": 49,
    "start_time": "2021-08-02T10:39:09.732Z"
   },
   {
    "duration": 102,
    "start_time": "2021-08-02T10:39:09.784Z"
   },
   {
    "duration": 79,
    "start_time": "2021-08-02T10:39:09.889Z"
   },
   {
    "duration": 498,
    "start_time": "2021-08-02T10:39:09.971Z"
   },
   {
    "duration": 62,
    "start_time": "2021-08-02T10:39:10.472Z"
   },
   {
    "duration": 41,
    "start_time": "2021-08-02T10:39:10.538Z"
   },
   {
    "duration": 14,
    "start_time": "2021-08-02T12:50:49.768Z"
   },
   {
    "duration": 15,
    "start_time": "2021-08-02T12:50:58.787Z"
   },
   {
    "duration": 15,
    "start_time": "2021-08-02T12:51:24.906Z"
   },
   {
    "duration": 1528,
    "start_time": "2021-08-02T12:53:55.781Z"
   },
   {
    "duration": 337,
    "start_time": "2021-08-02T12:53:57.311Z"
   },
   {
    "duration": 10,
    "start_time": "2021-08-02T12:53:57.651Z"
   },
   {
    "duration": 23,
    "start_time": "2021-08-02T12:53:57.663Z"
   },
   {
    "duration": 4,
    "start_time": "2021-08-02T12:53:57.688Z"
   },
   {
    "duration": 34,
    "start_time": "2021-08-02T12:53:57.694Z"
   },
   {
    "duration": 17,
    "start_time": "2021-08-02T12:53:57.730Z"
   },
   {
    "duration": 69,
    "start_time": "2021-08-02T12:53:57.767Z"
   },
   {
    "duration": 37,
    "start_time": "2021-08-02T12:53:57.842Z"
   },
   {
    "duration": 7,
    "start_time": "2021-08-02T12:53:57.881Z"
   },
   {
    "duration": 3748,
    "start_time": "2021-08-02T12:53:57.891Z"
   },
   {
    "duration": 2581,
    "start_time": "2021-08-02T12:54:01.642Z"
   },
   {
    "duration": 1895,
    "start_time": "2021-08-02T12:54:04.226Z"
   },
   {
    "duration": 6,
    "start_time": "2021-08-02T12:54:06.124Z"
   },
   {
    "duration": 7,
    "start_time": "2021-08-02T12:54:06.133Z"
   },
   {
    "duration": 31,
    "start_time": "2021-08-02T12:54:06.143Z"
   },
   {
    "duration": 4,
    "start_time": "2021-08-02T12:54:06.176Z"
   },
   {
    "duration": 53,
    "start_time": "2021-08-02T12:54:06.182Z"
   },
   {
    "duration": 42,
    "start_time": "2021-08-02T12:54:06.237Z"
   },
   {
    "duration": 106,
    "start_time": "2021-08-02T12:54:06.369Z"
   },
   {
    "duration": 4,
    "start_time": "2021-08-02T12:54:06.478Z"
   },
   {
    "duration": 475,
    "start_time": "2021-08-02T12:54:06.484Z"
   },
   {
    "duration": 59,
    "start_time": "2021-08-02T12:54:06.966Z"
   },
   {
    "duration": 13,
    "start_time": "2021-08-02T12:54:07.028Z"
   },
   {
    "duration": 116,
    "start_time": "2021-08-02T13:00:30.824Z"
   },
   {
    "duration": 493,
    "start_time": "2021-08-02T13:01:11.400Z"
   },
   {
    "duration": 116,
    "start_time": "2021-08-02T13:01:30.224Z"
   },
   {
    "duration": 5,
    "start_time": "2021-08-02T13:02:05.436Z"
   },
   {
    "duration": 1587,
    "start_time": "2021-08-02T13:02:14.530Z"
   },
   {
    "duration": 270,
    "start_time": "2021-08-02T13:02:16.120Z"
   },
   {
    "duration": 10,
    "start_time": "2021-08-02T13:02:16.393Z"
   },
   {
    "duration": 23,
    "start_time": "2021-08-02T13:02:16.405Z"
   },
   {
    "duration": 6,
    "start_time": "2021-08-02T13:02:16.431Z"
   },
   {
    "duration": 45,
    "start_time": "2021-08-02T13:02:16.440Z"
   },
   {
    "duration": 13,
    "start_time": "2021-08-02T13:02:16.488Z"
   },
   {
    "duration": 97,
    "start_time": "2021-08-02T13:02:16.505Z"
   },
   {
    "duration": 15,
    "start_time": "2021-08-02T13:02:16.606Z"
   },
   {
    "duration": 13,
    "start_time": "2021-08-02T13:02:16.626Z"
   },
   {
    "duration": 3915,
    "start_time": "2021-08-02T13:02:16.641Z"
   },
   {
    "duration": 2726,
    "start_time": "2021-08-02T13:02:20.558Z"
   },
   {
    "duration": 1942,
    "start_time": "2021-08-02T13:02:23.286Z"
   },
   {
    "duration": 6,
    "start_time": "2021-08-02T13:02:25.232Z"
   },
   {
    "duration": 34,
    "start_time": "2021-08-02T13:02:25.240Z"
   },
   {
    "duration": 8,
    "start_time": "2021-08-02T13:02:25.281Z"
   },
   {
    "duration": 15,
    "start_time": "2021-08-02T13:02:25.291Z"
   },
   {
    "duration": 55,
    "start_time": "2021-08-02T13:02:25.309Z"
   },
   {
    "duration": 23,
    "start_time": "2021-08-02T13:02:25.367Z"
   },
   {
    "duration": 98,
    "start_time": "2021-08-02T13:02:25.472Z"
   },
   {
    "duration": 4,
    "start_time": "2021-08-02T13:02:25.579Z"
   },
   {
    "duration": 497,
    "start_time": "2021-08-02T13:02:25.586Z"
   },
   {
    "duration": 61,
    "start_time": "2021-08-02T13:02:26.087Z"
   },
   {
    "duration": 32,
    "start_time": "2021-08-02T13:02:26.151Z"
   },
   {
    "duration": 12,
    "start_time": "2021-08-02T13:02:26.186Z"
   },
   {
    "duration": 100,
    "start_time": "2021-08-02T13:03:17.059Z"
   },
   {
    "duration": 5,
    "start_time": "2021-08-02T13:05:38.678Z"
   },
   {
    "duration": 505,
    "start_time": "2021-08-02T13:06:03.819Z"
   },
   {
    "duration": 830,
    "start_time": "2021-08-02T13:06:12.456Z"
   },
   {
    "duration": 1516,
    "start_time": "2021-08-02T13:12:19.208Z"
   },
   {
    "duration": 304,
    "start_time": "2021-08-02T13:12:20.728Z"
   },
   {
    "duration": 10,
    "start_time": "2021-08-02T13:12:21.035Z"
   },
   {
    "duration": 31,
    "start_time": "2021-08-02T13:12:21.048Z"
   },
   {
    "duration": 8,
    "start_time": "2021-08-02T13:12:21.082Z"
   },
   {
    "duration": 20,
    "start_time": "2021-08-02T13:12:21.093Z"
   },
   {
    "duration": 19,
    "start_time": "2021-08-02T13:12:21.115Z"
   },
   {
    "duration": 81,
    "start_time": "2021-08-02T13:12:21.138Z"
   },
   {
    "duration": 15,
    "start_time": "2021-08-02T13:12:21.222Z"
   },
   {
    "duration": 10,
    "start_time": "2021-08-02T13:12:21.239Z"
   },
   {
    "duration": 3870,
    "start_time": "2021-08-02T13:12:21.268Z"
   },
   {
    "duration": 2662,
    "start_time": "2021-08-02T13:12:25.141Z"
   },
   {
    "duration": 2097,
    "start_time": "2021-08-02T13:12:27.806Z"
   },
   {
    "duration": 5,
    "start_time": "2021-08-02T13:12:29.906Z"
   },
   {
    "duration": 15,
    "start_time": "2021-08-02T13:12:29.913Z"
   },
   {
    "duration": 24,
    "start_time": "2021-08-02T13:12:29.930Z"
   },
   {
    "duration": 6,
    "start_time": "2021-08-02T13:12:29.956Z"
   },
   {
    "duration": 68,
    "start_time": "2021-08-02T13:12:29.967Z"
   },
   {
    "duration": 38,
    "start_time": "2021-08-02T13:12:30.037Z"
   },
   {
    "duration": 103,
    "start_time": "2021-08-02T13:12:30.081Z"
   },
   {
    "duration": 87,
    "start_time": "2021-08-02T13:12:30.187Z"
   },
   {
    "duration": 506,
    "start_time": "2021-08-02T13:12:30.276Z"
   },
   {
    "duration": 62,
    "start_time": "2021-08-02T13:12:30.787Z"
   },
   {
    "duration": 39,
    "start_time": "2021-08-02T13:12:30.852Z"
   },
   {
    "duration": 9,
    "start_time": "2021-08-02T13:12:30.893Z"
   },
   {
    "duration": 876,
    "start_time": "2021-08-02T13:12:30.905Z"
   },
   {
    "duration": 146268,
    "start_time": "2021-08-02T13:12:31.788Z"
   },
   {
    "duration": 85,
    "start_time": "2021-08-02T13:25:14.376Z"
   },
   {
    "duration": 4,
    "start_time": "2021-08-02T13:25:31.754Z"
   },
   {
    "duration": 568,
    "start_time": "2021-08-02T13:25:50.780Z"
   },
   {
    "duration": 1303,
    "start_time": "2021-08-02T13:25:57.784Z"
   },
   {
    "duration": 1509,
    "start_time": "2021-08-02T13:28:24.069Z"
   },
   {
    "duration": 412,
    "start_time": "2021-08-02T13:29:14.998Z"
   },
   {
    "duration": 27,
    "start_time": "2021-08-02T13:29:43.372Z"
   },
   {
    "duration": 1554,
    "start_time": "2021-08-02T13:30:39.923Z"
   },
   {
    "duration": 26,
    "start_time": "2021-08-02T13:30:43.606Z"
   },
   {
    "duration": 378,
    "start_time": "2021-08-02T13:36:56.961Z"
   },
   {
    "duration": 356,
    "start_time": "2021-08-02T13:37:18.650Z"
   },
   {
    "duration": 9477,
    "start_time": "2021-08-02T13:37:29.420Z"
   },
   {
    "duration": 9214,
    "start_time": "2021-08-02T13:39:53.981Z"
   },
   {
    "duration": 1748,
    "start_time": "2021-08-02T13:43:38.021Z"
   },
   {
    "duration": 313,
    "start_time": "2021-08-02T13:43:39.775Z"
   },
   {
    "duration": 12,
    "start_time": "2021-08-02T13:43:40.092Z"
   },
   {
    "duration": 24,
    "start_time": "2021-08-02T13:43:40.107Z"
   },
   {
    "duration": 32,
    "start_time": "2021-08-02T13:43:40.134Z"
   },
   {
    "duration": 21,
    "start_time": "2021-08-02T13:43:40.172Z"
   },
   {
    "duration": 13,
    "start_time": "2021-08-02T13:43:40.196Z"
   },
   {
    "duration": 108,
    "start_time": "2021-08-02T13:43:40.215Z"
   },
   {
    "duration": 16,
    "start_time": "2021-08-02T13:43:40.326Z"
   },
   {
    "duration": 26,
    "start_time": "2021-08-02T13:43:40.345Z"
   },
   {
    "duration": 4412,
    "start_time": "2021-08-02T13:43:40.381Z"
   },
   {
    "duration": 3605,
    "start_time": "2021-08-02T13:43:44.796Z"
   },
   {
    "duration": 2028,
    "start_time": "2021-08-02T13:43:48.404Z"
   },
   {
    "duration": 5,
    "start_time": "2021-08-02T13:43:50.435Z"
   },
   {
    "duration": 31,
    "start_time": "2021-08-02T13:43:50.443Z"
   },
   {
    "duration": 19,
    "start_time": "2021-08-02T13:43:50.484Z"
   },
   {
    "duration": 5,
    "start_time": "2021-08-02T13:43:50.507Z"
   },
   {
    "duration": 69,
    "start_time": "2021-08-02T13:43:50.515Z"
   },
   {
    "duration": 93,
    "start_time": "2021-08-02T13:43:50.587Z"
   },
   {
    "duration": 102,
    "start_time": "2021-08-02T13:43:50.685Z"
   },
   {
    "duration": 9,
    "start_time": "2021-08-02T13:43:50.790Z"
   },
   {
    "duration": 606,
    "start_time": "2021-08-02T13:43:50.803Z"
   },
   {
    "duration": 79,
    "start_time": "2021-08-02T13:43:51.415Z"
   },
   {
    "duration": 17,
    "start_time": "2021-08-02T13:43:51.499Z"
   },
   {
    "duration": 8,
    "start_time": "2021-08-02T13:43:51.526Z"
   },
   {
    "duration": 822,
    "start_time": "2021-08-02T13:43:51.539Z"
   },
   {
    "duration": 150743,
    "start_time": "2021-08-02T13:43:52.367Z"
   },
   {
    "duration": 1454,
    "start_time": "2021-08-02T13:46:23.113Z"
   },
   {
    "duration": 37,
    "start_time": "2021-08-02T13:46:24.570Z"
   },
   {
    "duration": 20369,
    "start_time": "2021-08-02T13:46:24.609Z"
   },
   {
    "duration": 113,
    "start_time": "2021-08-02T13:55:52.602Z"
   },
   {
    "duration": 132,
    "start_time": "2021-08-02T13:56:04.296Z"
   },
   {
    "duration": 115,
    "start_time": "2021-08-02T13:56:09.373Z"
   },
   {
    "duration": 548,
    "start_time": "2021-08-02T13:56:16.026Z"
   },
   {
    "duration": 373,
    "start_time": "2021-08-02T13:57:07.188Z"
   },
   {
    "duration": 1685,
    "start_time": "2021-08-02T14:01:35.286Z"
   },
   {
    "duration": 427,
    "start_time": "2021-08-02T14:01:36.974Z"
   },
   {
    "duration": 11,
    "start_time": "2021-08-02T14:01:37.404Z"
   },
   {
    "duration": 24,
    "start_time": "2021-08-02T14:01:37.418Z"
   },
   {
    "duration": 4,
    "start_time": "2021-08-02T14:01:37.445Z"
   },
   {
    "duration": 29,
    "start_time": "2021-08-02T14:01:37.451Z"
   },
   {
    "duration": 15,
    "start_time": "2021-08-02T14:01:37.483Z"
   },
   {
    "duration": 97,
    "start_time": "2021-08-02T14:01:37.501Z"
   },
   {
    "duration": 15,
    "start_time": "2021-08-02T14:01:37.602Z"
   },
   {
    "duration": 8,
    "start_time": "2021-08-02T14:01:37.620Z"
   },
   {
    "duration": 4021,
    "start_time": "2021-08-02T14:01:37.631Z"
   },
   {
    "duration": 2667,
    "start_time": "2021-08-02T14:01:41.654Z"
   },
   {
    "duration": 2055,
    "start_time": "2021-08-02T14:01:44.323Z"
   },
   {
    "duration": 6,
    "start_time": "2021-08-02T14:01:46.380Z"
   },
   {
    "duration": 5,
    "start_time": "2021-08-02T14:01:46.388Z"
   },
   {
    "duration": 12,
    "start_time": "2021-08-02T14:01:46.395Z"
   },
   {
    "duration": 4,
    "start_time": "2021-08-02T14:01:46.410Z"
   },
   {
    "duration": 88,
    "start_time": "2021-08-02T14:01:46.417Z"
   },
   {
    "duration": 160,
    "start_time": "2021-08-02T14:01:46.508Z"
   },
   {
    "duration": 104,
    "start_time": "2021-08-02T14:01:46.672Z"
   },
   {
    "duration": 3,
    "start_time": "2021-08-02T14:01:46.779Z"
   },
   {
    "duration": 645,
    "start_time": "2021-08-02T14:01:46.786Z"
   },
   {
    "duration": 72,
    "start_time": "2021-08-02T14:01:47.433Z"
   },
   {
    "duration": 15,
    "start_time": "2021-08-02T14:01:47.508Z"
   },
   {
    "duration": 8,
    "start_time": "2021-08-02T14:01:47.525Z"
   },
   {
    "duration": 874,
    "start_time": "2021-08-02T14:01:47.536Z"
   },
   {
    "duration": 143487,
    "start_time": "2021-08-02T14:01:48.415Z"
   },
   {
    "duration": 1866,
    "start_time": "2021-08-02T14:04:11.905Z"
   },
   {
    "duration": 28,
    "start_time": "2021-08-02T14:04:13.774Z"
   },
   {
    "duration": 18715,
    "start_time": "2021-08-02T14:04:13.805Z"
   },
   {
    "duration": 566175,
    "start_time": "2021-08-02T14:04:32.522Z"
   },
   {
    "duration": 541434,
    "start_time": "2021-08-02T14:15:13.088Z"
   },
   {
    "duration": 31,
    "start_time": "2021-08-02T14:30:32.852Z"
   },
   {
    "duration": 553,
    "start_time": "2021-08-02T14:30:45.687Z"
   },
   {
    "duration": 44,
    "start_time": "2021-08-02T14:30:53.233Z"
   },
   {
    "duration": 14,
    "start_time": "2021-08-02T14:31:06.697Z"
   },
   {
    "duration": 1591,
    "start_time": "2021-08-02T15:16:17.192Z"
   },
   {
    "duration": 329,
    "start_time": "2021-08-02T15:16:18.786Z"
   },
   {
    "duration": 10,
    "start_time": "2021-08-02T15:16:19.118Z"
   },
   {
    "duration": 24,
    "start_time": "2021-08-02T15:16:19.131Z"
   },
   {
    "duration": 4,
    "start_time": "2021-08-02T15:16:19.157Z"
   },
   {
    "duration": 22,
    "start_time": "2021-08-02T15:16:19.163Z"
   },
   {
    "duration": 14,
    "start_time": "2021-08-02T15:16:19.187Z"
   },
   {
    "duration": 87,
    "start_time": "2021-08-02T15:16:19.205Z"
   },
   {
    "duration": 15,
    "start_time": "2021-08-02T15:16:19.295Z"
   },
   {
    "duration": 7,
    "start_time": "2021-08-02T15:16:19.312Z"
   },
   {
    "duration": 3818,
    "start_time": "2021-08-02T15:16:19.321Z"
   },
   {
    "duration": 2584,
    "start_time": "2021-08-02T15:16:23.141Z"
   },
   {
    "duration": 1963,
    "start_time": "2021-08-02T15:16:25.728Z"
   },
   {
    "duration": 5,
    "start_time": "2021-08-02T15:16:27.694Z"
   },
   {
    "duration": 6,
    "start_time": "2021-08-02T15:16:27.701Z"
   },
   {
    "duration": 9,
    "start_time": "2021-08-02T15:16:27.709Z"
   },
   {
    "duration": 5,
    "start_time": "2021-08-02T15:16:27.720Z"
   },
   {
    "duration": 87,
    "start_time": "2021-08-02T15:16:27.727Z"
   },
   {
    "duration": 52,
    "start_time": "2021-08-02T15:16:27.816Z"
   },
   {
    "duration": 101,
    "start_time": "2021-08-02T15:16:27.871Z"
   },
   {
    "duration": 5,
    "start_time": "2021-08-02T15:16:27.976Z"
   },
   {
    "duration": 525,
    "start_time": "2021-08-02T15:16:27.984Z"
   },
   {
    "duration": 71,
    "start_time": "2021-08-02T15:16:28.513Z"
   },
   {
    "duration": 14,
    "start_time": "2021-08-02T15:16:28.587Z"
   },
   {
    "duration": 9,
    "start_time": "2021-08-02T15:16:28.604Z"
   },
   {
    "duration": 851,
    "start_time": "2021-08-02T15:16:28.616Z"
   },
   {
    "duration": 3,
    "start_time": "2021-08-02T15:16:29.470Z"
   },
   {
    "duration": 1896,
    "start_time": "2021-08-02T15:16:29.475Z"
   },
   {
    "duration": 25,
    "start_time": "2021-08-02T15:16:31.374Z"
   },
   {
    "duration": 4213,
    "start_time": "2021-08-02T15:16:31.401Z"
   },
   {
    "duration": 2518,
    "start_time": "2021-08-02T15:19:14.552Z"
   },
   {
    "duration": 1089,
    "start_time": "2021-08-02T15:19:36.543Z"
   },
   {
    "duration": 4991,
    "start_time": "2021-08-02T15:23:44.333Z"
   },
   {
    "duration": 3749,
    "start_time": "2021-08-02T15:23:56.032Z"
   },
   {
    "duration": 430,
    "start_time": "2021-08-02T15:25:54.212Z"
   },
   {
    "duration": 2739,
    "start_time": "2021-08-02T15:26:08.572Z"
   },
   {
    "duration": 2727,
    "start_time": "2021-08-02T15:27:00.412Z"
   },
   {
    "duration": 2747,
    "start_time": "2021-08-02T15:27:17.602Z"
   },
   {
    "duration": 3068,
    "start_time": "2021-08-02T15:27:30.102Z"
   },
   {
    "duration": 56,
    "start_time": "2021-08-02T22:34:35.627Z"
   },
   {
    "duration": 264,
    "start_time": "2021-08-02T22:37:39.488Z"
   },
   {
    "duration": 1112,
    "start_time": "2021-08-02T22:37:47.176Z"
   },
   {
    "duration": 316,
    "start_time": "2021-08-02T22:37:48.290Z"
   },
   {
    "duration": 6,
    "start_time": "2021-08-02T22:37:48.608Z"
   },
   {
    "duration": 14,
    "start_time": "2021-08-02T22:37:48.616Z"
   },
   {
    "duration": 3,
    "start_time": "2021-08-02T22:37:48.631Z"
   },
   {
    "duration": 14,
    "start_time": "2021-08-02T22:37:48.635Z"
   },
   {
    "duration": 11,
    "start_time": "2021-08-02T22:37:48.650Z"
   },
   {
    "duration": 56,
    "start_time": "2021-08-02T22:37:48.664Z"
   },
   {
    "duration": 10,
    "start_time": "2021-08-02T22:37:48.722Z"
   },
   {
    "duration": 6,
    "start_time": "2021-08-02T22:37:48.734Z"
   },
   {
    "duration": 2281,
    "start_time": "2021-08-02T22:37:48.742Z"
   },
   {
    "duration": 1578,
    "start_time": "2021-08-02T22:37:51.025Z"
   },
   {
    "duration": 1220,
    "start_time": "2021-08-02T22:37:52.605Z"
   },
   {
    "duration": 5,
    "start_time": "2021-08-02T22:37:53.827Z"
   },
   {
    "duration": 5,
    "start_time": "2021-08-02T22:37:53.834Z"
   },
   {
    "duration": 8,
    "start_time": "2021-08-02T22:37:53.840Z"
   },
   {
    "duration": 3,
    "start_time": "2021-08-02T22:37:53.849Z"
   },
   {
    "duration": 51,
    "start_time": "2021-08-02T22:37:53.854Z"
   },
   {
    "duration": 8,
    "start_time": "2021-08-02T22:37:53.907Z"
   },
   {
    "duration": 76,
    "start_time": "2021-08-02T22:37:53.918Z"
   },
   {
    "duration": 4,
    "start_time": "2021-08-02T22:37:54.085Z"
   },
   {
    "duration": 302,
    "start_time": "2021-08-02T22:37:54.090Z"
   },
   {
    "duration": 36,
    "start_time": "2021-08-02T22:37:54.396Z"
   },
   {
    "duration": 9,
    "start_time": "2021-08-02T22:37:54.434Z"
   },
   {
    "duration": 2,
    "start_time": "2021-08-02T22:37:54.445Z"
   },
   {
    "duration": 9,
    "start_time": "2021-08-02T22:37:54.448Z"
   },
   {
    "duration": 589,
    "start_time": "2021-08-02T22:37:54.458Z"
   },
   {
    "duration": 2,
    "start_time": "2021-08-02T22:37:55.048Z"
   },
   {
    "duration": 1438,
    "start_time": "2021-08-02T22:37:55.052Z"
   },
   {
    "duration": 100,
    "start_time": "2021-08-02T22:37:56.493Z"
   },
   {
    "duration": 2477,
    "start_time": "2021-08-02T22:37:56.595Z"
   },
   {
    "duration": 1732,
    "start_time": "2021-08-02T22:37:59.074Z"
   },
   {
    "duration": 5,
    "start_time": "2021-08-02T22:38:56.540Z"
   },
   {
    "duration": 10,
    "start_time": "2021-08-02T22:57:33.530Z"
   },
   {
    "duration": 9,
    "start_time": "2021-08-02T22:58:46.185Z"
   },
   {
    "duration": 4,
    "start_time": "2021-08-02T23:03:05.064Z"
   },
   {
    "duration": 10,
    "start_time": "2021-08-02T23:03:46.854Z"
   },
   {
    "duration": 63,
    "start_time": "2021-08-02T23:05:09.667Z"
   },
   {
    "duration": 59,
    "start_time": "2021-08-02T23:17:04.225Z"
   },
   {
    "duration": 58,
    "start_time": "2021-08-03T00:06:44.432Z"
   },
   {
    "duration": 60,
    "start_time": "2021-08-03T00:08:34.494Z"
   },
   {
    "duration": 1054,
    "start_time": "2021-08-03T00:32:45.432Z"
   },
   {
    "duration": 272,
    "start_time": "2021-08-03T00:32:46.488Z"
   },
   {
    "duration": 9,
    "start_time": "2021-08-03T00:32:46.762Z"
   },
   {
    "duration": 16,
    "start_time": "2021-08-03T00:32:46.773Z"
   },
   {
    "duration": 3,
    "start_time": "2021-08-03T00:32:46.791Z"
   },
   {
    "duration": 13,
    "start_time": "2021-08-03T00:32:46.796Z"
   },
   {
    "duration": 11,
    "start_time": "2021-08-03T00:32:46.810Z"
   },
   {
    "duration": 62,
    "start_time": "2021-08-03T00:32:46.824Z"
   },
   {
    "duration": 12,
    "start_time": "2021-08-03T00:32:46.888Z"
   },
   {
    "duration": 5,
    "start_time": "2021-08-03T00:32:46.902Z"
   },
   {
    "duration": 2207,
    "start_time": "2021-08-03T00:32:46.908Z"
   },
   {
    "duration": 1576,
    "start_time": "2021-08-03T00:32:49.117Z"
   },
   {
    "duration": 1199,
    "start_time": "2021-08-03T00:32:50.695Z"
   },
   {
    "duration": 3,
    "start_time": "2021-08-03T00:32:51.896Z"
   },
   {
    "duration": 5,
    "start_time": "2021-08-03T00:32:51.901Z"
   },
   {
    "duration": 7,
    "start_time": "2021-08-03T00:32:51.907Z"
   },
   {
    "duration": 3,
    "start_time": "2021-08-03T00:32:51.915Z"
   },
   {
    "duration": 26,
    "start_time": "2021-08-03T00:32:51.919Z"
   },
   {
    "duration": 40,
    "start_time": "2021-08-03T00:32:51.947Z"
   },
   {
    "duration": 105,
    "start_time": "2021-08-03T00:32:51.990Z"
   },
   {
    "duration": 88,
    "start_time": "2021-08-03T00:32:52.097Z"
   },
   {
    "duration": 291,
    "start_time": "2021-08-03T00:32:52.187Z"
   },
   {
    "duration": 37,
    "start_time": "2021-08-03T00:32:52.481Z"
   },
   {
    "duration": 9,
    "start_time": "2021-08-03T00:32:52.519Z"
   },
   {
    "duration": 7,
    "start_time": "2021-08-03T00:32:52.530Z"
   },
   {
    "duration": 10,
    "start_time": "2021-08-03T00:32:52.538Z"
   },
   {
    "duration": 35,
    "start_time": "2021-08-03T00:32:52.550Z"
   },
   {
    "duration": 556,
    "start_time": "2021-08-03T00:32:52.586Z"
   },
   {
    "duration": 81581,
    "start_time": "2021-08-03T00:32:53.144Z"
   },
   {
    "duration": 1367,
    "start_time": "2021-08-03T00:34:14.727Z"
   },
   {
    "duration": 18,
    "start_time": "2021-08-03T00:34:16.186Z"
   },
   {
    "duration": 2350,
    "start_time": "2021-08-03T00:34:16.205Z"
   },
   {
    "duration": 1703,
    "start_time": "2021-08-03T00:34:18.557Z"
   },
   {
    "duration": 1577,
    "start_time": "2021-08-03T04:29:28.242Z"
   },
   {
    "duration": 377,
    "start_time": "2021-08-03T04:29:29.822Z"
   },
   {
    "duration": 13,
    "start_time": "2021-08-03T04:29:30.203Z"
   },
   {
    "duration": 38,
    "start_time": "2021-08-03T04:29:30.220Z"
   },
   {
    "duration": 14,
    "start_time": "2021-08-03T04:29:30.261Z"
   },
   {
    "duration": 52,
    "start_time": "2021-08-03T04:29:30.278Z"
   },
   {
    "duration": 27,
    "start_time": "2021-08-03T04:29:30.333Z"
   },
   {
    "duration": 129,
    "start_time": "2021-08-03T04:29:30.364Z"
   },
   {
    "duration": 24,
    "start_time": "2021-08-03T04:29:30.505Z"
   },
   {
    "duration": 10,
    "start_time": "2021-08-03T04:29:30.534Z"
   },
   {
    "duration": 5490,
    "start_time": "2021-08-03T04:29:30.547Z"
   },
   {
    "duration": 2652,
    "start_time": "2021-08-03T04:29:36.040Z"
   },
   {
    "duration": 1943,
    "start_time": "2021-08-03T04:29:38.694Z"
   },
   {
    "duration": 5,
    "start_time": "2021-08-03T04:29:40.640Z"
   },
   {
    "duration": 6,
    "start_time": "2021-08-03T04:29:40.648Z"
   },
   {
    "duration": 11,
    "start_time": "2021-08-03T04:29:40.657Z"
   },
   {
    "duration": 38,
    "start_time": "2021-08-03T04:29:40.670Z"
   },
   {
    "duration": 56,
    "start_time": "2021-08-03T04:29:40.710Z"
   },
   {
    "duration": 139,
    "start_time": "2021-08-03T04:29:40.769Z"
   },
   {
    "duration": 111,
    "start_time": "2021-08-03T04:29:40.912Z"
   },
   {
    "duration": 10,
    "start_time": "2021-08-03T04:29:41.102Z"
   },
   {
    "duration": 496,
    "start_time": "2021-08-03T04:29:41.116Z"
   },
   {
    "duration": 64,
    "start_time": "2021-08-03T04:29:41.621Z"
   },
   {
    "duration": 31,
    "start_time": "2021-08-03T04:29:41.688Z"
   },
   {
    "duration": 12,
    "start_time": "2021-08-03T04:29:41.722Z"
   },
   {
    "duration": 21,
    "start_time": "2021-08-03T04:29:41.737Z"
   },
   {
    "duration": 53,
    "start_time": "2021-08-03T04:29:41.763Z"
   },
   {
    "duration": 847,
    "start_time": "2021-08-03T04:29:41.818Z"
   },
   {
    "duration": 142024,
    "start_time": "2021-08-03T04:29:42.667Z"
   },
   {
    "duration": 1707,
    "start_time": "2021-08-03T04:32:04.694Z"
   },
   {
    "duration": 34,
    "start_time": "2021-08-03T04:32:06.403Z"
   },
   {
    "duration": 4000,
    "start_time": "2021-08-03T04:32:06.440Z"
   },
   {
    "duration": 2799,
    "start_time": "2021-08-03T04:32:10.443Z"
   }
  ],
  "kernelspec": {
   "display_name": "Python 3",
   "language": "python",
   "name": "python3"
  },
  "language_info": {
   "codemirror_mode": {
    "name": "ipython",
    "version": 3
   },
   "file_extension": ".py",
   "mimetype": "text/x-python",
   "name": "python",
   "nbconvert_exporter": "python",
   "pygments_lexer": "ipython3",
   "version": "3.8.2"
  },
  "toc": {
   "base_numbering": 1,
   "nav_menu": {},
   "number_sections": true,
   "sideBar": true,
   "skip_h1_title": true,
   "title_cell": "Table of Contents",
   "title_sidebar": "Contents",
   "toc_cell": false,
   "toc_position": {},
   "toc_section_display": true,
   "toc_window_display": true
  }
 },
 "nbformat": 4,
 "nbformat_minor": 2
}
